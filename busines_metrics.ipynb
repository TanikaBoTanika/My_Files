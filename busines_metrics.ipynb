{
 "cells": [
  {
   "cell_type": "markdown",
   "id": "29c0bfaf",
   "metadata": {},
   "source": [
    "<h1 style=\"color:navy\">Анализ бизнес-показателей</h1>\n"
   ]
  },
  {
   "cell_type": "markdown",
   "id": "404926e9",
   "metadata": {},
   "source": [
    "1. <a href=\"#Подготовка-данных\">Подготовка данных</a>\n",
    "2. <a href=\"#Функции-для-расчёта-метрик-и-визуализации\">Функции для расчетов и визуализации</a>\n",
    "3. <a href=\"#Исследовательский-анализ-данных\">Исследовательский анализ данных</a>\n",
    "4. <a href=\"#Маркетинг\">Маркетинг</a>\n",
    "5. <a href=\"#Оценка-окупаемости\">Анализ окупаемости</a>\n",
    "6. <a href=\"#Общие-выводы\">Общие выводы и рекомендации</a>"
   ]
  },
  {
   "cell_type": "markdown",
   "id": "02d66578",
   "metadata": {},
   "source": [
    "<font color='navy' size=4>**Описание проекта**</font>\n",
    "\n",
    "Вы — маркетинговый аналитик развлекательного приложения Procrastinate Pro+. Несмотря на огромные вложения в рекламу, последние несколько месяцев компания терпит убытки. Ваша задача — разобраться в причинах и помочь компании выйти в плюс.\n",
    "\n",
    "Есть данные о пользователях, привлечённых с 1 мая по 27 октября 2019 года:\n",
    "- лог сервера с данными об их посещениях,\n",
    "- выгрузка их покупок за этот период,\n",
    "- рекламные расходы.\n",
    "\n",
    "Вам предстоит изучить:\n",
    "- откуда приходят пользователи и какими устройствами они пользуются,\n",
    "- сколько стоит привлечение пользователей из различных рекламных каналов;\n",
    "- сколько денег приносит каждый клиент,\n",
    "- когда расходы на привлечение клиента окупаются,\n",
    "- какие факторы мешают привлечению клиентов."
   ]
  },
  {
   "cell_type": "markdown",
   "id": "bfbdc65e",
   "metadata": {},
   "source": [
    "<font color='navy' size=4>**Цели проекта**</font>\n",
    "\n",
    "- Научиться правильно рассчитывать, визуализировать и интерпретировать бизнес-показатели;\n",
    "- По имеющимся данным определить причину убытков компании;\n",
    "- Сформулировать рекомендации маркетологам для увеличения окупаемости рекламы."
   ]
  },
  {
   "cell_type": "markdown",
   "id": "45dd58c4",
   "metadata": {},
   "source": [
    "<font color='navy' size=4>**Ход исследования**</font>\n",
    "\n",
    "1. Загрузить и изучить данные, подготовить их к анализу.\n",
    "2. Определить функции для расчета и визуализации метрик.\n",
    "3. Составить профили пользователей и проанализировать их.\n",
    "4. Провести анализ расходов на рекламу.\n",
    "5. Оценить окупаемость рекламы, найти причины убытков.\n",
    "6. Сделать вывод и сформировать рекомендации."
   ]
  },
  {
   "cell_type": "markdown",
   "id": "26caf57d",
   "metadata": {
    "id": "r-BO88CnWVwe"
   },
   "source": [
    "<h2 style=\"color:navy\">Подготовка данных</h2> "
   ]
  },
  {
   "cell_type": "markdown",
   "id": "3cf91365",
   "metadata": {
    "id": "LCZi0P80WVwj"
   },
   "source": [
    "### Загрузка данных\n",
    "\n",
    "Файлы: \n",
    "[Визиты](https://code.s3.yandex.net/datasets/visits_info_short.csv \"скачать файл visits_info_short.csv\"),\n",
    "[Заказы](https://code.s3.yandex.net/datasets/orders_info_short.csv \"скачать файл orders_info_short.csv\"),\n",
    "[Расходы](https://code.s3.yandex.net/datasets/costs_info_short.csv \"скачать файл costs_info_short.csv\")"
   ]
  },
  {
   "cell_type": "code",
   "execution_count": 1,
   "id": "d3b3f240",
   "metadata": {},
   "outputs": [],
   "source": [
    "# Импорт библиотек\n",
    "import pandas as pd\n",
    "import numpy as np\n",
    "import seaborn as sns\n",
    "from datetime import datetime, timedelta\n",
    "from matplotlib import pyplot as plt\n",
    "import string"
   ]
  },
  {
   "cell_type": "code",
   "execution_count": 2,
   "id": "657f0f24",
   "metadata": {},
   "outputs": [],
   "source": [
    "# Загрузка файлов\n",
    "try:\n",
    "    visits = pd.read_csv('/datasets/visits_info_short.csv')\n",
    "    orders = pd.read_csv('/datasets/orders_info_short.csv')\n",
    "    costs  = pd.read_csv('/datasets/costs_info_short.csv')\n",
    "except:\n",
    "    try:\n",
    "        visits = pd.read_csv('visits_info_short.csv')\n",
    "        orders = pd.read_csv('orders_info_short.csv')\n",
    "        costs  = pd.read_csv('costs_info_short.csv')\n",
    "    except: \n",
    "        visits = pd.read_csv('https://code.s3.yandex.net/datasets/visits_info_short.csv')\n",
    "        orders = pd.read_csv('https://code.s3.yandex.net/datasets/orders_info_short.csv')\n",
    "        costs  = pd.read_csv('https://code.s3.yandex.net/datasets/costs_info_short.csv') "
   ]
  },
  {
   "cell_type": "markdown",
   "id": "61cf0c49",
   "metadata": {},
   "source": [
    "### Информация о визитах на сайт\n",
    "\n",
    "Изучим таблицу `visits` из файла `visits_info_short.csv` "
   ]
  },
  {
   "cell_type": "code",
   "execution_count": 3,
   "id": "b8c8242b",
   "metadata": {},
   "outputs": [
    {
     "name": "stdout",
     "output_type": "stream",
     "text": [
      "<class 'pandas.core.frame.DataFrame'>\n",
      "RangeIndex: 309901 entries, 0 to 309900\n",
      "Data columns (total 6 columns):\n",
      " #   Column         Non-Null Count   Dtype \n",
      "---  ------         --------------   ----- \n",
      " 0   User Id        309901 non-null  int64 \n",
      " 1   Region         309901 non-null  object\n",
      " 2   Device         309901 non-null  object\n",
      " 3   Channel        309901 non-null  object\n",
      " 4   Session Start  309901 non-null  object\n",
      " 5   Session End    309901 non-null  object\n",
      "dtypes: int64(1), object(5)\n",
      "memory usage: 14.2+ MB\n"
     ]
    }
   ],
   "source": [
    "visits.info()"
   ]
  },
  {
   "cell_type": "code",
   "execution_count": 4,
   "id": "e8c52919",
   "metadata": {},
   "outputs": [],
   "source": [
    "# переведём имена столбцов в нижний регистр и заменим пробелы на знак подчёркивания\n",
    "visits.columns=visits.columns.str.lower().str.replace(' ', '_')\n",
    "\n",
    "# изменим тип данных для столбцов с датами\n",
    "visits['session_start'] = pd.to_datetime(visits['session_start'])\n",
    "visits['session_end'] = pd.to_datetime(visits['session_end'])"
   ]
  },
  {
   "cell_type": "code",
   "execution_count": 5,
   "id": "0cb2f623",
   "metadata": {},
   "outputs": [
    {
     "name": "stdout",
     "output_type": "stream",
     "text": [
      "Даты посещения сайта:\n",
      "c\u001b[1m 2019-05-01 \u001b[0mпо\u001b[1m 2019-10-31 \u001b[0m\n",
      "Количество дубликатов\u001b[1m 0 \u001b[0m\n",
      "Уникальные значения \u001b[1m region \u001b[0m: France,  Germany,  UK,  United States\n",
      "Уникальные значения \u001b[1m device \u001b[0m: Android,  Mac,  PC,  iPhone\n",
      "Уникальные значения \u001b[1m channel \u001b[0m:\n",
      "AdNonSense,  FaceBoom,  LeapBob,  MediaTornado,  OppleCreativeMedia,  RocketSuperAds,  TipTop,  WahooNetBanner,  YRabbit,  lambdaMediaAds,  organic\n"
     ]
    }
   ],
   "source": [
    "print('Даты посещения сайта:')\n",
    "print('c\\033[1m', visits['session_start'].dt.date.min(), \n",
    "      '\\033[0mпо\\033[1m', visits['session_start'].dt.date.max(), '\\033[0m')\n",
    "\n",
    "print('Количество дубликатов\\033[1m', \n",
    "      visits.duplicated().sum(), '\\033[0m')\n",
    "print('Уникальные значения \\033[1m region \\033[0m:', end=' ')\n",
    "print(*sorted(visits['region'].unique()), sep=',  ')\n",
    "print('Уникальные значения \\033[1m device \\033[0m:', end=' ')\n",
    "print(*sorted(visits['device'].unique()), sep=',  ')\n",
    "print('Уникальные значения \\033[1m channel \\033[0m:')\n",
    "print(*sorted(visits['channel'].unique()), sep=',  ')"
   ]
  },
  {
   "cell_type": "code",
   "execution_count": 6,
   "id": "28488fa6",
   "metadata": {},
   "outputs": [
    {
     "data": {
      "text/html": [
       "<div>\n",
       "<style scoped>\n",
       "    .dataframe tbody tr th:only-of-type {\n",
       "        vertical-align: middle;\n",
       "    }\n",
       "\n",
       "    .dataframe tbody tr th {\n",
       "        vertical-align: top;\n",
       "    }\n",
       "\n",
       "    .dataframe thead th {\n",
       "        text-align: right;\n",
       "    }\n",
       "</style>\n",
       "<table border=\"1\" class=\"dataframe\">\n",
       "  <thead>\n",
       "    <tr style=\"text-align: right;\">\n",
       "      <th></th>\n",
       "      <th>user_id</th>\n",
       "      <th>region</th>\n",
       "      <th>device</th>\n",
       "      <th>channel</th>\n",
       "      <th>session_start</th>\n",
       "      <th>sess_seconds</th>\n",
       "      <th>sess_minutes</th>\n",
       "      <th>month</th>\n",
       "      <th>week</th>\n",
       "      <th>session_date</th>\n",
       "    </tr>\n",
       "  </thead>\n",
       "  <tbody>\n",
       "    <tr>\n",
       "      <th>264781</th>\n",
       "      <td>727501064195</td>\n",
       "      <td>France</td>\n",
       "      <td>PC</td>\n",
       "      <td>OppleCreativeMedia</td>\n",
       "      <td>2019-08-20 19:09:02</td>\n",
       "      <td>921</td>\n",
       "      <td>15.35</td>\n",
       "      <td>8</td>\n",
       "      <td>34</td>\n",
       "      <td>2019-08-20</td>\n",
       "    </tr>\n",
       "    <tr>\n",
       "      <th>126217</th>\n",
       "      <td>534948084470</td>\n",
       "      <td>USA</td>\n",
       "      <td>PC</td>\n",
       "      <td>FaceBoom</td>\n",
       "      <td>2019-08-29 16:56:32</td>\n",
       "      <td>2893</td>\n",
       "      <td>48.22</td>\n",
       "      <td>8</td>\n",
       "      <td>35</td>\n",
       "      <td>2019-08-29</td>\n",
       "    </tr>\n",
       "    <tr>\n",
       "      <th>176730</th>\n",
       "      <td>984074363313</td>\n",
       "      <td>USA</td>\n",
       "      <td>Mac</td>\n",
       "      <td>YRabbit</td>\n",
       "      <td>2019-10-06 06:39:43</td>\n",
       "      <td>7423</td>\n",
       "      <td>123.72</td>\n",
       "      <td>10</td>\n",
       "      <td>40</td>\n",
       "      <td>2019-10-06</td>\n",
       "    </tr>\n",
       "    <tr>\n",
       "      <th>18357</th>\n",
       "      <td>212990931002</td>\n",
       "      <td>USA</td>\n",
       "      <td>Android</td>\n",
       "      <td>organic</td>\n",
       "      <td>2019-05-20 11:59:35</td>\n",
       "      <td>3035</td>\n",
       "      <td>50.58</td>\n",
       "      <td>5</td>\n",
       "      <td>21</td>\n",
       "      <td>2019-05-20</td>\n",
       "    </tr>\n",
       "    <tr>\n",
       "      <th>142575</th>\n",
       "      <td>584603657329</td>\n",
       "      <td>USA</td>\n",
       "      <td>iPhone</td>\n",
       "      <td>organic</td>\n",
       "      <td>2019-09-12 14:11:49</td>\n",
       "      <td>1960</td>\n",
       "      <td>32.67</td>\n",
       "      <td>9</td>\n",
       "      <td>37</td>\n",
       "      <td>2019-09-12</td>\n",
       "    </tr>\n",
       "  </tbody>\n",
       "</table>\n",
       "</div>"
      ],
      "text/plain": [
       "             user_id  region   device             channel       session_start  \\\n",
       "264781  727501064195  France       PC  OppleCreativeMedia 2019-08-20 19:09:02   \n",
       "126217  534948084470     USA       PC            FaceBoom 2019-08-29 16:56:32   \n",
       "176730  984074363313     USA      Mac             YRabbit 2019-10-06 06:39:43   \n",
       "18357   212990931002     USA  Android             organic 2019-05-20 11:59:35   \n",
       "142575  584603657329     USA   iPhone             organic 2019-09-12 14:11:49   \n",
       "\n",
       "        sess_seconds  sess_minutes  month  week session_date  \n",
       "264781           921         15.35      8    34   2019-08-20  \n",
       "126217          2893         48.22      8    35   2019-08-29  \n",
       "176730          7423        123.72     10    40   2019-10-06  \n",
       "18357           3035         50.58      5    21   2019-05-20  \n",
       "142575          1960         32.67      9    37   2019-09-12  "
      ]
     },
     "metadata": {},
     "output_type": "display_data"
    }
   ],
   "source": [
    "# заменим \"United States\" на \"USA\"\n",
    "visits['region'] = visits['region'].mask(visits['region']=='United States', 'USA')\n",
    "\n",
    "# в ходе исследования нам могут понадобиться и другая информация\n",
    "\n",
    "# длительность сессии в секундах и в минутах (для удобства)\n",
    "visits['sess_seconds'] = (visits['session_end'] - visits['session_start']).dt.seconds\n",
    "visits['sess_minutes'] = round(visits['sess_seconds'] / 60, 2)\n",
    "# номера месяца и недели и датаsession_start\n",
    "visits['month'] = visits['session_start'].dt.month\n",
    "visits['week'] = visits['session_start'].dt.isocalendar().week\n",
    "visits['session_date'] = visits['session_start'].dt.date\n",
    "\n",
    "# удалим столбец с окончанием сессии, он уже вряд ли пригодится\n",
    "visits=visits.drop(columns=['session_end'])\n",
    "\n",
    "# проверим что получилось\n",
    "display(visits.sample(5))"
   ]
  },
  {
   "cell_type": "markdown",
   "id": "87f9005b",
   "metadata": {},
   "source": [
    "Теперь датафрейм `visits` хранит лог сервера с информацией о посещениях сайта:\n",
    "- `user_id` — уникальный идентификатор пользователя,\n",
    "- `region` — страна пользователя,\n",
    "- `device` — тип устройства пользователя,\n",
    "- `channel` — идентификатор источника перехода,\n",
    "- `session_start` — дата и время начала сессии,\n",
    "- `sess_seconds` - длина сессии в секундах,\n",
    "- `sess_minutes` - длина сессии в минутах,\n",
    "- `month` - номер месяца,\n",
    "- `week` - номер недели,\n",
    "- `session_date` - дата"
   ]
  },
  {
   "cell_type": "markdown",
   "id": "cadda9de",
   "metadata": {},
   "source": [
    "### Заказы\n",
    "\n",
    "Изучим таблицу `orders` из файла `orders_info_short.csv` "
   ]
  },
  {
   "cell_type": "code",
   "execution_count": 7,
   "id": "252a7c43",
   "metadata": {},
   "outputs": [
    {
     "name": "stdout",
     "output_type": "stream",
     "text": [
      "<class 'pandas.core.frame.DataFrame'>\n",
      "RangeIndex: 40212 entries, 0 to 40211\n",
      "Data columns (total 3 columns):\n",
      " #   Column    Non-Null Count  Dtype  \n",
      "---  ------    --------------  -----  \n",
      " 0   User Id   40212 non-null  int64  \n",
      " 1   Event Dt  40212 non-null  object \n",
      " 2   Revenue   40212 non-null  float64\n",
      "dtypes: float64(1), int64(1), object(1)\n",
      "memory usage: 942.6+ KB\n"
     ]
    }
   ],
   "source": [
    "orders.info()"
   ]
  },
  {
   "cell_type": "code",
   "execution_count": 8,
   "id": "546a1740",
   "metadata": {},
   "outputs": [
    {
     "data": {
      "text/html": [
       "<style type=\"text/css\">\n",
       "</style>\n",
       "<table id=\"T_90de7\">\n",
       "  <thead>\n",
       "    <tr>\n",
       "      <th class=\"blank level0\" >&nbsp;</th>\n",
       "      <th id=\"T_90de7_level0_col0\" class=\"col_heading level0 col0\" >0</th>\n",
       "    </tr>\n",
       "  </thead>\n",
       "  <tbody>\n",
       "    <tr>\n",
       "      <th id=\"T_90de7_level0_row0\" class=\"row_heading level0 row0\" >user_id</th>\n",
       "      <td id=\"T_90de7_row0_col0\" class=\"data row0 col0\" >int64</td>\n",
       "    </tr>\n",
       "    <tr>\n",
       "      <th id=\"T_90de7_level0_row1\" class=\"row_heading level0 row1\" >event_dt</th>\n",
       "      <td id=\"T_90de7_row1_col0\" class=\"data row1 col0\" >datetime64[ns]</td>\n",
       "    </tr>\n",
       "    <tr>\n",
       "      <th id=\"T_90de7_level0_row2\" class=\"row_heading level0 row2\" >revenue</th>\n",
       "      <td id=\"T_90de7_row2_col0\" class=\"data row2 col0\" >float64</td>\n",
       "    </tr>\n",
       "  </tbody>\n",
       "</table>\n"
      ],
      "text/plain": [
       "<pandas.io.formats.style.Styler at 0x18da6a4dd60>"
      ]
     },
     "metadata": {},
     "output_type": "display_data"
    },
    {
     "data": {
      "text/html": [
       "<div>\n",
       "<style scoped>\n",
       "    .dataframe tbody tr th:only-of-type {\n",
       "        vertical-align: middle;\n",
       "    }\n",
       "\n",
       "    .dataframe tbody tr th {\n",
       "        vertical-align: top;\n",
       "    }\n",
       "\n",
       "    .dataframe thead th {\n",
       "        text-align: right;\n",
       "    }\n",
       "</style>\n",
       "<table border=\"1\" class=\"dataframe\">\n",
       "  <thead>\n",
       "    <tr style=\"text-align: right;\">\n",
       "      <th></th>\n",
       "      <th>user_id</th>\n",
       "      <th>event_dt</th>\n",
       "      <th>revenue</th>\n",
       "    </tr>\n",
       "  </thead>\n",
       "  <tbody>\n",
       "    <tr>\n",
       "      <th>25391</th>\n",
       "      <td>293576275403</td>\n",
       "      <td>2019-10-19 12:09:52</td>\n",
       "      <td>4.99</td>\n",
       "    </tr>\n",
       "    <tr>\n",
       "      <th>13663</th>\n",
       "      <td>886626622525</td>\n",
       "      <td>2019-08-21 00:40:31</td>\n",
       "      <td>4.99</td>\n",
       "    </tr>\n",
       "    <tr>\n",
       "      <th>9719</th>\n",
       "      <td>86407029137</td>\n",
       "      <td>2019-07-27 21:35:36</td>\n",
       "      <td>49.99</td>\n",
       "    </tr>\n",
       "    <tr>\n",
       "      <th>25739</th>\n",
       "      <td>883335583867</td>\n",
       "      <td>2019-10-21 15:15:22</td>\n",
       "      <td>4.99</td>\n",
       "    </tr>\n",
       "    <tr>\n",
       "      <th>26671</th>\n",
       "      <td>418806154285</td>\n",
       "      <td>2019-10-25 13:03:53</td>\n",
       "      <td>4.99</td>\n",
       "    </tr>\n",
       "  </tbody>\n",
       "</table>\n",
       "</div>"
      ],
      "text/plain": [
       "            user_id            event_dt  revenue\n",
       "25391  293576275403 2019-10-19 12:09:52     4.99\n",
       "13663  886626622525 2019-08-21 00:40:31     4.99\n",
       "9719    86407029137 2019-07-27 21:35:36    49.99\n",
       "25739  883335583867 2019-10-21 15:15:22     4.99\n",
       "26671  418806154285 2019-10-25 13:03:53     4.99"
      ]
     },
     "metadata": {},
     "output_type": "display_data"
    }
   ],
   "source": [
    "# переведём имена столбцов в нижний регистр и заменим пробелы на знак подчёркивания\n",
    "orders.columns=orders.columns.str.lower().str.replace(' ', '_')\n",
    "\n",
    "# изменим тип данных для даты заказа\n",
    "orders['event_dt'] = pd.to_datetime(orders['event_dt'])\n",
    "\n",
    "# проверим что получилось\n",
    "display(orders.dtypes.to_frame().style)\n",
    "display(orders.sample(5))"
   ]
  },
  {
   "cell_type": "markdown",
   "id": "cc4bd38b",
   "metadata": {},
   "source": [
    "Датафрейм `orders` с информацией о заказах:\n",
    "- `user_id` — уникальный идентификатор пользователя,\n",
    "- `event_dt` — дата и время покупки,\n",
    "- `revenue` — сумма заказа."
   ]
  },
  {
   "cell_type": "code",
   "execution_count": 9,
   "id": "b7109fca",
   "metadata": {},
   "outputs": [
    {
     "name": "stdout",
     "output_type": "stream",
     "text": [
      "Количество дубликатов:\u001b[1m 0 \u001b[0m\n",
      "Данные о заказах собраны за период:\n",
      "c\u001b[1m 2019-05-01 \u001b[0mпо\u001b[1m 2019-10-31 \u001b[0m\n"
     ]
    }
   ],
   "source": [
    "print('Количество дубликатов:\\033[1m', \n",
    "      orders.duplicated().sum(), '\\033[0m')\n",
    "\n",
    "print('Данные о заказах собраны за период:')\n",
    "print('c\\033[1m', orders['event_dt'].dt.date.min(), \n",
    "      '\\033[0mпо\\033[1m', orders['event_dt'].dt.date.max(), '\\033[0m')"
   ]
  },
  {
   "cell_type": "code",
   "execution_count": 10,
   "id": "5e91f33e",
   "metadata": {},
   "outputs": [
    {
     "data": {
      "text/html": [
       "<style type=\"text/css\">\n",
       "</style>\n",
       "<table id=\"T_448b1\">\n",
       "  <caption>Количество счетов на определенную сумму</caption>\n",
       "  <thead>\n",
       "    <tr>\n",
       "      <th class=\"blank level0\" >&nbsp;</th>\n",
       "      <th id=\"T_448b1_level0_col0\" class=\"col_heading level0 col0\" >revenue</th>\n",
       "      <th id=\"T_448b1_level0_col1\" class=\"col_heading level0 col1\" >count</th>\n",
       "    </tr>\n",
       "  </thead>\n",
       "  <tbody>\n",
       "    <tr>\n",
       "      <th id=\"T_448b1_level0_row0\" class=\"row_heading level0 row0\" >0</th>\n",
       "      <td id=\"T_448b1_row0_col0\" class=\"data row0 col0\" >4.99</td>\n",
       "      <td id=\"T_448b1_row0_col1\" class=\"data row0 col1\" >38631</td>\n",
       "    </tr>\n",
       "    <tr>\n",
       "      <th id=\"T_448b1_level0_row1\" class=\"row_heading level0 row1\" >1</th>\n",
       "      <td id=\"T_448b1_row1_col0\" class=\"data row1 col0\" >5.99</td>\n",
       "      <td id=\"T_448b1_row1_col1\" class=\"data row1 col1\" >780</td>\n",
       "    </tr>\n",
       "    <tr>\n",
       "      <th id=\"T_448b1_level0_row2\" class=\"row_heading level0 row2\" >2</th>\n",
       "      <td id=\"T_448b1_row2_col0\" class=\"data row2 col0\" >9.99</td>\n",
       "      <td id=\"T_448b1_row2_col1\" class=\"data row2 col1\" >385</td>\n",
       "    </tr>\n",
       "    <tr>\n",
       "      <th id=\"T_448b1_level0_row3\" class=\"row_heading level0 row3\" >4</th>\n",
       "      <td id=\"T_448b1_row3_col0\" class=\"data row3 col0\" >19.99</td>\n",
       "      <td id=\"T_448b1_row3_col1\" class=\"data row3 col1\" >204</td>\n",
       "    </tr>\n",
       "    <tr>\n",
       "      <th id=\"T_448b1_level0_row4\" class=\"row_heading level0 row4\" >3</th>\n",
       "      <td id=\"T_448b1_row4_col0\" class=\"data row4 col0\" >49.99</td>\n",
       "      <td id=\"T_448b1_row4_col1\" class=\"data row4 col1\" >212</td>\n",
       "    </tr>\n",
       "  </tbody>\n",
       "</table>\n"
      ],
      "text/plain": [
       "<pandas.io.formats.style.Styler at 0x18da6a49940>"
      ]
     },
     "metadata": {},
     "output_type": "display_data"
    }
   ],
   "source": [
    "# проверка на аномальные значения\n",
    "display(orders['revenue'].value_counts().reset_index()\n",
    "        .rename(columns={'revenue':'count', 'index':'revenue'})\n",
    "        .sort_values(by='revenue')\n",
    "        .style.format('{:0.4}', subset='revenue')\n",
    "        .set_caption('Количество счетов на определенную сумму'))"
   ]
  },
  {
   "cell_type": "markdown",
   "id": "a31e5b41",
   "metadata": {},
   "source": [
    "Подавляющее большинство счетов составляет минимально возможную сумму 4.99 доллара. Интересно, клиенты платят один раз за постоянный доступ или это единоразовая оплата за какой-то определенный \"контент\". А может, это плата за месяц. \n",
    "\n",
    "В итоге, аномальных и пропущенных значений в таблице мы не нашли. "
   ]
  },
  {
   "cell_type": "markdown",
   "id": "2fae2560",
   "metadata": {},
   "source": [
    "### Расходы на рекламу\n",
    "Изучим файл таблицу `costs` из файла `costs_info_short.csv` "
   ]
  },
  {
   "cell_type": "code",
   "execution_count": 11,
   "id": "f369f736",
   "metadata": {},
   "outputs": [
    {
     "name": "stdout",
     "output_type": "stream",
     "text": [
      "<class 'pandas.core.frame.DataFrame'>\n",
      "RangeIndex: 1800 entries, 0 to 1799\n",
      "Data columns (total 3 columns):\n",
      " #   Column   Non-Null Count  Dtype  \n",
      "---  ------   --------------  -----  \n",
      " 0   dt       1800 non-null   object \n",
      " 1   Channel  1800 non-null   object \n",
      " 2   costs    1800 non-null   float64\n",
      "dtypes: float64(1), object(2)\n",
      "memory usage: 42.3+ KB\n"
     ]
    }
   ],
   "source": [
    "costs.info()"
   ]
  },
  {
   "cell_type": "code",
   "execution_count": 12,
   "id": "fa5aac51",
   "metadata": {},
   "outputs": [
    {
     "name": "stdout",
     "output_type": "stream",
     "text": [
      "Количество дубликатов:\u001b[1m 0 \u001b[0m\n",
      "Уникальные значения \u001b[1m channel \u001b[0m:\n",
      "AdNonSense,  FaceBoom,  LeapBob,  MediaTornado,  OppleCreativeMedia,  RocketSuperAds,  TipTop,  WahooNetBanner,  YRabbit,  lambdaMediaAds\n",
      "Данные о расходах на рекламу за период:\n",
      "c\u001b[1m 2019-05-01 \u001b[0mпо\u001b[1m 2019-10-27 \u001b[0m\n"
     ]
    },
    {
     "data": {
      "text/html": [
       "<div>\n",
       "<style scoped>\n",
       "    .dataframe tbody tr th:only-of-type {\n",
       "        vertical-align: middle;\n",
       "    }\n",
       "\n",
       "    .dataframe tbody tr th {\n",
       "        vertical-align: top;\n",
       "    }\n",
       "\n",
       "    .dataframe thead th {\n",
       "        text-align: right;\n",
       "    }\n",
       "</style>\n",
       "<table border=\"1\" class=\"dataframe\">\n",
       "  <thead>\n",
       "    <tr style=\"text-align: right;\">\n",
       "      <th></th>\n",
       "      <th>dt</th>\n",
       "      <th>channel</th>\n",
       "      <th>costs</th>\n",
       "      <th>month</th>\n",
       "      <th>week</th>\n",
       "      <th>date</th>\n",
       "    </tr>\n",
       "  </thead>\n",
       "  <tbody>\n",
       "    <tr>\n",
       "      <th>174</th>\n",
       "      <td>2019-10-22</td>\n",
       "      <td>FaceBoom</td>\n",
       "      <td>189.20</td>\n",
       "      <td>10</td>\n",
       "      <td>43</td>\n",
       "      <td>2019-10-22</td>\n",
       "    </tr>\n",
       "    <tr>\n",
       "      <th>664</th>\n",
       "      <td>2019-09-02</td>\n",
       "      <td>TipTop</td>\n",
       "      <td>354.00</td>\n",
       "      <td>9</td>\n",
       "      <td>36</td>\n",
       "      <td>2019-09-02</td>\n",
       "    </tr>\n",
       "    <tr>\n",
       "      <th>211</th>\n",
       "      <td>2019-06-01</td>\n",
       "      <td>MediaTornado</td>\n",
       "      <td>4.32</td>\n",
       "      <td>6</td>\n",
       "      <td>22</td>\n",
       "      <td>2019-06-01</td>\n",
       "    </tr>\n",
       "    <tr>\n",
       "      <th>731</th>\n",
       "      <td>2019-05-12</td>\n",
       "      <td>YRabbit</td>\n",
       "      <td>10.80</td>\n",
       "      <td>5</td>\n",
       "      <td>19</td>\n",
       "      <td>2019-05-12</td>\n",
       "    </tr>\n",
       "    <tr>\n",
       "      <th>1705</th>\n",
       "      <td>2019-07-25</td>\n",
       "      <td>lambdaMediaAds</td>\n",
       "      <td>6.40</td>\n",
       "      <td>7</td>\n",
       "      <td>30</td>\n",
       "      <td>2019-07-25</td>\n",
       "    </tr>\n",
       "  </tbody>\n",
       "</table>\n",
       "</div>"
      ],
      "text/plain": [
       "             dt         channel   costs  month  week        date\n",
       "174  2019-10-22        FaceBoom  189.20     10    43  2019-10-22\n",
       "664  2019-09-02          TipTop  354.00      9    36  2019-09-02\n",
       "211  2019-06-01    MediaTornado    4.32      6    22  2019-06-01\n",
       "731  2019-05-12         YRabbit   10.80      5    19  2019-05-12\n",
       "1705 2019-07-25  lambdaMediaAds    6.40      7    30  2019-07-25"
      ]
     },
     "metadata": {},
     "output_type": "display_data"
    }
   ],
   "source": [
    "# переименуем столбцы\n",
    "costs.columns=costs.columns.str.lower()\n",
    "\n",
    "# изменим тип данных для даты заказа\n",
    "costs['dt'] = pd.to_datetime(costs['dt'])\n",
    "\n",
    "print('Количество дубликатов:\\033[1m', \n",
    "      costs.duplicated().sum(), '\\033[0m')\n",
    "print('Уникальные значения \\033[1m channel \\033[0m:')\n",
    "print(*sorted(costs['channel'].unique()), sep=',  ')\n",
    "\n",
    "# добавим в таблицу costs столбцы с номерами месяца и недели\n",
    "costs['month'] = costs['dt'].dt.month\n",
    "costs['week'] = costs['dt'].dt.isocalendar().week\n",
    "costs['date'] = costs['dt'].dt.date\n",
    "\n",
    "print('Данные о расходах на рекламу за период:')\n",
    "print('c\\033[1m', costs['date'].min(), \n",
    "      '\\033[0mпо\\033[1m', costs['date'].max(), '\\033[0m')\n",
    "\n",
    "# проверим что получилось\n",
    "display(costs.sample(5))"
   ]
  },
  {
   "cell_type": "markdown",
   "id": "8e429e86",
   "metadata": {
    "id": "_vsKinGUWVwk"
   },
   "source": [
    "Датафрейм `costs` содержит информацию о расходах на рекламу:\n",
    "- `dt` — дата проведения рекламной кампании,\n",
    "- `channel` — идентификатор рекламного источника,\n",
    "- `costs` — расходы на эту кампанию,\n",
    "- `month` - номер месяца,\n",
    "- `week` - номер недели,\n",
    "- `date` - дата\n",
    "\n",
    "Проверим, нет ли аномальных значений цен"
   ]
  },
  {
   "cell_type": "code",
   "execution_count": 13,
   "id": "23902e83",
   "metadata": {},
   "outputs": [
    {
     "data": {
      "text/html": [
       "<style type=\"text/css\">\n",
       "</style>\n",
       "<table id=\"T_e7f1d\">\n",
       "  <caption>Сумма расходов на рекламу, долл.</caption>\n",
       "  <thead>\n",
       "    <tr>\n",
       "      <th class=\"blank level0\" >&nbsp;</th>\n",
       "      <th id=\"T_e7f1d_level0_col0\" class=\"col_heading level0 col0\" >mean</th>\n",
       "      <th id=\"T_e7f1d_level0_col1\" class=\"col_heading level0 col1\" >min</th>\n",
       "      <th id=\"T_e7f1d_level0_col2\" class=\"col_heading level0 col2\" >25%</th>\n",
       "      <th id=\"T_e7f1d_level0_col3\" class=\"col_heading level0 col3\" >50%</th>\n",
       "      <th id=\"T_e7f1d_level0_col4\" class=\"col_heading level0 col4\" >75%</th>\n",
       "      <th id=\"T_e7f1d_level0_col5\" class=\"col_heading level0 col5\" >max</th>\n",
       "    </tr>\n",
       "  </thead>\n",
       "  <tbody>\n",
       "    <tr>\n",
       "      <th id=\"T_e7f1d_level0_row0\" class=\"row_heading level0 row0\" >costs</th>\n",
       "      <td id=\"T_e7f1d_row0_col0\" class=\"data row0 col0\" >58.61</td>\n",
       "      <td id=\"T_e7f1d_row0_col1\" class=\"data row0 col1\" >0.8</td>\n",
       "      <td id=\"T_e7f1d_row0_col2\" class=\"data row0 col2\" >6.495</td>\n",
       "      <td id=\"T_e7f1d_row0_col3\" class=\"data row0 col3\" >12.29</td>\n",
       "      <td id=\"T_e7f1d_row0_col4\" class=\"data row0 col4\" >33.6</td>\n",
       "      <td id=\"T_e7f1d_row0_col5\" class=\"data row0 col5\" >630.0</td>\n",
       "    </tr>\n",
       "  </tbody>\n",
       "</table>\n"
      ],
      "text/plain": [
       "<pandas.io.formats.style.Styler at 0x18d9fe95670>"
      ]
     },
     "metadata": {},
     "output_type": "display_data"
    },
    {
     "ename": "NameError",
     "evalue": "name 'colors_list' is not defined",
     "output_type": "error",
     "traceback": [
      "\u001b[1;31m---------------------------------------------------------------------------\u001b[0m",
      "\u001b[1;31mNameError\u001b[0m                                 Traceback (most recent call last)",
      "Input \u001b[1;32mIn [13]\u001b[0m, in \u001b[0;36m<cell line: 5>\u001b[1;34m()\u001b[0m\n\u001b[0;32m      1\u001b[0m display(costs[\u001b[38;5;124m'\u001b[39m\u001b[38;5;124mcosts\u001b[39m\u001b[38;5;124m'\u001b[39m]\u001b[38;5;241m.\u001b[39mdescribe()\u001b[38;5;241m.\u001b[39mto_frame()\n\u001b[0;32m      2\u001b[0m         \u001b[38;5;241m.\u001b[39mquery(\u001b[38;5;124m'\u001b[39m\u001b[38;5;124m~(index.isin([\u001b[39m\u001b[38;5;124m\"\u001b[39m\u001b[38;5;124mcount\u001b[39m\u001b[38;5;124m\"\u001b[39m\u001b[38;5;124m,\u001b[39m\u001b[38;5;124m\"\u001b[39m\u001b[38;5;124mstd\u001b[39m\u001b[38;5;124m\"\u001b[39m\u001b[38;5;124m]))\u001b[39m\u001b[38;5;124m'\u001b[39m)\u001b[38;5;241m.\u001b[39mT\u001b[38;5;241m.\u001b[39mstyle\u001b[38;5;241m.\u001b[39mformat(\u001b[38;5;124m'\u001b[39m\u001b[38;5;132;01m{:0.4}\u001b[39;00m\u001b[38;5;124m'\u001b[39m)\n\u001b[0;32m      3\u001b[0m         \u001b[38;5;241m.\u001b[39mset_caption(\u001b[38;5;124m'\u001b[39m\u001b[38;5;124mСумма расходов на рекламу, долл.\u001b[39m\u001b[38;5;124m'\u001b[39m))\n\u001b[0;32m      5\u001b[0m costs[\u001b[38;5;124m'\u001b[39m\u001b[38;5;124mcosts\u001b[39m\u001b[38;5;124m'\u001b[39m]\u001b[38;5;241m.\u001b[39mplot\u001b[38;5;241m.\u001b[39mhist(bins\u001b[38;5;241m=\u001b[39m\u001b[38;5;241m100\u001b[39m, \u001b[38;5;28mrange\u001b[39m\u001b[38;5;241m=\u001b[39m(\u001b[38;5;241m0\u001b[39m,\u001b[38;5;241m100\u001b[39m), figsize\u001b[38;5;241m=\u001b[39m(\u001b[38;5;241m4\u001b[39m,\u001b[38;5;241m4\u001b[39m),\n\u001b[1;32m----> 6\u001b[0m                 color\u001b[38;5;241m=\u001b[39m\u001b[43mcolors_list\u001b[49m[\u001b[38;5;241m1\u001b[39m], title\u001b[38;5;241m=\u001b[39m\u001b[38;5;124m'\u001b[39m\u001b[38;5;124mРаспределение суммы расходов, долл\u001b[39m\u001b[38;5;124m'\u001b[39m)\n\u001b[0;32m      7\u001b[0m plt\u001b[38;5;241m.\u001b[39mshow()\n",
      "\u001b[1;31mNameError\u001b[0m: name 'colors_list' is not defined"
     ]
    }
   ],
   "source": [
    "display(costs['costs'].describe().to_frame()\n",
    "        .query('~(index.isin([\"count\",\"std\"]))').T.style.format('{:0.4}')\n",
    "        .set_caption('Сумма расходов на рекламу, долл.'))\n",
    "\n",
    "costs['costs'].plot.hist(bins=100, range=(0,100), figsize=(4,4),\n",
    "                color=colors_list[1], title='Распределение суммы расходов, долл')\n",
    "plt.show();"
   ]
  },
  {
   "cell_type": "markdown",
   "id": "bd29f1dd",
   "metadata": {},
   "source": [
    "Основная часть счетов за рекламные кампании составляет от 6 до 34 долларов. Есть аномально высокие суммы за один счёт. Посмотрим на те счета, которые могут портить всю картину."
   ]
  },
  {
   "cell_type": "code",
   "execution_count": null,
   "id": "2ec1ab48",
   "metadata": {},
   "outputs": [],
   "source": [
    "display(costs.sort_values(by='costs', ascending=False).head(10))"
   ]
  },
  {
   "cell_type": "markdown",
   "id": "e3a3a052",
   "metadata": {},
   "source": [
    "Какой-то прожорливый TipTop. Думаю, мы его еще встретим дальше. Цены, конечно, аномальные для такого распределения, но не похожи на ошибку в данных."
   ]
  },
  {
   "cell_type": "markdown",
   "id": "e9cc855b",
   "metadata": {},
   "source": [
    "### Перечень используемых переменных"
   ]
  },
  {
   "cell_type": "code",
   "execution_count": null,
   "id": "528ba598",
   "metadata": {
    "scrolled": true
   },
   "outputs": [],
   "source": [
    "# зададим момент, горизонт анализа и ширину окна сглаживания\n",
    "horizon=14\n",
    "moment=datetime(2019, 10, 27).date()\n",
    "window=14\n",
    "\n",
    "# сохраним названия каналов в таблицу `channel_list`\n",
    "channel_list = visits['channel'].unique()\n",
    "\n",
    "# создадим цветовые гаммы\n",
    "colors_list = ['#cf2c2c', '#184e87', '#28d464', '#fdc800', '#f0e73a', '#e83873', \n",
    "               '#e85fb8', '#3374c0', '#f29e00', '#3a7d04', '#4e9dfc', '#3ca736']\n",
    "\n",
    "colors_dict = dict(zip(channel_list, colors_list))"
   ]
  },
  {
   "cell_type": "markdown",
   "id": "eaf6c258",
   "metadata": {},
   "source": [
    "Имена таблиц, которые использовались в проекте:\n",
    "\n",
    "- `profiles` - глобальная переменная со всей собранной информацией по каждому пользователю;\n",
    "- `reg_profile` - количество уникальных пользователей и количество плательщиков, по регионам, каналам и устройствам, на основе этой таблицы были собраны небольшие с количеством и долями разных пользователей:\n",
    "    - `users_organic`\n",
    "    - `users_region`\n",
    "    - `users_devices`\n",
    "    - `users_channels`\n",
    "- `costs_per_channel` - сумма расходов на каждый источник\n",
    "- `costs_history` - динамика расходов по всем источникам\n",
    "- `monty_income` - суммы доходов от привлечения клиентов и расходов на рекламу по каждому месяцу\n",
    "- `revenue_per_channel` - количество заказов и сумма доходов в разбивке по каналам привлечения\n",
    "- `df_grouped, df_history` - таблицы с рассчитанными метриками для построения графиков"
   ]
  },
  {
   "cell_type": "markdown",
   "id": "ced1bf42",
   "metadata": {},
   "source": [
    "<h2 style=\"color:navy\">Функции для расчёта метрик и визуализации</h2> \n",
    "\n",
    "\n",
    "### Профили пользователей и CAC\n",
    "\n",
    "Для создания таблицы с информацией о пользователях, воспользуемя функцией из учебного курса. Преобразуем её следующим образом:\n",
    "- не будем передавать датафреймы в качестве параметров, используем внутри функции загруженные таблицы;\n",
    "- функция не будет возращать датафрейм, а просто сохранит его в глобальную переменную;\n",
    "- в нашем проекте информация о действиях пользователя содержит только данные о заказе (покупке) на сайте. Таким образом, группировать профили пользователей по событиям нет необходимости (исключим таблицу events, которая использовалась в учебном курсе). \n",
    "\n",
    "Создадим функцию `get_profiles()`, которая сохранит в таблицу `profiles` следующую информацию:\n",
    "- `user_id` - идентификатор клиента\n",
    "- `first_dt` - время первого посещения сайта в формате datetime\n",
    "- `channel` - источник первого посещения сайта\n",
    "- `device` - тип устройства первого посещения\n",
    "- `region` - регион первого посещения\n",
    "- `date` - дата первого посещения сайта \n",
    "- `payer` - принимает значение True, если клиент сделал хотя бы один заказ на сайте и False, если клиент не принёс дохода\n",
    "- `sess_times` - суммарное время проведенное на сайте (в минутах\n",
    "- `dates_count` - количество дней, когда клиент заходил на сайт\n",
    "- `cac` - Метрика САС - стоимость привлечения клиента\n",
    "- `pays_count` - количество оплаченных заказов\n",
    "- `payments` - сумма всех заказов"
   ]
  },
  {
   "cell_type": "code",
   "execution_count": null,
   "id": "ec21fa59",
   "metadata": {},
   "outputs": [],
   "source": [
    "# Функция для создания таблицы профилей пользователей приложения и расчёта САС для одного пользователя\n",
    "\n",
    "def get_profiles():\n",
    "    \n",
    "    # объявим profiles в качестве глобальной переменной\n",
    "    global profiles;\n",
    "       \n",
    "    # группируем и создадим таблицу первых посещений сайта клиентами\n",
    "    profiles = (visits.sort_values(by=['user_id', 'session_start']).groupby('user_id')\n",
    "            .agg({'session_start': 'first', \n",
    "                  'channel': 'first', \n",
    "                  'device': 'first', \n",
    "                  'region': 'first'})\n",
    "            .rename(columns={'session_start': 'first_dt'}).reset_index())\n",
    "\n",
    "    # добавим столбцы :\n",
    "    \n",
    "    # с указанием времени даты\n",
    "    profiles['date'] = profiles['first_dt'].dt.date\n",
    "    # признак платящих пользователей\n",
    "    profiles['payer'] = profiles['user_id'].isin(orders['user_id'].unique())\n",
    "    \n",
    "    # суммарное количество минут проведенное на сайте\n",
    "    profiles = profiles.merge(visits.groupby('user_id')['sess_minutes'].sum(),\n",
    "              on='user_id', how='left').rename(columns={'sess_minutes': 'sess_times'})\n",
    "    \n",
    "    # рассчитаем столбец с количеством дней на сайте\n",
    "    profiles = profiles.merge(visits.groupby('user_id')['session_date'].nunique(),\n",
    "                on='user_id', how='left').rename(columns={'session_date': 'dates_count'})\n",
    "    \n",
    "    # рассчитываем САС из таблицы costs\n",
    "    # считаем количество уникальных пользователей c одинаковыми источником и датой привлечения\n",
    "    users = (profiles.groupby(['date', 'channel']).agg({'user_id': 'nunique'})\n",
    "            .rename(columns={'user_id': 'unique_users'}).reset_index())\n",
    "    \n",
    "    # объединяем траты на рекламу и число привлечённых пользователей\n",
    "    users = costs.merge(users, on=['date', 'channel'], how='left')\n",
    "    # делим рекламные расходы на число привлечённых пользователей\n",
    "    users['cac'] = users['costs'] / users['unique_users']\n",
    "    # добавляем стоимость привлечения в профили\n",
    "    profiles = profiles.merge(users[['date', 'channel', 'cac']], \n",
    "                              on=['date', 'channel'], how='left')\n",
    "    # стоимость привлечения органических пользователей равна нулю\n",
    "    profiles['cac'] = profiles['cac'].fillna(0)\n",
    "    \n",
    "    # найдем доход от каждого клиента\n",
    "    orders_count = orders.groupby('user_id').agg({'event_dt': 'count', \n",
    "                'revenue': 'sum'}).sort_values(by='event_dt', ascending=False)\n",
    "    orders_count.columns = ['orders_count', 'revenue_per_user']\n",
    "    profiles = profiles.merge(orders_count, on='user_id', how='left') \n",
    "    # заполним нулями для тех, кто не платил\n",
    "    profiles = profiles.fillna(0)\n",
    "    return\n",
    "    \n",
    "# запустим сразу, чтобы определились профили пользователей\n",
    "get_profiles()\n",
    "# display(profiles.sample(5))"
   ]
  },
  {
   "cell_type": "markdown",
   "id": "f387ef1b",
   "metadata": {},
   "source": [
    "### Функция для расчета всех метрик\n",
    "\n",
    "\n",
    "#### Описание\n",
    "\n",
    "В учебном курсе были созданы функции для расчёта метрик:\n",
    "- Retention Rate (RR) - удержание пользователя, \n",
    "- Conversion Rate (CR) - конверсии,  \n",
    "- LTV - пожизненная ценность клиента, \n",
    "- ROI - возврат на инвестиции.\n",
    "\n",
    "Все эти функции очень похожи по структуре, попробуем их объединить, чтобы не повторять похожий код несколько раз. \n",
    "Поступим так:\n",
    "- не будем передавать в качестве параметров датафреймы, используем для этого загруженные таблицы и созданную таблицу профилей пользователей из основной части кода;\n",
    "- не будем возвращать сырые данные;\n",
    "- общие части функций объединим в одну, а те строки, которые отличаются в зависимости от метрики будем выбирать с помощью условного оператора.\n",
    "\n",
    "Функция `business_metrics()` будет принимать следующие параметры:\n",
    "- `metric` - обязательный параметр, название метрики - одно из четырёх значений: RR, CR, LTV или ROI\n",
    "- `prof` - таблица с профилями пользователей, по умолчанию используется уже готовая таблица profiles\n",
    "- `horizon` - количество дней - горизонт анализа;\n",
    "- `obs_date` - дата - момент анализа;\n",
    "- `dimensions` - список с названиями столбцов, по которым нужно сгруппировать данные для сравнения разных групп клиентов. По умолчанию список пустой:\n",
    "    - если столбцы для группировки не указаны, то для всех метрик (кроме удержания) группировка не осуществляется, рассчитываются общие значения,\n",
    "    - удержание всегда группируется по полю 'payer', которое указывает является ли клиент покупатем. Если список для группировки не пуст, то группировка будет осуществляться по нескольким столбцам, в том числе по 'payer'.\n",
    "\n",
    "Функция возвращает два датафрейма:\n",
    "1. Таблица с заданными метриками и группировкой (для таких таблиц будем использовать в названии `_grouped`)\n",
    "2. Динамика метрики в зависимости от даты и лайфтайма (для таких таблиц будем использовать в названии `_history`). "
   ]
  },
  {
   "cell_type": "markdown",
   "id": "b84bebed",
   "metadata": {},
   "source": [
    "#### Функция business_metrics()"
   ]
  },
  {
   "cell_type": "code",
   "execution_count": null,
   "id": "e7e40408",
   "metadata": {},
   "outputs": [],
   "source": [
    "# функция для расчёта удержания, конверсии, LTV и ROI\n",
    "\n",
    "def business_metrics(metric, horizon=horizon, obs_date=moment, \n",
    "                     dimensions=[], prof=pd.DataFrame()):\n",
    "    \n",
    "    # если аргумент prof не передавался, то используем \n",
    "    # профили из основной программы\n",
    "    if len(prof) == 0:\n",
    "        prof = profiles\n",
    "    \n",
    "    # проверим правильность указанного названия метрики\n",
    "    if metric not in ['RR', 'CR', 'LTV', 'ROI']:\n",
    "        print('Неверно указано значение метрики. Возможные значения: RR, CR, LTV, ROI')\n",
    "        return 0, 0\n",
    "    \n",
    "    # исключаем из таблицы профилей пользователей, не «доживших» до горизонта анализа\n",
    "    # сырые данные будем собирать в таблицу result_raw\n",
    "    last_date = obs_date - timedelta(days=horizon-1)\n",
    "    result_raw = prof.query('date <= @last_date')\n",
    "    \n",
    "    # для разных метрик соединим с профилями разные таблицы:\n",
    "    \n",
    "    if metric == 'RR':\n",
    "        # соединим профили клиентов и даты визитов\n",
    "        result_raw = result_raw.merge(visits[['user_id', 'session_start']], \n",
    "                                      on='user_id', how='left')\n",
    "        # найдём лайфтайм - количество дней с момента первого посещения до текущей сессии\n",
    "        result_raw['lifetime'] = (result_raw['session_start'] - result_raw['first_dt']).dt.days\n",
    "    \n",
    "    elif metric == 'CR':\n",
    "        # определяем дату и время первой покупки для каждого пользователя\n",
    "        first_orders = (orders.sort_values(by=['user_id', 'event_dt'])\n",
    "                        .groupby('user_id').agg({'event_dt': 'first'})\n",
    "                        .reset_index())\n",
    "        # соединим профили клиентов и даты первой покупки\n",
    "        result_raw = result_raw.merge(first_orders[['user_id', 'event_dt']], \n",
    "                                      on='user_id', how='left')\n",
    "        # найдём лайфтайм - количество дней с момента первого визита до первой покупки\n",
    "        result_raw['lifetime'] = (result_raw['event_dt'] - result_raw['first_dt']).dt.days\n",
    "        \n",
    "    else:\n",
    "        # для LTV и ROI соединим профили клиентов, даты и суммы покупок\n",
    "        result_raw = result_raw.merge(orders[['user_id', 'event_dt', 'revenue']], \n",
    "                                      on='user_id', how='left')\n",
    "        # найдём лайфтайм - количество дней с момента первого визита до каждой покупки\n",
    "        result_raw['lifetime'] = (result_raw['event_dt'] - result_raw['first_dt']).dt.days\n",
    "    \n",
    "    # сырые данные готовы, можно их сгруппировать и рассчитать метрики\n",
    "    # добавляем столбец payer в список группировки для удержания (RR)\n",
    "    if metric == 'RR':         \n",
    "        dimensions = ['payer'] + dimensions\n",
    "    # добавим в таблицу сырых данных столбец 'cohort' с одинаковыми значениями\n",
    "    # если список группировки пуст, то будем группировать по cohort\n",
    "    if len(dimensions)==0:\n",
    "        result_raw['cohort'] = 'All users'\n",
    "    \n",
    "    \n",
    "    # определение функции для группировки по заданным признакам и расчёту метрик\n",
    "    def group_and_calc(dims):\n",
    "        '''\n",
    "        функция возвращает датафрейм, сгруппированный по dims, \n",
    "        в качестве dims передается список dimensions\n",
    "        dims может быть изменён внутри этой функции, при этом dimensions не меняется\n",
    "        остальные данные будем использовать из тела функции business_metrics,\n",
    "        не передавая их в качестве параметров\n",
    "        '''\n",
    "        # если в dims ничего нет - будем группировать по cohort\n",
    "        if len(dims) == 0:\n",
    "            dims = ['cohort']\n",
    "            \n",
    "        # создадим сводную таблицу, сгруппированную по dims \n",
    "        # и рассчитываем значения в зависимости от метрики\n",
    "        if metric in ['RR', 'CR']:\n",
    "            # для удержания и конверсии считаем уникальных клиентов,\n",
    "            result = result_raw.pivot_table(index=dims, columns='lifetime', \n",
    "                                            values='user_id', aggfunc='nunique')\n",
    "        else:\n",
    "            # для LTV и ROI строим «треугольную» таблицу выручки\n",
    "            result = result_raw.pivot_table(index=dims, columns='lifetime', \n",
    "                                            values='revenue', aggfunc='sum')\n",
    "        \n",
    "        # приведем к целочисленному значению названия столбцов\n",
    "        result.columns = result.columns.astype('int')\n",
    "        # оставим в таблице только лайфтайм в пределах горизонта анализа        \n",
    "        result = result[list(range(horizon))]\n",
    "\n",
    "        # для всех метрик, кроме удержания рассчитываем данные с накоплением:\n",
    "        # для конверсии - накопленное количество пользователей\n",
    "        # для LTV и ROI - накопленную выручку\n",
    "        if metric == 'RR':\n",
    "            result = result.fillna(0)\n",
    "        else:\n",
    "            result = result.fillna(0).cumsum(axis=1)\n",
    "        \n",
    "        # рассчитаем размеры когорт из сырых данных\n",
    "        cohort_sizes = (result_raw.groupby(dims).agg({'user_id': 'nunique'})\n",
    "                        .rename(columns={'user_id': 'cohort_size'}))\n",
    "        # добавим размеры когорт в таблицу\n",
    "        result = cohort_sizes.merge(result, on=dims, how='left').fillna(0)\n",
    "        \n",
    "        # для таблиц LTV и ROI добавим столбец САС\n",
    "        if metric in ['LTV', 'ROI']:\n",
    "            # из сырых данных соберем таблицу cac, куда включим\n",
    "            # пользователей, сас для одного пользователя, столбцы для группировки, удалим дубликаты\n",
    "            cac = result_raw[['user_id', 'cac'] + dims].drop_duplicates()\n",
    "            # считаем среднюю стоимость привлечения клиента по группам\n",
    "            cac = cac.groupby(dims).agg({'cac': 'mean'})\n",
    "            # добавляем в таблицу столбец сас после размеров когорт\n",
    "            result.insert(1, 'cac', cac['cac'])\n",
    "        \n",
    "        # разделим значения в столбцах с лайфтаймом на размеры когорт\n",
    "        result.loc[:, 0:] = result.loc[:, 0:].div(result['cohort_size'], axis=0)\n",
    "        # рассчитаем ROI\n",
    "        if metric == 'ROI':\n",
    "            # удаляем строки где САС=0 и ROI не определено\n",
    "            result = result.query('cac!=0')\n",
    "            # в таблице сейчас данные LTV, разделим их на САС\n",
    "            result.loc[:, 0:] = result.loc[:, 0:].div(result['cac'], axis=0)\n",
    "            \n",
    "        # добавим \"имя\" таблице (оно будет использовано в функции визуализации)\n",
    "        result.columns.name = metric\n",
    "        return result\n",
    "    \n",
    "    # возвращаем две таблицы: первая - со значениями метрики,\n",
    "    # вторая - с динамикой, сгруппированная по заданному списку и когортам (дате первого посещения)\n",
    "    return group_and_calc(dimensions), group_and_calc(dimensions + ['date'])\n",
    "\n",
    "'''\n",
    "# код для проверки:\n",
    "get_profiles()\n",
    "df_grouped, df_history = business_metrics('LTV')\n",
    "display(df_grouped)\n",
    "''';"
   ]
  },
  {
   "cell_type": "markdown",
   "id": "ce104993",
   "metadata": {},
   "source": [
    "### Функции для построения графиков\n",
    "\n",
    "#### Сглаживание графиков\n",
    "\n",
    "Используем функцию из учебного курса. Добавим в неё код, который каждый раз используется для группировки данных для последующего сглаживания. Параметы функции `smoothing()` указаны в её описании в коде"
   ]
  },
  {
   "cell_type": "code",
   "execution_count": null,
   "id": "69779c8f",
   "metadata": {},
   "outputs": [],
   "source": [
    "# функция для сглаживания фрейма\n",
    "def smoothing(df, window, ind, val, dims):\n",
    "    '''\n",
    "    df - датафрейм, \n",
    "    window -  ширина окна сглаживания целое число, \n",
    "    ind - название столбца группировки (будет по оси х на графике), \n",
    "    val - название столбца значений (ось у), \n",
    "    dims - название столбца группировки (по каждому будет отдельная линия графика), \n",
    "    вовзращает датафрейм сглаженных данных для построения линейного графика\n",
    "    '''\n",
    "    # группируем данные по столбцу индексов\n",
    "    df = df.pivot_table(index=ind, columns=dims, values=val, aggfunc='mean')\n",
    "    # для каждого столбца применяем скользящее среднее\n",
    "    for column in df.columns.values:\n",
    "        df[column] = df[column].rolling(window).mean() \n",
    "    return df"
   ]
  },
  {
   "cell_type": "markdown",
   "id": "3cea3d80",
   "metadata": {},
   "source": [
    "#### Визуализация региональных отличий\n",
    "\n",
    "Для страны, указанной в качестве аргумента строит три графика:\n",
    "- круговую диаграмму по количеству устройств\n",
    "- столбчатую диаграмму по количеству пользователей привлеченных с каждого канала\n",
    "- такую же диаграмму для пользователей, которые оплатили хотя бы один заказ"
   ]
  },
  {
   "cell_type": "code",
   "execution_count": null,
   "id": "2ddb5694",
   "metadata": {},
   "outputs": [],
   "source": [
    "# создадим функцию, чтобы нарисовать портрет\n",
    "def plot_bar(reg):\n",
    "    '''\n",
    "    reg - название региона\n",
    "    функция использует готовую таблицу reg_profile с данными по регионам\n",
    "    '''\n",
    "    \n",
    "    # сделаем нужный срез\n",
    "    if reg == '':\n",
    "        df = reg_profile\n",
    "        reg = 'Все страны'\n",
    "    else:\n",
    "        df = reg_profile.query('region==@reg')\n",
    "    \n",
    "    fig, ax = plt.subplots(ncols=3, nrows=1, figsize=(20,5), \n",
    "                           gridspec_kw={'width_ratios': [1, 2,2]})\n",
    "    \n",
    "    # 1) круговая диаграмма по устройствам\n",
    "    df0 = df.groupby('device')['users'].sum()\n",
    "    expl = [0.05]*len(df0)\n",
    "    df0.plot.pie(ax=ax[0], autopct='%1.1f%%', legend=False, \n",
    "             explode=expl, colors=colors_list, ylabel='', \n",
    "             title='Типы устройств')\n",
    "    \n",
    "    # 2) столбчатая диаграмма по источникам привлечения всех пользователей\n",
    "    df0 = df.groupby('channel')['users'].sum().sort_values()\n",
    "    # создадим для этой диаграммы список цветов\n",
    "    plot_colors = list(colors_dict.get(x, 'gray') for x in df0.index)\n",
    "    df0.plot.barh(legend=False, ax=ax[1], grid=True, xlabel='', color=plot_colors,\n",
    "                   title='Каналы привлечения')\n",
    "    \n",
    "    # 3) столбчатая диаграмма по источникам привлечения платящих пользователей\n",
    "    df0 = df.groupby('channel')['payers'].sum().sort_values()\n",
    "    # создадим для этой диаграммы список цветов\n",
    "    plot_colors = list(colors_dict.get(x, 'gray') for x in df0.index)\n",
    "    df0.plot.barh(legend=False, ax=ax[2], grid=True, xlabel='', color=plot_colors,\n",
    "                   title='Платящие пользователи по каналам привлечения')\n",
    "    \n",
    "    plt.suptitle(reg + '.  Количество пользователей')\n",
    "    plt.subplots_adjust(wspace=0.2)\n",
    "    plt.tight_layout(h_pad=2)\n",
    "    plt.show();\n",
    "    return"
   ]
  },
  {
   "cell_type": "markdown",
   "id": "1f507bd6",
   "metadata": {},
   "source": [
    "#### Визуализация удержания\n",
    "\n",
    "Возьмем за основу функцию учебного курса.\n",
    "\n",
    "Функция `rr_plot()` принимает в качестве аргументов параметры:\n",
    "- таблицу удержания;\n",
    "- таблицу динамики удержания;\n",
    "- `horizon` - лайфтайм (целое число), для которого будут построены отдельные графики;\n",
    "- `window` - ширина окна сглаживания;\n",
    "- `title` - заголовок для графика, по умолчанию график будет без общего заголовка"
   ]
  },
  {
   "cell_type": "code",
   "execution_count": null,
   "id": "545dcdd5",
   "metadata": {},
   "outputs": [],
   "source": [
    "# функция для визуализации удержания\n",
    "\n",
    "def rr_plot(rr_grouped, rr_history, horizon=horizon, window=window, title=''):\n",
    "    '''\n",
    "    Если данные сгруппированы только по payer, то построим только два графика удержания и динамики. \n",
    "    На каждом графике будет две линии для платящих и не платящих пользователей.\n",
    "    Если группировка проводилась нескольким столбцам, то графиков будет 4. Сверху - графики удержания, \n",
    "    внизу - динамика удержания. Слева - графики для платящих клиентов, справа - для неплатящих.\n",
    "    '''\n",
    "    # из таблицы удержания удалим столбцы с размерами когорт\n",
    "    rr_grouped = rr_grouped.drop(columns=['cohort_size', 0])\n",
    "    # в таблице с динамикой оставим только столбцец с лайфтаймом horizon\n",
    "    rr_history = rr_history[[horizon-1]]\n",
    "    \n",
    "    # если в индексах таблицы удержания только payer,\n",
    "    if rr_grouped.index.nlevels == 1:\n",
    "        # задаём сетку для графиков\n",
    "        fig, ax = plt.subplots(nrows=1, ncols=2, sharey=True, figsize=(15, 5))\n",
    "                        \n",
    "        # 1) кривые удержания\n",
    "        rr_grouped.query('payer==True').T.plot(grid=True, ax=ax[0], color=colors_list[0])\n",
    "        rr_grouped.query('payer==False').T.plot(grid=True, ax=ax[0], color=colors_list[1], \n",
    "                        xlabel='Лайфтайм', title='Удержание пользователей')\n",
    "        ax[0].legend(labels=['платящие', 'неплатящие'])\n",
    "                \n",
    "        # 2) динамика удержания на день horizon\n",
    "        # сгладим данные\n",
    "        rr_history = smoothing(rr_history, window, 'date', horizon-1, 'payer')\n",
    "        # построим две линии графика\n",
    "        rr_history[True].plot(grid=True, ax=ax[1],  color=colors_list[0])\n",
    "        rr_history[False].plot(grid=True, ax=ax[1],  color=colors_list[1], \n",
    "                        xlabel='Дата привлечения', \n",
    "                        title='Динамика удержания пользователей на {}-й день'.format(horizon))\n",
    "        ax[1].legend(labels=['платящие', 'неплатящие'])\n",
    "   \n",
    "    else:\n",
    "        # определим, по каким столбцам были сгруппированы данные\n",
    "        dimensions = [name for name in rr_grouped.index.names\n",
    "                           if name not in ['date', 'payer']]\n",
    "        # задаем одинаковые цвета по словарю\n",
    "        if 'channel' in dimensions:\n",
    "            plot_colors = list(colors_dict.get(x, 'gray') for x in rr_grouped.droplevel('payer').index)\n",
    "        else:\n",
    "            plot_colors = colors_list\n",
    "                       \n",
    "        # задаём размер сетки для графиков\n",
    "        fig, ax = plt.subplots(nrows=2, ncols=2, sharey=True, figsize=(15, 10))\n",
    "                \n",
    "        # 1) кривые удержания платящих пользователей\n",
    "        rr_grouped.query('payer == True').droplevel('payer').T.plot(\n",
    "                    grid=True, ax=ax[0,0], color = plot_colors, legend=None, \n",
    "                    xlabel='Лайфтайм', title='Удержание платящих пользователей')\n",
    "        \n",
    "        # 2) кривые удержания неплатящих пользователей\n",
    "        rr_grouped.query('payer == False').droplevel('payer').T.plot(\n",
    "                        grid=True, ax=ax[0,1], color = plot_colors, legend=None, \n",
    "                        xlabel='Лайфтайм', title='Удержание неплатящих пользователей')\n",
    "                 \n",
    "        # 3) динамика удержания платящих\n",
    "        # выберем платящих пользователей\n",
    "        retention_filter = rr_history.query('payer==True')\n",
    "        # сгладим данные\n",
    "        retention_filter = smoothing(retention_filter, window, 'date', horizon-1, dimensions)\n",
    "        # строим график\n",
    "        retention_filter.plot(grid=True, ax=ax[1,0], color = plot_colors, legend=None, \n",
    "                xlabel='Дата привлечения',\n",
    "                title='Динамика удержания платящих пользователей на {}-й день'.format(horizon))\n",
    "                     \n",
    "        # 4) динамика удержания неплатящих\n",
    "        # выберем платящих пользователей\n",
    "        retention_filter = rr_history.query('payer==False')\n",
    "        # сгладим данные\n",
    "        retention_filter = smoothing(retention_filter, window, 'date', horizon-1, dimensions)\n",
    "        # строим график\n",
    "        retention_filter.plot(grid=True, ax=ax[1,1], color = plot_colors, legend=None, \n",
    "                xlabel='Дата привлечения',\n",
    "                title='Динамика удержания неплатящих пользователей на {}-й день'.format(horizon))\n",
    "        \n",
    "        # выведем одну легенду для всех графиков\n",
    "        ax[0,1].legend(loc='upper right', fontsize='large')\n",
    "        ax[1,1].legend(loc='upper right', fontsize='large')\n",
    "     \n",
    "    # отформатируем расположение\n",
    "    plt.suptitle(title)\n",
    "    plt.subplots_adjust(top=0.85)\n",
    "    plt.tight_layout(h_pad=2)\n",
    "    plt.show();\n",
    "    return\n",
    "\n",
    "'''\n",
    "# код для проверки:\n",
    "df_grouped, df_history = business_metrics('RR', dimensions=['channel'])\n",
    "rr_plot(df_grouped, df_history)\n",
    "''';"
   ]
  },
  {
   "cell_type": "markdown",
   "id": "9969d4b0",
   "metadata": {},
   "source": [
    "####  Визуализации всех метрик\n",
    "\n",
    "Напишем функцию, которая будет визуализировать конверсию, LTV или ROI и будет строить два графика. Первый - самой метрики, второй - её динамики. Функция сама догадается, какие перед ней таблицы по имени в индексах, которое мы задали в функции business_metrics().\n",
    "Если этой функции попадёт табица с удержанием, то будет вызвана функция rr_plot().\n",
    "\n",
    "Функция `mr_plot()` (metric rate plot) принимает в качестве аргументов параметры:\n",
    "- таблицу со значениями метрики;\n",
    "- таблицу динамики этой метрики;\n",
    "- `horizon` - лайфтайм (целое число), для которого будут построены отдельные графики;\n",
    "- `window` - ширина окна сглаживания\n",
    "- `title` - заголовок для графика, по умолчанию график будет без общего заголовка"
   ]
  },
  {
   "cell_type": "code",
   "execution_count": null,
   "id": "b12bdd23",
   "metadata": {
    "scrolled": false
   },
   "outputs": [],
   "source": [
    "# функция для визуализации конверсии, LTV и ROI\n",
    "\n",
    "def mr_plot(mr_grouped, mr_history, horizon=horizon, window=window, title=''):\n",
    "    \n",
    "    # по первой таблице определим какая метрика задана\n",
    "    metric = mr_grouped.columns.name\n",
    "    # исключим удержание, для этих таблиц есть отдельная функция\n",
    "    if metric == 'RR':\n",
    "        rr_plot(mr_grouped, mr_history, horizon, window, title)\n",
    "        return\n",
    "    \n",
    "    # определим по каким столбцам были сгруппированы данные\n",
    "    dimensions = [name for name in mr_history.index.names if name not in ['date']]\n",
    "    # задаем одинаковые цвета по словарю\n",
    "    if 'channel' in dimensions:\n",
    "        plot_colors = list(colors_dict.get(x, 'gray') for x in mr_grouped.index)\n",
    "    else:\n",
    "        plot_colors = colors_list\n",
    "    if len(dimensions) == 0:\n",
    "        plot_colors = colors_list[1]\n",
    "    # переименуем для подписей в графиках\n",
    "    if metric == 'CR':\n",
    "        metric='Конверсия'\n",
    "    \n",
    "    # для ROI и LTV уберём столбец САС, предварительно сохранив его значения\n",
    "    if metric in ['LTV', 'ROI']:\n",
    "        cac_history = mr_history[['cac']]\n",
    "        mr_grouped = mr_grouped.drop(columns=['cac'])\n",
    "    # исключим столбец с размерами когорт из первой таблицы\n",
    "    mr_grouped = mr_grouped.drop(columns=['cohort_size'])\n",
    "    # во второй таблице оставим только столбец с лайфтаймом\n",
    "    mr_history = mr_history[[horizon - 1]]\n",
    "\n",
    "    # задаём размер сетки для графиков\n",
    "    if metric == 'LTV':\n",
    "        fig, ax = plt.subplots(nrows=1, ncols=3, sharey=True, figsize=(15, 5))\n",
    "    else:\n",
    "        fig, ax = plt.subplots(nrows=1, ncols=2, sharey=True, figsize=(15, 5))\n",
    "            \n",
    "    # 1) графики для метрики\n",
    "    mr_grouped.T.plot(grid=True, ax=ax[0], color=plot_colors, legend=None, \n",
    "                      xlabel='Лайфтайм', title=metric)\n",
    "    # для ROI добавим уровень окупаемости\n",
    "    if metric == 'ROI':\n",
    "        ax[0].axhline(y=1, color='red', linestyle='--', label='Окупаемость')\n",
    "        \n",
    "    # 2) динамика метрики\n",
    "    # применим сглаживание\n",
    "    mr_history = smoothing(mr_history, window, 'date', horizon-1, dimensions)\n",
    "    # построим график\n",
    "    mr_history.plot(grid=True, ax=ax[1], color=plot_colors, legend=None,\n",
    "                        xlabel='Дата привлечения', \n",
    "                        title=f'{metric}, динамика на {horizon}-й день лайфтайма')\n",
    "    # для ROI добавим уровень окупаемости\n",
    "    if metric == 'ROI':\n",
    "        ax[1].axhline(y=1, color='red', linestyle='--', label='Окупаемость')\n",
    "        \n",
    "    # 3) для LTV добавим график САС\n",
    "    if metric =='LTV':\n",
    "        # чтобы применить функцию сглаживания для САС переименуем столбец\n",
    "        cac_history.columns=[horizon-1]\n",
    "        # сгладим значения САС\n",
    "        cac_history = smoothing(cac_history, window, 'date', horizon-1, dimensions)\n",
    "        # построим график\n",
    "        cac_history.plot(grid=True, ax=ax[2], color=plot_colors, legend=None,\n",
    "                        xlabel='Дата привлечения',\n",
    "                        title=f'САС в динамике на {horizon}-й день лайфтайма')\n",
    "    \n",
    "    # для графиков с группировкой оставим одну легенду слева вверху\n",
    "    if len(dimensions)==0:\n",
    "        ax[0].legend(fontsize='large')\n",
    "        ax[1].legend(fontsize='large')\n",
    "    else:\n",
    "        ax[0].legend(loc='upper left', fontsize='large')\n",
    "        \n",
    "    # отформатируем\n",
    "    plt.suptitle(title)\n",
    "    plt.subplots_adjust(top=0.85)\n",
    "    plt.tight_layout(h_pad=2)\n",
    "    plt.show();\n",
    "    return\n",
    "            \n",
    "\n",
    "# код для проверки\n",
    "df_grouped, df_history = business_metrics('RR', dimensions=['channel'])\n",
    "mr_plot(df_grouped, df_history, title='заголовок')\n"
   ]
  },
  {
   "cell_type": "markdown",
   "id": "c5ea81f5",
   "metadata": {
    "id": "V-KBT-KMWVwl"
   },
   "source": [
    "<h2 style=\"color:navy\">Исследовательский анализ данных</h2> \n",
    "\n",
    "### Профили пользователей\n",
    "\n",
    "С помощью функции создадим таблицу, которая содержит информацию о первом визите каждого из пользователей."
   ]
  },
  {
   "cell_type": "code",
   "execution_count": null,
   "id": "d8fb6007",
   "metadata": {},
   "outputs": [],
   "source": [
    "get_profiles()\n",
    "\n",
    "print()\n",
    "print('Данные о привлечении пользователей собраны за период')\n",
    "print('c\\033[1m', profiles['date'].min(), \n",
    "      '\\033[0mпо\\033[1m', profiles['date'].max(), '\\033[0m')\n",
    "print('Количество дней наблюдения:\\033[1m', \n",
    "      (profiles['date'].max() - profiles['date'].min()).days, '\\033[0m')\n",
    "print('Доля платящих пользователей:\\033[1m {0:.2%} \\033[0m'\n",
    "      .format(profiles['payer'].mean()))"
   ]
  },
  {
   "cell_type": "markdown",
   "id": "c52d5055",
   "metadata": {},
   "source": [
    "Неплохо, если почти 6% посетителей сайта готовы оплатить заказ. \n",
    "### Пользовательские метрики\n",
    "\n",
    "#### Время, проведенное посетителями на сайте\n",
    "\n",
    "Посмотрим, сколько времени на проводят пользователи на сайте"
   ]
  },
  {
   "cell_type": "code",
   "execution_count": null,
   "id": "4bd8d5c2",
   "metadata": {},
   "outputs": [],
   "source": [
    "display(visits[['sess_seconds', 'sess_minutes']]\n",
    "        .describe().astype(int)\n",
    "        .query('~(index.isin([\"count\",\"std\"]))').T\n",
    "        .style.set_caption('Длительность посещения сайта, сек.'))\n",
    "print('Количество сессий продолжительностью 0 секунд:\\033[1m', \n",
    "      visits.query('sess_seconds==0')['sess_seconds'].count(), '\\033[0m')"
   ]
  },
  {
   "cell_type": "code",
   "execution_count": null,
   "id": "fa5d7440",
   "metadata": {},
   "outputs": [],
   "source": [
    "visits['sess_minutes'].plot.hist(bins=100, range=(0,120), figsize=(5,3),\n",
    "        color=colors_list[1], title='Длительность одного посещения сайта, мин.');"
   ]
  },
  {
   "cell_type": "markdown",
   "id": "72df5739",
   "metadata": {},
   "source": [
    "- Средняя продолжительность сессии **30 минут**. Половина посетителей тратит **от 8 до 41 минуты** за одну сессию. \n",
    "- Самое длительное время, которое клиент провёл на сайте составило около **7.5 часов**. Многовато, конечно, но и такое возможно случается. \n",
    "\n",
    "Нулевые и низкие значения нельзя считать аномальными, если знать, как рассчитывается длительность пребывания клиента на сайте. Например, при расчёте этого показателя в **Яндекс.Метрике**, время посещения равно нулю, если: \n",
    "- пользователь зашел на статью, не нажимая на ссылки и не совершая иных действий, кроме скроллинга страницы. Счетчик получит информацию только об одном действии пользователя – загрузке страницы;\n",
    "- пользователь зашел на сайт, но его в этот момент отвлекли. Он отошел от компьютера на долгое время. Затем вернулся и начал читать контент, переходить по ссылкам и совершать иные действия. В данном случае Метрика зафиксирует два визита. У первого время будет 00:00, у второго время будет отличаться от нуля.\n",
    "\n",
    "Таким образом, не стоит рассматривать при анализе короткие сессии. Кроме того, у нас нет информации о других событиях и действиях клиентов на сайте. \n",
    "\n",
    "Найдём суммарное время, проведенное на сайте одним пользователем и проверим, различается ли в среднем это значение для платящих и неплатящих пользователей. "
   ]
  },
  {
   "cell_type": "code",
   "execution_count": null,
   "id": "33d678cf",
   "metadata": {},
   "outputs": [],
   "source": [
    "display(profiles.groupby('payer')['sess_times']\n",
    "        .describe().astype(int)\n",
    "        .style.set_caption('Суммарное время, проведённое на сайте одним пользователем, мин.'))"
   ]
  },
  {
   "cell_type": "markdown",
   "id": "abcb3375",
   "metadata": {},
   "source": [
    "В данном случае не стоит рассуждать о том, что один пользователь провёл на сайте за всё время 20 часов, а другой - только 16 минут. Во-первых, мы знаем, как рассчитывается длительность сессий. Во-вторых, клиенты впервые пришли на сайт в разные дни. \n",
    "\n",
    "Но очевидно, что платящие пользователи тратят среднем в 5 раз больше времени. \n",
    "Приблизительно такие же выводы можно сделать, если посчитать количество дней, в которые клиент заходил на сайт. "
   ]
  },
  {
   "cell_type": "code",
   "execution_count": null,
   "id": "2f2463c1",
   "metadata": {},
   "outputs": [],
   "source": [
    "display(profiles.groupby('payer')['dates_count']\n",
    "        .describe().astype(int)\n",
    "        .style.set_caption('Количество дней, в которые клиент был на сайте'))"
   ]
  },
  {
   "cell_type": "markdown",
   "id": "802bfc1a",
   "metadata": {},
   "source": [
    "Пользователи, которым не понравились предлагаемые на сайте развлечения, за редким исключением, больше не возвращаются. Но и те, кто хотя бы раз оформил заказ на сайте, почти не приходят повторно. В целом такую маленькую табличку можно озвучить так: в подавляющем большинстве случаев конверсия происходит на первый день лайфтайма. Потому что те, кто приходит больше одного раза вероятнее всего станут покупателями. \n",
    "\n",
    "Количество дней, за которые собраны данные - 179. Учитывая, что у всех разное время первого визита, можно считать, что среднее время в приложении для каждого клиента равно 90. Медиана количества дней платящих пользователей равна 6. Т.е. среднестатистический клиент, хотя бы раз оплативший заказ, возвращается в среднем 2 раза в месяц. Это очень редко для развлекательного приложения, куда многие клиенты заходят в том числе и с мобильных устройств."
   ]
  },
  {
   "cell_type": "markdown",
   "id": "9316fdfd",
   "metadata": {},
   "source": [
    "#### DAU, WAU, MAU и липкость\n",
    "\n",
    "Рассчитаем средние значения количества уникальных посетителей за день, за неделю и за месяц."
   ]
  },
  {
   "cell_type": "code",
   "execution_count": null,
   "id": "8bf4ba3c",
   "metadata": {},
   "outputs": [],
   "source": [
    "dau = int(visits.groupby('session_date').agg({'user_id': 'nunique'}).mean())\n",
    "print(f'DAU =  \\033[1m{dau:,}\\033[0m'.replace(',',' '))\n",
    "wau = int(visits.groupby('week').agg({'user_id': 'nunique'}).mean())\n",
    "print(f'WAU =  \\033[1m{wau:,}\\033[0m'.replace(',',' '))\n",
    "mau = int(visits.groupby('month').agg({'user_id': 'nunique'}).mean())\n",
    "print(f'MAU = \\033[1m{mau:,}\\033[0m'.replace(',',' '))\n",
    "print(f'Sticky Factor = \\033[1m{dau/mau:0.2%}\\033[0m')\n"
   ]
  },
  {
   "cell_type": "markdown",
   "id": "02a0c2aa",
   "metadata": {},
   "source": [
    "Низкое значение Sticky Factor говорит о том, что пользователи плохо задерживаются в приложении. Видимо отсутствует какой-то фактор, влияющий на заинтересованность пользователей. Например, неразнообразный контент. Пользователь, перепробовавший все предлагаемые развлечения, теряет интерес к приложению."
   ]
  },
  {
   "cell_type": "markdown",
   "id": "03c434ec",
   "metadata": {},
   "source": [
    "### Количество новых пользователей\n",
    "\n",
    "#### По странам\n",
    "\n",
    "Посмотрим, из каких стран пользователи приходили на сайт чаще."
   ]
  },
  {
   "cell_type": "code",
   "execution_count": null,
   "id": "273ccdd6",
   "metadata": {},
   "outputs": [],
   "source": [
    "users_regions = profiles.pivot_table(index='region',\n",
    "                    values='payer', aggfunc=['count', 'sum', 'mean'])\n",
    "users_regions.columns = ['users', 'payers', 'payers_mean']\n",
    "users_regions.insert(1, 'users_mean', users_regions['users']/len(profiles))\n",
    "users_regions['total_payers_mean'] = users_regions['payers']/len(profiles.query('payer'))\n",
    "users_regions = users_regions.sort_values(by='users', ascending=False)\n",
    "\n",
    "display(users_regions\n",
    "        .style.background_gradient('Blues', subset=['payers_mean', 'total_payers_mean'])\n",
    "        .format('{:0.2%}', subset=['users_mean', 'payers_mean', 'total_payers_mean']))"
   ]
  },
  {
   "cell_type": "markdown",
   "id": "6e061b3a",
   "metadata": {},
   "source": [
    "- Большая часть посетителей сайта (67%) - пользователи из США. Доля платящих среди них также самая большая - почти 7%, что составляет 78% от всех, кто оплачивал заказы. Т.е. пользователи из США довольно охотно платят за развлечения.\n",
    "\n",
    "- Посетители сайта из Германии, Франции и Великобритании похожи по количеству пользователей и по доле платящих. хотя в Германии платят чуть чаще. Стоит найти способы привлечь больше клиентов и увеличить конверсию для этих стран."
   ]
  },
  {
   "cell_type": "markdown",
   "id": "a4b6de07",
   "metadata": {},
   "source": [
    "#### По типу устройства\n",
    "Посмотрим, какими устройствами обычно пользуются клиенты. "
   ]
  },
  {
   "cell_type": "code",
   "execution_count": null,
   "id": "57d8cadb",
   "metadata": {},
   "outputs": [],
   "source": [
    "users_devices = profiles.pivot_table(index='device',\n",
    "                    values='payer', aggfunc=['count', 'sum', 'mean'])\n",
    "users_devices.columns = ['users', 'payers', 'payers_mean']\n",
    "users_devices.insert(1, 'users_mean', users_devices['users']/len(profiles))\n",
    "users_devices['total_payers_mean'] = users_devices['payers']/len(profiles.query('payer'))\n",
    "users_devices = users_devices.sort_values(by='users', ascending=False)\n",
    "\n",
    "display(users_devices\n",
    "        .style.background_gradient('Blues', subset=['payers_mean', 'total_payers_mean'])\n",
    "        .format('{:0.2%}', subset=['users_mean', 'payers_mean', 'total_payers_mean']))"
   ]
  },
  {
   "cell_type": "markdown",
   "id": "489ae5e6",
   "metadata": {},
   "source": [
    "Самыми активными и самыми платящими оказались клиенты, которые входят в приложение с айфона. Их оказалось 36% от общего числа посетителей, а платящие пользователи этой группы составили 38% от всех плательщиков.\n",
    "\n",
    "Судя по данным этой таблицы, доли платящих пользователей в этих группах не сильно различаются. По вовлеченности чуть отстают только пользователи локальных устройств (PC)."
   ]
  },
  {
   "cell_type": "markdown",
   "id": "158cc6e7",
   "metadata": {},
   "source": [
    "#### По каналу привлечения"
   ]
  },
  {
   "cell_type": "code",
   "execution_count": null,
   "id": "c63022b6",
   "metadata": {},
   "outputs": [],
   "source": [
    "users_channels = profiles.pivot_table(index='channel',\n",
    "                    values='payer', aggfunc=['count', 'sum', 'mean'])\n",
    "users_channels.columns = ['users', 'payers', 'payers_mean']\n",
    "users_channels.insert(1, 'users_mean', users_channels['users']/len(profiles))\n",
    "users_channels['total_payers_mean'] = users_channels['payers']/len(profiles.query('payer'))\n",
    "users_channels = users_channels.reset_index().sort_values(by='total_payers_mean', ascending=False)\n",
    "\n",
    "display(users_channels\n",
    "        .style.background_gradient('Blues', subset=['users','payers_mean', 'total_payers_mean'])\n",
    "        .format('{:0.2%}', subset=['users_mean', 'payers_mean', 'total_payers_mean']))"
   ]
  },
  {
   "cell_type": "markdown",
   "id": "c7dad885",
   "metadata": {},
   "source": [
    "- Около 38% всех посетителей приходят без помощи рекламы. Cреди таких клиентов всего лишь 2% готовы сделать заказ, а это только 13% от общего числа всех платящих пользователей; \n",
    "\n",
    "- Максимальная доля платящих клиентов во второй по величине группе - **FaceBoom**. Из них 12% оплатили хотя бы один заказ. Это 40% (!) от общего количества всех платящих.\n",
    "- 13% посетителей приходят с сайта **TipTop**, из них почти 10% оплачивают хотя бы один заказ, это составляет 21% от всех платящих.\n",
    "- Источники **AdNonSense** и **lambdaMediaAds** хотя и привлекают большой процент платящих, являются малочисленными и их пользователи составляют только 2.6% и 1.4% от всех. Неплохо бы завлечь больше пользователей с этих площадок.\n",
    "\n",
    "Обратим внимание на органических пользователей. Их количество довольно велико, их привлечение бесплатно, они попадают на сайт по собственному желанию, т.е. проявляют интерес к содержанию сайта. Но при этом редко соглашаются платить, в отличие от клиентов, пришедших по рекламе. Возможно, на самом сайте содержится недостаточно информации о предоставляемом контенте для того чтобы привлекать покупателей. \n",
    "\n",
    "Посмотрим, отличается ли доля органических пользователей в зависимости от страны."
   ]
  },
  {
   "cell_type": "code",
   "execution_count": null,
   "id": "0f424160",
   "metadata": {},
   "outputs": [],
   "source": [
    "# создадим таблицу, где посчитаем количество пользователей в зависимости от региона\n",
    "reg_profile = profiles.pivot_table(index=['region', 'device', 'channel'],\n",
    "                    values='payer', aggfunc=['count', 'sum']).reset_index()\n",
    "reg_profile.columns = reg_profile.columns.droplevel(1)\n",
    "reg_profile = reg_profile.rename(columns={'count': 'users', 'sum': 'payers'})\n",
    "\n",
    "#выделим из этой таблицы органических пользователей\n",
    "users_organic = (reg_profile.query('channel==\"organic\"')\n",
    "           .groupby('region')[['users', 'payers']].sum()\n",
    "           .sort_values(by='users', ascending=False))\n",
    "users_organic['users_mean'] = users_organic['users']/users_organic['users'].sum()\n",
    "users_organic['payers_mean'] = users_organic['payers']/users_organic['payers'].sum()\n",
    "users_organic['total_payers_mean'] = users_organic['payers'] / users_organic['users']\n",
    "\n",
    "display(users_organic.style.background_gradient('Blues', subset='payers_mean')\n",
    "        .format('{:0.2%}', subset=['users_mean','payers_mean', 'total_payers_mean']))"
   ]
  },
  {
   "cell_type": "markdown",
   "id": "0716b0a6",
   "metadata": {},
   "source": [
    "Судя по таблице, доля плательщиков среди органических пользователей низкая во всех странах. Чуть лучше ситуация в Германии и хуже всего во Франции. Например, доля органических пользователей из США - это четверть всех пользователей в нашей базе данных. Но из этого огромного количества всего лишь 2% совершают покупки, что составляет около 9% от всех платящих пользователей. "
   ]
  },
  {
   "cell_type": "markdown",
   "id": "9122752e",
   "metadata": {},
   "source": [
    "### Портреты пользователей разных стран\n",
    "\n",
    "#### Все пользователи\n",
    "\n",
    "Воспользуемся уже созданной таблицей `reg_profile`. Посмотрим, как распределено количество пользователей по типам устройств и каналам привлечения. Не будем отображать количество платящих пользователей по устройствам, так как такие диаграммы практически не отличаются. Т.е. доли устройств среди платящих и неплатящих пользователей совпадают."
   ]
  },
  {
   "cell_type": "code",
   "execution_count": null,
   "id": "061cc313",
   "metadata": {},
   "outputs": [],
   "source": [
    "plot_bar('')"
   ]
  },
  {
   "cell_type": "markdown",
   "id": "6b75388f",
   "metadata": {},
   "source": [
    "#### США"
   ]
  },
  {
   "cell_type": "code",
   "execution_count": null,
   "id": "95bada23",
   "metadata": {},
   "outputs": [],
   "source": [
    "plot_bar('USA')"
   ]
  },
  {
   "cell_type": "markdown",
   "id": "24f9bb6a",
   "metadata": {},
   "source": [
    "#### Великобритания"
   ]
  },
  {
   "cell_type": "code",
   "execution_count": null,
   "id": "0fad4a2f",
   "metadata": {},
   "outputs": [],
   "source": [
    "plot_bar('UK')"
   ]
  },
  {
   "cell_type": "markdown",
   "id": "418232b6",
   "metadata": {},
   "source": [
    "#### Франция"
   ]
  },
  {
   "cell_type": "code",
   "execution_count": null,
   "id": "ee373a24",
   "metadata": {},
   "outputs": [],
   "source": [
    "plot_bar('France')"
   ]
  },
  {
   "cell_type": "markdown",
   "id": "13227d05",
   "metadata": {},
   "source": [
    "#### Германия"
   ]
  },
  {
   "cell_type": "code",
   "execution_count": null,
   "id": "8d9d0755",
   "metadata": {},
   "outputs": [],
   "source": [
    "plot_bar('Germany')"
   ]
  },
  {
   "cell_type": "markdown",
   "id": "992cb97f",
   "metadata": {},
   "source": [
    "#### Региональные различия\n",
    "\n",
    "<font style=\"color:navy\">Используемые устройства</font>. В США чаще встречаются пользователи iPhone и Мac, в Европе популярее Android. Для платящих пользователей доли устройств практически не отличаются. Из чего можно предположить, что тип устройства скорее всего не влияет на конверсию. \n",
    "\n",
    "<font style=\"color:navy\">Каналы привлечения пользователей</font> в США и Европе абсолютно разные и никак не пересекаются. \n",
    "- Так как пользователей из США больше, то и каналы, которые используются там имеют более высокие показатели. Поэтому **FaceBoom** и **TipTop** вышли в лидеры по всем странам. \n",
    "- Большинство клиентов во всех трёх странах Европы пришли с каналов OppleCreativeMedia, LeapBob и WahooNetBanner. \n",
    "- **OppleCreativeMedia** на первом месте по количеству привлеченных пользователей в Великобритании и Франции и на втором - в Германии. Но при этом количество платящих пользователей этого источника попадает в нижние строчки диаграммы. Надо попытаться увеличить конверсию этой группы посетителей нашего сайта.\n",
    "- Но при этом количество платящих пользователей больше всего на **WahooNetBanner** и AdNonSense.\n",
    "- Стоит обратить внимание на **AdNonSense**. Во всех трёх странах Европы она не попадает в тройку лидеров по количеству привлечённых пользователей. Но при этом на втором месте по количеству платящих пользователей. "
   ]
  },
  {
   "cell_type": "markdown",
   "id": "c8ae6138",
   "metadata": {},
   "source": [
    "### <font style=\"color:navy\">Итоги исследовательского анализа данных</font> "
   ]
  },
  {
   "cell_type": "markdown",
   "id": "23c97dca",
   "metadata": {},
   "source": [
    "1.   Анализ профилей пользователей показал признаки того, что <font style=\"color:navy\">пользователи плохо задерживаются в приложении.</font>\n",
    "    - средняя продолжительность одного визита на сайт составляет 30 минут;\n",
    "    - конверсия происходит в подавляющем большинстве случаев на первый день лайфтайма;\n",
    "    - платящие пользователи проводят в приложении в 5 раз больше времени, а посещают сайт в среднем всего лишь от 6 до 8 раз за всё время;\n",
    "    - активность посетителей имеет низкое значение Sticky Factor (менее 6%).\n",
    "    \n",
    "    \n",
    "2.   При подсчёте количества пользователей по разным группам мы выяснили следующее:\n",
    "    - большая часть посетителей сайта (67%) из США и они охотнее остальных переходят в покупатели;\n",
    "    - пользователи из Германии, Франции и Великобритании похожи по количеству и по доле платящих;\n",
    "    - цифры свидетельствуют о <font style=\"color:navy\">низкой конверсии органических пользователей</font>, за счёт чего увеличились доли покупателей среди других каналов привлечения;\n",
    "    - существуют два канала привлечения, лидирующих по количеству посетителей и по доле платящих пользователей - TipTop и FaceBoom;\n",
    "    - конверсия не зависит от типа используемого устройства.\n",
    "    \n",
    "\n",
    "3. Региональные различия:\n",
    "    - в США чаще встречаются пользователи iPhone и Мac, в Европе популярее Android;\n",
    "    - каналы привлечения пользователей в США и Европе разные;\n",
    "    - учитывая, что пользователей из США больше, американские каналы рекламы (FaceBoom и TipTop) привлекают больше пользователей, чем все остальные;\n",
    "    - в Европе по количеству клиентов лидируют источники  OppleCreativeMedia, LeapBob и WahooNetBanner;\n",
    "    - OppleCreativeMedia скорее всего имеет очень низкую конверсию пользователей; \n",
    "    - WahooNetBanner и малочисленный канал AdNonSense обладают неплохой конверсией.\n",
    "    \n",
    "<hr style=\"color:navy; align:left; height:1pt\">\n",
    "<font style=\"color:navy\"><b>Выводы:</b></font>\n",
    "\n",
    "- Обратить внимание на низкое удержание пользователей всех групп, найти способы его увеличить, особенно для каналов, привлекающих больше пользователей - FaceBoom, TipTop, OppleCreativeMedia.\n",
    "\n",
    "- Проанализировать причины низкой конверсии, в особенности для органических пользователей и пользователей OppleCreativeMedia. В качестве примеров можно рассмотреть источники FaceBoom и WahooNetBanner.\n",
    "\n",
    "- Попытаться привлечь больше новых пользователей на каналах с высокой конверсией, например, AdNonSense."
   ]
  },
  {
   "cell_type": "markdown",
   "id": "1591fe9f",
   "metadata": {},
   "source": [
    "<h2 style=\"color:navy\">Маркетинг</h2> \n",
    "\n",
    "### Анализ расходов на рекламу\n",
    "\n",
    "#### Общие вычисления"
   ]
  },
  {
   "cell_type": "code",
   "execution_count": null,
   "id": "3d657de3",
   "metadata": {},
   "outputs": [],
   "source": [
    "print('За весь период было оплачено\\033[1m ', \n",
    "      f'{round(costs[\"costs\"].count()):,} \\033[0m'.replace(',', ' '),\n",
    "      'счетов.')\n",
    "print('На общую сумму \\033[1m ', \n",
    "      f'{round(costs[\"costs\"].sum()):,} \\033[0m'.replace(',', ' '),\n",
    "      'долларов.')"
   ]
  },
  {
   "cell_type": "code",
   "execution_count": null,
   "id": "d7a75d98",
   "metadata": {},
   "outputs": [],
   "source": [
    "month_income = orders.groupby(orders['event_dt'].dt.month)['revenue'].sum().to_frame().astype(int)\n",
    "month_income.index.name = 'month'\n",
    "month_income['costs'] = costs.groupby(costs['dt'].dt.month)['costs'].sum().astype(int)\n",
    "month_income['income'] = month_income['revenue'] - month_income['costs']\n",
    "month_income['roi']= month_income['revenue']/month_income['costs']\n",
    "\n",
    "display(month_income.style.background_gradient('Blues', subset='roi')\n",
    "        .format('{:0.3}', subset='roi'))"
   ]
  },
  {
   "cell_type": "markdown",
   "id": "fa6178e3",
   "metadata": {},
   "source": [
    "#### Расходы на каналы привлечения"
   ]
  },
  {
   "cell_type": "code",
   "execution_count": null,
   "id": "3f99df1c",
   "metadata": {},
   "outputs": [],
   "source": [
    "# создадим таблицу расходов по всем каналам\n",
    "costs_per_channel = costs.pivot_table(index='channel', values='costs', aggfunc='sum')\n",
    "costs_per_channel.columns=['costs_sum']\n",
    "costs_per_channel = costs_per_channel.sort_values(by='costs_sum', ascending=False)\n",
    "costs_per_channel['costs_sum'] = costs_per_channel['costs_sum'].astype('int')\n",
    "costs_per_channel['costs_mean'] = costs_per_channel['costs_sum'] / costs_per_channel['costs_sum'].sum()\n",
    "\n",
    "tt_mean = (users_channels.query('channel==\"FaceBoom\"|channel==\"TipTop\"')['users'].sum()/\n",
    "           users_channels.query('channel!=\"organic\"')['users'].sum())\n",
    "print('Доля пользователей каналов FaceBoom и TipTop среди неорганических пользователей:', \n",
    "      f'\\033[1m{tt_mean:0.2%} \\033[0m')\n",
    "tt_mean = (users_channels.query('channel==\"FaceBoom\"|channel==\"TipTop\"')['payers'].sum()/\n",
    "           users_channels.query('channel!=\"organic\"')['payers'].sum())\n",
    "print('Доля плательщиков с каналов FaceBoom и TipTop среди платящих неорганических пользователей:', \n",
    "      f'\\033[1m{tt_mean:0.2%} \\033[0m')\n",
    "\n",
    "display(costs_per_channel.style.background_gradient('Blues', subset='costs_sum')\n",
    "        .format('{:0.2%}', subset='costs_mean'))"
   ]
  },
  {
   "cell_type": "markdown",
   "id": "35487b53",
   "metadata": {},
   "source": [
    "На рекламу каналов FaceBoom и TipTop было потрачено почти 83% всех средств. Эти два канала привели чуть больше 60% платящих пользователей. Или 70% без учета органических. Казалось бы неплохой результат, но речь идет о довольно больших суммах. Поэтому те самые 20 или 10% могли бы принести гораздо больше.  "
   ]
  },
  {
   "cell_type": "markdown",
   "id": "a80c2a29",
   "metadata": {},
   "source": [
    "### Динамика расходов \n",
    "\n",
    "#### Динамика по всем датам\n",
    "\n",
    "Посмотрим, как изменялись расходы с течением времени. \n",
    "Графики построим, применив функцию сглаживания с шириной окна в 7 дней. Поскольку расходы на TipTop в 10 раз превышают расходы на WahooNetBanner, который идёт всего лишь третьим по счёту, добавим график для всех остальных каналов в увеличенном виде.\n",
    "Поскольку это, по сути один и тот же график, легенду выведем только одну."
   ]
  },
  {
   "cell_type": "code",
   "execution_count": null,
   "id": "d710d8c7",
   "metadata": {
    "scrolled": true
   },
   "outputs": [],
   "source": [
    "#  создадим сводную таблицу платежей\n",
    "costs_history = costs.groupby(['channel', 'date'])['costs'].sum().to_frame()\n",
    "plot_colors = list(colors_dict.get(x, 'gray') for x in \\\n",
    "        costs_history.reset_index()['channel'].unique())\n",
    "\n",
    "# Построим два графика\n",
    "fig, ax = plt.subplots(nrows=1, ncols=2, figsize=(15, 5))\n",
    "\n",
    "# 1) для всех каналов\n",
    "# применим сглаживание и построим график\n",
    "smoothing(costs_history, 7, 'date', 'costs', 'channel').plot(\n",
    "          grid=True, ax=ax[0], color=plot_colors,\n",
    "          xlabel = 'Дата привлечения', ylabel = 'Расходы, долл.',\n",
    "          title = 'Динамика расходов на рекламу по каналам привлечения')\n",
    "ax[0].legend(loc='upper left')\n",
    "\n",
    "# 2) для каналов с низким значением расходов\n",
    "# применим сглаживание и построим график\n",
    "smoothing(costs_history, 7, 'date', 'costs', 'channel').plot(\n",
    "          grid=True, ax=ax[1], ylim=(0,50), legend=None, color=plot_colors,\n",
    "          xlabel = 'Дата привлечения', ylabel = 'Расходы, долл.',\n",
    "          title = 'Динамика расходов на рекламу без учёта каналов TipTop и FaceBoom')\n",
    "\n",
    "plt.subplots_adjust(top=0.85)\n",
    "plt.tight_layout(h_pad=2)\n",
    "plt.show();"
   ]
  },
  {
   "cell_type": "markdown",
   "id": "96f25fe6",
   "metadata": {},
   "source": [
    "- Судя по расходам на рекламу источников из **США**, не удивительно, что рекламная кампания приносит в последние месяцы убытки. С августа по ноябрь расходы на ТipTop увеличились вдвое. На этот канал в стало тратиться средств в 2 раза больше, чем на FaceBoom, при этом количество платящих пользователей, привлечённых TipTop, в 2 раза меньше чем у FaceBoom. \n",
    "\n",
    "\n",
    "- В **Европе** основная часть расходов приходится на канал WahooNetBanner и чуть меньше - на AdNonSense. Если вспомним анализ региональных различий, то именно эти две компании привлекают больше всего платящих пользователей во всех трёх странах Европы. Поэтому такое вложение вполне логично. Начиная с июня расходы на канал AdNonSense были сокращены почти в 2 раза, эти средства ушли на поддержание канала WahooNetBanner. \n",
    "\n",
    "\n",
    "- Все графики cправа выглядят похожими - пики приблизительно совпадают по датам. Можно предположить, что в начале июля, возможно в середине августа и в начале октября нашей компанией проводилась очередная рекламная акция. Например, были размещены новые баннеры на всех источниках (а это возможно новые счета на оплату). После чего отмечался всплеск активности клиентов. И если, например, оплата рекламы зависит от количества просмотров (СРМ), или скорее от количества кликов (СРС), то и наши маркетинговые затраты в этот период увеличиваются. Что касается пиков на некоторых графиках в середине августа, то либо это была неудачная рекламная кампания, либо это был небольшой сезонный всплеск активности клиентов. \n",
    "\n",
    "\n",
    "- Похожие по форме графики свидетельствуют ещё о том, что клиенты, привлечённые из разных каналов ведут себя похожим образом, одинаково реагируя на какие-либо события (на те же рекламные кампании, сезонные изменения, новый контент сайта и т.д. и т.п). \n",
    "\n",
    "Посмотрим, как выглядят эти же данные на графиках по месяцам и неделям."
   ]
  },
  {
   "cell_type": "markdown",
   "id": "41b5cc10",
   "metadata": {},
   "source": [
    "#### Динамика по месяцам и неделям"
   ]
  },
  {
   "cell_type": "code",
   "execution_count": null,
   "id": "39258120",
   "metadata": {},
   "outputs": [],
   "source": [
    "# Построим два графика\n",
    "fig, ax = plt.subplots(nrows=2, ncols=2, figsize=(15, 10))\n",
    "\n",
    "# 1) по месяцам для всех каналов\n",
    "costs.pivot_table(index='month', columns='channel', values='costs', aggfunc='sum').plot(\n",
    "        grid=True, ax=ax[0,0],  legend=None, \n",
    "        xlabel = 'Номер месяца', ylabel = 'Расходы, долл.',\n",
    "        title = 'Динамика расходов по месяцам')\n",
    "ax[0,0].legend(loc='upper left')\n",
    "\n",
    "# 2) для каналов с низким значением расходов по месяцам\n",
    "costs.pivot_table(index='month', columns='channel', values='costs', aggfunc='sum').plot(\n",
    "        grid=True, ax=ax[1,0],  ylim=(0,1200), legend=None,\n",
    "        xlabel = 'Номер месяца', ylabel = 'Расходы, долл.',\n",
    "        title = 'Динамика расходов без учёта каналов TipTop и FaceBoom')\n",
    "\n",
    "# 3) по неделям для всех каналов\n",
    "costs.pivot_table(index='week', columns='channel', values='costs', aggfunc='sum').plot(\n",
    "        grid=True, ax=ax[0,1], legend=None,\n",
    "        xlabel = 'Номер недели', ylabel = 'Расходы, долл.',\n",
    "        title = 'Динамика расходов по неделям')\n",
    "\n",
    "# 4) для каналов с низким значением расходов по неделям\n",
    "costs.pivot_table(index='week', columns='channel', values='costs', aggfunc='sum').plot(\n",
    "        grid=True, ax=ax[1,1],  ylim=(0,400), legend=None,\n",
    "        xlabel = 'Номер недели', ylabel = 'Расходы, долл.',\n",
    "        title = 'Динамика расходов без учёта каналов TipTop и FaceBoom')\n",
    "\n",
    "plt.subplots_adjust(top=0.85)\n",
    "plt.tight_layout(h_pad=2)\n",
    "plt.show();"
   ]
  },
  {
   "cell_type": "markdown",
   "id": "a6a8cc62",
   "metadata": {},
   "source": [
    "По сути, эти графики повторяют картину, которая получилась на сглаженном графике по дням выше. Надо будет проверить предположение, что причина убытков кроется в избыточных расходах на источник TipTop. Т.е. надо будет либо изменить способ оплаты рекламы на этом канале, либо выяснить причины низкой конверсии пользователей"
   ]
  },
  {
   "cell_type": "markdown",
   "id": "a8952428",
   "metadata": {},
   "source": [
    "### Стоимость привлечения клиентов (САС)\n",
    "\n",
    "Посмотрим как распределены значения САС и сравим их со значением среднего чека на одного посетителя."
   ]
  },
  {
   "cell_type": "code",
   "execution_count": null,
   "id": "81440f73",
   "metadata": {},
   "outputs": [],
   "source": [
    "cac = profiles.query('channel!=\"organic\"')['cac'].describe().to_frame()\n",
    "\n",
    "display(cac.query('~(index.isin([\"count\",\"std\"]))').T.style\n",
    "        .set_caption('Стоимость привлечения одного клиента, долл.')\n",
    "        .format('{:0.4}'))\n",
    "\n",
    "non_organic_count=len(profiles.query(\"channel!='organic'\"))\n",
    "print('Средняя стоимость привлечения одного клиента: ', \n",
    "      f'\\033[1m{costs[\"costs\"].sum()/non_organic_count:0.3} \\033[0m долл.')\n",
    "print('Cредний доход от одного клиента (без учета орг.пользователей): ', \n",
    "      f'\\033[1m{orders[\"revenue\"].sum()/non_organic_count:0.2} \\033[0m долл.')"
   ]
  },
  {
   "cell_type": "markdown",
   "id": "5977036d",
   "metadata": {},
   "source": [
    "Найдем стоимость привлечения для каждого канала рекламы."
   ]
  },
  {
   "cell_type": "code",
   "execution_count": null,
   "id": "c9af1da5",
   "metadata": {},
   "outputs": [],
   "source": [
    "# выведем на столбчатой диаграмме\n",
    "cac_mean = profiles.groupby('channel')['cac'].mean().sort_values()\n",
    "plot_colors = list(colors_dict.get(x, 'gray') for x in cac_mean.index)\n",
    "cac_mean.plot.barh(figsize=(10,5), color=plot_colors, width=.8,\n",
    "            xlabel='', ylabel='CAC, долл.', legend=None,    \n",
    "            title='Стоимость привлечения клиента из разных источников, долл.')\n",
    "i = -.1\n",
    "for row in cac_mean :\n",
    "    plt.text(.05, i, round(row,2), horizontalalignment='left')\n",
    "    i+=1\n",
    "\n",
    "plt.show();"
   ]
  },
  {
   "cell_type": "markdown",
   "id": "61fe6fce",
   "metadata": {
    "id": "80LRB5-eWVwm"
   },
   "source": [
    "Вот и главный ответ про источник низких доходов - TicTop. Очень дорого обходятся пользователи, привлечённые с этого канала."
   ]
  },
  {
   "cell_type": "markdown",
   "id": "cbec7c7f",
   "metadata": {},
   "source": [
    "### Доходы"
   ]
  },
  {
   "cell_type": "markdown",
   "id": "536b68f0",
   "metadata": {},
   "source": [
    "Раз уж мы посмотрели на расходы, взглянем и на суммы доходов. Не станем смотреть распределение доходов по типам устройств или по регионам. Достаточно посмотреть, какие доходы по каналами рекламы."
   ]
  },
  {
   "cell_type": "code",
   "execution_count": null,
   "id": "87a608fe",
   "metadata": {},
   "outputs": [],
   "source": [
    "print('За весь период было получено\\033[1m ', \n",
    "      f'{round(orders[\"revenue\"].count()):,} \\033[0m'.replace(',', ' '),\n",
    "      'платежей от клиентов.')\n",
    "print('На общую сумму \\033[1m ', \n",
    "      f'{round(orders[\"revenue\"].sum()):,} \\033[0m'.replace(',', ' '),\n",
    "      'долларов.')\n",
    "\n",
    "revenue_per_channel = profiles.groupby('channel')[['orders_count', \n",
    "                        'revenue_per_user']].sum().astype(int)\n",
    "revenue_per_channel.columns = ['orders_count', 'revenue']\n",
    "revenue_per_channel['revenue_mean'] = revenue_per_channel['revenue'] / revenue_per_channel['revenue'].sum()\n",
    "display(revenue_per_channel.style.background_gradient('Blues', subset='revenue_mean')\n",
    "        .format('{:0.2%}', subset='revenue_mean'))"
   ]
  },
  {
   "cell_type": "markdown",
   "id": "1a25e61e",
   "metadata": {},
   "source": [
    "Если вспомним, то по количеству плательщиков на первом месте был FaceBoom, но клиенты, привлеченные каналом TipTop приносят нам более 40% доходов, тогда как FaceBoom отодвинулся на второе место и сильно отстает по этому показателю. Надо будет проверить удержание. \n",
    "\n",
    "На третьем месте по принесённым доходам - WahooNetBanner, которая имеет максимальную долю от количества пользователей во всех странах Европы."
   ]
  },
  {
   "cell_type": "markdown",
   "id": "bbe03cd5",
   "metadata": {},
   "source": [
    "### Итоги анализа расходов на рекламу"
   ]
  },
  {
   "cell_type": "markdown",
   "id": "48ddefc2",
   "metadata": {},
   "source": [
    "1. Основной причиной убытков по всей вероятности являются большие расходы на рекламу канала TipTop при низкой конверсии пользователей, привлеченных этим источником.\n",
    "\n",
    "2. Оновная часть расходов в Европе приходится на каналы WahooNetBanner и AdNonSense, имеющих, судя по всему, неплохую конверсию. Т.е. в целом ситуация по маркетингу в Европе лучше, чем в США. Но большее количество пользователей из Америки снижает доходность.\n",
    "\n",
    "3. Пользователи, привлечённые из разных каналов в динамике ведут себя похожим образом, одинаково реагируя на какие-то внешние изменения (например, проводимые рекламные кампании или сезонность). \n",
    "\n",
    "<hr style=\"color:navy; align:left; height:1pt\">\n",
    "<font style=\"color:navy\"><b>Выводы:</b></font>\n",
    "\n",
    "- Срочно нужно сокращать расходы на рекламу канала TipTop, постаравшись при этом не уменьшить количество пользователей, привлеченных этим каналом. Например, поменяв тип оплаты. Одновременно разработать меры по увеличению конверсии.\n",
    "\n",
    "- Следует увеличить долю европейских источников рекламы. Например, увеличить расходы на AdNonSense, чтобы привлечь больше пользователей с хорошей конверсией.\n"
   ]
  },
  {
   "cell_type": "markdown",
   "id": "b113894b",
   "metadata": {},
   "source": [
    "<h2 style=\"color:navy\">Оценка окупаемости рекламы</h2> \n",
    "\n",
    "### Определение данных для анализа\n",
    "\n",
    "Анализ проводится 1 ноября 2019 года, но данные о расходах на рекламу собраны лишь до 27 октября включительно. Если мы включим 3 последних дня, когда не было никаких трат (счета могут прийти позже или их не успели внести в базу), то это может исказить данные. Поэтому поступим по правилам и рассмотрим период с 1 мая по **27 октября 2019**.\n",
    "\n",
    "Мы выяснили, что клиенты редко заходят на сайт повторно. В среднем это может происходить два раза в месяц. Плюс, как утверждает руководство Procrastinate Pro+, в бизнес-плане заложено, что пользователи должны окупаться не позднее чем через две недели после привлечения. Поэтому в ходе рассчетов будем использовать горизонт анализа в **14 дней**\n",
    "\n",
    "Проведем анализ всех метрик **без учёта органических пользователей**, расходы на которых для наших данных нулевые:\n",
    "- При исключении из анализа органических пользователей уменьшается размер когорты и уменьшается выручка при том, что расходы на рекламу остаются прежними. Легко предсказать, что САС и ROI уменьшатся. \n",
    "\n",
    "- LTV зависит как от выручки, так и от размера когорты. Поэтому поведение этой метрики сложнее предсказать. В нашем случае органические пользователи приносят меньше дохода и имеют низкую конверсию, поэтому значения коэффициента конверсии и LTV станут выше."
   ]
  },
  {
   "cell_type": "markdown",
   "id": "cca44bb6",
   "metadata": {},
   "source": [
    "Проанализируем окупаемость в разбивке по группам. Наша цель - найти наиболее перспективные группы, чтобы на их основе решить, как можно увеличить показатели. И отследить самые \"невыгодные\" группы, чтобы не вкладывать в них средств больше, чем требуется.\n",
    "\n",
    "При анализе учтём, что графики динамики строятся с помощью функции сглаживания по средним значениям. Поэтому пики и \"ямы\" на графиках не всегда свидетельствуют о реальном росте или падении значений, особенно если в данных встречаются аномально большие выбросы. Отслеживать динамику следует только по общей тенденции к росту или снижению показателей. "
   ]
  },
  {
   "cell_type": "code",
   "execution_count": null,
   "id": "69d25f17",
   "metadata": {},
   "outputs": [],
   "source": [
    "# оставим в таблице только пользователей, привлечённых рекламой\n",
    "# если понадобится, можем создать изначальную таблицу снова с помощью get_profiles()\n",
    "profiles = profiles.query('channel!=\"organic\"')"
   ]
  },
  {
   "cell_type": "markdown",
   "id": "190ec62e",
   "metadata": {},
   "source": [
    "### Все группы пользователей\n",
    "\n",
    "#### LTV, CAC и ROI всех пользователей"
   ]
  },
  {
   "cell_type": "code",
   "execution_count": null,
   "id": "ebb7c163",
   "metadata": {
    "scrolled": false
   },
   "outputs": [],
   "source": [
    "df_grouped, df_history = business_metrics('LTV')\n",
    "mr_plot(df_grouped, df_history)\n",
    "df_grouped, df_history= business_metrics('ROI')\n",
    "mr_plot(df_grouped, df_history)"
   ]
  },
  {
   "cell_type": "markdown",
   "id": "78b1973d",
   "metadata": {},
   "source": [
    "- **LTV** в зависимости от лайфтайма растёт, но очень незначительно, т.е. наши пользователи не спешат совершать повторные покупки в первые 14 дней. Очевидно, что нужно работать над увеличением заинтересованности клиентов в продукте и желанием совершать повторные покупки.Средняя выручка в зависимости от лайфтайма растёт очень медленно, а в динамике не увеличивается. \n",
    "\n",
    "- **САС** резко выросла с мая до середины июля. Далее мы также видим очень сильный рост стоимости привлечения клиентов со временем. С начала августа САС уверенно поднялся выше LTV, т.е. расходы одназначно превысили доходы. Понаблюдав за данными еще в августе, можно было бы это заметить и попытаться начать исправлять ситуацию. \n",
    "\n",
    "- **ROI** постоянно снижается и c трудом достигает окупаемости к 14-му дню лайфтайма. Судя по динамике окупаемость стала отрицательной ещё в июле. Т.е., как уже было замечено, эти изменения можно было отследить и раньше."
   ]
  },
  {
   "cell_type": "code",
   "execution_count": null,
   "id": "2ab5c9d6",
   "metadata": {},
   "outputs": [],
   "source": [
    "df_grouped, df_history = business_metrics('ROI', \n",
    "        prof=profiles.query('date>=datetime(2019, 8, 1).date()'))\n",
    "mr_plot(df_grouped, df_history, title='Данные за 3 последних месяца')"
   ]
  },
  {
   "cell_type": "markdown",
   "id": "84a465ad",
   "metadata": {},
   "source": [
    "Очень грустная ситуация. Надеюсь, еще не поздно всё исправить."
   ]
  },
  {
   "cell_type": "markdown",
   "id": "1374214c",
   "metadata": {},
   "source": [
    "#### Конверсия и удержание всех пользователей"
   ]
  },
  {
   "cell_type": "code",
   "execution_count": null,
   "id": "d91da777",
   "metadata": {},
   "outputs": [],
   "source": [
    "df_grouped, df_history = business_metrics('CR')\n",
    "mr_plot(df_grouped, df_history, window=14)"
   ]
  },
  {
   "cell_type": "markdown",
   "id": "318cb6fd",
   "metadata": {},
   "source": [
    "- **Конверсия** хорошо растёт только в первые 2-3 дня лайфтайма. \n",
    "- В динамике коэффициент конверсии не увеличивается в целом. Это лучше видно при уменьшении ширины окна сглаживания.\n",
    "- Наименьшая конверсия наблюдалась в мае, после чего она резко увеличилась. Чтобы и в дальнейшем увеличивать эту метрику, можно будет найти причину такого скачка."
   ]
  },
  {
   "cell_type": "code",
   "execution_count": null,
   "id": "023d7e0e",
   "metadata": {},
   "outputs": [],
   "source": [
    "df_grouped, df_history = business_metrics('RR')\n",
    "mr_plot(df_grouped, df_history)"
   ]
  },
  {
   "cell_type": "markdown",
   "id": "15bd14ef",
   "metadata": {},
   "source": [
    "- Что касается неплатящих пользователей, то мы уже знаем, что они почти не задерживаются больше чем на 1 день. **Удержание** на 14-й день лайфтайма среди платящих пользователей в среднем составило около 12%. Т.е. такой процент от платящих пользователей  возрвращается в приложение на 14-й день. \n",
    "- В динамике удержание не растёт, максимума оно достигало в мае, после чего больше не увеличивалось. Так же как и в ситуации с ROI, такое низкое удержание можно было заметить заранее и начать принимать меры чем раньше, тем лучше."
   ]
  },
  {
   "cell_type": "markdown",
   "id": "ec766a6f",
   "metadata": {},
   "source": [
    "### Окупаемость рекламы с разбивкой по устройствам\n",
    "\n",
    "#### LTV, CAC и ROI по устройствам"
   ]
  },
  {
   "cell_type": "code",
   "execution_count": null,
   "id": "c6fc0fd9",
   "metadata": {
    "scrolled": false
   },
   "outputs": [],
   "source": [
    "df_grouped, df_history = business_metrics('LTV', dimensions=['device'])\n",
    "mr_plot(df_grouped, df_history)\n",
    "df_grouped, df_history = business_metrics('ROI', dimensions=['device'])\n",
    "mr_plot(df_grouped, df_history, window=14)"
   ]
  },
  {
   "cell_type": "markdown",
   "id": "ac524124",
   "metadata": {},
   "source": [
    "**iPhone** и **Мас**\n",
    "- Линии для этих двух устройств на всех графиках идут рядом, поэтому рассмотрим их вместе. \n",
    "- Основная проблема - высокая стоимость привлечения клиента, причина которой - влияние американского рынка, где самые большие траты на рекламу и где популярность iPhone и Мас выше.\n",
    "- Уровень LTV лишь слегка выше, чем у РС и Android.\n",
    "- ROI не достигает уровня окупаемости. Приблизительное значение к 14-му дню лайфтайма около 0.7. Т.е. реклама для этой категории пользователей не окупается. Причина очевидно также кроится в превалировании этих устройств на рынке США.\n",
    "- В динамике ROI также снижается, хотя в мае, до резкого роста расходов на рекламу, был выше уровня окупаемости.\n",
    "\n",
    "**PC**\n",
    "- LTV для пользователей PC немного ниже, чем у других групп, которые в свою очередь почти не отличаются.\n",
    "- Клиенты, пользующиеся РС имеют самую низкую стоимость привлечения клиента.\n",
    "- Поэтому ROI у них самая высокая, пересекает уровень окупаемости после 6-го дня лайфтама, и достигает приблизительно 1.3 к 14-му дню.\n",
    "- Пик роста ROI на графике динамики в начале августа для пользователей PC обусловлен выбросом, что видно при уменьшении ширины окна сглаживания.\n",
    "- Летом ROI для группы пользователей на компьютерах и ноутбуках (PC) была в целом выше, чем у всех остальных. Начиная с сентября пользователи РС и Android сравнялись. Может быть это сезонное влияние.\n",
    "\n",
    "**Android**\n",
    "- LTV растёт медленно, также как у клиентов с устройствами Apple.\n",
    "- САС выше, чем у РС, но ниже, чем у iPhone и Мас.\n",
    "- ROI клиентов на Android перешло границу окупаемости после 10-дня, а к 14-му дню лайфтайма окупилось приблизительно на 110%.\n",
    "- Начиная с мая также как и у всех остальных устройств, ROI падает, что связано с ростом трат на рекламу, а после июля держится на уровне окупаемости."
   ]
  },
  {
   "cell_type": "markdown",
   "id": "9e94fd7e",
   "metadata": {},
   "source": [
    "#### Конверсия и удержание по устройствам"
   ]
  },
  {
   "cell_type": "code",
   "execution_count": null,
   "id": "ad36792c",
   "metadata": {},
   "outputs": [],
   "source": [
    "df_grouped, df_history = business_metrics('CR', dimensions=['device'])\n",
    "mr_plot(df_grouped, df_history, window=14)"
   ]
  },
  {
   "cell_type": "markdown",
   "id": "13ce143e",
   "metadata": {},
   "source": [
    "- Конверсия **iPhone** и **Мас** выше, чем у остальных, но повторяет общую тенденцию - растёт в первые дни немного, а потом держится на постоянном уровне. В динамике конверсия пользователей всё же растёт, хотя и незначительно. \n",
    "- Конверсия пользователей стационарных устройств **РС** гораздо ниже, чем у всех остальных. Вряд ли дело в отличии интерфейса или контента для PC от остальных устройств. Скорее всего, дело в самих пользователях. Для установки развлекательных приложений подавляющее большинство использует мобильные устройства. \n",
    "- Колебания графиков динамики **Android** и РС идут \"вразнобой\". Скорее всего так совпали выбросы в значениях для отдельных когорт, которые при сглаживании дали подобную картину."
   ]
  },
  {
   "cell_type": "code",
   "execution_count": null,
   "id": "54a2012a",
   "metadata": {},
   "outputs": [],
   "source": [
    "df_grouped, df_history = business_metrics('RR', dimensions=['device'])\n",
    "rr_plot(df_grouped, df_history, window=14)"
   ]
  },
  {
   "cell_type": "markdown",
   "id": "2279e498",
   "metadata": {},
   "source": [
    "- Удержание пользователей PC и Android чуть выше, чем у остальных. Удержание владельцев РС в мае слегка снизилось. \n",
    "- Существенных различий в динамике не наблюдается, за исключением единичных выбросов для отдельных когорт."
   ]
  },
  {
   "cell_type": "markdown",
   "id": "087d04da",
   "metadata": {},
   "source": [
    "### Окупаемость рекламы с разбивкой по регионам\n",
    "\n",
    "#### LTV, CAC  и  ROI по регионам"
   ]
  },
  {
   "cell_type": "code",
   "execution_count": null,
   "id": "01b600a1",
   "metadata": {
    "scrolled": false
   },
   "outputs": [],
   "source": [
    "df_grouped, df_history = business_metrics('LTV', dimensions=['region'])\n",
    "mr_plot(df_grouped, df_history)\n",
    "df_grouped, df_history = business_metrics('ROI', dimensions=['region'])\n",
    "mr_plot(df_grouped, df_history)"
   ]
  },
  {
   "cell_type": "markdown",
   "id": "9cd71f67",
   "metadata": {},
   "source": [
    "**США**\n",
    "- О ситуации с большими расходами на рекламные кампании американских каналов, уже ясно. \n",
    "- LTV в США, немного выше, но не настолько, чтобы сдержать рост стоимости привлечения клиента.\n",
    "- Об этом же свидетельствует низкое значение метрики ROI для США. Затраты на рекламу в этой стране оказались убыточными. А за счёт того, что американских пользователей больше (67% от всего количества), то и общие показатели ROI для всех стран сильно снизились. \n",
    "\n",
    "**Великобритания**, **Германия**, **Франция**\n",
    "- их графики мало отличаются друг от друга и располагаются в том же порядке - значения LTV и ROI совсем немного выше для Великобритании. \n",
    "- LTV пользователей из этих стран ниже, чем этот показатель в США.\n",
    "- Стоимость привлечения клиента в европейских странах очень стабильна и в среднем составляет приблизительно 0.3 долл., что является очень хорошим показателем. \n",
    "- ROI европейских стран превысил уровень окупаемости почти в 2 раза за две недели. \n",
    "- в динамике эта метрика также стабильна. Затраты для каждой когорты окупаются как минимум в полтора раза.\n",
    "- На графике динамики ROI Великобритании видны треугольные пики. Если сильно уменьшить сглаживание, то видно, что это всего лишь аномально высокие значения для нескольких дней. "
   ]
  },
  {
   "cell_type": "markdown",
   "id": "3e22549e",
   "metadata": {},
   "source": [
    "#### Конверсия и удержание по регионам"
   ]
  },
  {
   "cell_type": "code",
   "execution_count": null,
   "id": "b91bdd40",
   "metadata": {},
   "outputs": [],
   "source": [
    "df_grouped, df_history = business_metrics('CR', dimensions=['region'])\n",
    "mr_plot(df_grouped, df_history)"
   ]
  },
  {
   "cell_type": "markdown",
   "id": "cc2ce573",
   "metadata": {},
   "source": [
    "- Коэффициент конверсии пользователей из **США**  более чем в два раза выше, чем у клиентов из **Европы**. Однако и здесь конверсия растёт исключительно в первые дни, а затем уже не меняется.\n",
    "- На графике динамики конверсии заметен тот самый скачок в конце мая - начале июня, который виден и на общем графике. После чего конверсия колеблется в районе значения в 7%, т.е. в среднем около 7% всех посетителей сайта из США становятся покупателями."
   ]
  },
  {
   "cell_type": "code",
   "execution_count": null,
   "id": "c08fada4",
   "metadata": {},
   "outputs": [],
   "source": [
    "df_grouped, df_history = business_metrics('RR', dimensions=['region'])\n",
    "rr_plot(df_grouped, df_history, window=7)"
   ]
  },
  {
   "cell_type": "markdown",
   "id": "5ec19d5a",
   "metadata": {},
   "source": [
    "- Крайне низкое удержание пользователей из **США**. Т.е. клиентов много, они готовы вкладываться в продукт. Приобретают приложение и больше не возвращаются. Динамика удержания на 14-й день лайфтайма стабильна и варьируется в районе 10%. Т.е. к концу второй недели только 10% пользователей возвращаются в приложение. \n",
    "- Метрики и их динамика для пользователей из **Германии, Великобритании и Франции** похожи. Если и есть между ними отличия, то они незначительны."
   ]
  },
  {
   "cell_type": "markdown",
   "id": "d46de2bb",
   "metadata": {},
   "source": [
    "### Окупаемость рекламы с разбивкой по каналам рекламы\n",
    "\n",
    "Так как каналов рекламы ровно 10, они плохо умещаются на графике, рассмотрим отдельно - каналы из Европы и США.\n",
    "\n",
    "#### LTV, CAC и ROI  по каналам рекламы"
   ]
  },
  {
   "cell_type": "code",
   "execution_count": null,
   "id": "7e6279b5",
   "metadata": {
    "scrolled": false
   },
   "outputs": [],
   "source": [
    "df_grouped, df_history = business_metrics('LTV',  dimensions=['channel'],\n",
    "            prof=profiles.query('region==\"USA\"'))\n",
    "mr_plot(df_grouped, df_history, title='Каналы рекламы в США', window=14)\n",
    "df_grouped, df_history = business_metrics('ROI',  dimensions=['channel'],\n",
    "            prof=profiles.query('region==\"USA\"'))\n",
    "mr_plot(df_grouped, df_history, window=14)"
   ]
  },
  {
   "cell_type": "markdown",
   "id": "c35d65eb",
   "metadata": {},
   "source": [
    "**TipTop**\n",
    "- У компании TipTop огромные расходы на рекламу. На графике динамики САС, особенно при уменьшении ширины окна сглаживания видно, что рост цен этого крупного поставщика пользователей для нашего приложения носит скачкообразный характер, т.е. цены на их услуги возрастали каждый месяц. И как уже не раз было замечено, отследить и хотя бы начать исправлять это можно было еще в июле-августе.\n",
    "- Есть один незначительный плюс для этого канала - он имеет самые высокие значения LTV, что означает неплохую ценность таких клиентов.\n",
    "- Как следствие роста САС - ROI у TipTop самый низкий, такая реклама не только не окупается, но еще и отправила в минус всех сразу.\n",
    "\n",
    "**FaceBoom**\n",
    "- Стоимость привлечения одного пользователя, пришедшего из канала FaceBoom имеет почти постоянное значение чуть выше 1 доллара, т.е. график стабилен. А так как 20% всех пользователей - посетители этого источника рекламы, то следует попытаться увеличить конверсию и удержание для этих клиентов, чтобы вывести канал из разряда убыточных.\n",
    "- LTV клиентов FaceBoom ниже, чем у TipTop и RocketSuperAds и растёт медленно, т.е такие клиенты имеют меньшую ценность. Но если попытаться увеличить их конверсию, то ситуацию можно выправить.\n",
    "\n",
    "\n",
    "**RocketSuperAds**, **YRabbit** и **MediaTornado**\n",
    "- Три оставшихся компании имеют похожие значения всех метрик и привлекли по 3% от всех клиентов. Т.е эти группы немногочисленные. \n",
    "- Все три окупаются более чем в 2 раза за 2 недели.\n",
    "- Они имеют стабильную и низкую САС\n",
    "- Огромный скачок значений ROI в канале YRabbit обусловлено выбросом - аномально большим значением в одной из когорт. Это можно проверить, уменьшив ширину окна сглаживания.\n",
    "\n",
    "\n",
    "Самым перспективным каналом из этих трёх, как мне кажется, является **RocketSuperAds** по следующим причинам:\n",
    "- LTV пользователей этого канала выше, чем у двух оставшихся. К 14-му дню лайфтайма значение коэффициента LTV приближается к 1 доллару, и слегка превышает ценность клиентов FaceBoom. \n",
    "- САС немного снизился с мая. И если среднее значение стоимости привлечения клиента RocketSuperAds за весь период около 0.4, то к настоящему времени (имеется ввиду ноябрь 2019) это значение приблизительно 0.3 долл.\n",
    "- ROI в среднем было ниже, чем у YRabbit или MediaTornado, но в динамике это значение более стабильно и похоже имеет тенденцию к росту. Тогда как у YRabbit, например, снижается."
   ]
  },
  {
   "cell_type": "code",
   "execution_count": null,
   "id": "340018f3",
   "metadata": {},
   "outputs": [],
   "source": [
    "df_grouped, df_history = business_metrics('LTV', dimensions=['channel'],\n",
    "            prof=profiles.query('region!=\"USA\"'))\n",
    "mr_plot(df_grouped, df_history, title='Каналы рекламы в Европе', window=14)\n",
    "df_grouped, df_history = business_metrics('ROI', dimensions=['channel'],\n",
    "            prof=profiles.query('region!=\"USA\"'))\n",
    "mr_plot(df_grouped, df_history, window=14)"
   ]
  },
  {
   "cell_type": "markdown",
   "id": "17c3eca4",
   "metadata": {},
   "source": [
    "Расположим пять европейских источников рекламы по убыванию значений ROI:\n",
    "\n",
    "**lambdaMediaAds**\n",
    "- к 14-му дню лайфтайма значение LTV приближается к 1.8 долл - это самые ценные клиенты для нашего приложения. Жаль только, что количество пользователей, привлеченных этим каналом среди всех посетителей сайта занимают только 1.5%. \n",
    "- Сильный скачок LTV и ROI на графиках динамики в июне относится к выбросу, что можно отследить, уменьшив ширину окна сглаживания.\n",
    "- График САС стабильный, средняя стоимость привлечения клиента составляет 0.72 долл. \n",
    "- За 2 недели затраты на рекламу на канале lambdaMediaAds окупаются в 2.5 раза. \n",
    "- Динамика ROI не стабильна, присутствуют как аномально высокие, так и низкие значения этого коэффициента для разных когорт.\n",
    "- Возможно, этот канал привлечения пользователей можно считать перспективным, но настораживает маленький процент клиентов и нестабильность значений. Т.е. возможно несколько особо активных клиентов, с которыми просто повезло, благодаря частым покупкам на большие суммы при среднем чеке в 5 долларов искажают все показатели. От этого возникают и такие высокие пиковые значения на графиках, а LTV и ROI заметно увеличиваются. Плюс к этому стоимость привлечения клиентов не самая низкая.\n",
    "\n",
    "**LeapBob**\n",
    "- Сочетание коэффициентов LTV и САС в целом похоже на значения этих метрик для OppleCreativeMedia\n",
    "- А вот ROI получилось выше. И уже на 10-й день лайфтайма уровень окупаемости превышен в 2 раза.\n",
    "- В отличие от lambdaMediaAds динамика ROI более стабильна\n",
    "- Самый ценный показатель этого источника - самый низкий уровень стоимости привлечения не только в Европе, но и во по сравнению с каналами США. На одного клиента тратится всего 0.21 долл.\n",
    "\n",
    "**OppleCreativeMedia**\n",
    "- LTV на 14-й день один из самых низких для европейских каналов, приблизительно 0.5долл.\n",
    "- Но и стоимость привлечения низкая и стабильная 0.25долл. \n",
    "- Окупаемость рекламы на канале OppleCreativeMedia немного выше, чем у WahooNetBanner.\n",
    "- Динамика ROI показывает небольшую склонность к росту в последний месяц.\n",
    "\n",
    "**WahooNetBanner**\n",
    "- LTV на 14-й день лайфтайма близок к 0.9 долл.\n",
    "- Среднее значение САС составляет 0.6 долл.\n",
    "- ROI превышает уровень окупаемости к 14-му дню лайфтайма в полтора раза.\n",
    "- динамика ROI более стабильна, чем у lambdaMediaAds, но не настолько высокая. \n",
    "\n",
    "**AdNonSense**\n",
    "- Коэффициент LTV этого канала средний по Европе, но практически не растёт в зависимости от лайфтайма.\n",
    "- Пользователи AdNonSense имеют самую высокую в Европе стоимость привлечения пользователей 1 долл\n",
    "- Поэтому ROI у AdNonSense ниже всех в Европе и это единственный канал здесь, который не окупается. У всех остальных уровень окупаемости к 14-му дню лайфтайма превышен как минимум в полтора раза."
   ]
  },
  {
   "cell_type": "markdown",
   "id": "6f5668e8",
   "metadata": {},
   "source": [
    "#### Конверсия и удержание по каналам рекламы"
   ]
  },
  {
   "cell_type": "code",
   "execution_count": null,
   "id": "53bfcb0a",
   "metadata": {},
   "outputs": [],
   "source": [
    "df_grouped, df_history = business_metrics('CR', \n",
    "            prof=profiles.query('region==\"USA\"'), dimensions=['channel'])\n",
    "mr_plot(df_grouped, df_history, title='Каналы рекламы в США', window=14)"
   ]
  },
  {
   "cell_type": "markdown",
   "id": "176cd501",
   "metadata": {},
   "source": [
    "- Самую высокую конверсию пользователей среди рекламных каналов США имеет **FaceBoom**. 12% посетителей, перешедших на наш сайт из этого канала конвертируются в покупателями. \n",
    "- Эта метрика для **TipTop** составляет более 9%. Если удастся сократить расходы, не потеряв клиентов, попытаться нарастить удержание, то можно значительно повысить окупаемость. Тем более что TipTop приносит 32% из всех доходов.\n",
    "- Третьим источником рекламы с неплохим коэффициентом конверсии является **RocketSuperAds**. Возможно, что увеличение конверсии в мае для этого канала дало тот самый скачок значений конверсии на общих графиках.\n",
    "- **YRabbit** и **MediaTornado** заняли последние места в \"рейтинге по конверсии\", которая не превышает 4%. "
   ]
  },
  {
   "cell_type": "code",
   "execution_count": null,
   "id": "f0f6d497",
   "metadata": {},
   "outputs": [],
   "source": [
    "df_grouped, df_history = business_metrics('RR', \n",
    "            prof=profiles.query('region==\"USA\"'), dimensions=['channel'])\n",
    "mr_plot(df_grouped, df_history, title='Каналы рекламы в США', window=7)"
   ]
  },
  {
   "cell_type": "markdown",
   "id": "802619c1",
   "metadata": {},
   "source": [
    "- Как мы уже выяснили, удержание пользователей, пришедших с рекламных каналов США крайне низкое. \n",
    "- Но для пользователей **FaceBoom** оно ещё ниже:)). Учитывая стабильность САС, неплохую конверсию и большое количество пользователей FaceBoom (19% от всех посетителей сайта), надо попытаться изменить эту ситуацию. \n",
    "- Удержание пользователей, пришедших с остальных каналов значительно выше. Так, на 14-й день лайфтайма около 20% клиентов из **TipTop** и **RocketSuperAds** возвращается в приложение. "
   ]
  },
  {
   "cell_type": "code",
   "execution_count": null,
   "id": "cfcc70a7",
   "metadata": {
    "scrolled": true
   },
   "outputs": [],
   "source": [
    "df_grouped, df_history = business_metrics('CR', dimensions=['channel'],\n",
    "            prof=profiles.query('region!=\"USA\"'))\n",
    "mr_plot(df_grouped, df_history, title='Каналы рекламы в Европе', window=14)"
   ]
  },
  {
   "cell_type": "markdown",
   "id": "2f26a359",
   "metadata": {},
   "source": [
    "- В первый же день на сайте от 8 до 10 % пользователей, пришедших с каналов рекламы **AdNonSens** и **lambdaMediaAds** становятся покупателями и это самые высокие значения из этой пятёрки.\n",
    "- Резкий скачок в июне на графике динамики конверсии lambdaMediaAds \"нарисовали\" те же выбросы, как для ROI. И также нестабилен график динамики - очень много скачков от больших значений к низким.\n",
    "- Коэффициент конверсии пользователей с канала **WahooNetBanner** ниже среднего и имеет тенденцию к снижению в последнее время.\n",
    "- **LeapBob** и **OppleCreativeMedia**. Здесь кривая конверсии замерла на самой низкой для всех каналов отметке всего лишь в 3%"
   ]
  },
  {
   "cell_type": "code",
   "execution_count": null,
   "id": "63ba2016",
   "metadata": {},
   "outputs": [],
   "source": [
    "df_grouped, df_history = business_metrics('RR', \n",
    "            prof=profiles.query('region!=\"USA\"'), dimensions=['channel'])\n",
    "mr_plot(df_grouped, df_history, title='Каналы рекламы в Европе', window=7)"
   ]
  },
  {
   "cell_type": "markdown",
   "id": "a0c35b65",
   "metadata": {},
   "source": [
    "- Самый низкий коэффициент удержания имеют пользователи, привлеченные каналом **AdNonSense**. Уже на 10-й день лайтайма количество повторных посетителей почти нулевое.\n",
    "- Эта метрика для остальных источников рекламы через 2 недели составляет около 20%. "
   ]
  },
  {
   "cell_type": "markdown",
   "id": "400acf55",
   "metadata": {},
   "source": [
    "### Итоги анализа окупаемости"
   ]
  },
  {
   "cell_type": "markdown",
   "id": "ae774ba8",
   "metadata": {},
   "source": [
    "Проанализировав все данные, имеем следующее:\n",
    "\n",
    "1. В целом приложение не окупается (ROI c трудом достигает уровня окупаемости за 2 недели). Учитывая, что имеются и другие расходы, компания действительно терпит убытки. \n",
    "2. Затраты на рекламу в Европе полностью окупаются, стоит сохранить и усилить эту тенденцию. \n",
    "2. Рост стоимости привлечения клиентов в США и как следствие - уменьшение ROI можно было заметить гораздо раньше.\n",
    "3. Динамика LTV подтверждает необходимость увеличения удержания, чтобы увеличить число повторных покупок.\n",
    "4. Конверсия пользователя в покупатели происходит только в первые дни. А в динамике коэффициент конверсии не увеличивается. \n",
    "5. Удержание имеет низкие значения по всем группам. \n",
    "6. Сильного влияния типа используемого пользователем устройства не замечено. Доли групп пользователей в разбивке по типу устройства не зависят от платящих или неплатящих пользователей А зависят только от региона. Поэтому на значения метрик для iPhone и Мас оказывают влияние показатели США, так как эти устройства там наиболее популярны. "
   ]
  },
  {
   "cell_type": "markdown",
   "id": "03bb00fb",
   "metadata": {
    "id": "Jn9XBfZCWVwo"
   },
   "source": [
    "<h2 style=\"color:navy\">Общие выводы</h2> \n",
    "\n",
    "### Вероятные причины убытков"
   ]
  },
  {
   "cell_type": "markdown",
   "id": "e25d8eb2",
   "metadata": {},
   "source": [
    "#### Для всех каналов рекламы\n",
    "\n",
    "1. Отсутствие своевременного *отслеживания метрик* в динамике. \n",
    "- Так, например, сильное увеличение расходов, падение окупаемости и практически отсутствующее удержание клиентов из США можно было заметить ещё три месяца назад или даже раньше.\n",
    "\n",
    "2. За счет того, что *большую часть посетителей сайта составляют пользователи из США*, ухудшение окупаемости каналов рекламы этой страны привело к убыточности приложения по всем странам. При том, что затраты на рекламу в европейских странах окупаются в 2 раза за две недели.\n",
    "\n",
    "\n",
    "3. *Низкий коэффициент удержания пользователей из США*. В среднем 7% посетителей этой страны делают заказ на сайте в первые дни.  А к концу второй недели только 10% из них возвращаются в приложение. Т.е. менее 1% от изначального количества. Прямым следствием низкого удержания является почти полное *отстутсвие повторных покупок*.\n",
    "\n",
    "\n",
    "4. Конверсия всех групп пользователей происходит только в первые дни. Т.е. клиенты, впервые попав на сайт и не сделав заказ, больше не возвращаются."
   ]
  },
  {
   "cell_type": "markdown",
   "id": "4636ff51",
   "metadata": {},
   "source": [
    "#### В разбивке по каналам\n",
    "\n",
    "1. **TipTop**. \n",
    "- *Слишком высокие расходы на рекламу*. Цены на рекламу на канале TipTop увеличивались ежемесячно начиная с июня. Как следствие роста САС - реклама на TipTop не только не окупается, но еще и отправила в минус всех сразу.\n",
    "- Но у этого канала есть свои плюсы - он имеет самые высокие значения LTV, т.е. клиенты, привлеченные этим каналом, приносят в среднем неплохие доходы (32% от всех доходов), а конверсия составляет 9%.\n",
    "\n",
    "2. **FaceBoom**\n",
    "- Реклама на этом канале не окупается.\n",
    "- У пользователей, привлеченных каналом рекламы FaceBoom *коэффициент удержания* через 2 недели близок к нулю. Учитывая, что эта группа составляет 19% от всех посетителей сайта или почти третью часть из США, то именно за счёт FaceBoom общее значение удержания для всей страны стало низким. \n",
    "- Так как стоимость привлечения клиента на этом канале стабильна (в среднем и не сильно превосходит значение LTV), а конверсия достигает 12%, то увеличение удержания и вовлечение пользователей этой группы в повторные покупки, может вывести канал из убыточных. \n",
    "\n",
    "3. **AdNonSense**\n",
    "- Пользователи AdNonSense составляют всего лишь 2% от всех посетителей сайта. На общую ситуацию они не влияют, но этот канал рекламы - единственный из европейских, не приносящий прибыли. \n",
    "- Причины почти те же, что и у FaceBoom - самая высокая средняя стоимость привлечения клиента (1 долл.) и самый низкий коэффициент удержания имеют (уже на 10-й день клиенты практически не возвращаются). "
   ]
  },
  {
   "cell_type": "markdown",
   "id": "0c6cd7cf",
   "metadata": {},
   "source": [
    "### Рекомендации\n",
    "\n",
    "\n",
    "1. **Анализ маркетинга**. \n",
    "    - Следует отслеживать все бизнес-показатели в динамике на регулярной основе не реже чем раз в 2 недели (период окупаемости), вовремя замечая любые изменения и тенденции. \n",
    "    - Создать воронку продаж, чтобы изучать не только визит пользователя на сайт, но и все остальные действия и события.\n",
    "    - Каждое нововведение и изменение тщательно анализировать и тестировать.\n",
    "\n",
    "\n",
    "2. Требуется как можно сильнее **сократить расходы** на рекламу компании **TipTop**, постаравшись не потерять в количестве пользователей, привлекаемых этим каналом:\n",
    "    - изменить тип оплаты рекламы на этом канале\n",
    "    - или тип самой рекламы, использовав более дешевые варианты;\n",
    "    - найти возможность скидки или какую-то партнёрскую программу для этого канала, чтобы пользователи остались те же, а цена на рекламу снизилась\n",
    "\n",
    "\n",
    "3. Разработать методы **увеличения удержание пользователей**, чтобы в свою очередь росло количество повторных покупок. \n",
    "- При увеличении значений этой метрики есть шансы достигнуть окупаемости рекламы на канале **FaceBoom**.\n",
    "\n",
    "- Возможные методы увеличения количества повторыных посещений сайта:\n",
    "    - после создания воронки продаж отслеживать не только факт оплаты, но и все шаги посетителей, чтобы определить в какой момент или по какой причине пользователи не хотят совершать повторные покупки или теряют интерес к приложению;\n",
    "    - персонифицировать общение с клиентами - использовать рассылку, рекомендации, напоминания;\n",
    "    - проверить удобство и навигацию приложения;\n",
    "    - разнообразить контент приложения и рекламных объявлений;\n",
    "    - проверить соответствие контента ожиданиям целевой аудитории, особенно для пользователей, привлеченных каналами с большим притоком посетителей, но низким уровнем удержания, например FaceBoom;\n",
    "    \n",
    "    \n",
    "4. **Перенаправить часть средств**, затрачиваемых на убыточные рекламные каналы США в более надёжные каналы, тем самым достигнув равновесия, чтобы не было превалирующих лидеров. \n",
    "- В этих целях можно рекомендовать:\n",
    "    - **LeapBob**, реклама на кором окупается в 2 раза за 10 дней лайфтайма. Доля посетителей с этого канала среди всех посетителей составляет 6%, а стоимость привлечения самая низкая среди всех каналов. Уровень конверсии низковат, но поработав над улучшениями на сайте, это можно исправить.\n",
    "    - **lambdaMediaAds** можно тоже учесть, но с осторожностью. Доля посетителей на нашем сайте всего 1.5%, стоимость привлечения высоковата, а метрики этого канала ведут себя нестабильно.\n",
    "- Перспективной может также являться:\n",
    "    - **RocketSuperAds**, привлекающая 3% наших посетителей и имеющая низкое значение САС и окупаемость в 2 раза за 2 недели.\n",
    "- Можно также рассмотреть отказ от размещения объявлений на канале **AdNonSense**, так как доля посетителей из этого канала низкая, а уровень САС самый высокий в Европе\n",
    "    \n",
    "    \n",
    "5. Способы **увеличить конверсию**:\n",
    "    - проверить контент и привлекательность рекламных объявлений. Здесь в качестве примера можно использовать рекламу на каналах с хорошей конверсией. Например, FaceBooм. Хотя это и убыточный канал, но привлекает много пользователей;\n",
    "    - улучшить посадочную страницу, нацелить её на определенную аудиторию. Создав, например разные страницы для пользователей из разных каналов;\n",
    "    - удержать дольше неплативших посетителей, предлагая пробную версию приложения (это лучше делать после увеличения удержания для всех пользователей) или рассмотреть возможность скидок. Также этого можно достичь разнообразием контента;\n",
    "    - проверять какое влияние на конверсию оказывают изменения на сайте и в приложении;\n",
    "    - выяснить причину роста конверсии в начале июня для одного из рекламных каналов США. Скорее всего, RocketSuperAds. - были ли изменения на сайте в мае-июне. Если да, то учесть этот опыт, как положительный и использовать похожие методы для увеличения конверсии.\n",
    "    \n",
    "    \n",
    "6. Всё таки не забывать про **органических пользователей**, а это 38% посетителей, которые приносят 21% доходов в нашем приложении, но обходятся бесплатно. Улучшая сайт и рекламные объявления, эту группу следует также учитывать и анализировать с помощью той же воронки продаж."
   ]
  },
  {
   "cell_type": "code",
   "execution_count": null,
   "id": "8156d5dc",
   "metadata": {},
   "outputs": [],
   "source": []
  }
 ],
 "metadata": {
  "ExecuteTimeLog": [
   {
    "duration": 1804,
    "start_time": "2022-12-22T14:42:37.975Z"
   },
   {
    "duration": 108,
    "start_time": "2022-12-22T14:42:39.781Z"
   },
   {
    "duration": 182,
    "start_time": "2022-12-22T14:42:39.891Z"
   },
   {
    "duration": 482,
    "start_time": "2022-12-22T14:42:40.075Z"
   },
   {
    "duration": 280,
    "start_time": "2022-12-22T14:42:40.560Z"
   },
   {
    "duration": 11,
    "start_time": "2022-12-22T14:42:40.841Z"
   },
   {
    "duration": 74,
    "start_time": "2022-12-22T14:42:40.854Z"
   },
   {
    "duration": 32,
    "start_time": "2022-12-22T14:42:40.929Z"
   },
   {
    "duration": 8,
    "start_time": "2022-12-22T14:42:40.963Z"
   },
   {
    "duration": 37,
    "start_time": "2022-12-22T14:42:40.973Z"
   },
   {
    "duration": 27,
    "start_time": "2022-12-22T14:42:41.012Z"
   },
   {
    "duration": 260,
    "start_time": "2022-12-22T14:42:41.040Z"
   },
   {
    "duration": 17,
    "start_time": "2022-12-22T14:42:41.302Z"
   },
   {
    "duration": 30,
    "start_time": "2022-12-22T14:42:41.322Z"
   },
   {
    "duration": 704,
    "start_time": "2022-12-22T14:42:41.353Z"
   },
   {
    "duration": 14,
    "start_time": "2022-12-22T14:42:42.059Z"
   },
   {
    "duration": 20,
    "start_time": "2022-12-22T14:42:42.075Z"
   },
   {
    "duration": 26,
    "start_time": "2022-12-22T14:42:42.097Z"
   },
   {
    "duration": 18,
    "start_time": "2022-12-22T14:42:42.125Z"
   },
   {
    "duration": 29,
    "start_time": "2022-12-22T14:42:42.145Z"
   },
   {
    "duration": 749,
    "start_time": "2022-12-22T14:42:42.175Z"
   },
   {
    "duration": 38,
    "start_time": "2022-12-22T14:42:42.926Z"
   },
   {
    "duration": 277,
    "start_time": "2022-12-22T14:42:42.966Z"
   },
   {
    "duration": 20,
    "start_time": "2022-12-22T14:42:43.244Z"
   },
   {
    "duration": 35,
    "start_time": "2022-12-22T14:42:43.265Z"
   },
   {
    "duration": 131,
    "start_time": "2022-12-22T14:42:43.302Z"
   },
   {
    "duration": 80,
    "start_time": "2022-12-22T14:42:43.434Z"
   },
   {
    "duration": 56,
    "start_time": "2022-12-22T14:42:43.515Z"
   },
   {
    "duration": 77,
    "start_time": "2022-12-22T14:42:43.573Z"
   },
   {
    "duration": 92,
    "start_time": "2022-12-22T14:42:43.651Z"
   },
   {
    "duration": 523,
    "start_time": "2022-12-22T14:42:43.745Z"
   },
   {
    "duration": 571,
    "start_time": "2022-12-22T14:42:44.270Z"
   },
   {
    "duration": 517,
    "start_time": "2022-12-22T14:42:44.843Z"
   },
   {
    "duration": 513,
    "start_time": "2022-12-22T14:42:45.362Z"
   },
   {
    "duration": 539,
    "start_time": "2022-12-22T14:42:45.877Z"
   },
   {
    "duration": 5,
    "start_time": "2022-12-22T14:42:46.418Z"
   },
   {
    "duration": 30,
    "start_time": "2022-12-22T14:42:46.425Z"
   },
   {
    "duration": 30,
    "start_time": "2022-12-22T14:42:46.456Z"
   },
   {
    "duration": 692,
    "start_time": "2022-12-22T14:42:46.498Z"
   },
   {
    "duration": 1027,
    "start_time": "2022-12-22T14:42:47.192Z"
   },
   {
    "duration": 32,
    "start_time": "2022-12-22T14:42:48.223Z"
   },
   {
    "duration": 248,
    "start_time": "2022-12-22T14:42:48.257Z"
   },
   {
    "duration": 29,
    "start_time": "2022-12-22T14:42:48.506Z"
   },
   {
    "duration": 1841,
    "start_time": "2022-12-22T14:42:48.536Z"
   },
   {
    "duration": 27,
    "start_time": "2022-12-22T14:42:50.378Z"
   },
   {
    "duration": 1859,
    "start_time": "2022-12-22T14:42:50.412Z"
   },
   {
    "duration": 855,
    "start_time": "2022-12-22T14:42:52.273Z"
   },
   {
    "duration": 637,
    "start_time": "2022-12-22T14:42:53.130Z"
   },
   {
    "duration": 1213,
    "start_time": "2022-12-22T14:42:53.769Z"
   },
   {
    "duration": 3013,
    "start_time": "2022-12-22T14:42:54.984Z"
   },
   {
    "duration": 895,
    "start_time": "2022-12-22T14:42:58.014Z"
   },
   {
    "duration": 2247,
    "start_time": "2022-12-22T14:42:58.910Z"
   },
   {
    "duration": 2958,
    "start_time": "2022-12-22T14:43:01.159Z"
   },
   {
    "duration": 912,
    "start_time": "2022-12-22T14:43:04.119Z"
   },
   {
    "duration": 2193,
    "start_time": "2022-12-22T14:43:05.033Z"
   },
   {
    "duration": 3039,
    "start_time": "2022-12-22T14:43:07.227Z"
   },
   {
    "duration": 2858,
    "start_time": "2022-12-22T14:43:10.268Z"
   },
   {
    "duration": 785,
    "start_time": "2022-12-22T14:43:13.128Z"
   },
   {
    "duration": 732,
    "start_time": "2022-12-22T14:43:13.915Z"
   },
   {
    "duration": 2210,
    "start_time": "2022-12-22T14:43:14.650Z"
   },
   {
    "duration": 1888,
    "start_time": "2022-12-22T14:43:16.862Z"
   },
   {
    "duration": 50,
    "start_time": "2022-12-22T14:43:19.913Z"
   },
   {
    "duration": 52,
    "start_time": "2022-12-22T15:27:29.068Z"
   },
   {
    "duration": 1150,
    "start_time": "2022-12-22T15:27:38.461Z"
   },
   {
    "duration": 681,
    "start_time": "2022-12-22T15:27:39.613Z"
   },
   {
    "duration": 69,
    "start_time": "2022-12-22T15:27:40.295Z"
   },
   {
    "duration": 205,
    "start_time": "2022-12-22T15:27:40.366Z"
   },
   {
    "duration": 392,
    "start_time": "2022-12-22T15:27:40.573Z"
   },
   {
    "duration": 280,
    "start_time": "2022-12-22T15:27:40.967Z"
   },
   {
    "duration": 13,
    "start_time": "2022-12-22T15:27:41.248Z"
   },
   {
    "duration": 68,
    "start_time": "2022-12-22T15:27:41.262Z"
   },
   {
    "duration": 35,
    "start_time": "2022-12-22T15:27:41.331Z"
   },
   {
    "duration": 9,
    "start_time": "2022-12-22T15:27:41.369Z"
   },
   {
    "duration": 13,
    "start_time": "2022-12-22T15:27:41.380Z"
   },
   {
    "duration": 25,
    "start_time": "2022-12-22T15:27:41.416Z"
   },
   {
    "duration": 293,
    "start_time": "2022-12-22T15:27:41.443Z"
   },
   {
    "duration": 14,
    "start_time": "2022-12-22T15:27:41.738Z"
   },
   {
    "duration": 41,
    "start_time": "2022-12-22T15:27:41.754Z"
   },
   {
    "duration": 887,
    "start_time": "2022-12-22T15:27:41.797Z"
   },
   {
    "duration": 17,
    "start_time": "2022-12-22T15:27:42.686Z"
   },
   {
    "duration": 9,
    "start_time": "2022-12-22T15:27:42.705Z"
   },
   {
    "duration": 8,
    "start_time": "2022-12-22T15:27:42.715Z"
   },
   {
    "duration": 15,
    "start_time": "2022-12-22T15:27:42.725Z"
   },
   {
    "duration": 14,
    "start_time": "2022-12-22T15:27:42.742Z"
   },
   {
    "duration": 836,
    "start_time": "2022-12-22T15:27:42.757Z"
   },
   {
    "duration": 52,
    "start_time": "2022-12-22T15:27:43.595Z"
   },
   {
    "duration": 290,
    "start_time": "2022-12-22T15:27:43.648Z"
   },
   {
    "duration": 23,
    "start_time": "2022-12-22T15:27:43.940Z"
   },
   {
    "duration": 22,
    "start_time": "2022-12-22T15:27:43.965Z"
   },
   {
    "duration": 172,
    "start_time": "2022-12-22T15:27:43.989Z"
   },
   {
    "duration": 88,
    "start_time": "2022-12-22T15:27:44.165Z"
   },
   {
    "duration": 72,
    "start_time": "2022-12-22T15:27:44.255Z"
   },
   {
    "duration": 88,
    "start_time": "2022-12-22T15:27:44.329Z"
   },
   {
    "duration": 104,
    "start_time": "2022-12-22T15:27:44.419Z"
   },
   {
    "duration": 582,
    "start_time": "2022-12-22T15:27:44.524Z"
   },
   {
    "duration": 651,
    "start_time": "2022-12-22T15:27:45.108Z"
   },
   {
    "duration": 521,
    "start_time": "2022-12-22T15:27:45.760Z"
   },
   {
    "duration": 541,
    "start_time": "2022-12-22T15:27:46.283Z"
   },
   {
    "duration": 512,
    "start_time": "2022-12-22T15:27:46.826Z"
   },
   {
    "duration": 6,
    "start_time": "2022-12-22T15:27:47.339Z"
   },
   {
    "duration": 35,
    "start_time": "2022-12-22T15:27:47.346Z"
   },
   {
    "duration": 52,
    "start_time": "2022-12-22T15:27:47.382Z"
   },
   {
    "duration": 816,
    "start_time": "2022-12-22T15:27:47.436Z"
   },
   {
    "duration": 1231,
    "start_time": "2022-12-22T15:27:48.254Z"
   },
   {
    "duration": 49,
    "start_time": "2022-12-22T15:27:49.487Z"
   },
   {
    "duration": 242,
    "start_time": "2022-12-22T15:27:49.538Z"
   },
   {
    "duration": 39,
    "start_time": "2022-12-22T15:27:49.782Z"
   },
   {
    "duration": 1841,
    "start_time": "2022-12-22T15:27:49.823Z"
   },
   {
    "duration": 18,
    "start_time": "2022-12-22T15:27:51.665Z"
   },
   {
    "duration": 1938,
    "start_time": "2022-12-22T15:27:51.685Z"
   },
   {
    "duration": 1036,
    "start_time": "2022-12-22T15:27:53.625Z"
   },
   {
    "duration": 725,
    "start_time": "2022-12-22T15:27:54.663Z"
   },
   {
    "duration": 1233,
    "start_time": "2022-12-22T15:27:55.389Z"
   },
   {
    "duration": 3334,
    "start_time": "2022-12-22T15:27:56.623Z"
   },
   {
    "duration": 922,
    "start_time": "2022-12-22T15:27:59.959Z"
   },
   {
    "duration": 2270,
    "start_time": "2022-12-22T15:28:00.883Z"
   },
   {
    "duration": 4073,
    "start_time": "2022-12-22T15:28:03.155Z"
   },
   {
    "duration": 923,
    "start_time": "2022-12-22T15:28:07.230Z"
   },
   {
    "duration": 2201,
    "start_time": "2022-12-22T15:28:08.155Z"
   },
   {
    "duration": 3001,
    "start_time": "2022-12-22T15:28:10.357Z"
   },
   {
    "duration": 2900,
    "start_time": "2022-12-22T15:28:13.359Z"
   },
   {
    "duration": 1369,
    "start_time": "2022-12-22T15:28:16.260Z"
   },
   {
    "duration": 1147,
    "start_time": "2022-12-22T15:28:17.631Z"
   },
   {
    "duration": 2570,
    "start_time": "2022-12-22T15:28:18.780Z"
   },
   {
    "duration": 4131,
    "start_time": "2022-12-22T15:28:21.352Z"
   },
   {
    "duration": 50,
    "start_time": "2022-12-22T15:53:16.912Z"
   },
   {
    "duration": 49,
    "start_time": "2022-12-22T15:54:07.635Z"
   },
   {
    "duration": 46,
    "start_time": "2022-12-22T15:54:58.463Z"
   },
   {
    "duration": 49,
    "start_time": "2022-12-22T15:55:11.357Z"
   },
   {
    "duration": 42,
    "start_time": "2022-12-22T15:55:33.104Z"
   },
   {
    "duration": 51,
    "start_time": "2022-12-22T15:56:34.644Z"
   },
   {
    "duration": 43,
    "start_time": "2022-12-22T15:57:05.249Z"
   },
   {
    "duration": 45,
    "start_time": "2022-12-22T15:57:27.159Z"
   },
   {
    "duration": 1192,
    "start_time": "2022-12-22T15:59:39.281Z"
   },
   {
    "duration": 671,
    "start_time": "2022-12-22T15:59:40.475Z"
   },
   {
    "duration": 65,
    "start_time": "2022-12-22T15:59:41.148Z"
   },
   {
    "duration": 153,
    "start_time": "2022-12-22T15:59:41.216Z"
   },
   {
    "duration": 403,
    "start_time": "2022-12-22T15:59:41.371Z"
   },
   {
    "duration": 282,
    "start_time": "2022-12-22T15:59:41.776Z"
   },
   {
    "duration": 17,
    "start_time": "2022-12-22T15:59:42.060Z"
   },
   {
    "duration": 91,
    "start_time": "2022-12-22T15:59:42.082Z"
   },
   {
    "duration": 57,
    "start_time": "2022-12-22T15:59:42.174Z"
   },
   {
    "duration": 17,
    "start_time": "2022-12-22T15:59:42.236Z"
   },
   {
    "duration": 19,
    "start_time": "2022-12-22T15:59:42.255Z"
   },
   {
    "duration": 55,
    "start_time": "2022-12-22T15:59:42.276Z"
   },
   {
    "duration": 310,
    "start_time": "2022-12-22T15:59:42.333Z"
   },
   {
    "duration": 13,
    "start_time": "2022-12-22T15:59:42.645Z"
   },
   {
    "duration": 20,
    "start_time": "2022-12-22T15:59:42.660Z"
   },
   {
    "duration": 799,
    "start_time": "2022-12-22T15:59:42.682Z"
   },
   {
    "duration": 16,
    "start_time": "2022-12-22T15:59:43.483Z"
   },
   {
    "duration": 16,
    "start_time": "2022-12-22T15:59:43.500Z"
   },
   {
    "duration": 20,
    "start_time": "2022-12-22T15:59:43.518Z"
   },
   {
    "duration": 20,
    "start_time": "2022-12-22T15:59:43.540Z"
   },
   {
    "duration": 18,
    "start_time": "2022-12-22T15:59:43.561Z"
   },
   {
    "duration": 858,
    "start_time": "2022-12-22T15:59:43.580Z"
   },
   {
    "duration": 41,
    "start_time": "2022-12-22T15:59:44.440Z"
   },
   {
    "duration": 298,
    "start_time": "2022-12-22T15:59:44.483Z"
   },
   {
    "duration": 22,
    "start_time": "2022-12-22T15:59:44.782Z"
   },
   {
    "duration": 36,
    "start_time": "2022-12-22T15:59:44.805Z"
   },
   {
    "duration": 146,
    "start_time": "2022-12-22T15:59:44.843Z"
   },
   {
    "duration": 90,
    "start_time": "2022-12-22T15:59:44.992Z"
   },
   {
    "duration": 80,
    "start_time": "2022-12-22T15:59:45.084Z"
   },
   {
    "duration": 90,
    "start_time": "2022-12-22T15:59:45.166Z"
   },
   {
    "duration": 115,
    "start_time": "2022-12-22T15:59:45.258Z"
   },
   {
    "duration": 586,
    "start_time": "2022-12-22T15:59:45.376Z"
   },
   {
    "duration": 613,
    "start_time": "2022-12-22T15:59:45.964Z"
   },
   {
    "duration": 601,
    "start_time": "2022-12-22T15:59:46.579Z"
   },
   {
    "duration": 520,
    "start_time": "2022-12-22T15:59:47.181Z"
   },
   {
    "duration": 654,
    "start_time": "2022-12-22T15:59:47.717Z"
   },
   {
    "duration": 44,
    "start_time": "2022-12-22T15:59:48.373Z"
   },
   {
    "duration": 26,
    "start_time": "2022-12-22T15:59:48.420Z"
   },
   {
    "duration": 28,
    "start_time": "2022-12-22T15:59:48.448Z"
   },
   {
    "duration": 835,
    "start_time": "2022-12-22T15:59:48.477Z"
   },
   {
    "duration": 1208,
    "start_time": "2022-12-22T15:59:49.313Z"
   },
   {
    "duration": 59,
    "start_time": "2022-12-22T16:00:02.070Z"
   },
   {
    "duration": 42,
    "start_time": "2022-12-22T16:28:08.027Z"
   },
   {
    "duration": 206,
    "start_time": "2022-12-22T16:29:38.268Z"
   },
   {
    "duration": 225,
    "start_time": "2022-12-22T16:30:06.565Z"
   },
   {
    "duration": 223,
    "start_time": "2022-12-22T16:34:44.395Z"
   },
   {
    "duration": 223,
    "start_time": "2022-12-22T16:35:37.671Z"
   },
   {
    "duration": 240,
    "start_time": "2022-12-22T16:35:48.847Z"
   },
   {
    "duration": 230,
    "start_time": "2022-12-22T16:36:01.051Z"
   },
   {
    "duration": 240,
    "start_time": "2022-12-22T16:36:25.520Z"
   },
   {
    "duration": 220,
    "start_time": "2022-12-22T16:36:33.478Z"
   },
   {
    "duration": 219,
    "start_time": "2022-12-22T16:37:08.898Z"
   },
   {
    "duration": 341,
    "start_time": "2022-12-22T16:37:29.483Z"
   },
   {
    "duration": 214,
    "start_time": "2022-12-22T16:37:46.046Z"
   },
   {
    "duration": 255,
    "start_time": "2022-12-22T16:39:39.612Z"
   },
   {
    "duration": 238,
    "start_time": "2022-12-22T16:40:39.273Z"
   },
   {
    "duration": 240,
    "start_time": "2022-12-22T16:42:09.376Z"
   },
   {
    "duration": 306,
    "start_time": "2022-12-22T16:42:56.165Z"
   },
   {
    "duration": 259,
    "start_time": "2022-12-22T16:44:06.669Z"
   },
   {
    "duration": 247,
    "start_time": "2022-12-22T16:44:30.313Z"
   },
   {
    "duration": 253,
    "start_time": "2022-12-22T16:47:25.454Z"
   },
   {
    "duration": 1138,
    "start_time": "2022-12-22T17:05:41.928Z"
   },
   {
    "duration": 684,
    "start_time": "2022-12-22T17:05:43.068Z"
   },
   {
    "duration": 72,
    "start_time": "2022-12-22T17:05:43.754Z"
   },
   {
    "duration": 170,
    "start_time": "2022-12-22T17:05:43.832Z"
   },
   {
    "duration": 398,
    "start_time": "2022-12-22T17:05:44.004Z"
   },
   {
    "duration": 287,
    "start_time": "2022-12-22T17:05:44.404Z"
   },
   {
    "duration": 11,
    "start_time": "2022-12-22T17:05:44.693Z"
   },
   {
    "duration": 74,
    "start_time": "2022-12-22T17:05:44.705Z"
   },
   {
    "duration": 52,
    "start_time": "2022-12-22T17:05:44.780Z"
   },
   {
    "duration": 9,
    "start_time": "2022-12-22T17:05:44.835Z"
   },
   {
    "duration": 13,
    "start_time": "2022-12-22T17:05:44.845Z"
   },
   {
    "duration": 25,
    "start_time": "2022-12-22T17:05:44.859Z"
   },
   {
    "duration": 302,
    "start_time": "2022-12-22T17:05:44.886Z"
   },
   {
    "duration": 12,
    "start_time": "2022-12-22T17:05:45.190Z"
   },
   {
    "duration": 40,
    "start_time": "2022-12-22T17:05:45.203Z"
   },
   {
    "duration": 790,
    "start_time": "2022-12-22T17:05:45.245Z"
   },
   {
    "duration": 22,
    "start_time": "2022-12-22T17:05:46.036Z"
   },
   {
    "duration": 14,
    "start_time": "2022-12-22T17:05:46.060Z"
   },
   {
    "duration": 22,
    "start_time": "2022-12-22T17:05:46.076Z"
   },
   {
    "duration": 14,
    "start_time": "2022-12-22T17:05:46.099Z"
   },
   {
    "duration": 49,
    "start_time": "2022-12-22T17:05:46.115Z"
   },
   {
    "duration": 829,
    "start_time": "2022-12-22T17:05:46.166Z"
   },
   {
    "duration": 54,
    "start_time": "2022-12-22T17:05:46.996Z"
   },
   {
    "duration": 292,
    "start_time": "2022-12-22T17:05:47.052Z"
   },
   {
    "duration": 21,
    "start_time": "2022-12-22T17:05:47.346Z"
   },
   {
    "duration": 21,
    "start_time": "2022-12-22T17:05:47.369Z"
   },
   {
    "duration": 168,
    "start_time": "2022-12-22T17:05:47.391Z"
   },
   {
    "duration": 90,
    "start_time": "2022-12-22T17:05:47.565Z"
   },
   {
    "duration": 74,
    "start_time": "2022-12-22T17:05:47.657Z"
   },
   {
    "duration": 105,
    "start_time": "2022-12-22T17:05:47.733Z"
   },
   {
    "duration": 124,
    "start_time": "2022-12-22T17:05:47.840Z"
   },
   {
    "duration": 691,
    "start_time": "2022-12-22T17:05:47.965Z"
   },
   {
    "duration": 603,
    "start_time": "2022-12-22T17:05:48.658Z"
   },
   {
    "duration": 501,
    "start_time": "2022-12-22T17:05:49.262Z"
   },
   {
    "duration": 494,
    "start_time": "2022-12-22T17:05:49.765Z"
   },
   {
    "duration": 504,
    "start_time": "2022-12-22T17:05:50.261Z"
   },
   {
    "duration": 6,
    "start_time": "2022-12-22T17:05:50.767Z"
   },
   {
    "duration": 23,
    "start_time": "2022-12-22T17:05:50.775Z"
   },
   {
    "duration": 48,
    "start_time": "2022-12-22T17:05:50.800Z"
   },
   {
    "duration": 766,
    "start_time": "2022-12-22T17:05:50.850Z"
   },
   {
    "duration": 1189,
    "start_time": "2022-12-22T17:05:51.618Z"
   },
   {
    "duration": 49,
    "start_time": "2022-12-22T17:05:52.808Z"
   },
   {
    "duration": 279,
    "start_time": "2022-12-22T17:05:52.859Z"
   },
   {
    "duration": 26,
    "start_time": "2022-12-22T17:05:53.140Z"
   },
   {
    "duration": 1911,
    "start_time": "2022-12-22T17:05:53.168Z"
   },
   {
    "duration": 18,
    "start_time": "2022-12-22T17:05:55.080Z"
   },
   {
    "duration": 2031,
    "start_time": "2022-12-22T17:05:55.099Z"
   },
   {
    "duration": 1059,
    "start_time": "2022-12-22T17:05:57.132Z"
   },
   {
    "duration": 759,
    "start_time": "2022-12-22T17:05:58.193Z"
   },
   {
    "duration": 1293,
    "start_time": "2022-12-22T17:05:58.954Z"
   },
   {
    "duration": 3290,
    "start_time": "2022-12-22T17:06:00.248Z"
   },
   {
    "duration": 969,
    "start_time": "2022-12-22T17:06:03.540Z"
   },
   {
    "duration": 2311,
    "start_time": "2022-12-22T17:06:04.510Z"
   },
   {
    "duration": 3139,
    "start_time": "2022-12-22T17:06:06.823Z"
   },
   {
    "duration": 926,
    "start_time": "2022-12-22T17:06:09.964Z"
   },
   {
    "duration": 2213,
    "start_time": "2022-12-22T17:06:10.891Z"
   },
   {
    "duration": 3045,
    "start_time": "2022-12-22T17:06:13.105Z"
   },
   {
    "duration": 3126,
    "start_time": "2022-12-22T17:06:16.152Z"
   },
   {
    "duration": 958,
    "start_time": "2022-12-22T17:06:19.280Z"
   },
   {
    "duration": 778,
    "start_time": "2022-12-22T17:06:20.239Z"
   },
   {
    "duration": 2291,
    "start_time": "2022-12-22T17:06:21.021Z"
   },
   {
    "duration": 2084,
    "start_time": "2022-12-22T17:06:23.315Z"
   },
   {
    "duration": 11,
    "start_time": "2022-12-22T17:09:07.770Z"
   },
   {
    "duration": 1157,
    "start_time": "2022-12-22T17:51:48.153Z"
   },
   {
    "duration": 670,
    "start_time": "2022-12-22T17:51:49.312Z"
   },
   {
    "duration": 70,
    "start_time": "2022-12-22T17:51:49.984Z"
   },
   {
    "duration": 159,
    "start_time": "2022-12-22T17:51:50.056Z"
   },
   {
    "duration": 389,
    "start_time": "2022-12-22T17:51:50.220Z"
   },
   {
    "duration": 301,
    "start_time": "2022-12-22T17:51:50.622Z"
   },
   {
    "duration": 13,
    "start_time": "2022-12-22T17:51:50.925Z"
   },
   {
    "duration": 80,
    "start_time": "2022-12-22T17:51:50.940Z"
   },
   {
    "duration": 54,
    "start_time": "2022-12-22T17:51:51.022Z"
   },
   {
    "duration": 10,
    "start_time": "2022-12-22T17:51:51.078Z"
   },
   {
    "duration": 41,
    "start_time": "2022-12-22T17:51:51.090Z"
   },
   {
    "duration": 33,
    "start_time": "2022-12-22T17:51:51.133Z"
   },
   {
    "duration": 319,
    "start_time": "2022-12-22T17:51:51.168Z"
   },
   {
    "duration": 12,
    "start_time": "2022-12-22T17:51:51.490Z"
   },
   {
    "duration": 29,
    "start_time": "2022-12-22T17:51:51.503Z"
   },
   {
    "duration": 810,
    "start_time": "2022-12-22T17:51:51.534Z"
   },
   {
    "duration": 16,
    "start_time": "2022-12-22T17:51:52.346Z"
   },
   {
    "duration": 11,
    "start_time": "2022-12-22T17:51:52.364Z"
   },
   {
    "duration": 7,
    "start_time": "2022-12-22T17:51:52.377Z"
   },
   {
    "duration": 14,
    "start_time": "2022-12-22T17:51:52.385Z"
   },
   {
    "duration": 35,
    "start_time": "2022-12-22T17:51:52.401Z"
   },
   {
    "duration": 834,
    "start_time": "2022-12-22T17:51:52.438Z"
   },
   {
    "duration": 51,
    "start_time": "2022-12-22T17:51:53.274Z"
   },
   {
    "duration": 296,
    "start_time": "2022-12-22T17:51:53.327Z"
   },
   {
    "duration": 29,
    "start_time": "2022-12-22T17:51:53.625Z"
   },
   {
    "duration": 21,
    "start_time": "2022-12-22T17:51:53.656Z"
   },
   {
    "duration": 168,
    "start_time": "2022-12-22T17:51:53.679Z"
   },
   {
    "duration": 83,
    "start_time": "2022-12-22T17:51:53.849Z"
   },
   {
    "duration": 67,
    "start_time": "2022-12-22T17:51:53.934Z"
   },
   {
    "duration": 87,
    "start_time": "2022-12-22T17:51:54.004Z"
   },
   {
    "duration": 105,
    "start_time": "2022-12-22T17:51:54.093Z"
   },
   {
    "duration": 586,
    "start_time": "2022-12-22T17:51:54.199Z"
   },
   {
    "duration": 602,
    "start_time": "2022-12-22T17:51:54.787Z"
   },
   {
    "duration": 514,
    "start_time": "2022-12-22T17:51:55.390Z"
   },
   {
    "duration": 633,
    "start_time": "2022-12-22T17:51:55.906Z"
   },
   {
    "duration": 512,
    "start_time": "2022-12-22T17:51:56.541Z"
   },
   {
    "duration": 5,
    "start_time": "2022-12-22T17:51:57.055Z"
   },
   {
    "duration": 25,
    "start_time": "2022-12-22T17:51:57.062Z"
   },
   {
    "duration": 51,
    "start_time": "2022-12-22T17:51:57.088Z"
   },
   {
    "duration": 743,
    "start_time": "2022-12-22T17:51:57.141Z"
   },
   {
    "duration": 1160,
    "start_time": "2022-12-22T17:51:57.888Z"
   },
   {
    "duration": 41,
    "start_time": "2022-12-22T17:51:59.050Z"
   },
   {
    "duration": 332,
    "start_time": "2022-12-22T17:51:59.093Z"
   },
   {
    "duration": 26,
    "start_time": "2022-12-22T17:51:59.427Z"
   },
   {
    "duration": 1946,
    "start_time": "2022-12-22T17:51:59.455Z"
   },
   {
    "duration": 31,
    "start_time": "2022-12-22T17:52:01.403Z"
   },
   {
    "duration": 2014,
    "start_time": "2022-12-22T17:52:01.436Z"
   },
   {
    "duration": 12,
    "start_time": "2022-12-22T17:52:03.451Z"
   },
   {
    "duration": 880,
    "start_time": "2022-12-22T17:52:03.465Z"
   },
   {
    "duration": 673,
    "start_time": "2022-12-22T17:52:04.347Z"
   },
   {
    "duration": 1257,
    "start_time": "2022-12-22T17:52:05.022Z"
   },
   {
    "duration": 3261,
    "start_time": "2022-12-22T17:52:06.281Z"
   },
   {
    "duration": 909,
    "start_time": "2022-12-22T17:52:09.544Z"
   },
   {
    "duration": 2165,
    "start_time": "2022-12-22T17:52:10.455Z"
   },
   {
    "duration": 3056,
    "start_time": "2022-12-22T17:52:12.622Z"
   },
   {
    "duration": 955,
    "start_time": "2022-12-22T17:52:15.679Z"
   },
   {
    "duration": 2295,
    "start_time": "2022-12-22T17:52:16.639Z"
   },
   {
    "duration": 3227,
    "start_time": "2022-12-22T17:52:18.936Z"
   },
   {
    "duration": 3025,
    "start_time": "2022-12-22T17:52:22.164Z"
   },
   {
    "duration": 872,
    "start_time": "2022-12-22T17:52:25.191Z"
   },
   {
    "duration": 790,
    "start_time": "2022-12-22T17:52:26.065Z"
   },
   {
    "duration": 2192,
    "start_time": "2022-12-22T17:52:26.857Z"
   },
   {
    "duration": 1958,
    "start_time": "2022-12-22T17:52:29.051Z"
   },
   {
    "duration": 240,
    "start_time": "2022-12-22T18:50:23.700Z"
   },
   {
    "duration": 5,
    "start_time": "2022-12-22T18:55:47.182Z"
   },
   {
    "duration": 111,
    "start_time": "2022-12-22T18:56:00.513Z"
   },
   {
    "duration": 221,
    "start_time": "2022-12-22T18:56:22.518Z"
   },
   {
    "duration": 6,
    "start_time": "2022-12-22T18:59:02.238Z"
   },
   {
    "duration": 55,
    "start_time": "2022-12-22T18:59:08.453Z"
   },
   {
    "duration": 225,
    "start_time": "2022-12-22T18:59:16.775Z"
   },
   {
    "duration": 207,
    "start_time": "2022-12-22T19:03:03.711Z"
   },
   {
    "duration": 125,
    "start_time": "2022-12-22T19:10:20.538Z"
   },
   {
    "duration": 208,
    "start_time": "2022-12-22T19:10:57.124Z"
   },
   {
    "duration": 333,
    "start_time": "2022-12-22T19:11:11.984Z"
   },
   {
    "duration": 58,
    "start_time": "2022-12-22T19:17:26.847Z"
   },
   {
    "duration": 72,
    "start_time": "2022-12-22T19:17:58.982Z"
   },
   {
    "duration": 267,
    "start_time": "2022-12-22T19:18:17.079Z"
   },
   {
    "duration": 274,
    "start_time": "2022-12-22T19:18:57.411Z"
   },
   {
    "duration": 263,
    "start_time": "2022-12-22T19:19:24.081Z"
   },
   {
    "duration": 233,
    "start_time": "2022-12-22T19:19:40.276Z"
   },
   {
    "duration": 282,
    "start_time": "2022-12-22T19:19:46.493Z"
   },
   {
    "duration": 266,
    "start_time": "2022-12-22T19:19:56.936Z"
   },
   {
    "duration": 242,
    "start_time": "2022-12-22T19:20:08.416Z"
   },
   {
    "duration": 3193,
    "start_time": "2022-12-22T20:25:58.445Z"
   },
   {
    "duration": 12,
    "start_time": "2022-12-22T20:26:09.702Z"
   },
   {
    "duration": 916,
    "start_time": "2022-12-22T21:05:53.452Z"
   },
   {
    "duration": 3159,
    "start_time": "2022-12-22T21:07:08.191Z"
   },
   {
    "duration": 9,
    "start_time": "2022-12-22T22:06:13.494Z"
   },
   {
    "duration": 2716,
    "start_time": "2022-12-22T23:46:36.418Z"
   },
   {
    "duration": 2932,
    "start_time": "2022-12-22T23:46:53.532Z"
   },
   {
    "duration": 22,
    "start_time": "2022-12-23T00:08:00.708Z"
   },
   {
    "duration": 25,
    "start_time": "2022-12-23T00:09:15.619Z"
   },
   {
    "duration": 25,
    "start_time": "2022-12-23T00:09:40.688Z"
   },
   {
    "duration": 24,
    "start_time": "2022-12-23T01:19:09.360Z"
   },
   {
    "duration": 31,
    "start_time": "2022-12-23T01:19:28.700Z"
   },
   {
    "duration": 35,
    "start_time": "2022-12-23T01:20:02.069Z"
   },
   {
    "duration": 9,
    "start_time": "2022-12-23T01:22:46.513Z"
   },
   {
    "duration": 27,
    "start_time": "2022-12-23T01:22:56.471Z"
   },
   {
    "duration": 2734,
    "start_time": "2022-12-23T01:35:09.950Z"
   },
   {
    "duration": 11,
    "start_time": "2022-12-23T01:38:15.476Z"
   },
   {
    "duration": 25,
    "start_time": "2022-12-23T01:38:39.412Z"
   },
   {
    "duration": 1144,
    "start_time": "2022-12-23T01:39:15.151Z"
   },
   {
    "duration": 660,
    "start_time": "2022-12-23T01:39:16.300Z"
   },
   {
    "duration": 72,
    "start_time": "2022-12-23T01:39:16.961Z"
   },
   {
    "duration": 156,
    "start_time": "2022-12-23T01:39:17.036Z"
   },
   {
    "duration": 374,
    "start_time": "2022-12-23T01:39:17.193Z"
   },
   {
    "duration": 278,
    "start_time": "2022-12-23T01:39:17.569Z"
   },
   {
    "duration": 12,
    "start_time": "2022-12-23T01:39:17.849Z"
   },
   {
    "duration": 84,
    "start_time": "2022-12-23T01:39:17.862Z"
   },
   {
    "duration": 34,
    "start_time": "2022-12-23T01:39:17.947Z"
   },
   {
    "duration": 9,
    "start_time": "2022-12-23T01:39:17.983Z"
   },
   {
    "duration": 30,
    "start_time": "2022-12-23T01:39:17.993Z"
   },
   {
    "duration": 28,
    "start_time": "2022-12-23T01:39:18.025Z"
   },
   {
    "duration": 311,
    "start_time": "2022-12-23T01:39:18.055Z"
   },
   {
    "duration": 13,
    "start_time": "2022-12-23T01:39:18.368Z"
   },
   {
    "duration": 35,
    "start_time": "2022-12-23T01:39:18.383Z"
   },
   {
    "duration": 751,
    "start_time": "2022-12-23T01:39:18.420Z"
   },
   {
    "duration": 20,
    "start_time": "2022-12-23T01:39:19.173Z"
   },
   {
    "duration": 6,
    "start_time": "2022-12-23T01:39:19.195Z"
   },
   {
    "duration": 16,
    "start_time": "2022-12-23T01:39:19.203Z"
   },
   {
    "duration": 22,
    "start_time": "2022-12-23T01:39:19.221Z"
   },
   {
    "duration": 14,
    "start_time": "2022-12-23T01:39:19.245Z"
   },
   {
    "duration": 817,
    "start_time": "2022-12-23T01:39:19.261Z"
   },
   {
    "duration": 53,
    "start_time": "2022-12-23T01:39:20.080Z"
   },
   {
    "duration": 302,
    "start_time": "2022-12-23T01:39:20.134Z"
   },
   {
    "duration": 21,
    "start_time": "2022-12-23T01:39:20.438Z"
   },
   {
    "duration": 20,
    "start_time": "2022-12-23T01:39:20.461Z"
   },
   {
    "duration": 138,
    "start_time": "2022-12-23T01:39:20.483Z"
   },
   {
    "duration": 65,
    "start_time": "2022-12-23T01:39:20.625Z"
   },
   {
    "duration": 73,
    "start_time": "2022-12-23T01:39:20.692Z"
   },
   {
    "duration": 79,
    "start_time": "2022-12-23T01:39:20.767Z"
   },
   {
    "duration": 105,
    "start_time": "2022-12-23T01:39:20.847Z"
   },
   {
    "duration": 551,
    "start_time": "2022-12-23T01:39:20.954Z"
   },
   {
    "duration": 607,
    "start_time": "2022-12-23T01:39:21.508Z"
   },
   {
    "duration": 536,
    "start_time": "2022-12-23T01:39:22.117Z"
   },
   {
    "duration": 489,
    "start_time": "2022-12-23T01:39:22.654Z"
   },
   {
    "duration": 489,
    "start_time": "2022-12-23T01:39:23.145Z"
   },
   {
    "duration": 5,
    "start_time": "2022-12-23T01:39:23.636Z"
   },
   {
    "duration": 23,
    "start_time": "2022-12-23T01:39:23.643Z"
   },
   {
    "duration": 27,
    "start_time": "2022-12-23T01:39:23.668Z"
   },
   {
    "duration": 731,
    "start_time": "2022-12-23T01:39:23.716Z"
   },
   {
    "duration": 1087,
    "start_time": "2022-12-23T01:39:24.449Z"
   },
   {
    "duration": 40,
    "start_time": "2022-12-23T01:39:25.537Z"
   },
   {
    "duration": 266,
    "start_time": "2022-12-23T01:39:25.579Z"
   },
   {
    "duration": 28,
    "start_time": "2022-12-23T01:39:25.847Z"
   },
   {
    "duration": 1909,
    "start_time": "2022-12-23T01:39:25.877Z"
   },
   {
    "duration": 29,
    "start_time": "2022-12-23T01:39:27.788Z"
   },
   {
    "duration": 2030,
    "start_time": "2022-12-23T01:39:27.819Z"
   },
   {
    "duration": 12,
    "start_time": "2022-12-23T01:39:29.850Z"
   },
   {
    "duration": 1021,
    "start_time": "2022-12-23T01:39:29.864Z"
   },
   {
    "duration": 730,
    "start_time": "2022-12-23T01:39:30.886Z"
   },
   {
    "duration": 1228,
    "start_time": "2022-12-23T01:39:31.617Z"
   },
   {
    "duration": 2994,
    "start_time": "2022-12-23T01:39:32.847Z"
   },
   {
    "duration": 976,
    "start_time": "2022-12-23T01:39:35.842Z"
   },
   {
    "duration": 2136,
    "start_time": "2022-12-23T01:39:36.820Z"
   },
   {
    "duration": 2990,
    "start_time": "2022-12-23T01:39:38.957Z"
   },
   {
    "duration": 925,
    "start_time": "2022-12-23T01:39:41.949Z"
   },
   {
    "duration": 2213,
    "start_time": "2022-12-23T01:39:42.875Z"
   },
   {
    "duration": 3268,
    "start_time": "2022-12-23T01:39:45.090Z"
   },
   {
    "duration": 2901,
    "start_time": "2022-12-23T01:39:48.360Z"
   },
   {
    "duration": 23,
    "start_time": "2022-12-23T01:39:51.263Z"
   },
   {
    "duration": 882,
    "start_time": "2022-12-23T01:39:51.287Z"
   },
   {
    "duration": 799,
    "start_time": "2022-12-23T01:39:52.171Z"
   },
   {
    "duration": 2206,
    "start_time": "2022-12-23T01:39:52.972Z"
   },
   {
    "duration": 2061,
    "start_time": "2022-12-23T01:39:55.180Z"
   },
   {
    "duration": 3040,
    "start_time": "2022-12-23T01:44:44.237Z"
   },
   {
    "duration": 1437,
    "start_time": "2022-12-23T04:14:57.259Z"
   },
   {
    "duration": 2070,
    "start_time": "2022-12-23T04:14:58.698Z"
   },
   {
    "duration": 71,
    "start_time": "2022-12-23T04:15:00.770Z"
   },
   {
    "duration": 162,
    "start_time": "2022-12-23T04:15:00.843Z"
   },
   {
    "duration": 448,
    "start_time": "2022-12-23T04:15:01.007Z"
   },
   {
    "duration": 302,
    "start_time": "2022-12-23T04:15:01.457Z"
   },
   {
    "duration": 13,
    "start_time": "2022-12-23T04:15:01.760Z"
   },
   {
    "duration": 78,
    "start_time": "2022-12-23T04:15:01.775Z"
   },
   {
    "duration": 40,
    "start_time": "2022-12-23T04:15:01.855Z"
   },
   {
    "duration": 10,
    "start_time": "2022-12-23T04:15:01.899Z"
   },
   {
    "duration": 39,
    "start_time": "2022-12-23T04:15:01.911Z"
   },
   {
    "duration": 28,
    "start_time": "2022-12-23T04:15:01.953Z"
   },
   {
    "duration": 305,
    "start_time": "2022-12-23T04:15:01.983Z"
   },
   {
    "duration": 15,
    "start_time": "2022-12-23T04:15:02.290Z"
   },
   {
    "duration": 44,
    "start_time": "2022-12-23T04:15:02.307Z"
   },
   {
    "duration": 826,
    "start_time": "2022-12-23T04:15:02.353Z"
   },
   {
    "duration": 19,
    "start_time": "2022-12-23T04:15:03.181Z"
   },
   {
    "duration": 11,
    "start_time": "2022-12-23T04:15:03.202Z"
   },
   {
    "duration": 11,
    "start_time": "2022-12-23T04:15:03.215Z"
   },
   {
    "duration": 29,
    "start_time": "2022-12-23T04:15:03.228Z"
   },
   {
    "duration": 18,
    "start_time": "2022-12-23T04:15:03.259Z"
   },
   {
    "duration": 880,
    "start_time": "2022-12-23T04:15:03.279Z"
   },
   {
    "duration": 49,
    "start_time": "2022-12-23T04:15:04.161Z"
   },
   {
    "duration": 307,
    "start_time": "2022-12-23T04:15:04.212Z"
   },
   {
    "duration": 31,
    "start_time": "2022-12-23T04:15:04.521Z"
   },
   {
    "duration": 21,
    "start_time": "2022-12-23T04:15:04.553Z"
   },
   {
    "duration": 150,
    "start_time": "2022-12-23T04:15:04.576Z"
   },
   {
    "duration": 80,
    "start_time": "2022-12-23T04:15:04.730Z"
   },
   {
    "duration": 79,
    "start_time": "2022-12-23T04:15:04.811Z"
   },
   {
    "duration": 81,
    "start_time": "2022-12-23T04:15:04.892Z"
   },
   {
    "duration": 112,
    "start_time": "2022-12-23T04:15:04.974Z"
   },
   {
    "duration": 587,
    "start_time": "2022-12-23T04:15:05.088Z"
   },
   {
    "duration": 611,
    "start_time": "2022-12-23T04:15:05.676Z"
   },
   {
    "duration": 509,
    "start_time": "2022-12-23T04:15:06.290Z"
   },
   {
    "duration": 496,
    "start_time": "2022-12-23T04:15:06.801Z"
   },
   {
    "duration": 497,
    "start_time": "2022-12-23T04:15:07.298Z"
   },
   {
    "duration": 5,
    "start_time": "2022-12-23T04:15:07.796Z"
   },
   {
    "duration": 58,
    "start_time": "2022-12-23T04:15:07.803Z"
   },
   {
    "duration": 38,
    "start_time": "2022-12-23T04:15:07.863Z"
   },
   {
    "duration": 758,
    "start_time": "2022-12-23T04:15:07.902Z"
   },
   {
    "duration": 1237,
    "start_time": "2022-12-23T04:15:08.662Z"
   },
   {
    "duration": 62,
    "start_time": "2022-12-23T04:15:09.901Z"
   },
   {
    "duration": 291,
    "start_time": "2022-12-23T04:15:09.965Z"
   },
   {
    "duration": 31,
    "start_time": "2022-12-23T04:15:10.258Z"
   },
   {
    "duration": 1941,
    "start_time": "2022-12-23T04:15:10.291Z"
   },
   {
    "duration": 26,
    "start_time": "2022-12-23T04:15:12.234Z"
   },
   {
    "duration": 2002,
    "start_time": "2022-12-23T04:15:12.261Z"
   },
   {
    "duration": 12,
    "start_time": "2022-12-23T04:15:14.264Z"
   },
   {
    "duration": 938,
    "start_time": "2022-12-23T04:15:14.278Z"
   },
   {
    "duration": 728,
    "start_time": "2022-12-23T04:15:15.218Z"
   },
   {
    "duration": 1248,
    "start_time": "2022-12-23T04:15:15.950Z"
   },
   {
    "duration": 3304,
    "start_time": "2022-12-23T04:15:17.200Z"
   },
   {
    "duration": 968,
    "start_time": "2022-12-23T04:15:20.506Z"
   },
   {
    "duration": 2246,
    "start_time": "2022-12-23T04:15:21.476Z"
   },
   {
    "duration": 3240,
    "start_time": "2022-12-23T04:15:23.725Z"
   },
   {
    "duration": 908,
    "start_time": "2022-12-23T04:15:26.967Z"
   },
   {
    "duration": 2319,
    "start_time": "2022-12-23T04:15:27.877Z"
   },
   {
    "duration": 3203,
    "start_time": "2022-12-23T04:15:30.198Z"
   },
   {
    "duration": 2994,
    "start_time": "2022-12-23T04:15:33.403Z"
   },
   {
    "duration": 25,
    "start_time": "2022-12-23T04:15:36.399Z"
   },
   {
    "duration": 900,
    "start_time": "2022-12-23T04:15:36.426Z"
   },
   {
    "duration": 769,
    "start_time": "2022-12-23T04:15:37.328Z"
   },
   {
    "duration": 2332,
    "start_time": "2022-12-23T04:15:38.098Z"
   },
   {
    "duration": 2114,
    "start_time": "2022-12-23T04:15:40.432Z"
   },
   {
    "duration": 306,
    "start_time": "2022-12-23T04:26:19.358Z"
   },
   {
    "duration": 816,
    "start_time": "2022-12-23T04:39:29.690Z"
   },
   {
    "duration": 786,
    "start_time": "2022-12-23T04:39:41.303Z"
   },
   {
    "duration": 23,
    "start_time": "2022-12-23T05:04:32.321Z"
   },
   {
    "duration": 21,
    "start_time": "2022-12-23T05:08:37.079Z"
   },
   {
    "duration": 1375,
    "start_time": "2022-12-23T05:08:48.576Z"
   },
   {
    "duration": 741,
    "start_time": "2022-12-23T05:08:49.953Z"
   },
   {
    "duration": 77,
    "start_time": "2022-12-23T05:08:50.696Z"
   },
   {
    "duration": 183,
    "start_time": "2022-12-23T05:08:50.776Z"
   },
   {
    "duration": 440,
    "start_time": "2022-12-23T05:08:50.962Z"
   },
   {
    "duration": 314,
    "start_time": "2022-12-23T05:08:51.403Z"
   },
   {
    "duration": 13,
    "start_time": "2022-12-23T05:08:51.719Z"
   },
   {
    "duration": 89,
    "start_time": "2022-12-23T05:08:51.733Z"
   },
   {
    "duration": 40,
    "start_time": "2022-12-23T05:08:51.824Z"
   },
   {
    "duration": 12,
    "start_time": "2022-12-23T05:08:51.865Z"
   },
   {
    "duration": 51,
    "start_time": "2022-12-23T05:08:51.879Z"
   },
   {
    "duration": 45,
    "start_time": "2022-12-23T05:08:51.933Z"
   },
   {
    "duration": 301,
    "start_time": "2022-12-23T05:08:51.980Z"
   },
   {
    "duration": 13,
    "start_time": "2022-12-23T05:08:52.284Z"
   },
   {
    "duration": 28,
    "start_time": "2022-12-23T05:08:52.299Z"
   },
   {
    "duration": 824,
    "start_time": "2022-12-23T05:08:52.328Z"
   },
   {
    "duration": 17,
    "start_time": "2022-12-23T05:08:53.155Z"
   },
   {
    "duration": 30,
    "start_time": "2022-12-23T05:08:53.174Z"
   },
   {
    "duration": 24,
    "start_time": "2022-12-23T05:08:53.206Z"
   },
   {
    "duration": 46,
    "start_time": "2022-12-23T05:08:53.232Z"
   },
   {
    "duration": 34,
    "start_time": "2022-12-23T05:08:53.281Z"
   },
   {
    "duration": 886,
    "start_time": "2022-12-23T05:08:53.317Z"
   },
   {
    "duration": 68,
    "start_time": "2022-12-23T05:08:54.206Z"
   },
   {
    "duration": 313,
    "start_time": "2022-12-23T05:08:54.276Z"
   },
   {
    "duration": 23,
    "start_time": "2022-12-23T05:08:54.591Z"
   },
   {
    "duration": 36,
    "start_time": "2022-12-23T05:08:54.616Z"
   },
   {
    "duration": 146,
    "start_time": "2022-12-23T05:08:54.653Z"
   },
   {
    "duration": 81,
    "start_time": "2022-12-23T05:08:54.801Z"
   },
   {
    "duration": 80,
    "start_time": "2022-12-23T05:08:54.884Z"
   },
   {
    "duration": 86,
    "start_time": "2022-12-23T05:08:54.966Z"
   },
   {
    "duration": 109,
    "start_time": "2022-12-23T05:08:55.054Z"
   },
   {
    "duration": 604,
    "start_time": "2022-12-23T05:08:55.165Z"
   },
   {
    "duration": 613,
    "start_time": "2022-12-23T05:08:55.771Z"
   },
   {
    "duration": 526,
    "start_time": "2022-12-23T05:08:56.386Z"
   },
   {
    "duration": 539,
    "start_time": "2022-12-23T05:08:56.914Z"
   },
   {
    "duration": 561,
    "start_time": "2022-12-23T05:08:57.455Z"
   },
   {
    "duration": 5,
    "start_time": "2022-12-23T05:08:58.018Z"
   },
   {
    "duration": 40,
    "start_time": "2022-12-23T05:08:58.025Z"
   },
   {
    "duration": 30,
    "start_time": "2022-12-23T05:08:58.067Z"
   },
   {
    "duration": 805,
    "start_time": "2022-12-23T05:08:58.099Z"
   },
   {
    "duration": 1321,
    "start_time": "2022-12-23T05:08:58.910Z"
   },
   {
    "duration": 57,
    "start_time": "2022-12-23T05:09:00.233Z"
   },
   {
    "duration": 279,
    "start_time": "2022-12-23T05:09:00.292Z"
   },
   {
    "duration": 32,
    "start_time": "2022-12-23T05:09:00.573Z"
   },
   {
    "duration": 1958,
    "start_time": "2022-12-23T05:09:00.606Z"
   },
   {
    "duration": 19,
    "start_time": "2022-12-23T05:09:02.565Z"
   },
   {
    "duration": 2078,
    "start_time": "2022-12-23T05:09:02.586Z"
   },
   {
    "duration": 13,
    "start_time": "2022-12-23T05:09:04.666Z"
   },
   {
    "duration": 1025,
    "start_time": "2022-12-23T05:09:04.680Z"
   },
   {
    "duration": 755,
    "start_time": "2022-12-23T05:09:05.707Z"
   },
   {
    "duration": 1253,
    "start_time": "2022-12-23T05:09:06.464Z"
   },
   {
    "duration": 3589,
    "start_time": "2022-12-23T05:09:07.719Z"
   },
   {
    "duration": 978,
    "start_time": "2022-12-23T05:09:11.310Z"
   },
   {
    "duration": 2253,
    "start_time": "2022-12-23T05:09:12.290Z"
   },
   {
    "duration": 3238,
    "start_time": "2022-12-23T05:09:14.545Z"
   },
   {
    "duration": 994,
    "start_time": "2022-12-23T05:09:17.785Z"
   },
   {
    "duration": 2457,
    "start_time": "2022-12-23T05:09:18.782Z"
   },
   {
    "duration": 3074,
    "start_time": "2022-12-23T05:09:21.241Z"
   },
   {
    "duration": 3100,
    "start_time": "2022-12-23T05:09:24.317Z"
   },
   {
    "duration": 37,
    "start_time": "2022-12-23T05:09:27.418Z"
   },
   {
    "duration": 921,
    "start_time": "2022-12-23T05:09:27.457Z"
   },
   {
    "duration": 826,
    "start_time": "2022-12-23T05:09:28.380Z"
   },
   {
    "duration": 2638,
    "start_time": "2022-12-23T05:09:29.208Z"
   },
   {
    "duration": 2117,
    "start_time": "2022-12-23T05:09:31.851Z"
   },
   {
    "duration": 23,
    "start_time": "2022-12-23T05:11:39.359Z"
   },
   {
    "duration": 25,
    "start_time": "2022-12-23T05:13:10.199Z"
   },
   {
    "duration": 511,
    "start_time": "2022-12-23T05:13:15.379Z"
   },
   {
    "duration": 561,
    "start_time": "2022-12-23T05:13:19.564Z"
   },
   {
    "duration": 503,
    "start_time": "2022-12-23T05:13:35.310Z"
   },
   {
    "duration": 1302,
    "start_time": "2022-12-23T05:14:08.577Z"
   },
   {
    "duration": 722,
    "start_time": "2022-12-23T05:14:09.881Z"
   },
   {
    "duration": 79,
    "start_time": "2022-12-23T05:14:10.605Z"
   },
   {
    "duration": 171,
    "start_time": "2022-12-23T05:14:10.687Z"
   },
   {
    "duration": 434,
    "start_time": "2022-12-23T05:14:10.860Z"
   },
   {
    "duration": 286,
    "start_time": "2022-12-23T05:14:11.296Z"
   },
   {
    "duration": 13,
    "start_time": "2022-12-23T05:14:11.583Z"
   },
   {
    "duration": 73,
    "start_time": "2022-12-23T05:14:11.597Z"
   },
   {
    "duration": 39,
    "start_time": "2022-12-23T05:14:11.672Z"
   },
   {
    "duration": 9,
    "start_time": "2022-12-23T05:14:11.714Z"
   },
   {
    "duration": 35,
    "start_time": "2022-12-23T05:14:11.724Z"
   },
   {
    "duration": 39,
    "start_time": "2022-12-23T05:14:11.761Z"
   },
   {
    "duration": 291,
    "start_time": "2022-12-23T05:14:11.802Z"
   },
   {
    "duration": 14,
    "start_time": "2022-12-23T05:14:12.094Z"
   },
   {
    "duration": 23,
    "start_time": "2022-12-23T05:14:12.110Z"
   },
   {
    "duration": 1341,
    "start_time": "2022-12-23T05:14:12.151Z"
   },
   {
    "duration": 64,
    "start_time": "2022-12-23T05:14:13.494Z"
   },
   {
    "duration": 11,
    "start_time": "2022-12-23T05:14:13.559Z"
   },
   {
    "duration": 9,
    "start_time": "2022-12-23T05:14:13.572Z"
   },
   {
    "duration": 16,
    "start_time": "2022-12-23T05:14:13.583Z"
   },
   {
    "duration": 14,
    "start_time": "2022-12-23T05:14:13.651Z"
   },
   {
    "duration": 1328,
    "start_time": "2022-12-23T05:14:13.667Z"
   },
   {
    "duration": 61,
    "start_time": "2022-12-23T05:14:14.997Z"
   },
   {
    "duration": 303,
    "start_time": "2022-12-23T05:14:15.060Z"
   },
   {
    "duration": 24,
    "start_time": "2022-12-23T05:14:15.365Z"
   },
   {
    "duration": 22,
    "start_time": "2022-12-23T05:14:15.392Z"
   },
   {
    "duration": 167,
    "start_time": "2022-12-23T05:14:15.415Z"
   },
   {
    "duration": 89,
    "start_time": "2022-12-23T05:14:15.587Z"
   },
   {
    "duration": 81,
    "start_time": "2022-12-23T05:14:15.678Z"
   },
   {
    "duration": 96,
    "start_time": "2022-12-23T05:14:15.761Z"
   },
   {
    "duration": 114,
    "start_time": "2022-12-23T05:14:15.859Z"
   },
   {
    "duration": 612,
    "start_time": "2022-12-23T05:14:15.975Z"
   },
   {
    "duration": 864,
    "start_time": "2022-12-23T05:14:16.589Z"
   },
   {
    "duration": 922,
    "start_time": "2022-12-23T05:14:17.456Z"
   },
   {
    "duration": 846,
    "start_time": "2022-12-23T05:14:18.380Z"
   },
   {
    "duration": 611,
    "start_time": "2022-12-23T05:14:19.228Z"
   },
   {
    "duration": 11,
    "start_time": "2022-12-23T05:14:19.840Z"
   },
   {
    "duration": 22,
    "start_time": "2022-12-23T05:14:19.853Z"
   },
   {
    "duration": 30,
    "start_time": "2022-12-23T05:14:19.877Z"
   },
   {
    "duration": 783,
    "start_time": "2022-12-23T05:14:19.909Z"
   },
   {
    "duration": 1123,
    "start_time": "2022-12-23T05:14:20.694Z"
   },
   {
    "duration": 56,
    "start_time": "2022-12-23T05:14:21.819Z"
   },
   {
    "duration": 257,
    "start_time": "2022-12-23T05:14:21.876Z"
   },
   {
    "duration": 35,
    "start_time": "2022-12-23T05:14:22.135Z"
   },
   {
    "duration": 1841,
    "start_time": "2022-12-23T05:14:22.172Z"
   },
   {
    "duration": 17,
    "start_time": "2022-12-23T05:14:24.015Z"
   },
   {
    "duration": 1928,
    "start_time": "2022-12-23T05:14:24.034Z"
   },
   {
    "duration": 13,
    "start_time": "2022-12-23T05:14:25.963Z"
   },
   {
    "duration": 999,
    "start_time": "2022-12-23T05:14:25.979Z"
   },
   {
    "duration": 762,
    "start_time": "2022-12-23T05:14:26.980Z"
   },
   {
    "duration": 1256,
    "start_time": "2022-12-23T05:14:27.744Z"
   },
   {
    "duration": 3463,
    "start_time": "2022-12-23T05:14:29.002Z"
   },
   {
    "duration": 907,
    "start_time": "2022-12-23T05:14:32.467Z"
   },
   {
    "duration": 2242,
    "start_time": "2022-12-23T05:14:33.376Z"
   },
   {
    "duration": 3055,
    "start_time": "2022-12-23T05:14:35.620Z"
   },
   {
    "duration": 904,
    "start_time": "2022-12-23T05:14:38.677Z"
   },
   {
    "duration": 2335,
    "start_time": "2022-12-23T05:14:39.583Z"
   },
   {
    "duration": 3137,
    "start_time": "2022-12-23T05:14:41.920Z"
   },
   {
    "duration": 3267,
    "start_time": "2022-12-23T05:14:45.059Z"
   },
   {
    "duration": 42,
    "start_time": "2022-12-23T05:14:48.328Z"
   },
   {
    "duration": 963,
    "start_time": "2022-12-23T05:14:48.373Z"
   },
   {
    "duration": 896,
    "start_time": "2022-12-23T05:14:49.338Z"
   },
   {
    "duration": 2359,
    "start_time": "2022-12-23T05:14:50.236Z"
   },
   {
    "duration": 2093,
    "start_time": "2022-12-23T05:14:52.597Z"
   },
   {
    "duration": 33,
    "start_time": "2022-12-23T05:17:09.884Z"
   },
   {
    "duration": 261,
    "start_time": "2022-12-23T05:17:24.791Z"
   },
   {
    "duration": 1292,
    "start_time": "2022-12-23T05:17:38.256Z"
   },
   {
    "duration": 805,
    "start_time": "2022-12-23T05:17:39.550Z"
   },
   {
    "duration": 70,
    "start_time": "2022-12-23T05:17:40.357Z"
   },
   {
    "duration": 175,
    "start_time": "2022-12-23T05:17:40.429Z"
   },
   {
    "duration": 451,
    "start_time": "2022-12-23T05:17:40.606Z"
   },
   {
    "duration": 306,
    "start_time": "2022-12-23T05:17:41.059Z"
   },
   {
    "duration": 12,
    "start_time": "2022-12-23T05:17:41.367Z"
   },
   {
    "duration": 81,
    "start_time": "2022-12-23T05:17:41.381Z"
   },
   {
    "duration": 39,
    "start_time": "2022-12-23T05:17:41.464Z"
   },
   {
    "duration": 11,
    "start_time": "2022-12-23T05:17:41.507Z"
   },
   {
    "duration": 36,
    "start_time": "2022-12-23T05:17:41.520Z"
   },
   {
    "duration": 28,
    "start_time": "2022-12-23T05:17:41.558Z"
   },
   {
    "duration": 308,
    "start_time": "2022-12-23T05:17:41.588Z"
   },
   {
    "duration": 13,
    "start_time": "2022-12-23T05:17:41.898Z"
   },
   {
    "duration": 38,
    "start_time": "2022-12-23T05:17:41.913Z"
   },
   {
    "duration": 837,
    "start_time": "2022-12-23T05:17:41.953Z"
   },
   {
    "duration": 18,
    "start_time": "2022-12-23T05:17:42.792Z"
   },
   {
    "duration": 24,
    "start_time": "2022-12-23T05:17:42.812Z"
   },
   {
    "duration": 17,
    "start_time": "2022-12-23T05:17:42.838Z"
   },
   {
    "duration": 29,
    "start_time": "2022-12-23T05:17:42.857Z"
   },
   {
    "duration": 33,
    "start_time": "2022-12-23T05:17:42.888Z"
   },
   {
    "duration": 894,
    "start_time": "2022-12-23T05:17:42.923Z"
   },
   {
    "duration": 67,
    "start_time": "2022-12-23T05:17:43.819Z"
   },
   {
    "duration": 303,
    "start_time": "2022-12-23T05:17:43.888Z"
   },
   {
    "duration": 31,
    "start_time": "2022-12-23T05:17:44.193Z"
   },
   {
    "duration": 36,
    "start_time": "2022-12-23T05:17:44.226Z"
   },
   {
    "duration": 139,
    "start_time": "2022-12-23T05:17:44.264Z"
   },
   {
    "duration": 82,
    "start_time": "2022-12-23T05:17:44.407Z"
   },
   {
    "duration": 77,
    "start_time": "2022-12-23T05:17:44.491Z"
   },
   {
    "duration": 83,
    "start_time": "2022-12-23T05:17:44.570Z"
   },
   {
    "duration": 114,
    "start_time": "2022-12-23T05:17:44.655Z"
   },
   {
    "duration": 582,
    "start_time": "2022-12-23T05:17:44.771Z"
   },
   {
    "duration": 658,
    "start_time": "2022-12-23T05:17:45.355Z"
   },
   {
    "duration": 542,
    "start_time": "2022-12-23T05:17:46.016Z"
   },
   {
    "duration": 553,
    "start_time": "2022-12-23T05:17:46.560Z"
   },
   {
    "duration": 521,
    "start_time": "2022-12-23T05:17:47.115Z"
   },
   {
    "duration": 6,
    "start_time": "2022-12-23T05:17:47.637Z"
   },
   {
    "duration": 24,
    "start_time": "2022-12-23T05:17:47.652Z"
   },
   {
    "duration": 31,
    "start_time": "2022-12-23T05:17:47.678Z"
   },
   {
    "duration": 778,
    "start_time": "2022-12-23T05:17:47.711Z"
   },
   {
    "duration": 1277,
    "start_time": "2022-12-23T05:17:48.490Z"
   },
   {
    "duration": 61,
    "start_time": "2022-12-23T05:17:49.769Z"
   },
   {
    "duration": 290,
    "start_time": "2022-12-23T05:17:49.851Z"
   },
   {
    "duration": 47,
    "start_time": "2022-12-23T05:17:50.142Z"
   },
   {
    "duration": 1933,
    "start_time": "2022-12-23T05:17:50.191Z"
   },
   {
    "duration": 25,
    "start_time": "2022-12-23T05:17:52.126Z"
   },
   {
    "duration": 2008,
    "start_time": "2022-12-23T05:17:52.153Z"
   },
   {
    "duration": 15,
    "start_time": "2022-12-23T05:17:54.163Z"
   },
   {
    "duration": 1031,
    "start_time": "2022-12-23T05:17:54.180Z"
   },
   {
    "duration": 737,
    "start_time": "2022-12-23T05:17:55.213Z"
   },
   {
    "duration": 1248,
    "start_time": "2022-12-23T05:17:55.953Z"
   },
   {
    "duration": 3512,
    "start_time": "2022-12-23T05:17:57.203Z"
   },
   {
    "duration": 978,
    "start_time": "2022-12-23T05:18:00.717Z"
   },
   {
    "duration": 2366,
    "start_time": "2022-12-23T05:18:01.697Z"
   },
   {
    "duration": 3689,
    "start_time": "2022-12-23T05:18:04.065Z"
   },
   {
    "duration": 942,
    "start_time": "2022-12-23T05:18:07.755Z"
   },
   {
    "duration": 2472,
    "start_time": "2022-12-23T05:18:08.699Z"
   },
   {
    "duration": 3696,
    "start_time": "2022-12-23T05:18:11.173Z"
   },
   {
    "duration": 3882,
    "start_time": "2022-12-23T05:18:14.871Z"
   },
   {
    "duration": 26,
    "start_time": "2022-12-23T05:18:18.754Z"
   },
   {
    "duration": 1072,
    "start_time": "2022-12-23T05:18:18.781Z"
   },
   {
    "duration": 918,
    "start_time": "2022-12-23T05:18:19.855Z"
   },
   {
    "duration": 3116,
    "start_time": "2022-12-23T05:18:20.775Z"
   },
   {
    "duration": 3457,
    "start_time": "2022-12-23T05:18:23.892Z"
   },
   {
    "duration": 25,
    "start_time": "2022-12-23T05:20:25.280Z"
   },
   {
    "duration": 21,
    "start_time": "2022-12-23T05:20:41.008Z"
   },
   {
    "duration": 510,
    "start_time": "2022-12-23T05:21:01.731Z"
   },
   {
    "duration": 597,
    "start_time": "2022-12-23T05:21:09.705Z"
   },
   {
    "duration": 250,
    "start_time": "2022-12-23T05:21:30.155Z"
   },
   {
    "duration": 21,
    "start_time": "2022-12-23T05:22:13.201Z"
   },
   {
    "duration": 242,
    "start_time": "2022-12-23T05:22:25.752Z"
   },
   {
    "duration": 639,
    "start_time": "2022-12-23T05:22:47.982Z"
   },
   {
    "duration": 2898,
    "start_time": "2022-12-23T05:23:35.225Z"
   },
   {
    "duration": 1310,
    "start_time": "2022-12-23T05:23:49.012Z"
   },
   {
    "duration": 718,
    "start_time": "2022-12-23T05:23:50.324Z"
   },
   {
    "duration": 71,
    "start_time": "2022-12-23T05:23:51.046Z"
   },
   {
    "duration": 167,
    "start_time": "2022-12-23T05:23:51.119Z"
   },
   {
    "duration": 428,
    "start_time": "2022-12-23T05:23:51.288Z"
   },
   {
    "duration": 299,
    "start_time": "2022-12-23T05:23:51.717Z"
   },
   {
    "duration": 13,
    "start_time": "2022-12-23T05:23:52.017Z"
   },
   {
    "duration": 70,
    "start_time": "2022-12-23T05:23:52.032Z"
   },
   {
    "duration": 54,
    "start_time": "2022-12-23T05:23:52.105Z"
   },
   {
    "duration": 10,
    "start_time": "2022-12-23T05:23:52.161Z"
   },
   {
    "duration": 43,
    "start_time": "2022-12-23T05:23:52.173Z"
   },
   {
    "duration": 45,
    "start_time": "2022-12-23T05:23:52.217Z"
   },
   {
    "duration": 275,
    "start_time": "2022-12-23T05:23:52.264Z"
   },
   {
    "duration": 16,
    "start_time": "2022-12-23T05:23:52.541Z"
   },
   {
    "duration": 29,
    "start_time": "2022-12-23T05:23:52.559Z"
   },
   {
    "duration": 799,
    "start_time": "2022-12-23T05:23:52.589Z"
   },
   {
    "duration": 16,
    "start_time": "2022-12-23T05:23:53.390Z"
   },
   {
    "duration": 53,
    "start_time": "2022-12-23T05:23:53.408Z"
   },
   {
    "duration": 16,
    "start_time": "2022-12-23T05:23:53.463Z"
   },
   {
    "duration": 62,
    "start_time": "2022-12-23T05:23:53.481Z"
   },
   {
    "duration": 62,
    "start_time": "2022-12-23T05:23:53.545Z"
   },
   {
    "duration": 891,
    "start_time": "2022-12-23T05:23:53.609Z"
   },
   {
    "duration": 57,
    "start_time": "2022-12-23T05:23:54.502Z"
   },
   {
    "duration": 290,
    "start_time": "2022-12-23T05:23:54.561Z"
   },
   {
    "duration": 23,
    "start_time": "2022-12-23T05:23:54.853Z"
   },
   {
    "duration": 34,
    "start_time": "2022-12-23T05:23:54.877Z"
   },
   {
    "duration": 153,
    "start_time": "2022-12-23T05:23:54.915Z"
   },
   {
    "duration": 83,
    "start_time": "2022-12-23T05:23:55.069Z"
   },
   {
    "duration": 71,
    "start_time": "2022-12-23T05:23:55.154Z"
   },
   {
    "duration": 90,
    "start_time": "2022-12-23T05:23:55.227Z"
   },
   {
    "duration": 110,
    "start_time": "2022-12-23T05:23:55.319Z"
   },
   {
    "duration": 589,
    "start_time": "2022-12-23T05:23:55.431Z"
   },
   {
    "duration": 588,
    "start_time": "2022-12-23T05:23:56.022Z"
   },
   {
    "duration": 508,
    "start_time": "2022-12-23T05:23:56.611Z"
   },
   {
    "duration": 516,
    "start_time": "2022-12-23T05:23:57.121Z"
   },
   {
    "duration": 539,
    "start_time": "2022-12-23T05:23:57.639Z"
   },
   {
    "duration": 5,
    "start_time": "2022-12-23T05:23:58.180Z"
   },
   {
    "duration": 79,
    "start_time": "2022-12-23T05:23:58.187Z"
   },
   {
    "duration": 47,
    "start_time": "2022-12-23T05:23:58.268Z"
   },
   {
    "duration": 760,
    "start_time": "2022-12-23T05:23:58.316Z"
   },
   {
    "duration": 1260,
    "start_time": "2022-12-23T05:23:59.079Z"
   },
   {
    "duration": 54,
    "start_time": "2022-12-23T05:24:00.341Z"
   },
   {
    "duration": 318,
    "start_time": "2022-12-23T05:24:00.397Z"
   },
   {
    "duration": 40,
    "start_time": "2022-12-23T05:24:00.717Z"
   },
   {
    "duration": 1903,
    "start_time": "2022-12-23T05:24:00.759Z"
   },
   {
    "duration": 18,
    "start_time": "2022-12-23T05:24:02.664Z"
   },
   {
    "duration": 1934,
    "start_time": "2022-12-23T05:24:02.684Z"
   },
   {
    "duration": 14,
    "start_time": "2022-12-23T05:24:04.619Z"
   },
   {
    "duration": 1172,
    "start_time": "2022-12-23T05:24:04.634Z"
   },
   {
    "duration": 743,
    "start_time": "2022-12-23T05:24:05.807Z"
   },
   {
    "duration": 1238,
    "start_time": "2022-12-23T05:24:06.552Z"
   },
   {
    "duration": 3305,
    "start_time": "2022-12-23T05:24:07.793Z"
   },
   {
    "duration": 960,
    "start_time": "2022-12-23T05:24:11.100Z"
   },
   {
    "duration": 2340,
    "start_time": "2022-12-23T05:24:12.062Z"
   },
   {
    "duration": 3300,
    "start_time": "2022-12-23T05:24:14.403Z"
   },
   {
    "duration": 983,
    "start_time": "2022-12-23T05:24:17.704Z"
   },
   {
    "duration": 2481,
    "start_time": "2022-12-23T05:24:18.689Z"
   },
   {
    "duration": 3241,
    "start_time": "2022-12-23T05:24:21.172Z"
   },
   {
    "duration": 2995,
    "start_time": "2022-12-23T05:24:24.414Z"
   },
   {
    "duration": 25,
    "start_time": "2022-12-23T05:24:27.410Z"
   },
   {
    "duration": 931,
    "start_time": "2022-12-23T05:24:27.437Z"
   },
   {
    "duration": 811,
    "start_time": "2022-12-23T05:24:28.369Z"
   },
   {
    "duration": 2362,
    "start_time": "2022-12-23T05:24:29.182Z"
   },
   {
    "duration": 2034,
    "start_time": "2022-12-23T05:24:31.546Z"
   },
   {
    "duration": 667,
    "start_time": "2022-12-23T05:26:53.186Z"
   },
   {
    "duration": 2974,
    "start_time": "2022-12-23T05:48:44.347Z"
   },
   {
    "duration": 3157,
    "start_time": "2022-12-23T05:48:58.887Z"
   },
   {
    "duration": 9,
    "start_time": "2022-12-23T05:59:41.537Z"
   },
   {
    "duration": 3000,
    "start_time": "2022-12-23T06:06:23.554Z"
   },
   {
    "duration": 3342,
    "start_time": "2022-12-23T06:06:40.957Z"
   },
   {
    "duration": 919,
    "start_time": "2022-12-23T06:10:21.197Z"
   },
   {
    "duration": 2390,
    "start_time": "2022-12-23T06:10:31.225Z"
   },
   {
    "duration": 1008,
    "start_time": "2022-12-23T06:20:10.597Z"
   },
   {
    "duration": 879,
    "start_time": "2022-12-23T06:20:36.320Z"
   },
   {
    "duration": 1227,
    "start_time": "2022-12-23T09:52:34.609Z"
   },
   {
    "duration": 703,
    "start_time": "2022-12-23T09:52:35.838Z"
   },
   {
    "duration": 70,
    "start_time": "2022-12-23T09:52:36.542Z"
   },
   {
    "duration": 175,
    "start_time": "2022-12-23T09:52:36.614Z"
   },
   {
    "duration": 430,
    "start_time": "2022-12-23T09:52:36.792Z"
   },
   {
    "duration": 297,
    "start_time": "2022-12-23T09:52:37.224Z"
   },
   {
    "duration": 28,
    "start_time": "2022-12-23T09:52:37.523Z"
   },
   {
    "duration": 64,
    "start_time": "2022-12-23T09:52:37.553Z"
   },
   {
    "duration": 55,
    "start_time": "2022-12-23T09:52:37.618Z"
   },
   {
    "duration": 11,
    "start_time": "2022-12-23T09:52:37.674Z"
   },
   {
    "duration": 11,
    "start_time": "2022-12-23T09:52:37.687Z"
   },
   {
    "duration": 57,
    "start_time": "2022-12-23T09:52:37.700Z"
   },
   {
    "duration": 289,
    "start_time": "2022-12-23T09:52:37.759Z"
   },
   {
    "duration": 13,
    "start_time": "2022-12-23T09:52:38.052Z"
   },
   {
    "duration": 31,
    "start_time": "2022-12-23T09:52:38.067Z"
   },
   {
    "duration": 866,
    "start_time": "2022-12-23T09:52:38.100Z"
   },
   {
    "duration": 18,
    "start_time": "2022-12-23T09:52:38.968Z"
   },
   {
    "duration": 41,
    "start_time": "2022-12-23T09:52:38.988Z"
   },
   {
    "duration": 47,
    "start_time": "2022-12-23T09:52:39.032Z"
   },
   {
    "duration": 64,
    "start_time": "2022-12-23T09:52:39.081Z"
   },
   {
    "duration": 50,
    "start_time": "2022-12-23T09:52:39.147Z"
   },
   {
    "duration": 996,
    "start_time": "2022-12-23T09:52:39.199Z"
   },
   {
    "duration": 64,
    "start_time": "2022-12-23T09:52:40.198Z"
   },
   {
    "duration": 313,
    "start_time": "2022-12-23T09:52:40.264Z"
   },
   {
    "duration": 27,
    "start_time": "2022-12-23T09:52:40.578Z"
   },
   {
    "duration": 61,
    "start_time": "2022-12-23T09:52:40.607Z"
   },
   {
    "duration": 166,
    "start_time": "2022-12-23T09:52:40.671Z"
   },
   {
    "duration": 102,
    "start_time": "2022-12-23T09:52:40.839Z"
   },
   {
    "duration": 94,
    "start_time": "2022-12-23T09:52:40.943Z"
   },
   {
    "duration": 115,
    "start_time": "2022-12-23T09:52:41.038Z"
   },
   {
    "duration": 121,
    "start_time": "2022-12-23T09:52:41.156Z"
   },
   {
    "duration": 593,
    "start_time": "2022-12-23T09:52:41.279Z"
   },
   {
    "duration": 631,
    "start_time": "2022-12-23T09:52:41.874Z"
   },
   {
    "duration": 520,
    "start_time": "2022-12-23T09:52:42.507Z"
   },
   {
    "duration": 578,
    "start_time": "2022-12-23T09:52:43.029Z"
   },
   {
    "duration": 547,
    "start_time": "2022-12-23T09:52:43.609Z"
   },
   {
    "duration": 6,
    "start_time": "2022-12-23T09:52:44.158Z"
   },
   {
    "duration": 96,
    "start_time": "2022-12-23T09:52:44.166Z"
   },
   {
    "duration": 49,
    "start_time": "2022-12-23T09:52:44.264Z"
   },
   {
    "duration": 886,
    "start_time": "2022-12-23T09:52:44.315Z"
   },
   {
    "duration": 1241,
    "start_time": "2022-12-23T09:52:45.207Z"
   },
   {
    "duration": 48,
    "start_time": "2022-12-23T09:52:46.450Z"
   },
   {
    "duration": 326,
    "start_time": "2022-12-23T09:52:46.501Z"
   },
   {
    "duration": 42,
    "start_time": "2022-12-23T09:52:46.830Z"
   },
   {
    "duration": 2083,
    "start_time": "2022-12-23T09:52:46.873Z"
   },
   {
    "duration": 18,
    "start_time": "2022-12-23T09:52:48.958Z"
   },
   {
    "duration": 2285,
    "start_time": "2022-12-23T09:52:48.978Z"
   },
   {
    "duration": 14,
    "start_time": "2022-12-23T09:52:51.265Z"
   },
   {
    "duration": 1095,
    "start_time": "2022-12-23T09:52:51.281Z"
   },
   {
    "duration": 801,
    "start_time": "2022-12-23T09:52:52.378Z"
   },
   {
    "duration": 1343,
    "start_time": "2022-12-23T09:52:53.180Z"
   },
   {
    "duration": 3454,
    "start_time": "2022-12-23T09:52:54.525Z"
   },
   {
    "duration": 975,
    "start_time": "2022-12-23T09:52:57.980Z"
   },
   {
    "duration": 2503,
    "start_time": "2022-12-23T09:52:58.957Z"
   },
   {
    "duration": 3221,
    "start_time": "2022-12-23T09:53:01.462Z"
   },
   {
    "duration": 1008,
    "start_time": "2022-12-23T09:53:04.685Z"
   },
   {
    "duration": 2381,
    "start_time": "2022-12-23T09:53:05.695Z"
   },
   {
    "duration": 3252,
    "start_time": "2022-12-23T09:53:08.078Z"
   },
   {
    "duration": 2986,
    "start_time": "2022-12-23T09:53:11.332Z"
   },
   {
    "duration": 37,
    "start_time": "2022-12-23T09:53:14.320Z"
   },
   {
    "duration": 925,
    "start_time": "2022-12-23T09:53:14.359Z"
   },
   {
    "duration": 2331,
    "start_time": "2022-12-23T09:53:15.286Z"
   },
   {
    "duration": 918,
    "start_time": "2022-12-23T09:53:17.619Z"
   },
   {
    "duration": 2167,
    "start_time": "2022-12-23T09:53:18.540Z"
   },
   {
    "duration": 71,
    "start_time": "2022-12-23T09:53:20.709Z"
   },
   {
    "duration": 1004,
    "start_time": "2022-12-23T11:27:48.296Z"
   },
   {
    "duration": 1002,
    "start_time": "2022-12-23T11:28:14.113Z"
   },
   {
    "duration": 1331,
    "start_time": "2022-12-23T12:15:21.058Z"
   },
   {
    "duration": 795,
    "start_time": "2022-12-23T12:15:22.391Z"
   },
   {
    "duration": 85,
    "start_time": "2022-12-23T12:15:23.187Z"
   },
   {
    "duration": 173,
    "start_time": "2022-12-23T12:15:23.274Z"
   },
   {
    "duration": 471,
    "start_time": "2022-12-23T12:15:23.449Z"
   },
   {
    "duration": 321,
    "start_time": "2022-12-23T12:15:23.921Z"
   },
   {
    "duration": 28,
    "start_time": "2022-12-23T12:15:24.243Z"
   },
   {
    "duration": 68,
    "start_time": "2022-12-23T12:15:24.273Z"
   },
   {
    "duration": 46,
    "start_time": "2022-12-23T12:15:24.350Z"
   },
   {
    "duration": 10,
    "start_time": "2022-12-23T12:15:24.397Z"
   },
   {
    "duration": 25,
    "start_time": "2022-12-23T12:15:24.409Z"
   },
   {
    "duration": 48,
    "start_time": "2022-12-23T12:15:24.437Z"
   },
   {
    "duration": 328,
    "start_time": "2022-12-23T12:15:24.486Z"
   },
   {
    "duration": 12,
    "start_time": "2022-12-23T12:15:24.817Z"
   },
   {
    "duration": 47,
    "start_time": "2022-12-23T12:15:24.831Z"
   },
   {
    "duration": 926,
    "start_time": "2022-12-23T12:15:24.881Z"
   },
   {
    "duration": 17,
    "start_time": "2022-12-23T12:15:25.808Z"
   },
   {
    "duration": 49,
    "start_time": "2022-12-23T12:15:25.826Z"
   },
   {
    "duration": 32,
    "start_time": "2022-12-23T12:15:25.878Z"
   },
   {
    "duration": 23,
    "start_time": "2022-12-23T12:15:25.911Z"
   },
   {
    "duration": 52,
    "start_time": "2022-12-23T12:15:25.936Z"
   },
   {
    "duration": 979,
    "start_time": "2022-12-23T12:15:25.990Z"
   },
   {
    "duration": 51,
    "start_time": "2022-12-23T12:15:26.974Z"
   },
   {
    "duration": 347,
    "start_time": "2022-12-23T12:15:27.027Z"
   },
   {
    "duration": 25,
    "start_time": "2022-12-23T12:15:27.376Z"
   },
   {
    "duration": 51,
    "start_time": "2022-12-23T12:15:27.404Z"
   },
   {
    "duration": 175,
    "start_time": "2022-12-23T12:15:27.457Z"
   },
   {
    "duration": 100,
    "start_time": "2022-12-23T12:15:27.635Z"
   },
   {
    "duration": 108,
    "start_time": "2022-12-23T12:15:27.737Z"
   },
   {
    "duration": 104,
    "start_time": "2022-12-23T12:15:27.848Z"
   },
   {
    "duration": 134,
    "start_time": "2022-12-23T12:15:27.954Z"
   },
   {
    "duration": 632,
    "start_time": "2022-12-23T12:15:28.090Z"
   },
   {
    "duration": 699,
    "start_time": "2022-12-23T12:15:28.724Z"
   },
   {
    "duration": 648,
    "start_time": "2022-12-23T12:15:29.425Z"
   },
   {
    "duration": 610,
    "start_time": "2022-12-23T12:15:30.076Z"
   },
   {
    "duration": 567,
    "start_time": "2022-12-23T12:15:30.688Z"
   },
   {
    "duration": 6,
    "start_time": "2022-12-23T12:15:31.258Z"
   },
   {
    "duration": 161,
    "start_time": "2022-12-23T12:15:31.266Z"
   },
   {
    "duration": 82,
    "start_time": "2022-12-23T12:15:31.428Z"
   },
   {
    "duration": 852,
    "start_time": "2022-12-23T12:15:31.512Z"
   },
   {
    "duration": 1266,
    "start_time": "2022-12-23T12:15:32.371Z"
   },
   {
    "duration": 68,
    "start_time": "2022-12-23T12:15:33.638Z"
   },
   {
    "duration": 320,
    "start_time": "2022-12-23T12:15:33.708Z"
   },
   {
    "duration": 54,
    "start_time": "2022-12-23T12:15:34.030Z"
   },
   {
    "duration": 2117,
    "start_time": "2022-12-23T12:15:34.086Z"
   },
   {
    "duration": 18,
    "start_time": "2022-12-23T12:15:36.205Z"
   },
   {
    "duration": 2310,
    "start_time": "2022-12-23T12:15:36.225Z"
   },
   {
    "duration": 39,
    "start_time": "2022-12-23T12:15:38.536Z"
   },
   {
    "duration": 1089,
    "start_time": "2022-12-23T12:15:38.578Z"
   },
   {
    "duration": 925,
    "start_time": "2022-12-23T12:15:39.670Z"
   },
   {
    "duration": 1431,
    "start_time": "2022-12-23T12:15:40.597Z"
   },
   {
    "duration": 3572,
    "start_time": "2022-12-23T12:15:42.031Z"
   },
   {
    "duration": 1011,
    "start_time": "2022-12-23T12:15:45.605Z"
   },
   {
    "duration": 2638,
    "start_time": "2022-12-23T12:15:46.618Z"
   },
   {
    "duration": 3466,
    "start_time": "2022-12-23T12:15:49.258Z"
   },
   {
    "duration": 988,
    "start_time": "2022-12-23T12:15:52.726Z"
   },
   {
    "duration": 2441,
    "start_time": "2022-12-23T12:15:53.716Z"
   },
   {
    "duration": 3309,
    "start_time": "2022-12-23T12:15:56.159Z"
   },
   {
    "duration": 3362,
    "start_time": "2022-12-23T12:15:59.471Z"
   },
   {
    "duration": 40,
    "start_time": "2022-12-23T12:16:02.835Z"
   },
   {
    "duration": 940,
    "start_time": "2022-12-23T12:16:02.876Z"
   },
   {
    "duration": 2336,
    "start_time": "2022-12-23T12:16:03.818Z"
   },
   {
    "duration": 971,
    "start_time": "2022-12-23T12:16:06.156Z"
   },
   {
    "duration": 2147,
    "start_time": "2022-12-23T12:16:07.129Z"
   },
   {
    "duration": 1118,
    "start_time": "2022-12-23T13:46:32.292Z"
   },
   {
    "duration": 609,
    "start_time": "2022-12-23T13:46:33.412Z"
   },
   {
    "duration": 53,
    "start_time": "2022-12-23T13:46:34.023Z"
   },
   {
    "duration": 159,
    "start_time": "2022-12-23T13:46:34.078Z"
   },
   {
    "duration": 412,
    "start_time": "2022-12-23T13:46:34.240Z"
   },
   {
    "duration": 259,
    "start_time": "2022-12-23T13:46:34.653Z"
   },
   {
    "duration": 12,
    "start_time": "2022-12-23T13:46:34.914Z"
   },
   {
    "duration": 76,
    "start_time": "2022-12-23T13:46:34.928Z"
   },
   {
    "duration": 46,
    "start_time": "2022-12-23T13:46:35.006Z"
   },
   {
    "duration": 10,
    "start_time": "2022-12-23T13:46:35.054Z"
   },
   {
    "duration": 14,
    "start_time": "2022-12-23T13:46:35.065Z"
   },
   {
    "duration": 40,
    "start_time": "2022-12-23T13:46:35.080Z"
   },
   {
    "duration": 260,
    "start_time": "2022-12-23T13:46:35.121Z"
   },
   {
    "duration": 12,
    "start_time": "2022-12-23T13:46:35.384Z"
   },
   {
    "duration": 28,
    "start_time": "2022-12-23T13:46:35.397Z"
   },
   {
    "duration": 769,
    "start_time": "2022-12-23T13:46:35.426Z"
   },
   {
    "duration": 16,
    "start_time": "2022-12-23T13:46:36.197Z"
   },
   {
    "duration": 30,
    "start_time": "2022-12-23T13:46:36.214Z"
   },
   {
    "duration": 12,
    "start_time": "2022-12-23T13:46:36.245Z"
   },
   {
    "duration": 33,
    "start_time": "2022-12-23T13:46:36.259Z"
   },
   {
    "duration": 19,
    "start_time": "2022-12-23T13:46:36.293Z"
   },
   {
    "duration": 802,
    "start_time": "2022-12-23T13:46:36.314Z"
   },
   {
    "duration": 53,
    "start_time": "2022-12-23T13:46:37.118Z"
   },
   {
    "duration": 279,
    "start_time": "2022-12-23T13:46:37.173Z"
   },
   {
    "duration": 21,
    "start_time": "2022-12-23T13:46:37.454Z"
   },
   {
    "duration": 21,
    "start_time": "2022-12-23T13:46:37.477Z"
   },
   {
    "duration": 137,
    "start_time": "2022-12-23T13:46:37.500Z"
   },
   {
    "duration": 76,
    "start_time": "2022-12-23T13:46:37.639Z"
   },
   {
    "duration": 72,
    "start_time": "2022-12-23T13:46:37.717Z"
   },
   {
    "duration": 77,
    "start_time": "2022-12-23T13:46:37.791Z"
   },
   {
    "duration": 100,
    "start_time": "2022-12-23T13:46:37.870Z"
   },
   {
    "duration": 541,
    "start_time": "2022-12-23T13:46:37.972Z"
   },
   {
    "duration": 553,
    "start_time": "2022-12-23T13:46:38.515Z"
   },
   {
    "duration": 492,
    "start_time": "2022-12-23T13:46:39.070Z"
   },
   {
    "duration": 503,
    "start_time": "2022-12-23T13:46:39.564Z"
   },
   {
    "duration": 489,
    "start_time": "2022-12-23T13:46:40.069Z"
   },
   {
    "duration": 5,
    "start_time": "2022-12-23T13:46:40.560Z"
   },
   {
    "duration": 24,
    "start_time": "2022-12-23T13:46:40.566Z"
   },
   {
    "duration": 28,
    "start_time": "2022-12-23T13:46:40.592Z"
   },
   {
    "duration": 738,
    "start_time": "2022-12-23T13:46:40.621Z"
   },
   {
    "duration": 1061,
    "start_time": "2022-12-23T13:46:41.363Z"
   },
   {
    "duration": 57,
    "start_time": "2022-12-23T13:46:42.426Z"
   },
   {
    "duration": 279,
    "start_time": "2022-12-23T13:46:42.486Z"
   },
   {
    "duration": 27,
    "start_time": "2022-12-23T13:46:42.766Z"
   },
   {
    "duration": 1728,
    "start_time": "2022-12-23T13:46:42.794Z"
   },
   {
    "duration": 24,
    "start_time": "2022-12-23T13:46:44.524Z"
   },
   {
    "duration": 1904,
    "start_time": "2022-12-23T13:46:44.550Z"
   },
   {
    "duration": 21,
    "start_time": "2022-12-23T13:46:46.456Z"
   },
   {
    "duration": 882,
    "start_time": "2022-12-23T13:46:46.479Z"
   },
   {
    "duration": 662,
    "start_time": "2022-12-23T13:46:47.363Z"
   },
   {
    "duration": 1140,
    "start_time": "2022-12-23T13:46:48.027Z"
   },
   {
    "duration": 2883,
    "start_time": "2022-12-23T13:46:49.169Z"
   },
   {
    "duration": 888,
    "start_time": "2022-12-23T13:46:52.054Z"
   },
   {
    "duration": 2068,
    "start_time": "2022-12-23T13:46:52.944Z"
   },
   {
    "duration": 2845,
    "start_time": "2022-12-23T13:46:55.014Z"
   },
   {
    "duration": 872,
    "start_time": "2022-12-23T13:46:57.861Z"
   },
   {
    "duration": 2049,
    "start_time": "2022-12-23T13:46:58.735Z"
   },
   {
    "duration": 2930,
    "start_time": "2022-12-23T13:47:00.785Z"
   },
   {
    "duration": 3072,
    "start_time": "2022-12-23T13:47:03.717Z"
   },
   {
    "duration": 24,
    "start_time": "2022-12-23T13:47:06.790Z"
   },
   {
    "duration": 842,
    "start_time": "2022-12-23T13:47:06.816Z"
   },
   {
    "duration": 1942,
    "start_time": "2022-12-23T13:47:07.660Z"
   },
   {
    "duration": 828,
    "start_time": "2022-12-23T13:47:09.604Z"
   },
   {
    "duration": 1866,
    "start_time": "2022-12-23T13:47:10.435Z"
   },
   {
    "duration": 1422,
    "start_time": "2022-12-23T14:55:04.391Z"
   },
   {
    "duration": 2114,
    "start_time": "2022-12-23T14:55:05.815Z"
   },
   {
    "duration": 62,
    "start_time": "2022-12-23T14:55:07.931Z"
   },
   {
    "duration": 168,
    "start_time": "2022-12-23T14:55:07.995Z"
   },
   {
    "duration": 358,
    "start_time": "2022-12-23T14:55:08.164Z"
   },
   {
    "duration": 267,
    "start_time": "2022-12-23T14:55:08.523Z"
   },
   {
    "duration": 11,
    "start_time": "2022-12-23T14:55:08.792Z"
   },
   {
    "duration": 78,
    "start_time": "2022-12-23T14:55:08.805Z"
   },
   {
    "duration": 32,
    "start_time": "2022-12-23T14:55:08.885Z"
   },
   {
    "duration": 9,
    "start_time": "2022-12-23T14:55:08.920Z"
   },
   {
    "duration": 30,
    "start_time": "2022-12-23T14:55:08.930Z"
   },
   {
    "duration": 56,
    "start_time": "2022-12-23T14:55:08.963Z"
   },
   {
    "duration": 268,
    "start_time": "2022-12-23T14:55:09.021Z"
   },
   {
    "duration": 13,
    "start_time": "2022-12-23T14:55:09.291Z"
   },
   {
    "duration": 19,
    "start_time": "2022-12-23T14:55:09.305Z"
   },
   {
    "duration": 787,
    "start_time": "2022-12-23T14:55:09.326Z"
   },
   {
    "duration": 15,
    "start_time": "2022-12-23T14:55:10.115Z"
   },
   {
    "duration": 13,
    "start_time": "2022-12-23T14:55:10.131Z"
   },
   {
    "duration": 21,
    "start_time": "2022-12-23T14:55:10.146Z"
   },
   {
    "duration": 15,
    "start_time": "2022-12-23T14:55:10.169Z"
   },
   {
    "duration": 13,
    "start_time": "2022-12-23T14:55:10.186Z"
   },
   {
    "duration": 789,
    "start_time": "2022-12-23T14:55:10.201Z"
   },
   {
    "duration": 45,
    "start_time": "2022-12-23T14:55:10.992Z"
   },
   {
    "duration": 283,
    "start_time": "2022-12-23T14:55:11.052Z"
   },
   {
    "duration": 34,
    "start_time": "2022-12-23T14:55:11.336Z"
   },
   {
    "duration": 19,
    "start_time": "2022-12-23T14:55:11.371Z"
   },
   {
    "duration": 132,
    "start_time": "2022-12-23T14:55:11.392Z"
   },
   {
    "duration": 79,
    "start_time": "2022-12-23T14:55:11.528Z"
   },
   {
    "duration": 78,
    "start_time": "2022-12-23T14:55:11.608Z"
   },
   {
    "duration": 84,
    "start_time": "2022-12-23T14:55:11.687Z"
   },
   {
    "duration": 103,
    "start_time": "2022-12-23T14:55:11.772Z"
   },
   {
    "duration": 600,
    "start_time": "2022-12-23T14:55:11.877Z"
   },
   {
    "duration": 600,
    "start_time": "2022-12-23T14:55:12.479Z"
   },
   {
    "duration": 507,
    "start_time": "2022-12-23T14:55:13.081Z"
   },
   {
    "duration": 500,
    "start_time": "2022-12-23T14:55:13.590Z"
   },
   {
    "duration": 503,
    "start_time": "2022-12-23T14:55:14.092Z"
   },
   {
    "duration": 5,
    "start_time": "2022-12-23T14:55:14.596Z"
   },
   {
    "duration": 38,
    "start_time": "2022-12-23T14:55:14.602Z"
   },
   {
    "duration": 44,
    "start_time": "2022-12-23T14:55:14.642Z"
   },
   {
    "duration": 812,
    "start_time": "2022-12-23T14:55:14.688Z"
   },
   {
    "duration": 1139,
    "start_time": "2022-12-23T14:55:15.502Z"
   },
   {
    "duration": 45,
    "start_time": "2022-12-23T14:55:16.643Z"
   },
   {
    "duration": 272,
    "start_time": "2022-12-23T14:55:16.690Z"
   },
   {
    "duration": 28,
    "start_time": "2022-12-23T14:55:16.964Z"
   },
   {
    "duration": 1716,
    "start_time": "2022-12-23T14:55:16.994Z"
   },
   {
    "duration": 16,
    "start_time": "2022-12-23T14:55:18.711Z"
   },
   {
    "duration": 1942,
    "start_time": "2022-12-23T14:55:18.729Z"
   },
   {
    "duration": 14,
    "start_time": "2022-12-23T14:55:20.673Z"
   },
   {
    "duration": 917,
    "start_time": "2022-12-23T14:55:20.689Z"
   },
   {
    "duration": 691,
    "start_time": "2022-12-23T14:55:21.607Z"
   },
   {
    "duration": 1168,
    "start_time": "2022-12-23T14:55:22.300Z"
   },
   {
    "duration": 3014,
    "start_time": "2022-12-23T14:55:23.469Z"
   },
   {
    "duration": 902,
    "start_time": "2022-12-23T14:55:26.485Z"
   },
   {
    "duration": 2064,
    "start_time": "2022-12-23T14:55:27.389Z"
   },
   {
    "duration": 2929,
    "start_time": "2022-12-23T14:55:29.455Z"
   },
   {
    "duration": 945,
    "start_time": "2022-12-23T14:55:32.387Z"
   },
   {
    "duration": 2148,
    "start_time": "2022-12-23T14:55:33.334Z"
   },
   {
    "duration": 2865,
    "start_time": "2022-12-23T14:55:35.484Z"
   },
   {
    "duration": 2838,
    "start_time": "2022-12-23T14:55:38.352Z"
   },
   {
    "duration": 24,
    "start_time": "2022-12-23T14:55:41.191Z"
   },
   {
    "duration": 855,
    "start_time": "2022-12-23T14:55:41.217Z"
   },
   {
    "duration": 2152,
    "start_time": "2022-12-23T14:55:42.074Z"
   },
   {
    "duration": 859,
    "start_time": "2022-12-23T14:55:44.227Z"
   },
   {
    "duration": 1890,
    "start_time": "2022-12-23T14:55:45.088Z"
   }
  ],
  "kernelspec": {
   "display_name": "Python 3 (ipykernel)",
   "language": "python",
   "name": "python3"
  },
  "language_info": {
   "codemirror_mode": {
    "name": "ipython",
    "version": 3
   },
   "file_extension": ".py",
   "mimetype": "text/x-python",
   "name": "python",
   "nbconvert_exporter": "python",
   "pygments_lexer": "ipython3",
   "version": "3.9.12"
  },
  "toc": {
   "base_numbering": 1,
   "nav_menu": {
    "height": "190px",
    "width": "160px"
   },
   "number_sections": true,
   "sideBar": true,
   "skip_h1_title": true,
   "title_cell": "Содержание",
   "title_sidebar": "Содержание",
   "toc_cell": false,
   "toc_position": {
    "height": "calc(100% - 180px)",
    "left": "10px",
    "top": "150px",
    "width": "165px"
   },
   "toc_section_display": true,
   "toc_window_display": true
  }
 },
 "nbformat": 4,
 "nbformat_minor": 5
}
