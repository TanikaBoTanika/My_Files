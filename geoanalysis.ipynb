{
 "cells": [
  {
   "cell_type": "markdown",
   "id": "bfea1fd4",
   "metadata": {},
   "source": [
    "<h1 style=\"color:navy\">Изучение заведений общественного питания Москвы</h1> "
   ]
  },
  {
   "cell_type": "markdown",
   "id": "8597f2b1",
   "metadata": {},
   "source": [
    "<div style =\"color:navy; font-size:16pt\"><b>Описание проекта</b></div>"
   ]
  },
  {
   "cell_type": "markdown",
   "id": "f6383a69",
   "metadata": {},
   "source": [
    "- Заказчик планирует открыть заведение общественного питания в Москве: кафе, ресторан, пиццерию, паб или бар.  Тип, расположение, меню и цены пока не определены. \n",
    "- Наиболее привлекательной идеей для клиента кажется открытие дорогой кофейни.\n",
    "\n",
    "Для анализа имеются данные о заведениях общественного питания Москвы составленные с помощью сервисов «Яндекс Карты» и «Яндекс Бизнес» на лето 2022 года.\n",
    "\n",
    "Требуется исследовать этот рынок, найти интересные особенности и презентовать полученные результаты, которые помогут в выборе подходящего места. Особое внимание следует уделить изучению кофеен, чтобы понять осуществимо ли желание клиента."
   ]
  },
  {
   "cell_type": "markdown",
   "id": "2e19fd8f",
   "metadata": {},
   "source": [
    "**Цели проекта**\n",
    "\n",
    "- научиться представлять имеющуюся информацию в удобном и понятном виде с помощью различных способов визуализации;\n",
    "- приобрести навыки работы с геоданными;\n",
    "- создать презентацию по результатам исследования данных."
   ]
  },
  {
   "cell_type": "markdown",
   "id": "90f469e3",
   "metadata": {},
   "source": [
    "**Ход исследования**\n",
    "\n",
    "1. Подготовить данные к исследованию - исключить дубликаты, по возможности заполнить пропущенные значения.\n",
    "2. Провести исследовательский анализ данных для сравнения заведений общественного питания по категориям и расположению.\n",
    "3. Отдельно изучить кофейни. Найти подходящие ниши в этом сегменте рынка. \n",
    "4. Визуализировать результаты исследования.\n",
    "5. Подготовить презентацию для клиента по результатам анализа. "
   ]
  },
  {
   "cell_type": "markdown",
   "id": "45b503a1",
   "metadata": {},
   "source": [
    "**Презентация** доступна по ссылке: https://drive.google.com/file/d/1w6m9h8FZNUbWVFA-4QIve5qZkGm2oBx-/view\n",
    "<hr style=\"background-color:navy; align:left; height:2pt\">"
   ]
  },
  {
   "cell_type": "markdown",
   "id": "e2f15a1b",
   "metadata": {},
   "source": [
    "<h2 style=\"color:navy\">Предобработка данных</h2>"
   ]
  },
  {
   "cell_type": "markdown",
   "id": "e0f27769",
   "metadata": {},
   "source": [
    "### Загрузка библиотек и файлов"
   ]
  },
  {
   "cell_type": "code",
   "execution_count": null,
   "id": "30097be2",
   "metadata": {
    "scrolled": false
   },
   "outputs": [],
   "source": [
    "# если не загружена какая-либо из библиотек:\n",
    "# ! pip install folium\n",
    "# ! pip install ipywidgets\n",
    "# ! pip install geopandas\n",
    "# ! pip install shapely\n",
    "# ! pip install pyogrio\n",
    "# ! pip install folium matplotlib mapclassify"
   ]
  },
  {
   "cell_type": "code",
   "execution_count": null,
   "id": "404d302a",
   "metadata": {
    "scrolled": true
   },
   "outputs": [],
   "source": [
    "# импорт библиотек\n",
    "import pandas as pd\n",
    "\n",
    "# библиотеки для визуализации\n",
    "import seaborn as sns\n",
    "\n",
    "import matplotlib as mpl\n",
    "from matplotlib import pyplot as plt    "
   ]
  },
  {
   "cell_type": "code",
   "execution_count": null,
   "id": "f55328aa",
   "metadata": {
    "scrolled": true
   },
   "outputs": [],
   "source": [
    "# библиотеки для чтения и создания географических координат\n",
    "import json\n",
    "from shapely import geometry\n",
    "\n",
    "# библиотеки для анализа и визуализации геоданных\n",
    "import folium\n",
    "from folium.plugins import MarkerCluster\n",
    "import geopandas as gpd\n",
    "\n",
    "# библиотека для интерактивной карты\n",
    "import ipywidgets as widgets"
   ]
  },
  {
   "cell_type": "code",
   "execution_count": null,
   "id": "1d1c76f4",
   "metadata": {
    "scrolled": true
   },
   "outputs": [],
   "source": [
    "# загрузка датасета с пунктами питания\n",
    "try: \n",
    "    rest = pd.read_csv('/datasets/moscow_places.csv')\n",
    "except:\n",
    "    try:\n",
    "        rest = pd.read_csv('moscow_places.csv')\n",
    "    except: \n",
    "        rest = pd.read_csv('https://code.s3.yandex.net/datasets/moscow_places.csv')"
   ]
  },
  {
   "cell_type": "code",
   "execution_count": null,
   "id": "b849a2df",
   "metadata": {
    "scrolled": true
   },
   "outputs": [],
   "source": [
    "# загрузка файла с геоданными административных округов\n",
    "try:\n",
    "    ao_json = json.load(open('/datasets/admin_level_geomap.geojson', 'r', encoding='utf8'))\n",
    "except:\n",
    "    try:\n",
    "        ao_json = json.load(open('admin_level_geomap.geojson', 'r', encoding='utf8'))\n",
    "    except: \n",
    "        value = 'https://code.s3.yandex.net/data-analyst/admin_level_geomap.geojson'\n",
    "        ao_json = json.load(open(value, 'r', encoding='utf8'))        "
   ]
  },
  {
   "cell_type": "code",
   "execution_count": null,
   "id": "6c4858b8",
   "metadata": {
    "scrolled": true
   },
   "outputs": [],
   "source": [
    "# загрузка датасета с геоданными муниципальных образований (районов)\n",
    "try:\n",
    "    value = 'https://drive.google.com/uc?export=download&id=1P6ById-iwqa-5iliDeJ1D6r0ifHgDi7_'\n",
    "    mo_df = gpd.read_file(value)    \n",
    "except:\n",
    "    try: \n",
    "        mo_df = gpd.read_file('http://gis-lab.info/data/mos-adm/mo.geojson')\n",
    "    except:\n",
    "        mo_df = gpd.read_file('mo.geojson')"
   ]
  },
  {
   "cell_type": "code",
   "execution_count": null,
   "id": "7d0a475a",
   "metadata": {
    "scrolled": true
   },
   "outputs": [],
   "source": [
    "# загрузка датасета с площадями и населением районов\n",
    "try:\n",
    "    mo_area = pd.read_csv('mo_area.csv', sep='\\t', encoding='utf8')\n",
    "except:\n",
    "    value = 'https://drive.google.com/uc?export=download&id=1HdFP39flaJ6CbyaRM8Ci8OpJ2ZG4mPi-'\n",
    "    mo_area = pd.read_csv(value, sep='\\t', encoding='utf8')"
   ]
  },
  {
   "cell_type": "markdown",
   "id": "368fd0f1",
   "metadata": {},
   "source": [
    "Два файла с данными по муниципальным округам можно также скачать по ссылкам:\n",
    "1. [геоданные](https://disk.yandex.ru/d/JyDAh6Nwmizn7A \"скачать файл\") или [gis-lab.info](https://gis-lab.info/qa/moscow-atd.html) \n",
    "2. [информация о площади и населении](https://disk.yandex.ru/d/sWj8c1RUGnUY0A) создана на основе таблицы из \n",
    "[Википедии](https://ru.wikipedia.org/wiki/Районы_и_поселения_Москвы)."
   ]
  },
  {
   "cell_type": "markdown",
   "id": "49b0a348",
   "metadata": {},
   "source": [
    "### Чтение данных"
   ]
  },
  {
   "cell_type": "markdown",
   "id": "2b154a72",
   "metadata": {},
   "source": [
    "#### Таблица rest"
   ]
  },
  {
   "cell_type": "code",
   "execution_count": null,
   "id": "2e607724",
   "metadata": {
    "scrolled": false
   },
   "outputs": [],
   "source": [
    "# Количество записей, типы данных в столбцах и наличие дубликатов\n",
    "rest.info()"
   ]
  },
  {
   "cell_type": "code",
   "execution_count": null,
   "id": "979a9bae",
   "metadata": {
    "scrolled": false
   },
   "outputs": [],
   "source": [
    "# переименуем несколько столбцов для краткости\n",
    "rest = rest.rename(columns={\n",
    "             'avg_bill': 'bill_info',             \n",
    "             'middle_coffee_cup': 'coffee'})\n",
    "rest = rest.rename(columns={\n",
    "             'avg_bill': 'bill_info',             \n",
    "             'middle_avg_bill': 'avg_bill'})\n",
    "\n",
    "# выведем произвольные строки таблицы\n",
    "display(rest.sample(5))"
   ]
  },
  {
   "cell_type": "markdown",
   "id": "83004575",
   "metadata": {},
   "source": [
    "#### Таблица mo_df"
   ]
  },
  {
   "cell_type": "code",
   "execution_count": null,
   "id": "cc5c308b",
   "metadata": {
    "scrolled": true
   },
   "outputs": [],
   "source": [
    "# информация о датафрейме с данными о районах Москвы\n",
    "mo_df.info()"
   ]
  },
  {
   "cell_type": "code",
   "execution_count": null,
   "id": "6c7be454",
   "metadata": {
    "scrolled": false
   },
   "outputs": [],
   "source": [
    "# оставим только нужные столбцы\n",
    "mo_df = mo_df[['NAME', 'ABBREV_AO', 'geometry']]\n",
    "\n",
    "# переименуем столбцы\n",
    "mo_df.columns = ['area', 'ward', 'geometry']\n",
    "# посмотрим как выглядят произвольные строки\n",
    "display(mo_df.sample(3))"
   ]
  },
  {
   "cell_type": "markdown",
   "id": "ac31885b",
   "metadata": {},
   "source": [
    "#### Таблица mo_area"
   ]
  },
  {
   "cell_type": "code",
   "execution_count": null,
   "id": "86ee1b6f",
   "metadata": {
    "scrolled": true
   },
   "outputs": [],
   "source": [
    "# посмотрим как выглядят произвольные строки\n",
    "display(mo_area.sample(3))"
   ]
  },
  {
   "cell_type": "markdown",
   "id": "7cbd1b17",
   "metadata": {},
   "source": [
    "#### Определение переменных"
   ]
  },
  {
   "cell_type": "markdown",
   "id": "0f2799ac",
   "metadata": {},
   "source": [
    "Зададим необходимые для визуализации цветовые палитры и географические координаты."
   ]
  },
  {
   "cell_type": "code",
   "execution_count": null,
   "id": "43c32cf5",
   "metadata": {
    "scrolled": true
   },
   "outputs": [],
   "source": [
    "# список цветов для категорий\n",
    "cat_color = ['#f29e00', '#fdc800', '#7794a3', '#2b8524', \n",
    "             '#16537d', '#cf2c2c', '#61cc64', '#d48281']\n",
    "\n",
    "# список из 11 цветов для других графиков\n",
    "color_list = ['#cf2c2c', '#16537d', '#d48281', '#7794a3', '#f29e00', '#61cc64', \n",
    "              '#2b8524', '#e83873', '#3374c0', '#fdc800', '#4e9dfc']\n",
    "\n",
    "# географические координаты Москвы\n",
    "moscow_lat, moscow_lng = 55.751244, 37.618423"
   ]
  },
  {
   "cell_type": "markdown",
   "id": "651111ed",
   "metadata": {},
   "source": [
    "#### Описание данных"
   ]
  },
  {
   "cell_type": "markdown",
   "id": "310cdf5a",
   "metadata": {},
   "source": [
    "Датафрейм `rest` содержит следующую информацию:\n",
    "- `name` — название;\n",
    "- `category` — категория («кафе», «пиццерия» и т.п.);\n",
    "- `address` — адрес;\n",
    "- `district` — административный район;\n",
    "- `hours` — дни и часы работы;\n",
    "- `lat` — географическая широта;\n",
    "- `lng` — географическая долгота;\n",
    "- `rating` — рейтинг по оценкам пользователей в Яндекс Картах (высшая оценка — 5.0);\n",
    "- `price` — категория цен («средние», «ниже среднего» и т.д.);\n",
    "- `bill_info` — средняя стоимость заказа в виде диапазона («Средний счёт: 1000–1500 ₽» и т.д.);\n",
    "- `avg_bill` — средний чек (руб., рассчитан по значениям «Средний счёт» из avg_bill);\n",
    "- `coffee` — средняя цена чашки кофе (руб., по «Цене одной чашки капучино» из avg_bill);\n",
    "- `chain` — признак сети (для маленьких сетей могут встречаться ошибки);\n",
    "- `seats` — количество посадочных мест.\n",
    "\n",
    "Гео-датафрейм `mo_df` состоит из полей:\n",
    "- `area` — название муниципального округа (района);\n",
    "- `ward` — сокращённое название административного округа;\n",
    "- `geometry` — географические координаты в виде полигона для муниципального округа.\n",
    "\n",
    "В таблице `mo_area`:\n",
    "- `area` — название муниципального округа\n",
    "- `ward` — сокращённое название административного округа\n",
    "- `square` — площадь муниципального округа (района)\n",
    "- `population` — население\n",
    "\n",
    "Два последний датафрейма объединить пока не получится, т.к. гео-датафрейм содержит записи о старых и новых административныз округах. А mo_area - только старые. "
   ]
  },
  {
   "cell_type": "markdown",
   "id": "5cc60c48",
   "metadata": {},
   "source": [
    "### Пропущенные значения"
   ]
  },
  {
   "cell_type": "markdown",
   "id": "07ba3e01",
   "metadata": {},
   "source": [
    "#### Подсчёт пропусков\n",
    "\n",
    "Посчитаем сколько пропущено значений в столбцах"
   ]
  },
  {
   "cell_type": "code",
   "execution_count": null,
   "id": "a8c26d3e",
   "metadata": {
    "scrolled": true
   },
   "outputs": [],
   "source": [
    "df_temp = rest.isna().sum().to_frame()\n",
    "df_temp.columns = ['total']\n",
    "df_temp['mean'] = round(rest.isna().mean(), 4)\n",
    "df_temp = df_temp.query('total > 0')\n",
    "display(df_temp.style.background_gradient('Blues').format('{:0.2%}', subset='mean'))"
   ]
  },
  {
   "cell_type": "markdown",
   "id": "b4c15422",
   "metadata": {},
   "source": [
    "#### Пропуски в текстовых полях\n",
    "\n",
    "Можем заменить пропуски на «**не указано**» в столбцах:\n",
    "- `hours` - время работы;\n",
    "- `avg_bill` -описание диапазонов среднего чека;\n",
    "- `price` - уровень цен."
   ]
  },
  {
   "cell_type": "code",
   "execution_count": null,
   "id": "1844c3fa",
   "metadata": {
    "scrolled": true
   },
   "outputs": [],
   "source": [
    "rest[['hours', 'bill_info', 'price']] = rest[['hours', 'bill_info', 'price']].fillna('не указано')"
   ]
  },
  {
   "cell_type": "markdown",
   "id": "5d94c857",
   "metadata": {},
   "source": [
    "#### Пропуски в полях с ценами\n",
    "\n",
    "В столбцах со средним чеком и ценой за чашку кофе очень много проущенных значений. Эти суммы были рассчитаны автоматически по информации из bill_info, в котором нет информации более чем в половине записей. Посмотрим, есть ли нулевые значения в столбцах со средним чеком и ценой за чашку кофе."
   ]
  },
  {
   "cell_type": "code",
   "execution_count": null,
   "id": "61dd4962",
   "metadata": {
    "scrolled": true
   },
   "outputs": [],
   "source": [
    "display(rest[['avg_bill', 'coffee']].min().to_frame())\n",
    "# найдём заведения, где кормят бесплатно\n",
    "rest.query('avg_bill==0')"
   ]
  },
  {
   "cell_type": "markdown",
   "id": "17e9b9fa",
   "metadata": {},
   "source": [
    "Величину среднего чека в Кофемании на Новом Арбате явно посчитали некорректно, т.к. была указана только нижняя граница этого значения. Других нулевых значений нет в этих двух столбцах нет, поэтому можем заменить пропуски нулями. Главное, не забыть исключить их при анализе размера среднего чека. Кроме того, переведём эти поля в целочисленный формат, чтобы не считать до копейки. "
   ]
  },
  {
   "cell_type": "code",
   "execution_count": null,
   "id": "fe93ec20",
   "metadata": {
    "scrolled": true
   },
   "outputs": [],
   "source": [
    "rest[['avg_bill', 'coffee']] = rest[['avg_bill', 'coffee']].fillna(0).astype(int)"
   ]
  },
  {
   "cell_type": "markdown",
   "id": "0ebfde41",
   "metadata": {},
   "source": [
    "#### Пропуски в количестве мест"
   ]
  },
  {
   "cell_type": "code",
   "execution_count": null,
   "id": "aefbd6aa",
   "metadata": {
    "scrolled": true
   },
   "outputs": [],
   "source": [
    "value = rest.query('seats==0').seats.count()\n",
    "print(f'Количество заведений без сидячих мест: \\033[1m{value}\\033[0m')"
   ]
  },
  {
   "cell_type": "markdown",
   "id": "f6646ac3",
   "metadata": {},
   "source": [
    "В данном случае сложно предположить чем можно заменить пропущенные значения. Всё же удобно, когда количество принимает целое значение. До тех пор, пока в столбце содержатся пропущенные значения, перевести его в целочисленный формат не получится. Заменим пропущенные значения на «-1», но обязательно будем исключать их при любых подсчётах в столбце `seats`. "
   ]
  },
  {
   "cell_type": "code",
   "execution_count": null,
   "id": "6b93751a",
   "metadata": {
    "scrolled": true
   },
   "outputs": [],
   "source": [
    "rest.seats = rest.seats.fillna(-1).astype(int)"
   ]
  },
  {
   "cell_type": "markdown",
   "id": "ffb2935b",
   "metadata": {},
   "source": [
    "### Изучение содержимого датафрейма"
   ]
  },
  {
   "cell_type": "markdown",
   "id": "66e5a674",
   "metadata": {},
   "source": [
    "#### Названия заведений\n",
    "\n",
    "Так как в нашем проекте не принципиальны названия каждой отдельной точки, переведём названия в нижний регистр"
   ]
  },
  {
   "cell_type": "code",
   "execution_count": null,
   "id": "ed4cc071",
   "metadata": {
    "scrolled": true
   },
   "outputs": [],
   "source": [
    "rest.name = rest.name.str.lower()"
   ]
  },
  {
   "cell_type": "markdown",
   "id": "4c6e1fcf",
   "metadata": {},
   "source": [
    "#### Категории\n",
    "\n",
    "Убедимся, что в значениях столбца `category` нет ошибок"
   ]
  },
  {
   "cell_type": "code",
   "execution_count": null,
   "id": "648e0a4a",
   "metadata": {
    "scrolled": true
   },
   "outputs": [],
   "source": [
    "display(rest.category.value_counts().to_frame())"
   ]
  },
  {
   "cell_type": "markdown",
   "id": "e6fb48b7",
   "metadata": {},
   "source": [
    "- Заменим «бар,паб» на просто «**бар**». \n",
    "- Заменим «быстрое питание» на «**фастфуд**», чтобы сократить подписи на графиках.\n",
    "- И сохраним список категорий в `cat_list`."
   ]
  },
  {
   "cell_type": "code",
   "execution_count": null,
   "id": "00c4aba2",
   "metadata": {
    "scrolled": true
   },
   "outputs": [],
   "source": [
    "rest.category = rest.category.replace('бар,паб', 'бар')\n",
    "rest.category = rest.category.replace('быстрое питание', 'фастфуд')\n",
    "cat_list = sorted(rest.category.unique())"
   ]
  },
  {
   "cell_type": "markdown",
   "id": "6b025728",
   "metadata": {},
   "source": [
    "#### Количество мест\n",
    "Посмотрим на самые большие значения этого столбца"
   ]
  },
  {
   "cell_type": "code",
   "execution_count": null,
   "id": "0133b03b",
   "metadata": {
    "scrolled": true
   },
   "outputs": [],
   "source": [
    "display(rest.query('seats==seats.max()').head(3))"
   ]
  },
  {
   "cell_type": "markdown",
   "id": "e4a07934",
   "metadata": {},
   "source": [
    "Мы вывели только 3 строки, но их гораздо больше и все заведения находятся по разным адресам на проспекте Вернадского. Такое ощущение, что для всех этих строк посчитали суммарные значения по всему проспекту. К сожалению, не понятно что делать с этими значениями. Скорее всего их придется просто обнулить. "
   ]
  },
  {
   "cell_type": "code",
   "execution_count": null,
   "id": "5782d601",
   "metadata": {
    "scrolled": true
   },
   "outputs": [],
   "source": [
    "rest.seats = rest.seats.replace(1288, 0)"
   ]
  },
  {
   "cell_type": "code",
   "execution_count": null,
   "id": "4e9f3329",
   "metadata": {
    "scrolled": true
   },
   "outputs": [],
   "source": [
    "display(rest.query('seats==seats.max()'))"
   ]
  },
  {
   "cell_type": "markdown",
   "id": "ea145873",
   "metadata": {},
   "source": [
    "Какая-то слишком уж большая столовая. Разделим эту цифру на 10. Остальные значения оставим в первоначальном виде. Просто будем иметь ввиду, что среди них имеются выбросы."
   ]
  },
  {
   "cell_type": "code",
   "execution_count": null,
   "id": "44144bfd",
   "metadata": {
    "scrolled": true
   },
   "outputs": [],
   "source": [
    "rest.loc[4231, 'seats'] = 120"
   ]
  },
  {
   "cell_type": "markdown",
   "id": "036eec92",
   "metadata": {},
   "source": [
    "#### Сетевые и несетевые заведения\n",
    "\n",
    "Метку того, что запись относится к какой-либо сети переведём для удобства в логический тип."
   ]
  },
  {
   "cell_type": "code",
   "execution_count": null,
   "id": "b13b6a86",
   "metadata": {
    "scrolled": true
   },
   "outputs": [],
   "source": [
    "rest.chain = rest.chain.astype('bool')\n",
    "\n",
    "print('\\033[1mСетевые заведения, представленые по названию ', end='')\n",
    "print('в единственном числе:\\033[0m')\n",
    "list_tmp = rest.query('chain').name.value_counts().to_frame().query('name==1').index\n",
    "print(*list_tmp, sep=', ')"
   ]
  },
  {
   "cell_type": "markdown",
   "id": "3955116d",
   "metadata": {},
   "source": [
    "Что касается выведенного выше списка, возможно, что некоторые сети используют для своих точек разные названия или в некоторых названиях есть ошибки или уточнения. Как бы ни было, не понятно, к какой именно сети относятся указанные точки. Исключим их из сетевых."
   ]
  },
  {
   "cell_type": "code",
   "execution_count": null,
   "id": "f2ade65d",
   "metadata": {
    "scrolled": true
   },
   "outputs": [],
   "source": [
    "rest.chain = rest.chain.mask(rest.name.isin(list_tmp), False)"
   ]
  },
  {
   "cell_type": "markdown",
   "id": "9d9d7257",
   "metadata": {},
   "source": [
    "#### Время работы \n",
    "\n",
    "Добавим метку для круглосуточных заведений. "
   ]
  },
  {
   "cell_type": "code",
   "execution_count": null,
   "id": "508958b1",
   "metadata": {
    "scrolled": true
   },
   "outputs": [],
   "source": [
    "# проконтролируем, что все значения в нижнем регистре\n",
    "rest.hours = rest.hours.str.lower()\n",
    "\n",
    "rest['is_24/7'] = (rest['hours'].str.contains(\"ежедневно, круглосуточно\"))"
   ]
  },
  {
   "cell_type": "markdown",
   "id": "c6d40967",
   "metadata": {},
   "source": [
    "#### Уровень цен"
   ]
  },
  {
   "cell_type": "code",
   "execution_count": null,
   "id": "3fd62f6b",
   "metadata": {
    "scrolled": true
   },
   "outputs": [],
   "source": [
    "display(sorted(rest.price.unique()))"
   ]
  },
  {
   "cell_type": "markdown",
   "id": "461fc0c2",
   "metadata": {},
   "source": [
    "С категориями по уровню цен всё в порядке, но такую информацию неудобно будет сортировать в случае необходимости. Поэтому:\n",
    "- создадим список `prices_list` с уровнями цен, отсортированными в логичном порядке;\n",
    "- продублируем эти значения цифровым полем 'prices' в таблице."
   ]
  },
  {
   "cell_type": "code",
   "execution_count": null,
   "id": "cd9d77a4",
   "metadata": {
    "scrolled": true
   },
   "outputs": [],
   "source": [
    "prices_list = ['не указано', 'низкие', 'средние', 'выше среднего', 'высокие']\n",
    "rest['prices'] = rest.price.replace(prices_list, range(0,5))          "
   ]
  },
  {
   "cell_type": "markdown",
   "id": "e145a4f4",
   "metadata": {},
   "source": [
    "#### Средние суммы чека\n",
    "\n",
    "Проверим есть ли аномальные значения в ценах"
   ]
  },
  {
   "cell_type": "code",
   "execution_count": null,
   "id": "6e61fc21",
   "metadata": {
    "scrolled": true
   },
   "outputs": [],
   "source": [
    "df_tmp = rest.query('avg_bill>0').groupby('category').avg_bill.describe()\n",
    "df_tmp = df_tmp[['count', 'min', '50%', 'max']].astype(int).T\n",
    "display(df_tmp)"
   ]
  },
  {
   "cell_type": "markdown",
   "id": "64ad82d5",
   "metadata": {},
   "source": [
    "Посмотрим нет ли элементарной ошибки в случае среднего чека на 35 тысяч рублей. Выведем все заведения, где эта сумма выше, например 7 тысяч."
   ]
  },
  {
   "cell_type": "code",
   "execution_count": null,
   "id": "9e9200b9",
   "metadata": {
    "scrolled": false
   },
   "outputs": [],
   "source": [
    "rest.query('avg_bill>7000')"
   ]
  },
  {
   "cell_type": "markdown",
   "id": "96e5d51f",
   "metadata": {},
   "source": [
    "1. Чойхону проверим по адресу.\n",
    "2. Цены в Белом Кролике действительно высокие.\n",
    "3. Возможно, это заведение для праздников, которое работает только 2 раза в неделю. Либо это тоже ошибка. Много данных мы не потеряем, если исключим эту строку из данных.\n",
    "4. Казалось бы, что в суммы для то ли кафе то ли ресторана на Каширском шоссе закрались ошибки. Но, к моему огромному сожалению, я знаю что там находится. Это морг при онкоцентре. А кафе и ресторан используется для организации прощальных мероприятий. Вряд ли клиент планирует октрыть подобное заведение, судя по его запросам. И в качестве обычного заведения это место тоже не подходит. Просто исключим эту строку из данных."
   ]
  },
  {
   "cell_type": "code",
   "execution_count": null,
   "id": "e2d97bb2",
   "metadata": {
    "scrolled": true
   },
   "outputs": [],
   "source": [
    "rest.query('address.str.contains(\"Дмитровское шоссе, 95\")')"
   ]
  },
  {
   "cell_type": "markdown",
   "id": "04f17d53",
   "metadata": {},
   "source": [
    "Больше похоже на ошибочную строку. Чойхону скорее всего переименовали в Тандыр. А так как уровень цен сомнителен, удалим вторую из этих двух строк. И проверим цены в пунктах быстрого питания."
   ]
  },
  {
   "cell_type": "code",
   "execution_count": null,
   "id": "e5d4f776",
   "metadata": {
    "scrolled": true
   },
   "outputs": [],
   "source": [
    "rest = rest.query('avg_bill<10000')\n",
    "rest.query('category==\"фастфуд\" & avg_bill>2000')"
   ]
  },
  {
   "cell_type": "markdown",
   "id": "6cce9d25",
   "metadata": {},
   "source": [
    "1. Исправим цены для \"Крошки картошки\", уменьшив в 10 раз. Это ошибка.\n",
    "2. phobo - малоизвестная сеть, но средняя цена во всех заведениях этой сети 500 рублей. Исправим и эту строку. \n",
    "3. Неизвестно что за Саят-Нова. Но в Капотне не очень много заведений. Возможно, многие заказывают еду сразу на компанию. Поэтому и цена среднего чека получается высокой. \n",
    "\n",
    "Остальные аномалии не будем исправлять, чтобы не тратить время. Просто будем иметь ввиду, что они присутствуют в наших данных."
   ]
  },
  {
   "cell_type": "code",
   "execution_count": null,
   "id": "0fd007ac",
   "metadata": {
    "scrolled": true
   },
   "outputs": [],
   "source": [
    "rest.loc[2795,'avg_bill'] = 550\n",
    "rest.loc[4269, 'avg_bill'] = 500"
   ]
  },
  {
   "cell_type": "markdown",
   "id": "54eba808",
   "metadata": {},
   "source": [
    "#### Цена за чашку кофе\n",
    "\n",
    "Аналогично предыдущему пункту, посмотрим есть ли аномалии в этом столбце."
   ]
  },
  {
   "cell_type": "code",
   "execution_count": null,
   "id": "305a73a8",
   "metadata": {
    "scrolled": true
   },
   "outputs": [],
   "source": [
    "rest.query('coffee>400')"
   ]
  },
  {
   "cell_type": "markdown",
   "id": "c585a197",
   "metadata": {},
   "source": [
    "Пожалуй, это единственная здесь аномалия - в информации о среднем чеке неверно указали максимальное значение. По всем остальным Шоколадницам средняя цена за чашку кофе стандартно составляет 256 руб. "
   ]
  },
  {
   "cell_type": "code",
   "execution_count": null,
   "id": "6c49cb62",
   "metadata": {
    "scrolled": true
   },
   "outputs": [],
   "source": [
    "rest.loc[2859, 'coffee'] = 256"
   ]
  },
  {
   "cell_type": "markdown",
   "id": "4bf7a77e",
   "metadata": {},
   "source": [
    "### Работа с адресами"
   ]
  },
  {
   "cell_type": "markdown",
   "id": "6ea0aa0c",
   "metadata": {},
   "source": [
    "#### Округ\n",
    "\n",
    "Проверим, что названия округов в порядке."
   ]
  },
  {
   "cell_type": "code",
   "execution_count": null,
   "id": "f9ad94c9",
   "metadata": {
    "scrolled": true
   },
   "outputs": [],
   "source": [
    "display(sorted(rest.district.unique()))"
   ]
  },
  {
   "cell_type": "markdown",
   "id": "993738a0",
   "metadata": {},
   "source": [
    "- Сохраним в таблицу `ward_df` длинные и сокращённые названия округов.\n",
    "- Добавим столбец `ward` с общепринятыми сокращениями для названий округов, чтобы удобнее было использовать на графиках."
   ]
  },
  {
   "cell_type": "code",
   "execution_count": null,
   "id": "5d316057",
   "metadata": {
    "scrolled": true
   },
   "outputs": [],
   "source": [
    "%%capture --no-display\n",
    "# создадим столбец с индексами и значениями равными названиям округов\n",
    "ward_df = pd.Series(data = sorted(rest.district.unique()),\n",
    "                    index = sorted(rest.district.unique()))\n",
    "# значения столбца сделаем сокращенями (питон немного ворчит, но пока делает)\n",
    "ward_df = ward_df.str.title()\n",
    "ward_df = ward_df.str.replace(r'[а-я -]', '') \n",
    "\n",
    "# добавим столбец с сокращениями в датафреймы rest и mo_df\n",
    "rest['ward'] = rest.district.apply(lambda x: ward_df[x])\n",
    "\n",
    "# приведём таблицу ward_df к обычному виду\n",
    "ward_df = ward_df.reset_index()\n",
    "\n",
    "# добавим названия столбцов\n",
    "ward_df.columns = ['district', 'ward']"
   ]
  },
  {
   "cell_type": "markdown",
   "id": "aeb21bb9",
   "metadata": {},
   "source": [
    "#### Город и округ в строке с адресом\n",
    "\n",
    "Посмотрим, не затесались ли в адрес другие населённые пункты кроме Москвы. "
   ]
  },
  {
   "cell_type": "code",
   "execution_count": null,
   "id": "c71f8311",
   "metadata": {
    "scrolled": true
   },
   "outputs": [],
   "source": [
    "display(rest.address.str.split(',', expand=True)[0].value_counts().to_frame())"
   ]
  },
  {
   "cell_type": "markdown",
   "id": "d40740de",
   "metadata": {},
   "source": [
    "Сначала исключим слово \"Москва\" из всех адресов, затем посмотрим, не содержит ли этот столбец название округа."
   ]
  },
  {
   "cell_type": "code",
   "execution_count": null,
   "id": "6fc95164",
   "metadata": {
    "scrolled": true
   },
   "outputs": [],
   "source": [
    "rest.address = rest.address.str.replace('Москва, ', '')\n",
    "display(rest.query('address.str.contains(\"округ\")').sample(3))"
   ]
  },
  {
   "cell_type": "markdown",
   "id": "343b64be",
   "metadata": {},
   "source": [
    "Информация об административных округах уже есть в поле district. Уберём округа из адреса."
   ]
  },
  {
   "cell_type": "code",
   "execution_count": null,
   "id": "23204f38",
   "metadata": {
    "scrolled": true
   },
   "outputs": [],
   "source": [
    "rest.address = rest.address.mask(rest.address.str.contains(\"округ\"), \n",
    "                  rest.address.str.split(', ', n=1, expand=True)[1])"
   ]
  },
  {
   "cell_type": "markdown",
   "id": "7fb285d3",
   "metadata": {},
   "source": [
    "#### Район в строке адреса\n",
    "\n",
    "Чтобы \"извлечь\" улицу из адреса, проверим также наличие \"района\" в названии"
   ]
  },
  {
   "cell_type": "code",
   "execution_count": null,
   "id": "77c531c3",
   "metadata": {
    "scrolled": true
   },
   "outputs": [],
   "source": [
    "display(rest.query('address.str.contains(\"район\")').sample(3))"
   ]
  },
  {
   "cell_type": "markdown",
   "id": "7bc2b566",
   "metadata": {},
   "source": [
    "- Есть строки где в качестве адреса просто указано название района. Зачастую это небольшие кафе или кофейни на большом открытом пространстве, не имеющем более точного названия. Например, \"район Строгино\". \n",
    "- Кроме того, в этом списке есть точные адреса, в которых указан район города, а затем название улицы. В таком случае название района можно убрать из адреса. "
   ]
  },
  {
   "cell_type": "code",
   "execution_count": null,
   "id": "7564e075",
   "metadata": {
    "scrolled": true
   },
   "outputs": [],
   "source": [
    "# чтобы не удлинять вывод, следующая строчка закомменитрована\n",
    "# \"районы\" из адреса проанализированы \"вручную\", их не очень много\n",
    "'''\n",
    "display(sorted(rest.query('address.str.contains(\"район\") & address.str.contains(\",\")')\n",
    "        .address.unique()))\n",
    "''';"
   ]
  },
  {
   "cell_type": "markdown",
   "id": "bbedfcba",
   "metadata": {},
   "source": [
    "Произведём несколько замен, а затем исключим название района из адреса."
   ]
  },
  {
   "cell_type": "code",
   "execution_count": null,
   "id": "896646d9",
   "metadata": {
    "scrolled": true
   },
   "outputs": [],
   "source": [
    "rest.address = rest.address.replace('2-й квартал Капотня', 'район Капотня')\n",
    "rest.address = rest.address.replace('2-й квартал Капотни', 'район Капотня')\n",
    "rest.address = rest.address.replace('район Капотня', 'Капотня')\n",
    "rest.address = rest.address.replace('территория парка', 'парк')\n",
    "\n",
    "rest.address = rest.address.mask(\n",
    "               rest.address.str.contains(\"район\") & rest.address.str.contains(\",\"), \n",
    "               rest.address.str.split(', ', n=1, expand=True)[1])"
   ]
  },
  {
   "cell_type": "markdown",
   "id": "cc53baaf",
   "metadata": {},
   "source": [
    "#### Улицы\n",
    "Создадим столбец `street` с названиями улиц, а столбец с адресами переведём в нижний регистр, чтобы было проще искать дубликаты."
   ]
  },
  {
   "cell_type": "code",
   "execution_count": null,
   "id": "dafbdd8e",
   "metadata": {
    "scrolled": true
   },
   "outputs": [],
   "source": [
    "rest['street'] = rest.address.str.split(',', expand=True)[0]\n",
    "rest.address = rest.address.str.lower()"
   ]
  },
  {
   "cell_type": "code",
   "execution_count": null,
   "id": "54c9256a",
   "metadata": {
    "scrolled": true
   },
   "outputs": [],
   "source": [
    "# оставим только центральные районы\n",
    "mo_df = mo_df.query('ward.isin(@ward_df.ward)')"
   ]
  },
  {
   "cell_type": "markdown",
   "id": "0158625e",
   "metadata": {},
   "source": [
    "#### Районы\n",
    "\n",
    "В проекте предлагается анализировать данные по улицам. Считаю это нецелесообразным, так как невозможно сравнить МКАД или Варшавское шоссе с небольшим переулком в центре города. Проще провести анализ по районам и муниципальным образованиям. Во-первых, районов гораздо меньше, чем улиц. Во-вторых, районы больше похожи по своим размерам."
   ]
  },
  {
   "cell_type": "markdown",
   "id": "8646cd06",
   "metadata": {},
   "source": [
    "По полигонам из mo_df определим район для каждого заведения и запишем в столбцец `area`. Для этого определим функцию `mo_find`, которая по географическим координатам определяет название района."
   ]
  },
  {
   "cell_type": "code",
   "execution_count": null,
   "id": "50044c79",
   "metadata": {
    "scrolled": true
   },
   "outputs": [],
   "source": [
    "# функция определения муниципального района\n",
    "def mo_find (lng, lat):\n",
    "    point = geometry.Point(lng, lat)\n",
    "    return mo_df[point.within(mo_df.geometry)].values[0][0]\n",
    "\n",
    "# добавим районы в датафрейм rest (работает медленно!)\n",
    "rest['area'] = rest[['lng', 'lat']].apply(lambda x: mo_find(x[0], x[1]), axis=1)"
   ]
  },
  {
   "cell_type": "markdown",
   "id": "05192a57",
   "metadata": {},
   "source": [
    "#### Соответствие районов и округов\n",
    "\n",
    "Мы включили в таблицу данные о районах из другого источника. Поэтому один и тот же район для пограничных адресов мог попасть не в свой округ. Проверим это."
   ]
  },
  {
   "cell_type": "code",
   "execution_count": null,
   "id": "418d0ec1",
   "metadata": {
    "scrolled": true
   },
   "outputs": [],
   "source": [
    "rest.groupby('area').ward.nunique().to_frame().query('ward>1')"
   ]
  },
  {
   "cell_type": "markdown",
   "id": "cbb4f37f",
   "metadata": {},
   "source": [
    "Найдём к какому округу относится этот район и в каких записях есть ошибки и исправим название округа по этим адресам."
   ]
  },
  {
   "cell_type": "code",
   "execution_count": null,
   "id": "dd941c70",
   "metadata": {
    "scrolled": true
   },
   "outputs": [],
   "source": [
    "display(mo_df.query('area==\"Донской\"'))\n",
    "display(rest.query('area==\"Донской\" & ward!=\"ЮАО\"'))"
   ]
  },
  {
   "cell_type": "markdown",
   "id": "dd8f8107",
   "metadata": {},
   "source": [
    "Исправим две строки, чтобы не возникло путаницы при анализе."
   ]
  },
  {
   "cell_type": "code",
   "execution_count": null,
   "id": "88a4de94",
   "metadata": {
    "scrolled": true
   },
   "outputs": [],
   "source": [
    "rest.district = rest.district.mask((rest.area==\"Донской\") & (rest.ward!=\"ЮАО\"), \n",
    "                          'Южный административный округ')\n",
    "rest.ward = rest.ward.mask((rest.area==\"Донской\") & (rest.ward!=\"ЮАО\"), 'ЮАО')"
   ]
  },
  {
   "cell_type": "markdown",
   "id": "5d8b25e8",
   "metadata": {},
   "source": [
    "Оставим в таблицах mo_df и mo_area ровно столько районов, сколько содержит датайрем rest. Кроме того, заменим небольшой кусок полигона из Кунцева, куда попала область Новой Москвы."
   ]
  },
  {
   "cell_type": "code",
   "execution_count": null,
   "id": "808522d9",
   "metadata": {
    "scrolled": true
   },
   "outputs": [],
   "source": [
    "# оставим только центральные районы\n",
    "list_tmp = rest.area.unique()\n",
    "mo_df = mo_df.query('area.isin(@list_tmp)')\n",
    "mo_area = mo_area.query('area.isin(@list_tmp)')\n",
    "\n",
    "# определим номер строки Кунцево и полигон \n",
    "value = mo_df.query('area==\"Кунцево\"').index\n",
    "M = mo_df.query('area==\"Кунцево\"').geometry.values\n",
    "\n",
    "mo_df.loc[value, 'geometry'] = geometry.MultiPolygon([P for P in M[0].geoms if P.bounds[2]>37.2])\n",
    "\n",
    "# проверка\n",
    "# print(len(list_tmp)==len(mo_df), len(list_tmp)==len(mo_area))"
   ]
  },
  {
   "cell_type": "markdown",
   "id": "0418cba5",
   "metadata": {},
   "source": [
    "### Дубликаты"
   ]
  },
  {
   "cell_type": "markdown",
   "id": "d9ffa819",
   "metadata": {},
   "source": [
    "#### Поиск и удаление дубликатов"
   ]
  },
  {
   "cell_type": "code",
   "execution_count": null,
   "id": "68e0e484",
   "metadata": {
    "scrolled": true
   },
   "outputs": [],
   "source": [
    "value = rest.duplicated().sum()\n",
    "print(f'Количество явных дубликатов: \\033[1m{value}\\033[0m.')\n",
    "\n",
    "value = rest[['name', 'address']].duplicated().sum()\n",
    "print(f'Совпадает название и адрес в \\033[1m{value}\\033[0m случаях.')"
   ]
  },
  {
   "cell_type": "markdown",
   "id": "f0078877",
   "metadata": {},
   "source": [
    "Посмотрим в каких случаях по одному и тому же адресу оказались одинаковые заведения. "
   ]
  },
  {
   "cell_type": "code",
   "execution_count": null,
   "id": "66d02a56",
   "metadata": {
    "scrolled": false
   },
   "outputs": [],
   "source": [
    "rest[rest[['name', 'address']].duplicated(keep=False)]"
   ]
  },
  {
   "cell_type": "markdown",
   "id": "8ad7b9a8",
   "metadata": {},
   "source": [
    "- кафе на Ангарских прудах просто сменило часы работы;\n",
    "- ресторан \"more poke\" поменял часы работы и добавил (или убрал) несколько посадочных мест;\n",
    "- в ресторане \"раковарня\" есть ещё и бар. Незначительно отличаются часы работы - в пятницу и в субботу сложно выгнать посетителей из бара раньше часа ночи. Количество мест совпадает, это явно одно и то же заведение. Оставим ресторан, так как в ресторане почти всегда можно заказать спиртное, а в баре полноценно поесть можно не всегда;\n",
    "- булочная и кафе с большим количеством мест скорее всего находятся где-нибудь в торговом центре, а булочная использует столики фуд-корта для своих клиентов. \n",
    "\n",
    "Во всех случаях можем удалить нижнюю строку."
   ]
  },
  {
   "cell_type": "code",
   "execution_count": null,
   "id": "0b613621",
   "metadata": {
    "scrolled": true
   },
   "outputs": [],
   "source": [
    "rest = rest[~rest[['name', 'address']].duplicated(keep='first')]"
   ]
  },
  {
   "cell_type": "markdown",
   "id": "a96a0159",
   "metadata": {},
   "source": [
    "#### Фуд-корты\n",
    "\n",
    "При изучении данных было замечено что для кафе и пунктов быстрого питания в фуд-кортах количество посадочных мест указывается одинаковым. Если выделить такие точки на карте, то мы сможем не только проанализировать количество фуд-кортов, но и исключить многократный подсчёт одних и тех же посадочных мест.\n",
    "Посмотрим как выглядят такие записи на примере найденного выше дубликата кафе и булочной по адресу."
   ]
  },
  {
   "cell_type": "code",
   "execution_count": null,
   "id": "5789f196",
   "metadata": {
    "scrolled": true
   },
   "outputs": [],
   "source": [
    "display(rest.query('address.str.contains(\"ярцевская улица, 19\")')[[\n",
    "        'name', 'address', 'seats']].head(5))"
   ]
  },
  {
   "cell_type": "markdown",
   "id": "2f5e3603",
   "metadata": {},
   "source": [
    "Это не все строчки, их почти в 4 раза больше. И у всех одно и то же число в поле seats. Понятно, что для рядового кафе это огромное количество мест. А если сложить эти цифры многократно, то это  исказит реальные суммы. \n",
    "\n",
    "Поступим следующим образом:\n",
    "- сначала создадим список адресов `court_addr`, по которым зарегистрировано, например 3 или больше заведений, количество мест в которых, скажем больше 8;\n",
    "- найдём по каким из этих адресов имеется одинаковое количество мест; \n",
    "- добавим в таблицу столбец с меткой `food_court`. \n",
    "\n",
    "Учтём, что даже если в этот список попадут кафе и рестораны находящиеся в одном и том же здании, но не указавшие количество мест и не относящиеся к фуд-кортам, то мы всё равно не сможем посчитать количество посадочных мест в них (в наших данных оно указано как -1). Поэтому это не повлияет на результат. "
   ]
  },
  {
   "cell_type": "code",
   "execution_count": null,
   "id": "f729894a",
   "metadata": {
    "scrolled": true
   },
   "outputs": [],
   "source": [
    "court_addr = rest.query('seats>8').address.value_counts().to_frame()\n",
    "court_addr = court_addr.query('address>2').index\n",
    "\n",
    "value = len(court_addr)\n",
    "print('Количество адресов, по которым зарегистрировано 3 и более ', end = '')\n",
    "print(f'заведений: \\033[1m{value}\\033[0m.')\n",
    "\n",
    "value = len(rest.query('address.isin(@court_addr)'))\n",
    "print(f'По этим адресам находятся \\033[1m{value:,}'.replace(',', ' '), end = '')\n",
    "print('\\033[0m точек общественного питания.')"
   ]
  },
  {
   "cell_type": "markdown",
   "id": "8e152b1a",
   "metadata": {},
   "source": [
    "Убедимся, что по каждому из выбранных адресов количество посадочных мест во всех заведениях совпадает:"
   ]
  },
  {
   "cell_type": "code",
   "execution_count": null,
   "id": "5ebfc7fe",
   "metadata": {
    "scrolled": true
   },
   "outputs": [],
   "source": [
    "display(rest.query('address.isin(@court_addr)').groupby('address')\n",
    "        .seats.nunique().value_counts(). to_frame())"
   ]
  },
  {
   "cell_type": "markdown",
   "id": "30822141",
   "metadata": {},
   "source": [
    "Укажем, что все эти заведения находятся в фуд-кортах."
   ]
  },
  {
   "cell_type": "code",
   "execution_count": null,
   "id": "52ff17d3",
   "metadata": {
    "scrolled": true
   },
   "outputs": [],
   "source": [
    "rest['food_court'] = rest.address.isin(court_addr)"
   ]
  },
  {
   "cell_type": "markdown",
   "id": "72cd88fb",
   "metadata": {},
   "source": [
    "Чтобы было проще рассчитывать количество мест в таких заведениях, добавим в наш датафрейм поле `seats_avg`, в котором для выбранных адресов поставим количество мест, усреднив значения. Для остальных пунктов питания значение оставим прежним. "
   ]
  },
  {
   "cell_type": "code",
   "execution_count": null,
   "id": "498b2071",
   "metadata": {
    "scrolled": true
   },
   "outputs": [],
   "source": [
    "# для выбранных адресов рассчитаем количество мест и заведений по каждому адресу\n",
    "court_df = rest.query('food_court').groupby('address').seats.first().to_frame()\n",
    "court_df['name_cnt'] = rest.query('food_court').groupby('address').name.count()\n",
    "# найдём среднее значение и приведём к целому числу\n",
    "court_df['seats_avg'] = round(court_df.seats / court_df.name_cnt).astype(int)\n",
    "\n",
    "# добавим новое поле в датафрейм\n",
    "rest['seats_avg'] = rest.address.apply(\n",
    "    lambda x: court_df.seats_avg[x] if x in court_addr else 0)\n",
    "rest.seats_avg = rest.seats_avg.mask(~rest.food_court, rest.seats)"
   ]
  },
  {
   "cell_type": "markdown",
   "id": "9a9dded1",
   "metadata": {},
   "source": [
    "### Итоги предобработки данных"
   ]
  },
  {
   "cell_type": "markdown",
   "id": "1489a527",
   "metadata": {},
   "source": [
    "Чтобы было удобно работать с \"широкой\" таблицей\" расставим столбцы в смысловом порядке."
   ]
  },
  {
   "cell_type": "code",
   "execution_count": null,
   "id": "0d9244d2",
   "metadata": {
    "scrolled": true
   },
   "outputs": [],
   "source": [
    "rest = rest[['name', 'category', \n",
    "             # адресные данные\n",
    "             'district', 'ward', 'area', 'street', \n",
    "             'address', 'lat', 'lng', \n",
    "             # рейтинг и количество мест и т.д.\n",
    "             'chain', 'rating', 'seats', 'seats_avg', 'food_court', \n",
    "             # время работы\n",
    "             'hours', 'is_24/7', \n",
    "             # цены\n",
    "             'prices', 'price', 'bill_info', 'avg_bill', 'coffee']]"
   ]
  },
  {
   "cell_type": "markdown",
   "id": "e253d839",
   "metadata": {},
   "source": [
    "С учётом новых столбцов `rest` содержит следующую информацию:\n",
    "\n",
    "**Основная информация**\n",
    "- `name` — название;\n",
    "- `category` — категория, список сохранён в `cat_list`;\n",
    "\n",
    "**Местоположение**\n",
    "- `district` — административный район, список сохранён в одноимённом столбце таблицы `ward_df`;\n",
    "- `ward` — сокращённое название района, дублируется в столбце `ward_df`;\n",
    "- `area` — муниципальный район, список соответствий с округами есть в `mo_df`;\n",
    "- `street` — улица;\n",
    "- `address` — сокращённый адрес;\n",
    "- `lat` — географическая широта;\n",
    "- `lng` — географическая долгота;\n",
    "\n",
    "**Признаки, рейтинг, количество мест**\n",
    "- `chain` — признак сети;\n",
    "- `rating` — рейтинг по оценкам пользователей в Яндекс Картах (высшая оценка — 5.0);\n",
    "- `seats` — количество посадочных мест в исходных данных;\n",
    "- `seats_avg` — количество мест с учётом общих столиков в фуд-кортах;\n",
    "- `food_court` — признак того, что пункт питания находится в фуд-корте;\n",
    "\n",
    "**Время работы**\n",
    "- `hours` — дни и часы работы;\n",
    "- `is_24/7` — признак того, что заведение работает круглосуточно;\n",
    "\n",
    "**Цены**\n",
    "- `prices` — номер категории по уровню цены (от 0 - \"уровень не указан\" до 4 - \"высокие цены\");\n",
    "- `price` — категория цен из списка `prices_list`;\n",
    "- `bill_info` — средняя стоимость заказа в виде диапазона;\n",
    "- `avg_bill` — средний чек;\n",
    "- `coffee` — средняя цена чашки кофе."
   ]
  },
  {
   "cell_type": "markdown",
   "id": "33864876",
   "metadata": {},
   "source": [
    "<h2 style=\"color:navy\">Анализ данных</h2>"
   ]
  },
  {
   "cell_type": "markdown",
   "id": "2edefb42",
   "metadata": {},
   "source": [
    "### Общие расчёты"
   ]
  },
  {
   "cell_type": "markdown",
   "id": "35cda278",
   "metadata": {},
   "source": [
    "#### Определение признаков для изучения"
   ]
  },
  {
   "cell_type": "markdown",
   "id": "ab93b08d",
   "metadata": {},
   "source": [
    "В ходе анализа будем изучать:\n",
    "1. **Количественные признаки**: количество заведений, количество посадочных мест, рейтинг, величину среднего чека, среднюю цену чашки кофе.\n",
    "2. **Основные категориальные признаки**: категории заведения, административные округа, муниципальные районы, улицы.\n",
    "3. **Остальные категориальные признаки**: сетевые точки, круглосуточные заведения, расположение в фудкорте, уровень цен.\n",
    "\n",
    "В силу ограничения времени, возможно не все эти данные будут исследованы полностью. Постараемся выделить наиболее важные. Сначала найдём общее количество заведений и посадочных мест в них. Сохраним эти значения для дальнейших расчётов."
   ]
  },
  {
   "cell_type": "markdown",
   "id": "f6689cad",
   "metadata": {},
   "source": [
    "#### Количество заведений"
   ]
  },
  {
   "cell_type": "code",
   "execution_count": null,
   "id": "0862ea26",
   "metadata": {
    "scrolled": true
   },
   "outputs": [],
   "source": [
    "name_cnt = len(rest)\n",
    "print('Количество заведений общественного питания в Москве: ', end ='')\n",
    "print(f'\\033[1m{name_cnt:,}\\033[0m.'.replace(',', ' '))\n",
    "print()\n",
    "\n",
    "name_seats = len(rest.query('seats>0'))\n",
    "print('Информация о количестве посадочных мест есть для ', end ='')\n",
    "print(f'\\033[1m{name_seats:,}\\033[0m заведений.'.replace(',', ' '))\n",
    "\n",
    "court_cnt = len(rest.query('food_court'))\n",
    "value = court_cnt / name_seats\n",
    "print(f'- \\033[1m{court_cnt:,} ({value: 0.1%})\\033[0m '.replace(',', ' '), end='')\n",
    "print('из них предположительно расположены в фуд-кортах.')"
   ]
  },
  {
   "cell_type": "markdown",
   "id": "506711a8",
   "metadata": {},
   "source": [
    "#### Количество мест в заведениях"
   ]
  },
  {
   "cell_type": "code",
   "execution_count": null,
   "id": "f8fb2fff",
   "metadata": {
    "scrolled": true
   },
   "outputs": [],
   "source": [
    "seats_avg_cnt = rest.query('seats>0').seats_avg.sum()\n",
    "value = rest.query('seats>0').seats.sum()\n",
    "\n",
    "print('Общее количество мест в заведениях, где это число указано:')\n",
    "print(f'- \\033[1m{value:,}\\033[0m - '.replace(',', ' '), end ='')\n",
    "print('если считать по всей таблице без учёта фуд-кортов;')\n",
    "print(f'- \\033[1m{seats_avg_cnt:,}\\033[0m - '.replace(',', ' '), end ='')\n",
    "print('по усреднённым значениям для мест \"общего пользования\".')\n",
    "print()\n",
    "\n",
    "court_seats = rest.query('food_court').seats_avg.sum()\n",
    "value = court_seats / seats_avg_cnt\n",
    "print('Приблизительное количество общих посадочных мест в фуд-кортах: ', end='')\n",
    "print(f'\\033[1m{court_seats:,}\\033[0m,'.replace(',', ' '))\n",
    "print(f'- или \\033[1m{value: 0.1%}\\033[0m от общего количества мест по усреднённым данным.')"
   ]
  },
  {
   "cell_type": "markdown",
   "id": "5785215d",
   "metadata": {},
   "source": [
    "Интересная получилась статистика. Заведения, которые используют общие столики, видимо сильно экономят на количестве мест. Будем иметь ввиду, что расчёты количества мест в сумме неточны априори, потому что:\n",
    "- почти для половины заведений число посадочных мест неизвестно;\n",
    "- деление на фуд-корты производилось условно и может быть некорректным;\n",
    "- небольшие погрешности могли возникнуть при округлении усреднённых значений.\n",
    "\n",
    "Т.е. не следует сильно полагаться на этот признак при выборе условий для открытия новой точки."
   ]
  },
  {
   "cell_type": "markdown",
   "id": "3bd2b9b8",
   "metadata": {},
   "source": [
    "### Сравнение категорий"
   ]
  },
  {
   "cell_type": "markdown",
   "id": "44f1f387",
   "metadata": {},
   "source": [
    "#### Количество заведений по категориям\n",
    "\n",
    "Создадим датафрейм `cat_df` где соберём различные количественные признаки для каждой категории. Визуализируем с помощью круговой диаграммы, убрав самые малочисленные категории отдельную группу."
   ]
  },
  {
   "cell_type": "code",
   "execution_count": null,
   "id": "4c09317b",
   "metadata": {
    "scrolled": true
   },
   "outputs": [],
   "source": [
    "cat_df = rest.groupby('category').name.count().to_frame()\n",
    "cat_df.columns = ['name_cnt']\n",
    "cat_df['name_pct'] = cat_df.name_cnt / name_cnt\n",
    "\n",
    "# добавим столбец соответствия цветов категориям\n",
    "cat_df['color'] = cat_color\n",
    "# отсортируем\n",
    "df_tmp = cat_df.sort_values(by='name_cnt', ascending=False).reset_index()\n",
    "# расчитаем значение для строк ниже четвёртой\n",
    "value = df_tmp.query('index>3').name_cnt.sum()\n",
    "# заменим нижние строки на \"другие\"\n",
    "df_tmp.category = df_tmp.category.mask(df_tmp.index>4, 'другие')\n",
    "df_tmp.name_cnt = df_tmp.name_cnt.mask(df_tmp.index>4,  value)\n",
    "# оставим только нужное\n",
    "colors_tmp = df_tmp.color\n",
    "df_tmp = df_tmp.set_index('category').name_cnt.head(6)\n",
    "\n",
    "# размер шрифта подписей на графиках\n",
    "mpl.rc('font', size=14)\n",
    "# круговая диаграм\n",
    "df_tmp.plot.pie(subplots=True, autopct='%1.1f%%', \n",
    "        explode=[0.05,0.05,0.05,0.05,0.05,0.2], \n",
    "        pctdistance = 0.7,\n",
    "        colors = colors_tmp, ylabel='', \n",
    "        figsize=(5,5), legend=False)\n",
    "plt.title('Количество заведений по категориям', size=14)\n",
    "\n",
    "plt.show();"
   ]
  },
  {
   "cell_type": "markdown",
   "id": "af7c9ee3",
   "metadata": {},
   "source": [
    "#### Количество мест по категориям"
   ]
  },
  {
   "cell_type": "markdown",
   "id": "5f1346f5",
   "metadata": {},
   "source": [
    "Найдем сколько мест в заведениях по разным категориям."
   ]
  },
  {
   "cell_type": "code",
   "execution_count": null,
   "id": "9b0880ce",
   "metadata": {
    "scrolled": true
   },
   "outputs": [],
   "source": [
    "cat_df['seats_cnt'] = rest.query('seats>0').groupby('category').seats_avg.sum()\n",
    "cat_df['seats_pct'] = cat_df.seats_cnt / seats_avg_cnt\n",
    "cat_df['seats_mean'] = round(cat_df.seats_cnt / cat_df.name_cnt, 2)\n",
    "\n",
    "display(cat_df[cat_df.columns.drop('color')]\n",
    "        .sort_values(by='seats_cnt', ascending=False)\n",
    "        .style.background_gradient('Blues', subset='seats_cnt')\n",
    "        .format({'name_pct': '{:0.2%}',\n",
    "                 'seats_pct': '{:0.2%}',\n",
    "                 'seats_mean': '{:0.2f}'}))"
   ]
  },
  {
   "cell_type": "markdown",
   "id": "c5a0d26d",
   "metadata": {},
   "source": [
    "- Количество мест в заведениях по категориям распределилось практически также, как и количество самих заведений. С единственной разницей - поменялись местами кафе и рестораны. Но это очевидно, так как количество мест в ресторанах как правило больше, чем в кафе. \n",
    "\n",
    "- В последнем столбце таблицы мы рассчитали среднее количество мест в заведении. В процессе изучения данных было замечено, что если выбрать в качестве адресов фуд-кортов точки, где расположились 4 и более заведения (мы взяли 3), то среднее количество мест получалось очень завышенным, что было особенно заметно на примере булочных.  \n",
    "\n",
    "- Ещё раз убеждаемся, что не стоит учитывать количество мест в заведениях при нашем анализе из-за низкой точности таких вычислений и большого числа пропущенных значений. \n",
    "\n",
    "- Смысла строить ещё одну круговую диаграмму, почти сопвадающую с предыдущей также нет."
   ]
  },
  {
   "cell_type": "code",
   "execution_count": null,
   "id": "45c61868",
   "metadata": {
    "scrolled": true
   },
   "outputs": [],
   "source": [
    "cat_df = cat_df[['name_cnt', 'color']]"
   ]
  },
  {
   "cell_type": "markdown",
   "id": "314bd1fe",
   "metadata": {},
   "source": [
    "#### Сетевые заведения по категориям"
   ]
  },
  {
   "cell_type": "code",
   "execution_count": null,
   "id": "e6ac6ca1",
   "metadata": {
    "scrolled": true
   },
   "outputs": [],
   "source": [
    "cat_df['chain_cnt'] = rest.groupby('category').chain.sum()\n",
    "cat_df['chain_mean'] = cat_df.chain_cnt / cat_df.name_cnt\n",
    "\n",
    "# отсортируем по количеству заведений\n",
    "df_tmp = cat_df.sort_values(by='name_cnt')\n",
    "\n",
    "# построим диаграмму по количеству заведений\n",
    "fig = df_tmp.name_cnt.plot.barh(figsize=(10,5), xlim=(0,2500), width=.8, \n",
    "    xlabel='', color=df_tmp['color'], alpha=0.5)\n",
    "\n",
    "# на тех же осях добавим доли сетевых точек\n",
    "df_tmp.chain_cnt.plot.barh(width=.8, xlabel='', color=df_tmp['color'], ax=fig)\n",
    "\n",
    "# подпишем количество заведений\n",
    "i = -.2\n",
    "for row in df_tmp['name_cnt']:\n",
    "    plt.text(row+10, i, row, horizontalalignment='left')\n",
    "    i+=1\n",
    "\n",
    "# подпишем проценты долей\n",
    "df_tmp = df_tmp = round(df_tmp['chain_mean']*100,1).astype('string')+'%'\n",
    "i = -.2\n",
    "for row in df_tmp:\n",
    "    plt.text(-500, i, row, horizontalalignment='right')\n",
    "    i+=1\n",
    "plt.text(-750, -1.5, 'доля сетевых', horizontalalignment='left')\n",
    "\n",
    "# скроем верхнюю и правую линии на осях\n",
    "fig.spines['top'].set_visible(False)\n",
    "fig.spines['right'].set_visible(False)\n",
    "\n",
    "plt.title('Количество и доли сетевых заведений по категориям', size=14)\n",
    "plt.xlabel('количество заведений')\n",
    "plt.show();"
   ]
  },
  {
   "cell_type": "markdown",
   "id": "79c531f5",
   "metadata": {},
   "source": [
    "- Больше всего сетевых заведений среди булочных и пиццерий - более половины из всех имеющихся. Объяснить можно тем, что для таких заведений полезно и удобно иметь свою пекарню. А если есть пекарня, то можно готовить хлеб и пиццы сразу для нескольких точек. \n",
    "- На третье место по популярности сетевых заведений вышли кофейни. Скорее всего поставлять вкусные и разнообразные сорта кофе тоже удобнее в несколько кофеен сразу. \n",
    "- Реже всего сетевыми бывают бары. Чаще это \"штучные\" заведения со своей атмосферой. "
   ]
  },
  {
   "cell_type": "markdown",
   "id": "3e6471fe",
   "metadata": {},
   "source": [
    "#### Другие признаки по категориям\n",
    "\n",
    "Рассчитаем количество круглосуточных заведений, точек в фуд-кортах, средний рейтинг и средний уровень цен для разных категорий. Посмотрим что получилось, чтобы не упустить каких-либо интересных особенностей. "
   ]
  },
  {
   "cell_type": "code",
   "execution_count": null,
   "id": "fab5a610",
   "metadata": {
    "scrolled": true
   },
   "outputs": [],
   "source": [
    "cat_df['24/7_cnt'] = rest.groupby('category')['is_24/7'].sum()\n",
    "cat_df['24/7_mean'] = cat_df['24/7_cnt'] / cat_df.name_cnt\n",
    "\n",
    "cat_df['fc_cnt'] = rest.groupby('category').food_court.sum()\n",
    "cat_df['fc_mean'] = cat_df.fc_cnt / cat_df.name_cnt\n",
    "\n",
    "cat_df['rating_avg'] = rest.groupby('category').rating.mean()\n",
    "cat_df['price_level'] = rest.query('prices>0').groupby('category').prices.mean().astype(int)\n",
    "\n",
    "display(cat_df[cat_df.columns.drop('color')]\n",
    "        .sort_values(by='name_cnt', ascending=False)\n",
    "        .style.background_gradient('Blues', subset=['chain_mean', '24/7_mean', 'fc_mean'])\n",
    "        .format({'chain_mean': '{:0.2%}', '24/7_mean': '{:0.2%}',\n",
    "                 'fc_mean': '{:0.2%}', 'rating_avg': '{:0.1f}'}))"
   ]
  },
  {
   "cell_type": "markdown",
   "id": "39cabc60",
   "metadata": {},
   "source": [
    "**Круглосуточные заведения**\n",
    "- Количество тех, кто работает 24/7 в категории пунктов быстрого питания гораздо выше, чем в других категориях. Логично, что ночью меньше желающих сидеть за столиками в ресторане или кафе. \n",
    "- Между тем более 10% всех кафе работают круглосуточно. \n",
    "- Доля круглосуточных заведений среди кофеен одна из самых низких. Тоже не удивительно, большинство клиентов предпочитают пить кофе в первой половине дня. \n",
    "\n",
    "**Расположение в фуд-кортах**\n",
    "- На первом месте опять заведения быстрого питания. Фуд-корты чаще всего располагаются в больших торговых рах. Многие посетители всего лишь перекусывают в перерыве между посещениями магазинов, кинотеатра и т.п.  \n",
    "- Интересно, что рестораны и даже бары \"не брезгуют\" использовать общие столики. Но, как мы выяснили выше, информация о количестве мест в наших данных весьма сомнительного качества. \n",
    "- Реже всего в фуд-корты попадают столовые. \n",
    "\n",
    "**Рейтинг и уровень цен**\n",
    "- Средние значения этих признаков в разных категориях практически не отличаются. За исключением очевидного факта, что посещать бары и рестораны - дороже, чем всё остальное.\n",
    "- Самым дешевым местом, чтобы поесть стали столовые.\n",
    "\n",
    "**Столовые**\n",
    "- Как было замечено выше, столовых и булочных всего по 3 с небоьшим процента от общего количества всех заведений. Здесь интересно было бы уточнить когда заведение принято называть столовой. Либо нужно большое количество столиков, либо нужен свой цех по приготовлению полноценного набора блюд, как в ресторане, но при этом в более быстром и дешевом варианте. Вообще столовые - довольно редкое явление. Однако стоит учесть, что столовые есть в каждой школе, в детских садах, на предприятиях и т.п. То есть в закрытых для общего посещения местах. Поэтому говорить о нехватке столовых в городе не стоит, не изучив другие данные."
   ]
  },
  {
   "cell_type": "markdown",
   "id": "3c41bae1",
   "metadata": {},
   "source": [
    "### Сетевые заведения"
   ]
  },
  {
   "cell_type": "markdown",
   "id": "7a6cc610",
   "metadata": {},
   "source": [
    "#### Количество и топ-15 сетевых заведений"
   ]
  },
  {
   "cell_type": "code",
   "execution_count": null,
   "id": "b17be736",
   "metadata": {
    "scrolled": true
   },
   "outputs": [],
   "source": [
    "value = len(rest.query('chain'))\n",
    "print('Количество сетевых заведений ', end='')\n",
    "print(f'\\033[1m{value:,}\\033[0m, '.replace(',', ' '), end='')\n",
    "\n",
    "value /= name_cnt\n",
    "print(f'что составляет\\033[1m{value: 0.1%}\\033[0m от общего количества.')"
   ]
  },
  {
   "cell_type": "markdown",
   "id": "6779c557",
   "metadata": {},
   "source": [
    "Найдём топ-15 сетей с наибольшим количеством заведений. Сохраним эту иформацию в таблице `chain_df`. Найдём, не осталось ли пунктов питания с такими же названиями, но отмеченными как сетевые."
   ]
  },
  {
   "cell_type": "code",
   "execution_count": null,
   "id": "082e06a7",
   "metadata": {
    "scrolled": true
   },
   "outputs": [],
   "source": [
    "chain_df = rest.query('chain').name.value_counts().to_frame().head(15)\n",
    "print('\\033[1mТоп-15 сетевых заведений:\\033[0m')\n",
    "print(*chain_df.index, sep=', ')\n",
    "rest.query('name.isin(@chain_df.index) & ~chain')"
   ]
  },
  {
   "cell_type": "markdown",
   "id": "ff163dc3",
   "metadata": {},
   "source": [
    "Вряд ли кто-то просто так станет использовать чужие названия. Исправим информацию в этих двух строках.\n",
    "Затем переименуем длинное название \"кулинарная лавка братьев Караваевых\" для удобства вывода в таблицах и графиках. \n",
    "И, наконец, рассчитаем основые количественные показатели для сетевых заведений."
   ]
  },
  {
   "cell_type": "code",
   "execution_count": null,
   "id": "0ebe5b2a",
   "metadata": {
    "scrolled": false
   },
   "outputs": [],
   "source": [
    "# поменяем значения в таблице rest\n",
    "rest.name = rest.name.str.replace('кулинарная лавка братьев караваевых', 'братья караваевы')\n",
    "rest.chain = rest.chain.mask((rest.name.isin(chain_df.index)) & (~rest.chain), True)\n",
    "\n",
    "# снова рассчитаем топ-15\n",
    "chain_df = rest.query('chain').name.value_counts().to_frame().head(15)\n",
    "chain_df.columns = ['name_cnt']\n",
    "\n",
    "# количество категорий для заведений одной сети\n",
    "df_tmp = rest.query('name.isin(@chain_df.index)').groupby('name').category.nunique()\n",
    "chain_df['cat_cnt'] = df_tmp[chain_df.index]\n",
    "\n",
    "# список категорий\n",
    "df_tmp = rest.query('name.isin(@chain_df.index)').groupby('name').category.unique()\n",
    "chain_df['categories'] = df_tmp[chain_df.index]\n",
    "chain_df.categories = chain_df.categories.apply(lambda x: sorted(x))\n",
    "\n",
    "display(chain_df)"
   ]
  },
  {
   "cell_type": "markdown",
   "id": "21a624f1",
   "metadata": {},
   "source": [
    "Все заведения из списка \"на слуху\". Му-му решила захватить все ниши. Оказывается, у них есть даже бар. \n",
    "Среди сетевых заведений больше всего кафе, ресторанов и кофеен. Посмотрим реальное количество каждой категории для топ-15 заведений, у которых больше одной категории."
   ]
  },
  {
   "cell_type": "code",
   "execution_count": null,
   "id": "b896828c",
   "metadata": {
    "scrolled": true
   },
   "outputs": [],
   "source": [
    "for cat in cat_list:\n",
    "    list_tmp = []\n",
    "    for tc in chain_df.index:\n",
    "        list_tmp += [len(rest.query('category==@cat & name==@tc'))]\n",
    "    chain_df[cat] = list_tmp\n",
    "display(chain_df.query('cat_cnt>1'))    "
   ]
  },
  {
   "cell_type": "markdown",
   "id": "a63a7e37",
   "metadata": {},
   "source": [
    "За исключением Хинкальной и Му-Му, все заведения относятся по большей части к одной категории. Переименуем список категорий \"вручную\", уберём лишние столбцы и изучим много ли здесь круглосуточных точек."
   ]
  },
  {
   "cell_type": "code",
   "execution_count": null,
   "id": "fe9d4e71",
   "metadata": {
    "scrolled": false
   },
   "outputs": [],
   "source": [
    "list_tmp = ['кофейня', 'пиццерия', 'пиццерия', 'кофейня', 'ресторан', 'кофейня', 'ресторан', \n",
    "            'кафе', 'кофейня', 'кафе', 'ресторан', 'кафе', 'кофейня', 'булочная', 'кафе']\n",
    "\n",
    "chain_df = chain_df[['name_cnt']]\n",
    "chain_df['category'] = list_tmp\n",
    "\n",
    "df_tmp = rest.query('name.isin(@chain_df.index)').groupby('name')['is_24/7'].sum()\n",
    "chain_df['24/7_cnt'] = df_tmp[chain_df.index]\n",
    "chain_df['24/7_mean'] = chain_df['24/7_cnt'] / chain_df.name_cnt\n",
    "\n",
    "display(chain_df\n",
    "        .sort_values(by='name_cnt', ascending=False)\n",
    "        .style.background_gradient('Blues', subset='24/7_mean')\n",
    "        .format({'24/7_mean': '{:0.2%}'}))"
   ]
  },
  {
   "cell_type": "code",
   "execution_count": null,
   "id": "484433c1",
   "metadata": {
    "scrolled": true
   },
   "outputs": [],
   "source": [
    "# отсортируем в нужном для графика порядке и оставим только два столбца\n",
    "chain_df = chain_df.sort_values(by='name_cnt')[['name_cnt', '24/7_cnt']]\n",
    "# вычтем из общего количества заведений число круглосуточных\n",
    "chain_df['not_24'] = chain_df.name_cnt - chain_df['24/7_cnt']\n",
    "# переименуем столбцы, чтобы проще писать\n",
    "chain_df.columns = ['name_cnt', 'is_24', 'not_24']\n",
    "# умножим на -1 количество круглосуточных\n",
    "chain_df.is_24 *= -1\n",
    "\n",
    "# названия заведений напишем с большой буквы как они были изначально\n",
    "chain_df.index = chain_df.index.str.title()"
   ]
  },
  {
   "cell_type": "code",
   "execution_count": null,
   "id": "925a0e3c",
   "metadata": {
    "scrolled": false
   },
   "outputs": [],
   "source": [
    "# построим столбчатую диаграмму сначала по не круглосуточным\n",
    "ax = chain_df.not_24.plot.barh(figsize=(10,7), \n",
    "     xlim=(-33,120), ylim=(-10, 16), width=.8, color=color_list)\n",
    "\n",
    "# на этих же осях добавим влево круглосуточные заведения\n",
    "chain_df.is_24.plot.barh(ax=ax, width=.8, color=color_list)\n",
    "\n",
    "# проведём две линии линию\n",
    "ax.vlines(0, -.5, 14.5, color='white')\n",
    "ax.hlines(-.5, -33, 40, color='black')\n",
    "\n",
    "# подпишем всё\n",
    "i = -.2\n",
    "for row in chain_df.index:\n",
    "    is_24 = chain_df.loc[row, 'is_24']\n",
    "    not_24 = chain_df.loc[row, 'not_24']\n",
    "    all_ = chain_df.loc[row, 'name_cnt']\n",
    "    \n",
    "    plt.text(2, i, not_24, horizontalalignment='left', color = 'white')\n",
    "    if is_24 < 0: plt.text(-2, i, -is_24, horizontalalignment='right')\n",
    "    plt.text(not_24-1, i, all_, horizontalalignment='right')  \n",
    "    plt.text(-33, i, row, horizontalalignment='right', color=cat_color[4])\n",
    "    i+=1\n",
    "\n",
    "plt.text(-3, -1, 'круглосуточные', size=12, horizontalalignment='right')\n",
    "plt.text(-.2, -1, '|   не круглосуточные', size=12, horizontalalignment='left')\n",
    "\n",
    "# скроем оси\n",
    "ax.axis('off') \n",
    "plt.title('Топ-15 сетей общественного питания', size=16)\n",
    "\n",
    "plt.show();"
   ]
  },
  {
   "cell_type": "markdown",
   "id": "bb381274",
   "metadata": {},
   "source": [
    "Можно выделить всего лишь три сети - Чайхана, Шоколадница и Яндекс лавка, у которых довольно большая доля круглосуточных заведений. Большинство сетевых точек не работают 24/7."
   ]
  },
  {
   "cell_type": "markdown",
   "id": "3990dc2f",
   "metadata": {},
   "source": [
    "#### Категории сетевых заведений"
   ]
  },
  {
   "cell_type": "markdown",
   "id": "779514ae",
   "metadata": {},
   "source": [
    "Построим такую же круговую диаграмму, как мы строили выше, но только для сетевых заведений. "
   ]
  },
  {
   "cell_type": "code",
   "execution_count": null,
   "id": "75df597f",
   "metadata": {
    "scrolled": true
   },
   "outputs": [],
   "source": [
    "# отсортируем\n",
    "df_tmp = cat_df.sort_values(by='chain_cnt', ascending=False).reset_index()\n",
    "# расчитаем значение для строк ниже четвёртой\n",
    "value = df_tmp.query('index>3').chain_cnt.sum()\n",
    "# заменим нижние строки на \"другие\"\n",
    "df_tmp.category = df_tmp.category.mask(df_tmp.index>4, 'другие')\n",
    "df_tmp.chain_cnt = df_tmp.chain_cnt.mask(df_tmp.index>4,  value)\n",
    "# оставим только нужное\n",
    "colors_tmp = df_tmp.color\n",
    "df_tmp = df_tmp.set_index('category').chain_cnt.head(6)\n",
    "\n",
    "# круговая диаграм\n",
    "df_tmp.plot.pie(subplots=True, autopct='%1.1f%%', \n",
    "        explode=[0.05,0.05,0.05,0.05,0.05,0.2], \n",
    "        pctdistance = 0.7,\n",
    "        colors = colors_tmp, ylabel='', \n",
    "        figsize=(5,5), legend=False)\n",
    "plt.title('Количество сетевых заведений по категориям', size=14)\n",
    "\n",
    "plt.show();"
   ]
  },
  {
   "cell_type": "markdown",
   "id": "a0c7ab67",
   "metadata": {},
   "source": [
    "Три лидера по количеству остались прежнеми. Это рестораны, кафе и кофейни. Но доля кофеен, пиццерий и пунктов быстрого питания среди сетевых заведений выше, чем среди всех. "
   ]
  },
  {
   "cell_type": "markdown",
   "id": "c53fe002",
   "metadata": {},
   "source": [
    "### Кластеризация "
   ]
  },
  {
   "cell_type": "markdown",
   "id": "930b2571",
   "metadata": {},
   "source": [
    "Визуализируем наш датайрем, чтобы можно было подробнее изучить плотность расположения заведений по районам города. "
   ]
  },
  {
   "cell_type": "code",
   "execution_count": null,
   "id": "4a6a55fe",
   "metadata": {
    "scrolled": false
   },
   "outputs": [],
   "source": [
    "# создаём карту Москвы\n",
    "m = folium.Map(location=[moscow_lat, moscow_lng], zoom_start=10)\n",
    "\n",
    "# создаём пустой кластер, добавляем его на карту\n",
    "marker_cluster = MarkerCluster().add_to(m)\n",
    "\n",
    "# функция cluster принимает строку датафрейма,\n",
    "# создаёт маркер в текущей точке и добавляет его в кластер marker_cluster\n",
    "def cluster(row):\n",
    "    folium.CircleMarker(\n",
    "        [row['lat'], row['lng']],\n",
    "        popup=f\"{row['name']} {row['rating']}\",\n",
    "        radius=8, color='#7794a3', fill=True, fill_color='#16537d', fill_opacity=1\n",
    "    ).add_to(marker_cluster)\n",
    "\n",
    "# применяем функцию create_clusters() к каждой строке датафрейма\n",
    "rest.apply(cluster, axis=1)\n",
    "\n",
    "# выводим карту\n",
    "m"
   ]
  },
  {
   "cell_type": "markdown",
   "id": "991b865a",
   "metadata": {},
   "source": [
    "Немного \"прогулявшись\" по этой карте, замечаем очевидный факт - плотность заведений в центре города в несколько раз превышает ситуацию по окраинам. "
   ]
  },
  {
   "cell_type": "markdown",
   "id": "93b317e4",
   "metadata": {},
   "source": [
    "### Изучение административных округов"
   ]
  },
  {
   "cell_type": "markdown",
   "id": "0869131f",
   "metadata": {},
   "source": [
    "#### Количество заведений в округах"
   ]
  },
  {
   "cell_type": "code",
   "execution_count": null,
   "id": "9a6d04a7",
   "metadata": {
    "scrolled": true
   },
   "outputs": [],
   "source": [
    "ward_df['name_cnt'] = rest.groupby('ward').name.count().values\n",
    "ward_df['color'] = color_list[0:9] \n",
    "ward_df = ward_df.set_index('ward')\n",
    "df_tmp = ward_df.sort_values(by='name_cnt')\n",
    "\n",
    "# построим диаграмму по количеству заведений\n",
    "fig = df_tmp['name_cnt'].plot.barh(figsize=(10,5), width=.8, xlabel='',\n",
    "        color=df_tmp['color'], alpha=.8)\n",
    "\n",
    "# подпишем количество заведений\n",
    "i = -.2\n",
    "for row in df_tmp['name_cnt']:\n",
    "    plt.text(20, i, row, horizontalalignment='left')\n",
    "    i+=1\n",
    "\n",
    "# скроем верхнюю и правую линии на осях\n",
    "fig.spines['top'].set_visible(False)\n",
    "fig.spines['right'].set_visible(False)\n",
    "    \n",
    "plt.title('Количество заведений по административным округам', size=14)\n",
    "plt.xlabel('количество заведений')\n",
    "plt.show();"
   ]
  },
  {
   "cell_type": "markdown",
   "id": "23daf9fa",
   "metadata": {},
   "source": [
    "Центральный округ опередил всех в более чем в два раза. Очень мало заведений в СЗАО. Можно конечно использовать и эти данные, если не знать, что Северо-Западный округ самый маленький по площади среди всех. Т.е. количество заведений на целый округ в данном случае ни о чем нам не говорит. "
   ]
  },
  {
   "cell_type": "markdown",
   "id": "1235159d",
   "metadata": {},
   "source": [
    "#### Категории заведений по округам\n",
    "\n",
    "Посмотреть как распределились заведения разных категорий по административным округам нам поможет тепловая карта."
   ]
  },
  {
   "cell_type": "code",
   "execution_count": null,
   "id": "14e1a825",
   "metadata": {
    "scrolled": false
   },
   "outputs": [],
   "source": [
    "# рассчитаем нужные данные и запишем в таблицу ward_df\n",
    "for cat in cat_list:\n",
    "    list_tmp = []\n",
    "    for tc in ward_df.index:\n",
    "        list_tmp += [len(rest.query('category==@cat & ward==@tc'))]\n",
    "    ward_df[cat] = list_tmp\n",
    "\n",
    "# построим тепловую карту    \n",
    "plt.figure(figsize=(16, 7))\n",
    "sns.heatmap(ward_df[ward_df.columns.drop(['district', 'name_cnt', 'color'])].T,\n",
    "            cmap=sns.color_palette(\"Blues\", as_cmap=True), annot=True, fmt='') \n",
    "\n",
    "plt.xlabel('')\n",
    "plt.title('Распределение категорий точек питания по округам') \n",
    "plt.show();"
   ]
  },
  {
   "cell_type": "markdown",
   "id": "57d63424",
   "metadata": {},
   "source": [
    "Видно, что основными заведениями в Москве во всех округах являются кафе и чуть реже - рестораны. Логично, что больше всего таких заведений в центре города. Опять учитываем, что СЗАО - самый маленький по площади из всех округов."
   ]
  },
  {
   "cell_type": "markdown",
   "id": "c03f949f",
   "metadata": {},
   "source": [
    "#### Средний рейтинг заведений по округам"
   ]
  },
  {
   "cell_type": "markdown",
   "id": "e6bde2ab",
   "metadata": {},
   "source": [
    "Найдём средний рейтинг заведений каждого округа."
   ]
  },
  {
   "cell_type": "code",
   "execution_count": null,
   "id": "b4f4fa01",
   "metadata": {
    "scrolled": true
   },
   "outputs": [],
   "source": [
    "rating_df = rest.groupby('district', as_index=False).rating.mean()\n",
    "display(rating_df.sort_values(by='rating', ascending=False)\n",
    "        .style.background_gradient('Reds')\n",
    "        .format('{:0.2f}', subset='rating'))"
   ]
  },
  {
   "cell_type": "markdown",
   "id": "a37cd1ab",
   "metadata": {},
   "source": [
    "Средние рейтинги практически не отличаются друг от друга. ЦАО опять впереди. И опять не удивительно - многие хорошие рестораны и кафе в центре города работают не первый десяток лет и пользуются популярностью. "
   ]
  },
  {
   "cell_type": "code",
   "execution_count": null,
   "id": "766f9795",
   "metadata": {
    "scrolled": false
   },
   "outputs": [],
   "source": [
    "# создаём карту Москвы\n",
    "m = folium.Map(location=[moscow_lat, moscow_lng], zoom_start=10)\n",
    "\n",
    "# создаём хороплет с помощью конструктора Choropleth и добавляем его на карту\n",
    "folium.Choropleth(geo_data = ao_json, data = rating_df, columns = ['district', 'rating'],\n",
    "    key_on = 'feature.name', fill_color = 'Reds', fill_opacity = 0.8,\n",
    "    legend_name='Средний рейтинг заведений по округам').add_to(m)\n",
    "\n",
    "# выводим карту\n",
    "m"
   ]
  },
  {
   "cell_type": "markdown",
   "id": "3a3ae3dc",
   "metadata": {},
   "source": [
    "### Распределение заведений по районам"
   ]
  },
  {
   "cell_type": "markdown",
   "id": "2ebce693",
   "metadata": {},
   "source": [
    "#### Количество заведений по районам\n",
    "\n",
    "Добавим в таблицу mo_area информацию о количестве заведений по муниципальным районам. И посмотрим в каких муниципальных районах Москвы больше всего точек общественного питания"
   ]
  },
  {
   "cell_type": "code",
   "execution_count": null,
   "id": "d7732b42",
   "metadata": {
    "scrolled": true
   },
   "outputs": [],
   "source": [
    "mo_area = mo_area.sort_values(by=['ward', 'area'])\n",
    "list_tmp = rest.groupby(['ward', 'area']).name.count().values\n",
    "mo_area['name_cnt'] = list_tmp\n",
    "display(mo_area.sort_values(by='name_cnt', ascending=False).head(5))"
   ]
  },
  {
   "cell_type": "markdown",
   "id": "7c78f512",
   "metadata": {},
   "source": [
    "По топ-5 районов по количеству заведений видим, что сюда попали как большие по площади районы (Пресненский, Хамовники), так и районы поменьше (Тверской, Таганка). При этом количество точке для них сравнимо. \n",
    "\n",
    "Добавим в таблицу информацию о плотности наших заведений, т.е. количество пунктов общественного питания на единицу площади и на 10 000 человек"
   ]
  },
  {
   "cell_type": "code",
   "execution_count": null,
   "id": "9dfdf3f9",
   "metadata": {
    "scrolled": true
   },
   "outputs": [],
   "source": [
    "mo_area['rest_per_sq'] = round(mo_area.name_cnt / mo_area.square, 2)\n",
    "mo_area['rest_per_p']= round(10000*mo_area.name_cnt / mo_area.population, 2)"
   ]
  },
  {
   "cell_type": "markdown",
   "id": "fd1272c2",
   "metadata": {},
   "source": [
    "#### Хороплёт по плотности заведений\n",
    "\n",
    "Визуализируем полученные данные с помощью Хороплёта библиотек Geopandas и Folium. Такой интерактивный график поможет нам найти районы с наименьшей плотностью, но наиболее близкие к центру города. "
   ]
  },
  {
   "cell_type": "code",
   "execution_count": null,
   "id": "b2ab3e45",
   "metadata": {
    "scrolled": false
   },
   "outputs": [],
   "source": [
    "# скопируем два столбца с плотностью в геодатафрейм для отображения на хороплете\n",
    "df_tmp = mo_df.merge(mo_area[['area', 'rest_per_sq', 'rest_per_p']])\n",
    "\n",
    "# расставим столбцы в логичном порядке для отображения в легендах к районам\n",
    "df_tmp = df_tmp[['ward', 'area', 'rest_per_sq', 'rest_per_p', 'geometry']]\n",
    "# переименуем столбцы\n",
    "df_tmp.columns = ['Округ:', 'Район:', '- на 1 кв.км', \n",
    "                  '- на 10 тыс.жителей', 'geometry']\n",
    "# добавим пустой столбец просто для изменения легенды\n",
    "# (не хватило времени разобраться как это сделать по-другому)\n",
    "df_tmp.insert(2, 'Количество заведений:', ['']*len(df_tmp))\n",
    "\n",
    "# построим Хороплёт\n",
    "df_tmp.explore(\n",
    "    # выбор сделаем по количеству на 1 кв.км\n",
    "    column=\"- на 1 кв.км\",\n",
    "    # добавим вывод легенды при нажатии \n",
    "    popup = True, cmap=\"Blues\", \n",
    "    style_kwds=dict(color=cat_color[5], weight=1, fillOpacity=1),\n",
    "    highlight_kwds=dict(color=cat_color[1], weight=2),\n",
    "    zoom_start=10)"
   ]
  },
  {
   "cell_type": "markdown",
   "id": "ca4cdea4",
   "metadata": {},
   "source": [
    "- Если пройтись по этой карте, то можно отметить несколько районов, с небольшой плотностью заведений и не сильно удалённых от центра. Например **Раменки**, **Нагорный**, **Тимирязевский** муниципальные округа. \n",
    "- Что касается мест, расположенных ближе к МКАДу, то это тоже неплохой вариант, но нужно внимательно выбрать место. Не внутри \"спального\" района, откуда все разъезжаются по утрам, а вблизи крупных офисов или ВУЗов, около метро, в торговых центрах, т.е. там, где будет больший поток посетителей. Например, **Ясенево**, **Строгино** и т.п. "
   ]
  },
  {
   "cell_type": "markdown",
   "id": "4d3b49ca",
   "metadata": {},
   "source": [
    "#### Количество заведений на 1 квадратный километр\n",
    "\n",
    "Просто из интереса выведем районы, где проще всего найти где поесть. И те, где заведений меньше всего. "
   ]
  },
  {
   "cell_type": "code",
   "execution_count": null,
   "id": "53bd6c0b",
   "metadata": {
    "scrolled": true
   },
   "outputs": [],
   "source": [
    "list_tmp = ['area', 'ward', 'name_cnt', 'rest_per_sq', 'rest_per_p']\n",
    "display(mo_area.sort_values(by='rest_per_sq', ascending=False)[list_tmp]\n",
    "        .reset_index(drop=True).head(5)\n",
    "        .style.background_gradient('Reds')\n",
    "        .format('{:0.2f}', subset=['rest_per_sq', 'rest_per_p']))"
   ]
  },
  {
   "cell_type": "markdown",
   "id": "1579c94d",
   "metadata": {},
   "source": [
    "И аналогично - наименее популярные районы."
   ]
  },
  {
   "cell_type": "code",
   "execution_count": null,
   "id": "8073bc14",
   "metadata": {
    "scrolled": false
   },
   "outputs": [],
   "source": [
    "display(mo_area.sort_values(by='rest_per_p', ascending=False)[list_tmp]\n",
    "        .reset_index(drop=True).tail(15)\n",
    "        .style.background_gradient('Blues')\n",
    "        .format('{:0.2f}', subset=['rest_per_sq', 'rest_per_p']))"
   ]
  },
  {
   "cell_type": "markdown",
   "id": "bfca2116",
   "metadata": {},
   "source": [
    "Обращаем опять внимание на Ясенево и Строгино. "
   ]
  },
  {
   "cell_type": "markdown",
   "id": "b8a42179",
   "metadata": {},
   "source": [
    "#### Карта плотности заведений \n",
    "\n",
    "К сожалению, хороплёт не получится прикрепить к презентации. Сделаем карту, которую можно будет добавить в файл `pdf`."
   ]
  },
  {
   "cell_type": "code",
   "execution_count": null,
   "id": "32ba8660",
   "metadata": {
    "scrolled": false
   },
   "outputs": [],
   "source": [
    "# cоздадим временный геодатафрейм\n",
    "df_tmp = mo_df.merge(mo_area[['area', 'rest_per_sq']])\n",
    "\n",
    "# создадим карту\n",
    "ax = df_tmp.plot(figsize=(20,10), column='rest_per_sq', cmap='Reds', legend=True)\n",
    "# добавим граинцы\n",
    "mo_df.boundary.plot(ax=ax, color=cat_color[4]);\n",
    "# отключим оси\n",
    "ax.set_axis_off()\n",
    "# шрифт уменьшим\n",
    "mpl.rc('font', size=12)\n",
    "\n",
    "plt.xlim([37.31,37.95])\n",
    "plt.ylim([55.55,55.97])\n",
    "\n",
    "plt.title('Количество заведений на 1 кв.км по муниципальным районам')\n",
    "plt.show();"
   ]
  },
  {
   "cell_type": "markdown",
   "id": "7d9100d1",
   "metadata": {},
   "source": [
    "Думаю, что при выборе места для кофейни лучше будет выбирать районы ближе к центру, но с меньшей плотностью. Уже выбрав возможные варианты можно будет ориентироваться на другие параметры.  "
   ]
  },
  {
   "cell_type": "markdown",
   "id": "5e944c37",
   "metadata": {},
   "source": [
    "#### Количество заведений на 10 тысяч жителей\n",
    "\n",
    "Построим аналогичную карту по плотности заведений на количество жителей"
   ]
  },
  {
   "cell_type": "code",
   "execution_count": null,
   "id": "90a4f1d0",
   "metadata": {
    "scrolled": false
   },
   "outputs": [],
   "source": [
    "# cоздадим временный геодатафрейм\n",
    "df_tmp = mo_df.merge(mo_area[['area', 'rest_per_p']])\n",
    "\n",
    "# создадим карту\n",
    "ax = df_tmp.plot(\n",
    "     figsize=(20,10), column='rest_per_p', cmap='Blues', legend=True)\n",
    "# добавим граинцы\n",
    "mo_df.boundary.plot(ax=ax, color=cat_color[5]);\n",
    "# отключим оси\n",
    "ax.set_axis_off()\n",
    "# шрифт уменьшим\n",
    "mpl.rc('font', size=12)\n",
    "\n",
    "plt.xlim([37.31,37.95])\n",
    "plt.ylim([55.55,55.97])\n",
    "\n",
    "plt.title('Количество заведений на 10 тысяч жителей')\n",
    "plt.show();"
   ]
  },
  {
   "cell_type": "markdown",
   "id": "ad27cd35",
   "metadata": {},
   "source": [
    "###  Количество точек питания по улицам"
   ]
  },
  {
   "cell_type": "markdown",
   "id": "7aec6577",
   "metadata": {},
   "source": [
    "#### Топ-15 улиц\n",
    "\n",
    "Аналогично тому, как мы строили тепловую карту по административным округам, построим распределение количества заведений по наиболее популярным улицам."
   ]
  },
  {
   "cell_type": "code",
   "execution_count": null,
   "id": "4eb12441",
   "metadata": {
    "scrolled": false
   },
   "outputs": [],
   "source": [
    "# найдём список топ-15 улиц, отсортируем по алфавиту\n",
    "top_list = sorted(rest.street.value_counts().to_frame().head(15).index)\n",
    "\n",
    "# рассчитаем нужные данные и запишем в таблицу str_df\n",
    "df_tmp = pd.DataFrame(index=top_list)\n",
    "\n",
    "for cat in cat_list:\n",
    "    list_tmp = []\n",
    "    for ts in top_list:\n",
    "        list_tmp += [len(rest.query('category==@cat & street==@ts'))]\n",
    "    df_tmp[cat] = list_tmp\n",
    "    \n",
    "# построим тепловую карту    \n",
    "plt.figure(figsize=(16, 7))\n",
    "sns.heatmap(df_tmp, cmap=sns.color_palette(\"Reds\", as_cmap=True), annot=True, fmt='') \n",
    "\n",
    "plt.xlabel('')\n",
    "plt.title('Распределение категорий точек питания по топ-15 улиц') \n",
    "plt.show();    "
   ]
  },
  {
   "cell_type": "markdown",
   "id": "86d07219",
   "metadata": {},
   "source": [
    "Самая \"горячая\" точка тепловой карты - количество кафе на проспекте Мира. Это ни о чем не говорит, потому что проспект Мира очень длинный. По расстоянию от одного кафе до другого скорее всего выиграет улица Миклухо-Маклая, пройти которую от начала до конца пешком можно минут за 40. А проиграет, наверное МКАД. "
   ]
  },
  {
   "cell_type": "markdown",
   "id": "685eb3ba",
   "metadata": {},
   "source": [
    "#### Улицы с одной точкой питания"
   ]
  },
  {
   "cell_type": "code",
   "execution_count": null,
   "id": "22e8b610",
   "metadata": {
    "scrolled": true
   },
   "outputs": [],
   "source": [
    "value = (rest.street.value_counts()==1).sum()\n",
    "print(f'На \\033[1m{value}\\033[0m улицах Москвы расположен только один пункт питания.')"
   ]
  },
  {
   "cell_type": "markdown",
   "id": "f2752999",
   "metadata": {},
   "source": [
    "Да, и такие улицы бывают. Короткие переулки в центре города, улицы подлиннее в спальных районах. Как мы видели на хороплёте, есть районы, где очень мало заведений. Улицы с окраин города вполне могли оказаться в этом списке.\n",
    "\n",
    "А вот в качестве места для расположения нового заведения эти улицы могут и не подойти:\n",
    "- если это \"короткая\" улица и там достаточно одного заведения;\n",
    "- если это какая-то шумная дорога или т.п., то все уютные кафе или рестораны расположены по-близости в переулках;\n",
    "- если это промышленный или другой \"неблагополучный\" для размещения заведения район и т.д. \n",
    "\n",
    "Если изучить карту с кластерами, то можно найти улицы, где вообще ни одного заведения нет. Как говорила моя бабушка (хотя и немного по другому поводу): \"И даже в таких местах люди живут!\" 😱"
   ]
  },
  {
   "cell_type": "markdown",
   "id": "85cb690a",
   "metadata": {},
   "source": [
    "### Величина среднего чека"
   ]
  },
  {
   "cell_type": "markdown",
   "id": "afff0fa8",
   "metadata": {},
   "source": [
    "#### Размер среднего чека по муниципальным районам\n",
    "\n",
    "Рассчитаем медианные значения среднего чека по округам. Вспомним, что мы заменили пропуски нулями. Поэтому исключим нулевые значения. Затем построим хороплёт, как мы делали для рейтинга."
   ]
  },
  {
   "cell_type": "code",
   "execution_count": null,
   "id": "d34df8e6",
   "metadata": {
    "scrolled": true
   },
   "outputs": [],
   "source": [
    "bill_df = rest.query('avg_bill>0').groupby('district').avg_bill.median().astype(int)\n",
    "bill_df = bill_df.sort_values(ascending=False).to_frame().reset_index()\n",
    "display(bill_df.style.background_gradient('Blues'))"
   ]
  },
  {
   "cell_type": "code",
   "execution_count": null,
   "id": "8a9d859e",
   "metadata": {
    "scrolled": false
   },
   "outputs": [],
   "source": [
    "# создаём карту Москвы\n",
    "m = folium.Map(location=[moscow_lat, moscow_lng], zoom_start=10)\n",
    "\n",
    "# создаём хороплет с помощью конструктора Choropleth и добавляем его на карту\n",
    "folium.Choropleth(geo_data = ao_json, data = bill_df,  columns = ['district', 'avg_bill'],\n",
    "    key_on = 'feature.name', fill_color = 'Blues', fill_opacity = .8,\n",
    "    legend_name='Средний рейтинг заведений по округам'\n",
    ").add_to(m)\n",
    "\n",
    "# выводим карту\n",
    "m"
   ]
  },
  {
   "cell_type": "markdown",
   "id": "08a21355",
   "metadata": {},
   "source": [
    "- По ценам опередили всех Центральный и Западный округа. Эти административные единици исторически и по стоимости на жильё всегда были самыми дорогими в Москве. Поэтому и хороших \"крутых\" заведений здесь больше. И цены соответствующие.\n",
    "- Если построить такой же график не по медиане, а по средним значениям, то ЦАО окажется на твёрдом первом месте. "
   ]
  },
  {
   "cell_type": "markdown",
   "id": "53051c98",
   "metadata": {},
   "source": [
    "### Итоги анализа данных"
   ]
  },
  {
   "cell_type": "markdown",
   "id": "96645fe0",
   "metadata": {},
   "source": [
    "<div style=\"color:navy\"><b>По количеству точек общественного питания:</b></div>\n",
    "\n",
    "- проанализированы данные о **8 399** заведениях Москвы;\n",
    "\n",
    "\n",
    "- около **37%** из них принадлежат какой-либо сети;\n",
    "\n",
    "\n",
    "- более **33%** - предположительно находятся в торговых центрах и используют общие столики фуд-кортов;\n",
    "\n",
    "\n",
    "- почти половина всех точек питания - это **рестораны и кафе**, третья по популярности категория - **кофейни**;\n",
    "\n",
    "\n",
    "- приблизительно так же распределено деление на категории среди сетевых заведений;\n",
    "\n",
    "\n",
    "- чаще всего сетевыми становятся **булочные, пиццерии и кофейни** - половина из них открыта под маркой одной из сетей;\n",
    "\n",
    "\n",
    "- больше всего заведений имеют сети **Шоколадница, Домино'с пицца и ДоДо Пицца**;\n",
    "\n",
    "\n",
    "- меньше всего на рынке общепита представлено **столовых** - их доля от всех заведений не дотягивает до **4%**, столовые почти никогда не бывают круглосуточными и реже всех располагаются в фуд-кортах;\n",
    "\n",
    "\n",
    "- **круглосуточно** работают в основном **пункты быстрого питания**, они же чаще всего открывают свои заведения в торговых центрах.\n",
    "\n"
   ]
  },
  {
   "cell_type": "markdown",
   "id": "c40e16b6",
   "metadata": {},
   "source": [
    "<div style=\"color:navy\"><b>По расположению:</b></div>\n",
    "\n",
    "- больше всего точек расположилось в **ЦАО**, там же находятся и самые дорогие заведения с самым лучшим рейтингом (медиана рейтинга 4.8);\n",
    "\n",
    "\n",
    "- следующим по популярности административным округом стал **Северный**, но по количеству заведений и он сильно отстаёт от Центрального округа (897 против 2240 в ЦАО);\n",
    "\n",
    "- вторым по \"дороговизне\" после Центрального района оказался **ЗАО**;\n",
    "\n",
    "\n",
    "- меньше всего пунктов питания на **Северо-Западе**, но нельзя сказать, что этот округ наименее популярен, так как он самый маленький по площади из всех округов;\n",
    "\n",
    "- на юге и юго-востоке города чаще встречаются более дешевые заведения с более низким рейтингом, чем на Севере и Северо-западе;\n",
    "\n",
    "\n",
    "- если сравнивать районы города по \"плотности\" точек, то на первое место вышел **Арбат**, где на 1 кв.км можно насчитать почти 58 заведений, а на 10 тысяч жителей этого района приходится около 34 точек питания;\n",
    "\n",
    "\n",
    "- совсем немного от Арбата отстало **Замоскворече** (55 на 1 кв.км и 43 заведения на 10 тыс.жителей)."
   ]
  },
  {
   "cell_type": "markdown",
   "id": "7977e13d",
   "metadata": {},
   "source": [
    "<hr style=\"background-color:navy; align:left; height:2pt\">\n",
    "\n",
    "Учитывая сильную конкуренцию в центре города, большое количество популярных заведений с высоким рейтингом и высокими ценами, открывать новую точку лучше чуть дальше от центра. Анализ распределения заведений по муниципальным округам позволил предположить, что в качестве перспективных районов могли бы стать **Тимирязевский** (чуть больше 4 заведений на 1 кв.км), **Нагорный** (3.8) или **Раменки** (6.5). \n",
    "\n",
    "Если выбирать районы с ещё меньшей плотностью расположения пунктов питания, то это будут так называемые \"спальные\" районы. Среди таких можно отметить **Ясенево** (где всего лишь 2.8 точки на 1 кв.км и чуть больше 4 на 10 тыс.жителей), **Строгино** (3.6 и 3.7 соответственно). Стоит правда учесть, что именно в этих двух районах большую часть занимают природные парки. Возможно что на низкие значения мог повлиять и этот факт. "
   ]
  },
  {
   "cell_type": "markdown",
   "id": "f86dfe84",
   "metadata": {},
   "source": [
    "<h2 style=\"color:navy\">Открытие кофейни</h2>"
   ]
  },
  {
   "cell_type": "markdown",
   "id": "870e9742",
   "metadata": {},
   "source": [
    "Клиент больше склоняется открыть дорогую кофейню. Поэтому отдельно проведём анализ только для таких заведений. Учитывая, что намерение клиента - именно дорогая элитная кофейня, вряд ли стоит рассматривать районы сильно удалённые от центра города. Дело не только в уровне цен. Но и в количестве потенциальных клиентов, которых больше в центре города, в районе скопления бизнес-центров, в туристических местах города. "
   ]
  },
  {
   "cell_type": "markdown",
   "id": "2fac9933",
   "metadata": {},
   "source": [
    "### Информация о кофейнях"
   ]
  },
  {
   "cell_type": "markdown",
   "id": "79ca6c64",
   "metadata": {},
   "source": [
    "#### Подсчёт количества "
   ]
  },
  {
   "cell_type": "code",
   "execution_count": null,
   "id": "e2908dd9",
   "metadata": {
    "scrolled": true
   },
   "outputs": [],
   "source": [
    "# создадим срез по кофейням\n",
    "coffee_df = rest.query('category==\"кофейня\"')[['name', 'ward', 'area', \n",
    "            'rating', 'chain', 'food_court', 'is_24/7', \n",
    "            'prices', 'coffee', 'avg_bill']].reset_index(drop=True)\n",
    "\n",
    "value = len(coffee_df)\n",
    "print(f'Количество кофеен \\033[1m{value:,}\\033[0m. Из них:'.replace(',', ' '))\n",
    "value = len(coffee_df.query('chain'))/len(coffee_df)\n",
    "print(f'- сетевых \\033[1m{value:0.1%}\\033[0m;')\n",
    "value = coffee_df['is_24/7'].sum()/len(coffee_df)\n",
    "print(f'- работает круглосуточно \\033[1m{value:0.1%}\\033[0m;')\n",
    "value = len(coffee_df.query('food_court'))/len(coffee_df)\n",
    "print(f'- предположительно расположены в фуд-корте \\033[1m{value:0.1%}\\033[0m.')"
   ]
  },
  {
   "cell_type": "markdown",
   "id": "68ae5364",
   "metadata": {},
   "source": [
    "#### Рейтинг кофеен\n",
    "\n",
    "Посмотрим, насколько сильно отличается средний рейтинг кофеен по административным округам."
   ]
  },
  {
   "cell_type": "code",
   "execution_count": null,
   "id": "12878441",
   "metadata": {
    "scrolled": true
   },
   "outputs": [],
   "source": [
    "display(coffee_df.groupby('ward').rating.mean().to_frame()\n",
    "        .sort_values(by='rating', ascending=False).T\n",
    "        .style.background_gradient('Blues', axis=1).format('{:.2f}'))"
   ]
  },
  {
   "cell_type": "markdown",
   "id": "902eb7f2",
   "metadata": {},
   "source": [
    "В очередной раз убеждаемся, что в среднем в Центральном округе рейтинг кофеен выше, чем в остальных округах. Но вряд ли можно как-то использовать эту информацию. Рейтинг зависит от многих факторов, но прежде всего от качества обслуживания и качества приготовленной еды и напитков. Нет оснований искать здесь какую-то сильную зависимость."
   ]
  },
  {
   "cell_type": "markdown",
   "id": "f7770ed8",
   "metadata": {},
   "source": [
    "#### Уровень цен в кофейнях\n",
    "\n",
    "Приблизительно такая же ситуация с уровнем цен. "
   ]
  },
  {
   "cell_type": "code",
   "execution_count": null,
   "id": "66f46a74",
   "metadata": {
    "scrolled": true
   },
   "outputs": [],
   "source": [
    "display(coffee_df.query('prices>0').groupby('ward').prices.mean().to_frame()\n",
    "        .sort_values(by='prices', ascending=False).T\n",
    "        .style.background_gradient('Blues', axis=1).format('{:.2f}'))"
   ]
  },
  {
   "cell_type": "markdown",
   "id": "15477f0a",
   "metadata": {},
   "source": [
    "Напомним, что уровень цен равен 0, если цена не указана (эти значения мы не учитывали при анализе), 1 соответствуют низкие цены, а 4 - высокие. \n",
    "- Второе место по уровню цен занял Западный округ. Но он неожиданно оказался последним по среднему рейтингу заведений. Может, клиенты тем и недовольны, что цены высоковаты. \n",
    "- В центре и на северо-западе города цены в кофейнях выше. На юге и юго-востоке располжились точки питания попроще. "
   ]
  },
  {
   "cell_type": "markdown",
   "id": "33498ae9",
   "metadata": {},
   "source": [
    "### Кофейни по административным округам"
   ]
  },
  {
   "cell_type": "markdown",
   "id": "64559f34",
   "metadata": {},
   "source": [
    "#### Аггрегированные данные по округам\n",
    "\n",
    "Создадим таблицу `ao_df` по административным округам для кофеен."
   ]
  },
  {
   "cell_type": "code",
   "execution_count": null,
   "id": "42cd8fde",
   "metadata": {
    "scrolled": true
   },
   "outputs": [],
   "source": [
    "# используем готовую таблицу ward_df\n",
    "ao_df = ward_df[['name_cnt', 'color', 'кофейня']].reset_index()\n",
    "# переименуем столбцы\n",
    "ao_df.columns = ['ward', 'name_cnt', 'color', 'cof_cnt']\n",
    "\n",
    "# добавим медиану цены за чашку кофе, отбросив те строки, где цена не указана\n",
    "ao_df = ao_df.merge(coffee_df.query('coffee>0').groupby('ward').coffee.median().to_frame(),\n",
    "                    on='ward', how='left')\n",
    "# добавим медиану среднего чека, отбросив те строки, где цена не указана\n",
    "ao_df = ao_df.merge(coffee_df.query('avg_bill>0').groupby('ward').avg_bill.median().to_frame(),\n",
    "                    on='ward', how='left')\n",
    "\n",
    "# заполним нулями возникшие пропуски \n",
    "ao_df = ao_df.fillna(0)\n",
    "# переведём цены в целое\n",
    "ao_df[['coffee', 'avg_bill']] = ao_df[['coffee', 'avg_bill']].astype(int)\n",
    "\n",
    "# рассчитаем процент кофеен от всех заведений по округам\n",
    "ao_df['cof_pct'] = round(ao_df.cof_cnt / ao_df.name_cnt, 4)\n",
    "\n",
    "display(ao_df[ao_df.columns.drop('color')]\n",
    "        .sort_values(by='cof_cnt', ascending=False)\n",
    "        .style.background_gradient('Reds', subset=['cof_cnt', 'cof_pct', 'coffee', 'avg_bill'])\n",
    "        .format({'cof_pct': '{:0.2%}'}))"
   ]
  },
  {
   "cell_type": "markdown",
   "id": "e3329fa8",
   "metadata": {},
   "source": [
    "- Для расположения хорошей кофейни Центральный округ подходит плохо ввиду большой конкуретности. Хотя потребность в кофейнях в центре выше, чем на окраинах города. Т.к. в центре больше офисов, люди чаще встречаются в центре, чтобы провести время в кафе или кофейне вместе. \n",
    "- Что касается количества заведений по округам, то эта информация несёт в себе мало пользы, т.к. всё зависит ещё и от площади округа. \n",
    "- Для определения средней цены за чашку кофе можно будет полагаться на средние значения в зависимости от выбранного района."
   ]
  },
  {
   "cell_type": "markdown",
   "id": "b00cfbba",
   "metadata": {},
   "source": [
    "#### Доля кофеен по округам\n",
    "\n",
    "Визуализируем полученные результаты"
   ]
  },
  {
   "cell_type": "code",
   "execution_count": null,
   "id": "1165512a",
   "metadata": {
    "scrolled": true
   },
   "outputs": [],
   "source": [
    "# отсортируем по количеству заведений\n",
    "df_tmp = ao_df[['ward', 'name_cnt', 'cof_cnt', 'cof_pct', 'color']].sort_values(by='cof_pct')\n",
    "df_tmp = df_tmp.set_index('ward')\n",
    "\n",
    "# построим диаграмму по количеству заведений\n",
    "fig = df_tmp.name_cnt.plot.barh(figsize=(10,5), xlim=(0,1000), width=.8, \n",
    "        xlabel='', color=df_tmp['color'], alpha=0.5)\n",
    "\n",
    "# на тех же осях добавим количество кофеен\n",
    "fig = df_tmp.cof_cnt.plot.barh(width=.8, xlabel='', color=df_tmp['color'], ax=fig)\n",
    "\n",
    "# подпишем количества\n",
    "i = -.2\n",
    "for row in df_tmp.index:\n",
    "    n1 = df_tmp.loc[row, 'cof_cnt']\n",
    "    n2 = round(df_tmp.loc[row, 'cof_pct'] * 100)\n",
    "    n3 = df_tmp.loc[row, 'name_cnt']\n",
    "    value = str(n2) + '% (' + str(n1) + ')'\n",
    "    # подпись процентов и количества кофеен\n",
    "    plt.text(n1+20, i, value, horizontalalignment='left')\n",
    "    # подпись общего количества заведений\n",
    "    if row=='ЦАО': n1 = 1000\n",
    "    else: n1 = n3\n",
    "    plt.text(n1-20, i, n3, horizontalalignment='right')\n",
    "    i+=1\n",
    "\n",
    "# скроем верхнюю и правую линии на осях\n",
    "fig.spines['top'].set_visible(False)\n",
    "fig.spines['right'].set_visible(False)    \n",
    "    \n",
    "plt.title('Количество и доли кофеен среди заведений всех категорий', size=14)\n",
    "plt.xlabel('количество заведений')\n",
    "plt.show();"
   ]
  },
  {
   "cell_type": "markdown",
   "id": "c61338ee",
   "metadata": {},
   "source": [
    "Получается, что в ЮЗАО, ВАО и ЮВАО кофеен может быть не достаточно."
   ]
  },
  {
   "cell_type": "markdown",
   "id": "1e217216",
   "metadata": {},
   "source": [
    "#### Величина среднего чека и цена чашки капучино"
   ]
  },
  {
   "cell_type": "code",
   "execution_count": null,
   "id": "063ea644",
   "metadata": {
    "scrolled": false
   },
   "outputs": [],
   "source": [
    "# отсортируем по цене за чашку\n",
    "df_tmp = ao_df.sort_values(by='coffee', ascending=False)[['ward', 'coffee', 'avg_bill', 'color']]\n",
    "df_tmp = df_tmp.set_index('ward')\n",
    "\n",
    "# построим диаграмму по среднему чеку\n",
    "fig = df_tmp.avg_bill.plot.bar(figsize=(10,7), width=.8, \n",
    "        xlabel='', color=df_tmp['color'], alpha=0.5)\n",
    "\n",
    "# добавим цену за чашку кофе на тех же осях\n",
    "df_tmp.coffee.plot.bar(width=.8, xlabel='', color=df_tmp['color'], ax=fig)\n",
    "\n",
    "# подпишем цены\n",
    "i = 0.2\n",
    "for row in df_tmp.coffee:\n",
    "    plt.text(i, row-20, row, horizontalalignment='right', color='white')\n",
    "    i+=1\n",
    "i = 0.2\n",
    "for row in df_tmp.avg_bill:\n",
    "    plt.text(i, row-20, row, horizontalalignment='right')\n",
    "    i+=1\n",
    "    \n",
    "# скроем верхнюю и правую линии на осях\n",
    "fig.spines['top'].set_visible(False)\n",
    "fig.spines['right'].set_visible(False)\n",
    "    \n",
    "plt.title('Величина среднего чека\\nи медиана средней цены за чашку капучино в кофейнях', size=14)\n",
    "plt.ylabel('цена, руб.')\n",
    "plt.xticks(rotation = 0) \n",
    "plt.show();"
   ]
  },
  {
   "cell_type": "markdown",
   "id": "fd48f89f",
   "metadata": {},
   "source": [
    "В центре, на западе и юго-западе Москвы выпить кофе в среднем обойдётся дороже, чем на юге, востоке и юго-востоке. "
   ]
  },
  {
   "cell_type": "markdown",
   "id": "f17d7a1b",
   "metadata": {},
   "source": [
    "#### Аггрегированные данные по районам\n",
    "\n",
    "Оставим в срезе `coffee_df` только общие данные по районам."
   ]
  },
  {
   "cell_type": "code",
   "execution_count": null,
   "id": "21588707",
   "metadata": {
    "scrolled": false
   },
   "outputs": [],
   "source": [
    "# подсчитаем количество кофеен и средний рейтинг\n",
    "df_tmp = coffee_df.groupby('area').agg({'name': 'count', 'rating': 'mean'}).reset_index()\n",
    "df_tmp.columns = ['area', 'cof_cnt', 'rating']\n",
    "\n",
    "# используем готовую таблицу mo_area\n",
    "df_tmp = df_tmp.merge(mo_area[['ward', 'area', 'square', 'population', 'name_cnt']], \n",
    "                                     on='area', how='left')\n",
    "\n",
    "# добавим медиану цены за чашку кофе, отбросив те строки, где цена не указана\n",
    "df_tmp = df_tmp.merge(coffee_df.query('coffee>0').groupby('area').coffee.median()\n",
    "                      .to_frame(), on='area', how='left')\n",
    "# добавим медиану среднего чека, отбросив те строки, где цена не указана\n",
    "df_tmp = df_tmp.merge(coffee_df.query('avg_bill>0').groupby('area').avg_bill.median()\n",
    "                      .to_frame(), on='area', how='left')\n",
    "\n",
    "# рассчитаем доли кофеен и \"плотность\"\n",
    "df_tmp['cof_pct'] = round(100 * df_tmp.cof_cnt / df_tmp.name_cnt, 2)\n",
    "df_tmp['cof_per_sq'] = round(df_tmp.cof_cnt / df_tmp.square, 2)\n",
    "df_tmp['cof_per_p'] = round(10000 * df_tmp.cof_cnt / df_tmp.population, 2)\n",
    "\n",
    "# заполним нулями возникшие пропуски \n",
    "df_tmp=df_tmp.fillna(0)\n",
    "\n",
    "# округлим рейтинг до двух знаков\n",
    "df_tmp.rating = round(df_tmp.rating , 2)\n",
    "# переведём уровень цен и средний чек в целое\n",
    "df_tmp[['coffee', 'avg_bill']] = df_tmp[['coffee', 'avg_bill']].astype(int)\n",
    "\n",
    "# пересохраним аггрегированные данные в таблицу coffee_df, оставив только нужные столбцы в нужном порядке\n",
    "coffee_df = df_tmp[['area', 'ward', 'cof_per_sq', 'cof_per_p', 'cof_pct', 'rating', 'coffee', 'avg_bill']]"
   ]
  },
  {
   "cell_type": "markdown",
   "id": "a0890d0b",
   "metadata": {},
   "source": [
    "#### Топ-5 районов \n",
    "\n",
    "Выведем информацию о топ-5 районах по разным параметрам."
   ]
  },
  {
   "cell_type": "code",
   "execution_count": null,
   "id": "f3b048c3",
   "metadata": {
    "scrolled": true
   },
   "outputs": [],
   "source": [
    "%%capture --no-display\n",
    "# добавим столбец для подписей\n",
    "coffee_df['name'] = coffee_df.area + ' (' + coffee_df.ward + ')'"
   ]
  },
  {
   "cell_type": "code",
   "execution_count": null,
   "id": "d68bd3b9",
   "metadata": {
    "scrolled": true
   },
   "outputs": [],
   "source": [
    "list_tmp = coffee_df.sort_values(by='cof_per_sq', ascending=False).head(5).name.to_list()\n",
    "print('По количеству кофеен на единицу площади:\\033[1m')\n",
    "print(*list_tmp, sep=', ')\n",
    "print('\\033[0m')\n",
    "\n",
    "list_tmp = coffee_df.sort_values(by='cof_per_p', ascending=False).head(5).name.to_list()\n",
    "print('По количеству кофеен на 10 тыс. жителей:\\033[1m')\n",
    "print(*list_tmp, sep=', ')\n",
    "print('\\033[0m')\n",
    "\n",
    "list_tmp = coffee_df.sort_values(by='cof_pct', ascending=False).head(5).name.to_list()\n",
    "print('По доле кофеен среди других заведений:\\033[1m')\n",
    "print(*list_tmp, sep=', ')\n",
    "print('\\033[0m')\n",
    "\n",
    "list_tmp = coffee_df.sort_values(by='coffee', ascending=False).head(5).name.to_list()\n",
    "print('По цене за чашку капучино:\\033[1m')\n",
    "print(*list_tmp, sep=', ')\n",
    "print('\\033[0m')\n",
    "\n",
    "list_tmp = coffee_df.sort_values(by='avg_bill', ascending=False).head(5).name.to_list()\n",
    "print('По величине среднего чека:\\033[1m')\n",
    "print(*list_tmp, sep=', ')\n",
    "print('\\033[0m')"
   ]
  },
  {
   "cell_type": "markdown",
   "id": "cf973a17",
   "metadata": {},
   "source": [
    "#### Районы, где кофеен мало"
   ]
  },
  {
   "cell_type": "code",
   "execution_count": null,
   "id": "27e7ef1a",
   "metadata": {
    "scrolled": true
   },
   "outputs": [],
   "source": [
    "list_tmp = coffee_df.sort_values(by='cof_per_sq').head(5).name.to_list()\n",
    "print('По количеству кофеен на единицу площади:\\033[1m')\n",
    "print(*list_tmp, sep=', ')\n",
    "print('\\033[0m')\n",
    "\n",
    "list_tmp = coffee_df.sort_values(by='cof_per_p').head(5).name.to_list()\n",
    "print('По количеству кофеен на 10 тыс. жителей:\\033[1m')\n",
    "print(*list_tmp, sep=', ')\n",
    "print('\\033[0m')\n",
    "\n",
    "list_tmp = coffee_df.sort_values(by='cof_pct').head(5).name.to_list()\n",
    "print('По доле кофеен среди других заведений:\\033[1m')\n",
    "print(*list_tmp, sep=', ')\n",
    "print('\\033[0m')"
   ]
  },
  {
   "cell_type": "code",
   "execution_count": null,
   "id": "38dda5da",
   "metadata": {
    "scrolled": true
   },
   "outputs": [],
   "source": [
    "# уберём из coffee_df \"лишиние\" столбцы\n",
    "coffee_df = coffee_df[coffee_df.columns.drop(['name', 'ward'])]"
   ]
  },
  {
   "cell_type": "markdown",
   "id": "ee58460d",
   "metadata": {},
   "source": [
    "### Выбор местоположения для кофейни"
   ]
  },
  {
   "cell_type": "markdown",
   "id": "6184f861",
   "metadata": {},
   "source": [
    "#### Визуализация всех параметров по районам\n",
    "\n",
    "Сделаем интерактивную карту для изучения распределения кофеен по городу."
   ]
  },
  {
   "cell_type": "code",
   "execution_count": null,
   "id": "e5cb697f",
   "metadata": {
    "scrolled": true
   },
   "outputs": [],
   "source": [
    "# создадим геодатафрейм для кофеен\n",
    "df_tmp = mo_df.merge(coffee_df, how='left')\n",
    "# заполним пропуски нулями\n",
    "df_tmp = df_tmp.fillna(0)\n",
    "# цены переведём в целоеV\n",
    "df_tmp[['coffee', 'avg_bill']] = df_tmp[['coffee', 'avg_bill']].astype(int)\n",
    "\n",
    "# создадим список столбцов для выбора на графике\n",
    "list_tmp = ['На 1 кв.км', 'На 10 тыс.чел.', 'Доля кофеен', 'Рейтинг', 'Цена чашки', 'Cредний чек']\n",
    "# переименуем столбцы для отображения\n",
    "df_tmp.columns = ['Район', 'Округ', 'geometry'] + list_tmp "
   ]
  },
  {
   "cell_type": "code",
   "execution_count": null,
   "id": "7721619b",
   "metadata": {
    "scrolled": false
   },
   "outputs": [],
   "source": [
    "print('\\033[1m   Распределение кофеен по районам\\033[0m')\n",
    "\n",
    "# создадим выпадающий список для выбора столбца\n",
    "@widgets.interact\n",
    "def interactive_chor(Градиент=list_tmp, Цвет=['Blues', 'Reds', 'PuBu', 'RdBu_r']):\n",
    "    # построим и выведем на экран Хороплёт\n",
    "    return df_tmp.explore(\n",
    "        # выбор сделаем по столбцам из выпадающего списка\n",
    "        column=Градиент, cmap=Цвет, \n",
    "        # добавим вывод легенды при нажатии \n",
    "        popup = True, \n",
    "        # цвет границ\n",
    "        style_kwds=dict(color='black', weight=1, fillOpacity=1),\n",
    "        # цвет подсветки выбранного района\n",
    "        highlight_kwds=dict(color='yellow', weight=4), \n",
    "        # зум при обновлении карты\n",
    "        zoom_start=10, width=700)"
   ]
  },
  {
   "cell_type": "markdown",
   "id": "0c6ac251",
   "metadata": {},
   "source": [
    "#### Выбор местоположения\n",
    "\n",
    "При изучении карты по количеству заведений на единицу площади, было отмечено несколько районов, близких к центру, но с относительно невысоким значением \"плотности\". Были выделены, например, район Раменки, Тимирязевский и др. Из таких районов по средней цене чашки капучино, по расположению, по привлекательности в плане возможного притока клиентов, самым интересным показались **Раменки**. \n",
    "Изучив этот район с помощью кластеризации, было найдено два приблизительных варианта улиц для размещения кофейни. Улица Косыгина из Раменок плавно перешла в **Гагаринский** район.\n",
    "\n",
    "Если открыть кофейню в центре или близко к центру \"с нуля\" будет сложно по экономическим соображениям, то можно рассмотреть районы ближе к МКАДу, где кофеен либо нет, либо очень мало. Изучение кластеров и хороплёта показало, что **Ясенево** не очень перспективно, т.к. около метро уже есть несколько кофеен, а в районе очень мало точек, где можно будет ждать большого наплыва клиентов - нет ни ВУЗов, ни бизнес-центров, ни достопримечательностей. В этом плане больше подойдёт **Строгино**, где есть факультеты ВШЭ, Дворец спорта \"Янтарь\",  несколько небольших бизнес-центров и отсутствие кофеен в непосредственной близости к метро.\n",
    "\n",
    "Подготовим еще одну карту для презентации, выделив выбранные районы. "
   ]
  },
  {
   "cell_type": "code",
   "execution_count": null,
   "id": "b863dd0d",
   "metadata": {
    "scrolled": false
   },
   "outputs": [],
   "source": [
    "# создадим карту\n",
    "ax = mo_df.plot(\n",
    "     figsize=(20,10), color=cat_color[4], alpha=.1,\n",
    "     legend=True, legend_kwds={\"location\":\"left\",\"shrink\":.5})\n",
    "\n",
    "# добавим выделение выбранных районов\n",
    "mo_df.query('area.str.contains(\"Гагаринский\")').plot(\n",
    "            color=cat_color[5], ax=ax, label='Гагаринский')\n",
    "mo_df.query('area.str.contains(\"Раменки\")').plot(\n",
    "            color=cat_color[5], alpha=.5, ax=ax, label='Раменки')\n",
    "mo_df.query('area.str.contains(\"Строгино\")').plot(\n",
    "            color=cat_color[2], alpha=.5, ax=ax, label='Раменки')\n",
    "\n",
    "\n",
    "# нарисуем границы\n",
    "mo_df.boundary.plot(ax=ax, color=cat_color[4]);\n",
    "\n",
    "# отключим оси\n",
    "ax.set_axis_off()\n",
    "# шрифт уменьшим\n",
    "mpl.rc('font', size=12)\n",
    "\n",
    "plt.xlim([37.31,37.95])\n",
    "plt.ylim([55.55,55.97])\n",
    "\n",
    "plt.title('Выбор района для кофейни')\n",
    "plt.show();"
   ]
  },
  {
   "cell_type": "markdown",
   "id": "455c1bc5",
   "metadata": {},
   "source": [
    "### Итоги изучения кофеен"
   ]
  },
  {
   "cell_type": "markdown",
   "id": "cf62631b",
   "metadata": {},
   "source": [
    "<div style=\"color:navy\"><b>По количеству:</b></div>\n",
    "\n",
    "- проанализированы данные о **1 413** кофейнях Москвы; \n",
    "\n",
    "\n",
    "- более половины из них принадлежат какой-либо сети, самыми популярными сетевыми кофейнями являются\n",
    "    - **Шоколадница**, \n",
    "    - **OnePrice Coffee**,\n",
    "    - **Coffix**;\n",
    "\n",
    "\n",
    "- только **4.2%** кофеен работают круглосуточно."
   ]
  },
  {
   "cell_type": "markdown",
   "id": "7409f688",
   "metadata": {},
   "source": [
    "<div style=\"color:navy\"><b>По расположению:</b></div>\n",
    "\n",
    "- больше всего заведений с хорошим рейтингом, высокими ценами в **Центральном** административном округе;\n",
    "\n",
    "\n",
    "- любят пить кофе в **САО** - там самая высокая доля кофеен среди остальных заведений;\n",
    "\n",
    "\n",
    "- на **юге, юго-востоке и востоке** города ситуация чуть хуже - кофеен там мало, средний рейтинг и медианы цен ниже;\n",
    "\n",
    "\n",
    "- в Москве существуют районы, где нет ни одной кофейни. К сожалению, это муниципальные округа на окраине города, т.е \"спальные\" районы. Например, **Бирюлёво-Западное**. Целесообразность открытия там кофейни сомнительна из-за возможного недостатка в клиентах."
   ]
  },
  {
   "cell_type": "markdown",
   "id": "a837c375",
   "metadata": {},
   "source": [
    "<hr style=\"background-color:navy; align:left; height:2pt\">\n",
    "\n",
    "С помощью графической визуализации (хороплётов и кластеризации) выявлено несколько районов, где можно было бы расположить новую кофейню. Стоит иметь ввиду, что анализа картографических данных для окончательного принятия решения не достаточно. Следует обязательно учесть маркетинговые особенности, вероятный траффик клиентов, уровни цен, логистики и т.д. и т.п.\n",
    "\n",
    "\n",
    "1. **Улица Косыгина**, Гагаринский муниципальный округ (ЮЗАО) и Раменки (ЗАО)\n",
    "    - близко от центра, лёгкая транспортная доступность (м.Ленинский проспект, м.Университет);\n",
    "    - наличие достопримечательностей и парков рядом, близость ВУЗов, Дом детского творчества, Академия Наук,  комплекс зимних видов спорта и т.п.;\n",
    "    - количество кофеен в районе выше среднего, но именно кофейни на указанной улице и по близости отсутствуют;\n",
    "    - высокая средняя цена за чашку кофе (227 руб. в Гагаринском районе) и средний чек (500 руб.);\n",
    "    - скорое открытие штаб-квартиры Яндекса на улице Косыгина 🙂!\n",
    "\n",
    "\n",
    "2. **Раменки (ЗАО)**, улицы: Светланова, Шувалова, Раменский бульвар\n",
    "    - не очень далеко от центра города;\n",
    "    - относительно низкое количество кофеен на единицу площади и на количество жителей района;\n",
    "    - высокая средняя цена за чашку кофе (256 руб.) и средний чек по кофейням района (400 руб.);\n",
    "    - близкое расположение корпусов и общежитий МГУ, а также элитной недвижимости в этом районе (возможная постоянная клиентура);\n",
    "    - строящиеся объекты на новой территории МГУ (также возможность дополнительного привлечения посетителей);\n",
    "    - наличие парков и скверов в пешеходной доступности (многие заходят в перекусить после прогулки или по дороге).\n",
    "    \n",
    "\n",
    "3. Район около метро **Строгино** можно рассмотреть как вариант стартапа с планом развития в более дорогое заведение ближе к центру города\n",
    "    - очень маленькое количество кофеен как на единицу площади, так и на количество жителей (ниже чем 0.5 на 1 кв.км и 10 тыс. жителей);\n",
    "    - огромная природная и парковая территория в районе;\n",
    "    - наличие в районе ВУЗа, спортивного комплекса, бизнес-центра (возможны клиенты \"по дороге на работу\");\n",
    "    - неплохая для районов в отдалении от центра средняя цена чашки кофе (220 руб.)."
   ]
  },
  {
   "cell_type": "markdown",
   "id": "4a086f42",
   "metadata": {},
   "source": [
    "<hr style=\"background-color:navy; align:left; height:2pt\">\n",
    "\n",
    "**Презентация**: <https://drive.google.com/file/d/1w6m9h8FZNUbWVFA-4QIve5qZkGm2oBx-/view> "
   ]
  }
 ],
 "metadata": {
  "ExecuteTimeLog": [
   {
    "duration": 1684,
    "start_time": "2023-02-25T23:06:22.575Z"
   },
   {
    "duration": 3,
    "start_time": "2023-02-25T23:06:24.262Z"
   },
   {
    "duration": 138,
    "start_time": "2023-02-25T23:06:24.267Z"
   },
   {
    "duration": 0,
    "start_time": "2023-02-25T23:06:24.411Z"
   },
   {
    "duration": 0,
    "start_time": "2023-02-25T23:06:24.413Z"
   },
   {
    "duration": 0,
    "start_time": "2023-02-25T23:06:24.414Z"
   },
   {
    "duration": 0,
    "start_time": "2023-02-25T23:06:24.416Z"
   },
   {
    "duration": 0,
    "start_time": "2023-02-25T23:06:24.418Z"
   },
   {
    "duration": 0,
    "start_time": "2023-02-25T23:06:24.419Z"
   },
   {
    "duration": 0,
    "start_time": "2023-02-25T23:06:24.419Z"
   },
   {
    "duration": 0,
    "start_time": "2023-02-25T23:06:24.420Z"
   },
   {
    "duration": 0,
    "start_time": "2023-02-25T23:06:24.422Z"
   },
   {
    "duration": 0,
    "start_time": "2023-02-25T23:06:24.422Z"
   },
   {
    "duration": 0,
    "start_time": "2023-02-25T23:06:24.425Z"
   },
   {
    "duration": 0,
    "start_time": "2023-02-25T23:06:24.426Z"
   },
   {
    "duration": 0,
    "start_time": "2023-02-25T23:06:24.427Z"
   },
   {
    "duration": 0,
    "start_time": "2023-02-25T23:06:24.428Z"
   },
   {
    "duration": 0,
    "start_time": "2023-02-25T23:06:24.429Z"
   },
   {
    "duration": 0,
    "start_time": "2023-02-25T23:06:24.430Z"
   },
   {
    "duration": 0,
    "start_time": "2023-02-25T23:06:24.430Z"
   },
   {
    "duration": 0,
    "start_time": "2023-02-25T23:06:24.432Z"
   },
   {
    "duration": 0,
    "start_time": "2023-02-25T23:06:24.434Z"
   },
   {
    "duration": 0,
    "start_time": "2023-02-25T23:06:24.435Z"
   },
   {
    "duration": 0,
    "start_time": "2023-02-25T23:06:24.436Z"
   },
   {
    "duration": 0,
    "start_time": "2023-02-25T23:06:24.437Z"
   },
   {
    "duration": 0,
    "start_time": "2023-02-25T23:06:24.439Z"
   },
   {
    "duration": 0,
    "start_time": "2023-02-25T23:06:24.440Z"
   },
   {
    "duration": 0,
    "start_time": "2023-02-25T23:06:24.441Z"
   },
   {
    "duration": 0,
    "start_time": "2023-02-25T23:06:24.441Z"
   },
   {
    "duration": 0,
    "start_time": "2023-02-25T23:06:24.443Z"
   },
   {
    "duration": 0,
    "start_time": "2023-02-25T23:06:24.444Z"
   },
   {
    "duration": 1,
    "start_time": "2023-02-25T23:06:24.485Z"
   },
   {
    "duration": 0,
    "start_time": "2023-02-25T23:06:24.486Z"
   },
   {
    "duration": 0,
    "start_time": "2023-02-25T23:06:24.487Z"
   },
   {
    "duration": 0,
    "start_time": "2023-02-25T23:06:24.488Z"
   },
   {
    "duration": 0,
    "start_time": "2023-02-25T23:06:24.489Z"
   },
   {
    "duration": 0,
    "start_time": "2023-02-25T23:06:24.490Z"
   },
   {
    "duration": 0,
    "start_time": "2023-02-25T23:06:24.491Z"
   },
   {
    "duration": 0,
    "start_time": "2023-02-25T23:06:24.491Z"
   },
   {
    "duration": 0,
    "start_time": "2023-02-25T23:06:24.492Z"
   },
   {
    "duration": 0,
    "start_time": "2023-02-25T23:06:24.493Z"
   },
   {
    "duration": 0,
    "start_time": "2023-02-25T23:06:24.494Z"
   },
   {
    "duration": 0,
    "start_time": "2023-02-25T23:06:24.495Z"
   },
   {
    "duration": 0,
    "start_time": "2023-02-25T23:06:24.498Z"
   },
   {
    "duration": 0,
    "start_time": "2023-02-25T23:06:24.499Z"
   },
   {
    "duration": 0,
    "start_time": "2023-02-25T23:06:24.500Z"
   },
   {
    "duration": 0,
    "start_time": "2023-02-25T23:06:24.500Z"
   },
   {
    "duration": 0,
    "start_time": "2023-02-25T23:06:24.501Z"
   },
   {
    "duration": 0,
    "start_time": "2023-02-25T23:06:24.502Z"
   },
   {
    "duration": 0,
    "start_time": "2023-02-25T23:06:24.504Z"
   },
   {
    "duration": 0,
    "start_time": "2023-02-25T23:06:24.505Z"
   },
   {
    "duration": 0,
    "start_time": "2023-02-25T23:06:24.506Z"
   },
   {
    "duration": 0,
    "start_time": "2023-02-25T23:06:24.507Z"
   },
   {
    "duration": 0,
    "start_time": "2023-02-25T23:06:24.508Z"
   },
   {
    "duration": 0,
    "start_time": "2023-02-25T23:06:24.509Z"
   },
   {
    "duration": 0,
    "start_time": "2023-02-25T23:06:24.510Z"
   },
   {
    "duration": 0,
    "start_time": "2023-02-25T23:06:24.517Z"
   },
   {
    "duration": 0,
    "start_time": "2023-02-25T23:06:24.518Z"
   },
   {
    "duration": 0,
    "start_time": "2023-02-25T23:06:24.519Z"
   },
   {
    "duration": 0,
    "start_time": "2023-02-25T23:06:24.521Z"
   },
   {
    "duration": 0,
    "start_time": "2023-02-25T23:06:24.524Z"
   },
   {
    "duration": 0,
    "start_time": "2023-02-25T23:06:24.525Z"
   },
   {
    "duration": 0,
    "start_time": "2023-02-25T23:06:24.527Z"
   },
   {
    "duration": 0,
    "start_time": "2023-02-25T23:06:24.529Z"
   },
   {
    "duration": 0,
    "start_time": "2023-02-25T23:06:24.530Z"
   },
   {
    "duration": 0,
    "start_time": "2023-02-25T23:06:24.532Z"
   },
   {
    "duration": 0,
    "start_time": "2023-02-25T23:06:24.586Z"
   },
   {
    "duration": 0,
    "start_time": "2023-02-25T23:06:24.587Z"
   },
   {
    "duration": 0,
    "start_time": "2023-02-25T23:06:24.588Z"
   },
   {
    "duration": 0,
    "start_time": "2023-02-25T23:06:24.589Z"
   },
   {
    "duration": 0,
    "start_time": "2023-02-25T23:06:24.591Z"
   },
   {
    "duration": 0,
    "start_time": "2023-02-25T23:06:24.598Z"
   },
   {
    "duration": 0,
    "start_time": "2023-02-25T23:06:24.601Z"
   },
   {
    "duration": 0,
    "start_time": "2023-02-25T23:06:24.603Z"
   },
   {
    "duration": 0,
    "start_time": "2023-02-25T23:06:24.605Z"
   },
   {
    "duration": 0,
    "start_time": "2023-02-25T23:06:24.606Z"
   },
   {
    "duration": 0,
    "start_time": "2023-02-25T23:06:24.608Z"
   },
   {
    "duration": 0,
    "start_time": "2023-02-25T23:06:24.611Z"
   },
   {
    "duration": 0,
    "start_time": "2023-02-25T23:06:24.614Z"
   },
   {
    "duration": 0,
    "start_time": "2023-02-25T23:06:24.616Z"
   },
   {
    "duration": 0,
    "start_time": "2023-02-25T23:06:24.617Z"
   },
   {
    "duration": 0,
    "start_time": "2023-02-25T23:06:24.619Z"
   },
   {
    "duration": 0,
    "start_time": "2023-02-25T23:06:24.622Z"
   },
   {
    "duration": 0,
    "start_time": "2023-02-25T23:06:24.623Z"
   },
   {
    "duration": 0,
    "start_time": "2023-02-25T23:06:24.625Z"
   },
   {
    "duration": 0,
    "start_time": "2023-02-25T23:06:24.626Z"
   },
   {
    "duration": 0,
    "start_time": "2023-02-25T23:06:24.628Z"
   },
   {
    "duration": 0,
    "start_time": "2023-02-25T23:06:24.629Z"
   },
   {
    "duration": 0,
    "start_time": "2023-02-25T23:06:24.631Z"
   },
   {
    "duration": 0,
    "start_time": "2023-02-25T23:06:24.633Z"
   },
   {
    "duration": 0,
    "start_time": "2023-02-25T23:06:24.634Z"
   },
   {
    "duration": 0,
    "start_time": "2023-02-25T23:06:24.636Z"
   },
   {
    "duration": 0,
    "start_time": "2023-02-25T23:06:24.638Z"
   },
   {
    "duration": 0,
    "start_time": "2023-02-25T23:06:24.689Z"
   },
   {
    "duration": 0,
    "start_time": "2023-02-25T23:06:24.691Z"
   },
   {
    "duration": 0,
    "start_time": "2023-02-25T23:06:24.692Z"
   },
   {
    "duration": 0,
    "start_time": "2023-02-25T23:06:24.693Z"
   },
   {
    "duration": 0,
    "start_time": "2023-02-25T23:06:24.694Z"
   },
   {
    "duration": 0,
    "start_time": "2023-02-25T23:06:24.695Z"
   },
   {
    "duration": 0,
    "start_time": "2023-02-25T23:06:24.695Z"
   },
   {
    "duration": 0,
    "start_time": "2023-02-25T23:06:24.696Z"
   },
   {
    "duration": 0,
    "start_time": "2023-02-25T23:06:24.697Z"
   },
   {
    "duration": 0,
    "start_time": "2023-02-25T23:06:24.698Z"
   },
   {
    "duration": 0,
    "start_time": "2023-02-25T23:06:24.699Z"
   },
   {
    "duration": 0,
    "start_time": "2023-02-25T23:06:24.700Z"
   },
   {
    "duration": 0,
    "start_time": "2023-02-25T23:06:24.701Z"
   },
   {
    "duration": 0,
    "start_time": "2023-02-25T23:06:24.705Z"
   },
   {
    "duration": 0,
    "start_time": "2023-02-25T23:06:24.706Z"
   },
   {
    "duration": 0,
    "start_time": "2023-02-25T23:06:24.707Z"
   },
   {
    "duration": 4302,
    "start_time": "2023-02-25T23:07:35.147Z"
   },
   {
    "duration": 1324,
    "start_time": "2023-02-25T23:08:08.104Z"
   },
   {
    "duration": 5,
    "start_time": "2023-02-25T23:08:09.436Z"
   },
   {
    "duration": 573,
    "start_time": "2023-02-25T23:08:09.446Z"
   },
   {
    "duration": 0,
    "start_time": "2023-02-25T23:08:10.027Z"
   },
   {
    "duration": 0,
    "start_time": "2023-02-25T23:08:10.028Z"
   },
   {
    "duration": 0,
    "start_time": "2023-02-25T23:08:10.029Z"
   },
   {
    "duration": 0,
    "start_time": "2023-02-25T23:08:10.030Z"
   },
   {
    "duration": 0,
    "start_time": "2023-02-25T23:08:10.032Z"
   },
   {
    "duration": 0,
    "start_time": "2023-02-25T23:08:10.033Z"
   },
   {
    "duration": 0,
    "start_time": "2023-02-25T23:08:10.034Z"
   },
   {
    "duration": 0,
    "start_time": "2023-02-25T23:08:10.036Z"
   },
   {
    "duration": 0,
    "start_time": "2023-02-25T23:08:10.037Z"
   },
   {
    "duration": 0,
    "start_time": "2023-02-25T23:08:10.039Z"
   },
   {
    "duration": 0,
    "start_time": "2023-02-25T23:08:10.040Z"
   },
   {
    "duration": 0,
    "start_time": "2023-02-25T23:08:10.041Z"
   },
   {
    "duration": 0,
    "start_time": "2023-02-25T23:08:10.042Z"
   },
   {
    "duration": 0,
    "start_time": "2023-02-25T23:08:10.043Z"
   },
   {
    "duration": 0,
    "start_time": "2023-02-25T23:08:10.044Z"
   },
   {
    "duration": 0,
    "start_time": "2023-02-25T23:08:10.046Z"
   },
   {
    "duration": 0,
    "start_time": "2023-02-25T23:08:10.046Z"
   },
   {
    "duration": 0,
    "start_time": "2023-02-25T23:08:10.048Z"
   },
   {
    "duration": 0,
    "start_time": "2023-02-25T23:08:10.049Z"
   },
   {
    "duration": 0,
    "start_time": "2023-02-25T23:08:10.050Z"
   },
   {
    "duration": 0,
    "start_time": "2023-02-25T23:08:10.051Z"
   },
   {
    "duration": 0,
    "start_time": "2023-02-25T23:08:10.052Z"
   },
   {
    "duration": 0,
    "start_time": "2023-02-25T23:08:10.053Z"
   },
   {
    "duration": 0,
    "start_time": "2023-02-25T23:08:10.054Z"
   },
   {
    "duration": 0,
    "start_time": "2023-02-25T23:08:10.054Z"
   },
   {
    "duration": 0,
    "start_time": "2023-02-25T23:08:10.055Z"
   },
   {
    "duration": 0,
    "start_time": "2023-02-25T23:08:10.087Z"
   },
   {
    "duration": 0,
    "start_time": "2023-02-25T23:08:10.088Z"
   },
   {
    "duration": 0,
    "start_time": "2023-02-25T23:08:10.093Z"
   },
   {
    "duration": 0,
    "start_time": "2023-02-25T23:08:10.094Z"
   },
   {
    "duration": 0,
    "start_time": "2023-02-25T23:08:10.094Z"
   },
   {
    "duration": 0,
    "start_time": "2023-02-25T23:08:10.095Z"
   },
   {
    "duration": 0,
    "start_time": "2023-02-25T23:08:10.095Z"
   },
   {
    "duration": 0,
    "start_time": "2023-02-25T23:08:10.096Z"
   },
   {
    "duration": 0,
    "start_time": "2023-02-25T23:08:10.099Z"
   },
   {
    "duration": 0,
    "start_time": "2023-02-25T23:08:10.100Z"
   },
   {
    "duration": 0,
    "start_time": "2023-02-25T23:08:10.101Z"
   },
   {
    "duration": 0,
    "start_time": "2023-02-25T23:08:10.103Z"
   },
   {
    "duration": 0,
    "start_time": "2023-02-25T23:08:10.104Z"
   },
   {
    "duration": 0,
    "start_time": "2023-02-25T23:08:10.105Z"
   },
   {
    "duration": 0,
    "start_time": "2023-02-25T23:08:10.106Z"
   },
   {
    "duration": 0,
    "start_time": "2023-02-25T23:08:10.107Z"
   },
   {
    "duration": 0,
    "start_time": "2023-02-25T23:08:10.109Z"
   },
   {
    "duration": 0,
    "start_time": "2023-02-25T23:08:10.110Z"
   },
   {
    "duration": 0,
    "start_time": "2023-02-25T23:08:10.111Z"
   },
   {
    "duration": 0,
    "start_time": "2023-02-25T23:08:10.112Z"
   },
   {
    "duration": 0,
    "start_time": "2023-02-25T23:08:10.113Z"
   },
   {
    "duration": 1,
    "start_time": "2023-02-25T23:08:10.114Z"
   },
   {
    "duration": 0,
    "start_time": "2023-02-25T23:08:10.116Z"
   },
   {
    "duration": 0,
    "start_time": "2023-02-25T23:08:10.117Z"
   },
   {
    "duration": 0,
    "start_time": "2023-02-25T23:08:10.118Z"
   },
   {
    "duration": 0,
    "start_time": "2023-02-25T23:08:10.119Z"
   },
   {
    "duration": 0,
    "start_time": "2023-02-25T23:08:10.121Z"
   },
   {
    "duration": 0,
    "start_time": "2023-02-25T23:08:10.122Z"
   },
   {
    "duration": 0,
    "start_time": "2023-02-25T23:08:10.123Z"
   },
   {
    "duration": 0,
    "start_time": "2023-02-25T23:08:10.124Z"
   },
   {
    "duration": 0,
    "start_time": "2023-02-25T23:08:10.126Z"
   },
   {
    "duration": 0,
    "start_time": "2023-02-25T23:08:10.127Z"
   },
   {
    "duration": 0,
    "start_time": "2023-02-25T23:08:10.128Z"
   },
   {
    "duration": 0,
    "start_time": "2023-02-25T23:08:10.129Z"
   },
   {
    "duration": 0,
    "start_time": "2023-02-25T23:08:10.129Z"
   },
   {
    "duration": 0,
    "start_time": "2023-02-25T23:08:10.131Z"
   },
   {
    "duration": 0,
    "start_time": "2023-02-25T23:08:10.132Z"
   },
   {
    "duration": 1,
    "start_time": "2023-02-25T23:08:10.133Z"
   },
   {
    "duration": 0,
    "start_time": "2023-02-25T23:08:10.135Z"
   },
   {
    "duration": 0,
    "start_time": "2023-02-25T23:08:10.136Z"
   },
   {
    "duration": 0,
    "start_time": "2023-02-25T23:08:10.197Z"
   },
   {
    "duration": 0,
    "start_time": "2023-02-25T23:08:10.198Z"
   },
   {
    "duration": 0,
    "start_time": "2023-02-25T23:08:10.199Z"
   },
   {
    "duration": 0,
    "start_time": "2023-02-25T23:08:10.199Z"
   },
   {
    "duration": 0,
    "start_time": "2023-02-25T23:08:10.200Z"
   },
   {
    "duration": 0,
    "start_time": "2023-02-25T23:08:10.201Z"
   },
   {
    "duration": 0,
    "start_time": "2023-02-25T23:08:10.201Z"
   },
   {
    "duration": 0,
    "start_time": "2023-02-25T23:08:10.205Z"
   },
   {
    "duration": 0,
    "start_time": "2023-02-25T23:08:10.206Z"
   },
   {
    "duration": 0,
    "start_time": "2023-02-25T23:08:10.206Z"
   },
   {
    "duration": 0,
    "start_time": "2023-02-25T23:08:10.207Z"
   },
   {
    "duration": 0,
    "start_time": "2023-02-25T23:08:10.208Z"
   },
   {
    "duration": 0,
    "start_time": "2023-02-25T23:08:10.208Z"
   },
   {
    "duration": 0,
    "start_time": "2023-02-25T23:08:10.209Z"
   },
   {
    "duration": 0,
    "start_time": "2023-02-25T23:08:10.212Z"
   },
   {
    "duration": 0,
    "start_time": "2023-02-25T23:08:10.213Z"
   },
   {
    "duration": 0,
    "start_time": "2023-02-25T23:08:10.213Z"
   },
   {
    "duration": 0,
    "start_time": "2023-02-25T23:08:10.214Z"
   },
   {
    "duration": 0,
    "start_time": "2023-02-25T23:08:10.215Z"
   },
   {
    "duration": 0,
    "start_time": "2023-02-25T23:08:10.218Z"
   },
   {
    "duration": 0,
    "start_time": "2023-02-25T23:08:10.219Z"
   },
   {
    "duration": 0,
    "start_time": "2023-02-25T23:08:10.219Z"
   },
   {
    "duration": 0,
    "start_time": "2023-02-25T23:08:10.220Z"
   },
   {
    "duration": 0,
    "start_time": "2023-02-25T23:08:10.221Z"
   },
   {
    "duration": 0,
    "start_time": "2023-02-25T23:08:10.222Z"
   },
   {
    "duration": 0,
    "start_time": "2023-02-25T23:08:10.223Z"
   },
   {
    "duration": 0,
    "start_time": "2023-02-25T23:08:10.223Z"
   },
   {
    "duration": 0,
    "start_time": "2023-02-25T23:08:10.224Z"
   },
   {
    "duration": 0,
    "start_time": "2023-02-25T23:08:10.224Z"
   },
   {
    "duration": 0,
    "start_time": "2023-02-25T23:08:10.225Z"
   },
   {
    "duration": 0,
    "start_time": "2023-02-25T23:08:10.226Z"
   },
   {
    "duration": 0,
    "start_time": "2023-02-25T23:08:10.226Z"
   },
   {
    "duration": 0,
    "start_time": "2023-02-25T23:08:10.231Z"
   },
   {
    "duration": 0,
    "start_time": "2023-02-25T23:08:10.234Z"
   },
   {
    "duration": 0,
    "start_time": "2023-02-25T23:08:10.235Z"
   },
   {
    "duration": 0,
    "start_time": "2023-02-25T23:08:10.237Z"
   },
   {
    "duration": 0,
    "start_time": "2023-02-25T23:08:10.238Z"
   },
   {
    "duration": 0,
    "start_time": "2023-02-25T23:08:10.240Z"
   },
   {
    "duration": 0,
    "start_time": "2023-02-25T23:08:10.241Z"
   },
   {
    "duration": 0,
    "start_time": "2023-02-25T23:08:10.289Z"
   },
   {
    "duration": 8262,
    "start_time": "2023-02-25T23:08:28.473Z"
   },
   {
    "duration": 1301,
    "start_time": "2023-02-25T23:09:00.139Z"
   },
   {
    "duration": 3,
    "start_time": "2023-02-25T23:09:01.442Z"
   },
   {
    "duration": 511,
    "start_time": "2023-02-25T23:09:01.447Z"
   },
   {
    "duration": 164,
    "start_time": "2023-02-25T23:09:01.960Z"
   },
   {
    "duration": 145,
    "start_time": "2023-02-25T23:09:02.126Z"
   },
   {
    "duration": 166,
    "start_time": "2023-02-25T23:09:02.274Z"
   },
   {
    "duration": 0,
    "start_time": "2023-02-25T23:09:02.446Z"
   },
   {
    "duration": 0,
    "start_time": "2023-02-25T23:09:02.448Z"
   },
   {
    "duration": 0,
    "start_time": "2023-02-25T23:09:02.450Z"
   },
   {
    "duration": 0,
    "start_time": "2023-02-25T23:09:02.451Z"
   },
   {
    "duration": 0,
    "start_time": "2023-02-25T23:09:02.453Z"
   },
   {
    "duration": 0,
    "start_time": "2023-02-25T23:09:02.454Z"
   },
   {
    "duration": 0,
    "start_time": "2023-02-25T23:09:02.456Z"
   },
   {
    "duration": 0,
    "start_time": "2023-02-25T23:09:02.458Z"
   },
   {
    "duration": 0,
    "start_time": "2023-02-25T23:09:02.459Z"
   },
   {
    "duration": 0,
    "start_time": "2023-02-25T23:09:02.460Z"
   },
   {
    "duration": 0,
    "start_time": "2023-02-25T23:09:02.489Z"
   },
   {
    "duration": 0,
    "start_time": "2023-02-25T23:09:02.490Z"
   },
   {
    "duration": 0,
    "start_time": "2023-02-25T23:09:02.490Z"
   },
   {
    "duration": 0,
    "start_time": "2023-02-25T23:09:02.491Z"
   },
   {
    "duration": 0,
    "start_time": "2023-02-25T23:09:02.492Z"
   },
   {
    "duration": 0,
    "start_time": "2023-02-25T23:09:02.493Z"
   },
   {
    "duration": 0,
    "start_time": "2023-02-25T23:09:02.494Z"
   },
   {
    "duration": 0,
    "start_time": "2023-02-25T23:09:02.496Z"
   },
   {
    "duration": 0,
    "start_time": "2023-02-25T23:09:02.497Z"
   },
   {
    "duration": 0,
    "start_time": "2023-02-25T23:09:02.498Z"
   },
   {
    "duration": 0,
    "start_time": "2023-02-25T23:09:02.499Z"
   },
   {
    "duration": 0,
    "start_time": "2023-02-25T23:09:02.500Z"
   },
   {
    "duration": 0,
    "start_time": "2023-02-25T23:09:02.500Z"
   },
   {
    "duration": 0,
    "start_time": "2023-02-25T23:09:02.501Z"
   },
   {
    "duration": 0,
    "start_time": "2023-02-25T23:09:02.502Z"
   },
   {
    "duration": 0,
    "start_time": "2023-02-25T23:09:02.503Z"
   },
   {
    "duration": 0,
    "start_time": "2023-02-25T23:09:02.504Z"
   },
   {
    "duration": 0,
    "start_time": "2023-02-25T23:09:02.505Z"
   },
   {
    "duration": 0,
    "start_time": "2023-02-25T23:09:02.506Z"
   },
   {
    "duration": 0,
    "start_time": "2023-02-25T23:09:02.507Z"
   },
   {
    "duration": 0,
    "start_time": "2023-02-25T23:09:02.508Z"
   },
   {
    "duration": 0,
    "start_time": "2023-02-25T23:09:02.509Z"
   },
   {
    "duration": 0,
    "start_time": "2023-02-25T23:09:02.510Z"
   },
   {
    "duration": 0,
    "start_time": "2023-02-25T23:09:02.511Z"
   },
   {
    "duration": 0,
    "start_time": "2023-02-25T23:09:02.512Z"
   },
   {
    "duration": 0,
    "start_time": "2023-02-25T23:09:02.513Z"
   },
   {
    "duration": 0,
    "start_time": "2023-02-25T23:09:02.514Z"
   },
   {
    "duration": 0,
    "start_time": "2023-02-25T23:09:02.515Z"
   },
   {
    "duration": 0,
    "start_time": "2023-02-25T23:09:02.516Z"
   },
   {
    "duration": 0,
    "start_time": "2023-02-25T23:09:02.516Z"
   },
   {
    "duration": 0,
    "start_time": "2023-02-25T23:09:02.517Z"
   },
   {
    "duration": 0,
    "start_time": "2023-02-25T23:09:02.518Z"
   },
   {
    "duration": 0,
    "start_time": "2023-02-25T23:09:02.519Z"
   },
   {
    "duration": 0,
    "start_time": "2023-02-25T23:09:02.519Z"
   },
   {
    "duration": 0,
    "start_time": "2023-02-25T23:09:02.520Z"
   },
   {
    "duration": 0,
    "start_time": "2023-02-25T23:09:02.521Z"
   },
   {
    "duration": 0,
    "start_time": "2023-02-25T23:09:02.522Z"
   },
   {
    "duration": 0,
    "start_time": "2023-02-25T23:09:02.522Z"
   },
   {
    "duration": 0,
    "start_time": "2023-02-25T23:09:02.523Z"
   },
   {
    "duration": 0,
    "start_time": "2023-02-25T23:09:02.524Z"
   },
   {
    "duration": 0,
    "start_time": "2023-02-25T23:09:02.525Z"
   },
   {
    "duration": 0,
    "start_time": "2023-02-25T23:09:02.525Z"
   },
   {
    "duration": 0,
    "start_time": "2023-02-25T23:09:02.526Z"
   },
   {
    "duration": 0,
    "start_time": "2023-02-25T23:09:02.528Z"
   },
   {
    "duration": 0,
    "start_time": "2023-02-25T23:09:02.529Z"
   },
   {
    "duration": 0,
    "start_time": "2023-02-25T23:09:02.532Z"
   },
   {
    "duration": 0,
    "start_time": "2023-02-25T23:09:02.533Z"
   },
   {
    "duration": 0,
    "start_time": "2023-02-25T23:09:02.538Z"
   },
   {
    "duration": 0,
    "start_time": "2023-02-25T23:09:02.539Z"
   },
   {
    "duration": 0,
    "start_time": "2023-02-25T23:09:02.540Z"
   },
   {
    "duration": 0,
    "start_time": "2023-02-25T23:09:02.541Z"
   },
   {
    "duration": 0,
    "start_time": "2023-02-25T23:09:02.586Z"
   },
   {
    "duration": 0,
    "start_time": "2023-02-25T23:09:02.586Z"
   },
   {
    "duration": 0,
    "start_time": "2023-02-25T23:09:02.587Z"
   },
   {
    "duration": 0,
    "start_time": "2023-02-25T23:09:02.588Z"
   },
   {
    "duration": 0,
    "start_time": "2023-02-25T23:09:02.589Z"
   },
   {
    "duration": 0,
    "start_time": "2023-02-25T23:09:02.590Z"
   },
   {
    "duration": 0,
    "start_time": "2023-02-25T23:09:02.590Z"
   },
   {
    "duration": 0,
    "start_time": "2023-02-25T23:09:02.591Z"
   },
   {
    "duration": 0,
    "start_time": "2023-02-25T23:09:02.592Z"
   },
   {
    "duration": 0,
    "start_time": "2023-02-25T23:09:02.592Z"
   },
   {
    "duration": 0,
    "start_time": "2023-02-25T23:09:02.596Z"
   },
   {
    "duration": 0,
    "start_time": "2023-02-25T23:09:02.597Z"
   },
   {
    "duration": 0,
    "start_time": "2023-02-25T23:09:02.598Z"
   },
   {
    "duration": 0,
    "start_time": "2023-02-25T23:09:02.598Z"
   },
   {
    "duration": 0,
    "start_time": "2023-02-25T23:09:02.600Z"
   },
   {
    "duration": 0,
    "start_time": "2023-02-25T23:09:02.603Z"
   },
   {
    "duration": 0,
    "start_time": "2023-02-25T23:09:02.604Z"
   },
   {
    "duration": 0,
    "start_time": "2023-02-25T23:09:02.604Z"
   },
   {
    "duration": 0,
    "start_time": "2023-02-25T23:09:02.605Z"
   },
   {
    "duration": 0,
    "start_time": "2023-02-25T23:09:02.606Z"
   },
   {
    "duration": 1,
    "start_time": "2023-02-25T23:09:02.606Z"
   },
   {
    "duration": 0,
    "start_time": "2023-02-25T23:09:02.611Z"
   },
   {
    "duration": 0,
    "start_time": "2023-02-25T23:09:02.612Z"
   },
   {
    "duration": 0,
    "start_time": "2023-02-25T23:09:02.612Z"
   },
   {
    "duration": 0,
    "start_time": "2023-02-25T23:09:02.615Z"
   },
   {
    "duration": 0,
    "start_time": "2023-02-25T23:09:02.616Z"
   },
   {
    "duration": 0,
    "start_time": "2023-02-25T23:09:02.617Z"
   },
   {
    "duration": 0,
    "start_time": "2023-02-25T23:09:02.617Z"
   },
   {
    "duration": 0,
    "start_time": "2023-02-25T23:09:02.618Z"
   },
   {
    "duration": 0,
    "start_time": "2023-02-25T23:09:02.618Z"
   },
   {
    "duration": 0,
    "start_time": "2023-02-25T23:09:02.621Z"
   },
   {
    "duration": 0,
    "start_time": "2023-02-25T23:09:02.622Z"
   },
   {
    "duration": 0,
    "start_time": "2023-02-25T23:09:02.626Z"
   },
   {
    "duration": 0,
    "start_time": "2023-02-25T23:09:02.627Z"
   },
   {
    "duration": 0,
    "start_time": "2023-02-25T23:09:02.628Z"
   },
   {
    "duration": 0,
    "start_time": "2023-02-25T23:09:02.628Z"
   },
   {
    "duration": 0,
    "start_time": "2023-02-25T23:09:02.629Z"
   },
   {
    "duration": 0,
    "start_time": "2023-02-25T23:09:02.630Z"
   },
   {
    "duration": 0,
    "start_time": "2023-02-25T23:09:02.633Z"
   },
   {
    "duration": 0,
    "start_time": "2023-02-25T23:09:02.635Z"
   },
   {
    "duration": 0,
    "start_time": "2023-02-25T23:09:02.636Z"
   },
   {
    "duration": 0,
    "start_time": "2023-02-25T23:09:02.637Z"
   },
   {
    "duration": 2,
    "start_time": "2023-02-25T23:10:36.181Z"
   },
   {
    "duration": 8071,
    "start_time": "2023-02-25T23:10:41.571Z"
   },
   {
    "duration": 1190,
    "start_time": "2023-02-25T23:11:07.729Z"
   },
   {
    "duration": 2,
    "start_time": "2023-02-25T23:11:08.921Z"
   },
   {
    "duration": 373,
    "start_time": "2023-02-25T23:11:08.925Z"
   },
   {
    "duration": 79,
    "start_time": "2023-02-25T23:11:09.300Z"
   },
   {
    "duration": 41,
    "start_time": "2023-02-25T23:11:09.381Z"
   },
   {
    "duration": 1073,
    "start_time": "2023-02-25T23:11:09.424Z"
   },
   {
    "duration": 1221,
    "start_time": "2023-02-25T23:11:10.504Z"
   },
   {
    "duration": 14,
    "start_time": "2023-02-25T23:11:11.727Z"
   },
   {
    "duration": 23,
    "start_time": "2023-02-25T23:11:11.743Z"
   },
   {
    "duration": 13,
    "start_time": "2023-02-25T23:11:11.768Z"
   },
   {
    "duration": 60,
    "start_time": "2023-02-25T23:11:11.783Z"
   },
   {
    "duration": 16,
    "start_time": "2023-02-25T23:11:11.846Z"
   },
   {
    "duration": 8,
    "start_time": "2023-02-25T23:11:11.864Z"
   },
   {
    "duration": 69,
    "start_time": "2023-02-25T23:11:11.873Z"
   },
   {
    "duration": 7,
    "start_time": "2023-02-25T23:11:11.944Z"
   },
   {
    "duration": 42,
    "start_time": "2023-02-25T23:11:11.953Z"
   },
   {
    "duration": 18,
    "start_time": "2023-02-25T23:11:11.999Z"
   },
   {
    "duration": 17,
    "start_time": "2023-02-25T23:11:12.020Z"
   },
   {
    "duration": 8,
    "start_time": "2023-02-25T23:11:12.039Z"
   },
   {
    "duration": 14,
    "start_time": "2023-02-25T23:11:12.049Z"
   },
   {
    "duration": 14,
    "start_time": "2023-02-25T23:11:12.064Z"
   },
   {
    "duration": 13,
    "start_time": "2023-02-25T23:11:12.080Z"
   },
   {
    "duration": 43,
    "start_time": "2023-02-25T23:11:12.100Z"
   },
   {
    "duration": 4,
    "start_time": "2023-02-25T23:11:12.144Z"
   },
   {
    "duration": 17,
    "start_time": "2023-02-25T23:11:12.149Z"
   },
   {
    "duration": 13,
    "start_time": "2023-02-25T23:11:12.168Z"
   },
   {
    "duration": 32,
    "start_time": "2023-02-25T23:11:12.182Z"
   },
   {
    "duration": 14,
    "start_time": "2023-02-25T23:11:12.220Z"
   },
   {
    "duration": 17,
    "start_time": "2023-02-25T23:11:12.236Z"
   },
   {
    "duration": 7,
    "start_time": "2023-02-25T23:11:12.255Z"
   },
   {
    "duration": 8,
    "start_time": "2023-02-25T23:11:12.263Z"
   },
   {
    "duration": 48,
    "start_time": "2023-02-25T23:11:12.273Z"
   },
   {
    "duration": 25,
    "start_time": "2023-02-25T23:11:12.323Z"
   },
   {
    "duration": 26,
    "start_time": "2023-02-25T23:11:12.350Z"
   },
   {
    "duration": 40,
    "start_time": "2023-02-25T23:11:12.377Z"
   },
   {
    "duration": 17,
    "start_time": "2023-02-25T23:11:12.425Z"
   },
   {
    "duration": 21,
    "start_time": "2023-02-25T23:11:12.444Z"
   },
   {
    "duration": 17,
    "start_time": "2023-02-25T23:11:12.471Z"
   },
   {
    "duration": 62,
    "start_time": "2023-02-25T23:11:12.490Z"
   },
   {
    "duration": 60,
    "start_time": "2023-02-25T23:11:12.554Z"
   },
   {
    "duration": 42,
    "start_time": "2023-02-25T23:11:12.616Z"
   },
   {
    "duration": 139,
    "start_time": "2023-02-25T23:11:12.661Z"
   },
   {
    "duration": 0,
    "start_time": "2023-02-25T23:11:12.802Z"
   },
   {
    "duration": 0,
    "start_time": "2023-02-25T23:11:12.804Z"
   },
   {
    "duration": 0,
    "start_time": "2023-02-25T23:11:12.805Z"
   },
   {
    "duration": 0,
    "start_time": "2023-02-25T23:11:12.806Z"
   },
   {
    "duration": 0,
    "start_time": "2023-02-25T23:11:12.807Z"
   },
   {
    "duration": 0,
    "start_time": "2023-02-25T23:11:12.809Z"
   },
   {
    "duration": 0,
    "start_time": "2023-02-25T23:11:12.810Z"
   },
   {
    "duration": 0,
    "start_time": "2023-02-25T23:11:12.811Z"
   },
   {
    "duration": 0,
    "start_time": "2023-02-25T23:11:12.812Z"
   },
   {
    "duration": 0,
    "start_time": "2023-02-25T23:11:12.814Z"
   },
   {
    "duration": 0,
    "start_time": "2023-02-25T23:11:12.815Z"
   },
   {
    "duration": 0,
    "start_time": "2023-02-25T23:11:12.817Z"
   },
   {
    "duration": 0,
    "start_time": "2023-02-25T23:11:12.818Z"
   },
   {
    "duration": 0,
    "start_time": "2023-02-25T23:11:12.820Z"
   },
   {
    "duration": 0,
    "start_time": "2023-02-25T23:11:12.821Z"
   },
   {
    "duration": 0,
    "start_time": "2023-02-25T23:11:12.822Z"
   },
   {
    "duration": 0,
    "start_time": "2023-02-25T23:11:12.824Z"
   },
   {
    "duration": 0,
    "start_time": "2023-02-25T23:11:12.825Z"
   },
   {
    "duration": 0,
    "start_time": "2023-02-25T23:11:12.826Z"
   },
   {
    "duration": 0,
    "start_time": "2023-02-25T23:11:12.827Z"
   },
   {
    "duration": 0,
    "start_time": "2023-02-25T23:11:12.828Z"
   },
   {
    "duration": 0,
    "start_time": "2023-02-25T23:11:12.829Z"
   },
   {
    "duration": 0,
    "start_time": "2023-02-25T23:11:12.831Z"
   },
   {
    "duration": 0,
    "start_time": "2023-02-25T23:11:12.832Z"
   },
   {
    "duration": 0,
    "start_time": "2023-02-25T23:11:12.833Z"
   },
   {
    "duration": 0,
    "start_time": "2023-02-25T23:11:12.834Z"
   },
   {
    "duration": 0,
    "start_time": "2023-02-25T23:11:12.835Z"
   },
   {
    "duration": 0,
    "start_time": "2023-02-25T23:11:12.837Z"
   },
   {
    "duration": 0,
    "start_time": "2023-02-25T23:11:12.838Z"
   },
   {
    "duration": 0,
    "start_time": "2023-02-25T23:11:12.840Z"
   },
   {
    "duration": 0,
    "start_time": "2023-02-25T23:11:12.841Z"
   },
   {
    "duration": 0,
    "start_time": "2023-02-25T23:11:12.843Z"
   },
   {
    "duration": 0,
    "start_time": "2023-02-25T23:11:12.845Z"
   },
   {
    "duration": 0,
    "start_time": "2023-02-25T23:11:12.846Z"
   },
   {
    "duration": 0,
    "start_time": "2023-02-25T23:11:12.848Z"
   },
   {
    "duration": 0,
    "start_time": "2023-02-25T23:11:12.850Z"
   },
   {
    "duration": 0,
    "start_time": "2023-02-25T23:11:12.851Z"
   },
   {
    "duration": 0,
    "start_time": "2023-02-25T23:11:12.853Z"
   },
   {
    "duration": 0,
    "start_time": "2023-02-25T23:11:12.854Z"
   },
   {
    "duration": 0,
    "start_time": "2023-02-25T23:11:12.856Z"
   },
   {
    "duration": 0,
    "start_time": "2023-02-25T23:11:12.898Z"
   },
   {
    "duration": 0,
    "start_time": "2023-02-25T23:11:12.900Z"
   },
   {
    "duration": 0,
    "start_time": "2023-02-25T23:11:12.901Z"
   },
   {
    "duration": 0,
    "start_time": "2023-02-25T23:11:12.902Z"
   },
   {
    "duration": 0,
    "start_time": "2023-02-25T23:11:12.904Z"
   },
   {
    "duration": 0,
    "start_time": "2023-02-25T23:11:12.905Z"
   },
   {
    "duration": 0,
    "start_time": "2023-02-25T23:11:12.906Z"
   },
   {
    "duration": 0,
    "start_time": "2023-02-25T23:11:12.911Z"
   },
   {
    "duration": 0,
    "start_time": "2023-02-25T23:11:12.912Z"
   },
   {
    "duration": 0,
    "start_time": "2023-02-25T23:11:12.913Z"
   },
   {
    "duration": 0,
    "start_time": "2023-02-25T23:11:12.915Z"
   },
   {
    "duration": 0,
    "start_time": "2023-02-25T23:11:12.916Z"
   },
   {
    "duration": 0,
    "start_time": "2023-02-25T23:11:12.917Z"
   },
   {
    "duration": 0,
    "start_time": "2023-02-25T23:11:12.918Z"
   },
   {
    "duration": 0,
    "start_time": "2023-02-25T23:11:12.927Z"
   },
   {
    "duration": 0,
    "start_time": "2023-02-25T23:11:12.928Z"
   },
   {
    "duration": 0,
    "start_time": "2023-02-25T23:11:12.930Z"
   },
   {
    "duration": 0,
    "start_time": "2023-02-25T23:11:12.939Z"
   },
   {
    "duration": 0,
    "start_time": "2023-02-25T23:11:12.940Z"
   },
   {
    "duration": 0,
    "start_time": "2023-02-25T23:11:12.941Z"
   },
   {
    "duration": 0,
    "start_time": "2023-02-25T23:11:12.941Z"
   },
   {
    "duration": 0,
    "start_time": "2023-02-25T23:11:12.942Z"
   },
   {
    "duration": 0,
    "start_time": "2023-02-25T23:11:12.944Z"
   },
   {
    "duration": 0,
    "start_time": "2023-02-25T23:11:12.945Z"
   },
   {
    "duration": 0,
    "start_time": "2023-02-25T23:11:12.946Z"
   },
   {
    "duration": 0,
    "start_time": "2023-02-25T23:11:12.946Z"
   },
   {
    "duration": 0,
    "start_time": "2023-02-25T23:11:12.947Z"
   },
   {
    "duration": 6,
    "start_time": "2023-02-25T23:11:57.670Z"
   },
   {
    "duration": 20,
    "start_time": "2023-02-25T23:12:03.842Z"
   },
   {
    "duration": 1279,
    "start_time": "2023-02-25T23:12:29.120Z"
   },
   {
    "duration": 4,
    "start_time": "2023-02-25T23:12:30.401Z"
   },
   {
    "duration": 419,
    "start_time": "2023-02-25T23:12:30.406Z"
   },
   {
    "duration": 67,
    "start_time": "2023-02-25T23:12:30.827Z"
   },
   {
    "duration": 35,
    "start_time": "2023-02-25T23:12:30.902Z"
   },
   {
    "duration": 997,
    "start_time": "2023-02-25T23:12:30.939Z"
   },
   {
    "duration": 1373,
    "start_time": "2023-02-25T23:12:31.938Z"
   },
   {
    "duration": 19,
    "start_time": "2023-02-25T23:12:33.322Z"
   },
   {
    "duration": 43,
    "start_time": "2023-02-25T23:12:33.343Z"
   },
   {
    "duration": 42,
    "start_time": "2023-02-25T23:12:33.388Z"
   },
   {
    "duration": 36,
    "start_time": "2023-02-25T23:12:33.433Z"
   },
   {
    "duration": 52,
    "start_time": "2023-02-25T23:12:33.471Z"
   },
   {
    "duration": 6,
    "start_time": "2023-02-25T23:12:33.525Z"
   },
   {
    "duration": 61,
    "start_time": "2023-02-25T23:12:33.535Z"
   },
   {
    "duration": 18,
    "start_time": "2023-02-25T23:12:33.600Z"
   },
   {
    "duration": 53,
    "start_time": "2023-02-25T23:12:33.619Z"
   },
   {
    "duration": 16,
    "start_time": "2023-02-25T23:12:33.674Z"
   },
   {
    "duration": 42,
    "start_time": "2023-02-25T23:12:33.691Z"
   },
   {
    "duration": 6,
    "start_time": "2023-02-25T23:12:33.736Z"
   },
   {
    "duration": 11,
    "start_time": "2023-02-25T23:12:33.744Z"
   },
   {
    "duration": 13,
    "start_time": "2023-02-25T23:12:33.757Z"
   },
   {
    "duration": 21,
    "start_time": "2023-02-25T23:12:33.772Z"
   },
   {
    "duration": 51,
    "start_time": "2023-02-25T23:12:33.794Z"
   },
   {
    "duration": 4,
    "start_time": "2023-02-25T23:12:33.847Z"
   },
   {
    "duration": 89,
    "start_time": "2023-02-25T23:12:33.852Z"
   },
   {
    "duration": 7,
    "start_time": "2023-02-25T23:12:33.943Z"
   },
   {
    "duration": 29,
    "start_time": "2023-02-25T23:12:33.951Z"
   },
   {
    "duration": 43,
    "start_time": "2023-02-25T23:12:33.981Z"
   },
   {
    "duration": 25,
    "start_time": "2023-02-25T23:12:34.026Z"
   },
   {
    "duration": 11,
    "start_time": "2023-02-25T23:12:34.053Z"
   },
   {
    "duration": 11,
    "start_time": "2023-02-25T23:12:34.066Z"
   },
   {
    "duration": 46,
    "start_time": "2023-02-25T23:12:34.079Z"
   },
   {
    "duration": 24,
    "start_time": "2023-02-25T23:12:34.127Z"
   },
   {
    "duration": 21,
    "start_time": "2023-02-25T23:12:34.153Z"
   },
   {
    "duration": 66,
    "start_time": "2023-02-25T23:12:34.176Z"
   },
   {
    "duration": 4,
    "start_time": "2023-02-25T23:12:34.244Z"
   },
   {
    "duration": 27,
    "start_time": "2023-02-25T23:12:34.250Z"
   },
   {
    "duration": 18,
    "start_time": "2023-02-25T23:12:34.279Z"
   },
   {
    "duration": 45,
    "start_time": "2023-02-25T23:12:34.299Z"
   },
   {
    "duration": 43,
    "start_time": "2023-02-25T23:12:34.346Z"
   },
   {
    "duration": 44,
    "start_time": "2023-02-25T23:12:34.405Z"
   },
   {
    "duration": 127,
    "start_time": "2023-02-25T23:12:34.451Z"
   },
   {
    "duration": 0,
    "start_time": "2023-02-25T23:12:34.579Z"
   },
   {
    "duration": 0,
    "start_time": "2023-02-25T23:12:34.585Z"
   },
   {
    "duration": 0,
    "start_time": "2023-02-25T23:12:34.586Z"
   },
   {
    "duration": 0,
    "start_time": "2023-02-25T23:12:34.587Z"
   },
   {
    "duration": 0,
    "start_time": "2023-02-25T23:12:34.587Z"
   },
   {
    "duration": 0,
    "start_time": "2023-02-25T23:12:34.588Z"
   },
   {
    "duration": 0,
    "start_time": "2023-02-25T23:12:34.588Z"
   },
   {
    "duration": 0,
    "start_time": "2023-02-25T23:12:34.589Z"
   },
   {
    "duration": 0,
    "start_time": "2023-02-25T23:12:34.589Z"
   },
   {
    "duration": 0,
    "start_time": "2023-02-25T23:12:34.590Z"
   },
   {
    "duration": 0,
    "start_time": "2023-02-25T23:12:34.590Z"
   },
   {
    "duration": 0,
    "start_time": "2023-02-25T23:12:34.591Z"
   },
   {
    "duration": 0,
    "start_time": "2023-02-25T23:12:34.592Z"
   },
   {
    "duration": 0,
    "start_time": "2023-02-25T23:12:34.593Z"
   },
   {
    "duration": 0,
    "start_time": "2023-02-25T23:12:34.593Z"
   },
   {
    "duration": 0,
    "start_time": "2023-02-25T23:12:34.594Z"
   },
   {
    "duration": 0,
    "start_time": "2023-02-25T23:12:34.595Z"
   },
   {
    "duration": 0,
    "start_time": "2023-02-25T23:12:34.596Z"
   },
   {
    "duration": 0,
    "start_time": "2023-02-25T23:12:34.597Z"
   },
   {
    "duration": 0,
    "start_time": "2023-02-25T23:12:34.602Z"
   },
   {
    "duration": 0,
    "start_time": "2023-02-25T23:12:34.603Z"
   },
   {
    "duration": 0,
    "start_time": "2023-02-25T23:12:34.603Z"
   },
   {
    "duration": 0,
    "start_time": "2023-02-25T23:12:34.604Z"
   },
   {
    "duration": 0,
    "start_time": "2023-02-25T23:12:34.605Z"
   },
   {
    "duration": 0,
    "start_time": "2023-02-25T23:12:34.605Z"
   },
   {
    "duration": 0,
    "start_time": "2023-02-25T23:12:34.606Z"
   },
   {
    "duration": 0,
    "start_time": "2023-02-25T23:12:34.607Z"
   },
   {
    "duration": 0,
    "start_time": "2023-02-25T23:12:34.608Z"
   },
   {
    "duration": 0,
    "start_time": "2023-02-25T23:12:34.608Z"
   },
   {
    "duration": 0,
    "start_time": "2023-02-25T23:12:34.609Z"
   },
   {
    "duration": 0,
    "start_time": "2023-02-25T23:12:34.609Z"
   },
   {
    "duration": 0,
    "start_time": "2023-02-25T23:12:34.610Z"
   },
   {
    "duration": 0,
    "start_time": "2023-02-25T23:12:34.611Z"
   },
   {
    "duration": 0,
    "start_time": "2023-02-25T23:12:34.616Z"
   },
   {
    "duration": 0,
    "start_time": "2023-02-25T23:12:34.617Z"
   },
   {
    "duration": 0,
    "start_time": "2023-02-25T23:12:34.618Z"
   },
   {
    "duration": 0,
    "start_time": "2023-02-25T23:12:34.620Z"
   },
   {
    "duration": 0,
    "start_time": "2023-02-25T23:12:34.621Z"
   },
   {
    "duration": 0,
    "start_time": "2023-02-25T23:12:34.623Z"
   },
   {
    "duration": 0,
    "start_time": "2023-02-25T23:12:34.624Z"
   },
   {
    "duration": 0,
    "start_time": "2023-02-25T23:12:34.625Z"
   },
   {
    "duration": 0,
    "start_time": "2023-02-25T23:12:34.626Z"
   },
   {
    "duration": 0,
    "start_time": "2023-02-25T23:12:34.627Z"
   },
   {
    "duration": 0,
    "start_time": "2023-02-25T23:12:34.628Z"
   },
   {
    "duration": 0,
    "start_time": "2023-02-25T23:12:34.629Z"
   },
   {
    "duration": 0,
    "start_time": "2023-02-25T23:12:34.630Z"
   },
   {
    "duration": 0,
    "start_time": "2023-02-25T23:12:34.631Z"
   },
   {
    "duration": 0,
    "start_time": "2023-02-25T23:12:34.632Z"
   },
   {
    "duration": 0,
    "start_time": "2023-02-25T23:12:34.633Z"
   },
   {
    "duration": 0,
    "start_time": "2023-02-25T23:12:34.634Z"
   },
   {
    "duration": 0,
    "start_time": "2023-02-25T23:12:34.638Z"
   },
   {
    "duration": 0,
    "start_time": "2023-02-25T23:12:34.639Z"
   },
   {
    "duration": 0,
    "start_time": "2023-02-25T23:12:34.640Z"
   },
   {
    "duration": 0,
    "start_time": "2023-02-25T23:12:34.641Z"
   },
   {
    "duration": 0,
    "start_time": "2023-02-25T23:12:34.642Z"
   },
   {
    "duration": 0,
    "start_time": "2023-02-25T23:12:34.643Z"
   },
   {
    "duration": 0,
    "start_time": "2023-02-25T23:12:34.644Z"
   },
   {
    "duration": 0,
    "start_time": "2023-02-25T23:12:34.645Z"
   },
   {
    "duration": 0,
    "start_time": "2023-02-25T23:12:34.646Z"
   },
   {
    "duration": 0,
    "start_time": "2023-02-25T23:12:34.693Z"
   },
   {
    "duration": 0,
    "start_time": "2023-02-25T23:12:34.697Z"
   },
   {
    "duration": 0,
    "start_time": "2023-02-25T23:12:34.700Z"
   },
   {
    "duration": 0,
    "start_time": "2023-02-25T23:12:34.701Z"
   },
   {
    "duration": 0,
    "start_time": "2023-02-25T23:12:34.702Z"
   },
   {
    "duration": 0,
    "start_time": "2023-02-25T23:12:34.703Z"
   },
   {
    "duration": 0,
    "start_time": "2023-02-25T23:12:34.704Z"
   },
   {
    "duration": 0,
    "start_time": "2023-02-25T23:12:34.707Z"
   },
   {
    "duration": 1827,
    "start_time": "2023-02-25T23:13:33.320Z"
   },
   {
    "duration": 1224,
    "start_time": "2023-02-25T23:15:10.530Z"
   },
   {
    "duration": 6860,
    "start_time": "2023-02-25T23:15:11.756Z"
   },
   {
    "duration": 377,
    "start_time": "2023-02-25T23:15:18.621Z"
   },
   {
    "duration": 67,
    "start_time": "2023-02-25T23:15:19.000Z"
   },
   {
    "duration": 35,
    "start_time": "2023-02-25T23:15:19.070Z"
   },
   {
    "duration": 2265,
    "start_time": "2023-02-25T23:15:19.115Z"
   },
   {
    "duration": 1334,
    "start_time": "2023-02-25T23:15:21.382Z"
   },
   {
    "duration": 17,
    "start_time": "2023-02-25T23:15:22.718Z"
   },
   {
    "duration": 25,
    "start_time": "2023-02-25T23:15:22.737Z"
   },
   {
    "duration": 12,
    "start_time": "2023-02-25T23:15:22.764Z"
   },
   {
    "duration": 21,
    "start_time": "2023-02-25T23:15:22.777Z"
   },
   {
    "duration": 12,
    "start_time": "2023-02-25T23:15:22.799Z"
   },
   {
    "duration": 17,
    "start_time": "2023-02-25T23:15:22.820Z"
   },
   {
    "duration": 54,
    "start_time": "2023-02-25T23:15:22.841Z"
   },
   {
    "duration": 11,
    "start_time": "2023-02-25T23:15:22.903Z"
   },
   {
    "duration": 50,
    "start_time": "2023-02-25T23:15:22.919Z"
   },
   {
    "duration": 7,
    "start_time": "2023-02-25T23:15:22.971Z"
   },
   {
    "duration": 32,
    "start_time": "2023-02-25T23:15:22.980Z"
   },
   {
    "duration": 23,
    "start_time": "2023-02-25T23:15:23.018Z"
   },
   {
    "duration": 13,
    "start_time": "2023-02-25T23:15:23.046Z"
   },
   {
    "duration": 13,
    "start_time": "2023-02-25T23:15:23.061Z"
   },
   {
    "duration": 22,
    "start_time": "2023-02-25T23:15:23.077Z"
   },
   {
    "duration": 52,
    "start_time": "2023-02-25T23:15:23.102Z"
   },
   {
    "duration": 4,
    "start_time": "2023-02-25T23:15:23.156Z"
   },
   {
    "duration": 18,
    "start_time": "2023-02-25T23:15:23.162Z"
   },
   {
    "duration": 26,
    "start_time": "2023-02-25T23:15:23.182Z"
   },
   {
    "duration": 33,
    "start_time": "2023-02-25T23:15:23.219Z"
   },
   {
    "duration": 5,
    "start_time": "2023-02-25T23:15:23.254Z"
   },
   {
    "duration": 20,
    "start_time": "2023-02-25T23:15:23.261Z"
   },
   {
    "duration": 11,
    "start_time": "2023-02-25T23:15:23.283Z"
   },
   {
    "duration": 43,
    "start_time": "2023-02-25T23:15:23.295Z"
   },
   {
    "duration": 34,
    "start_time": "2023-02-25T23:15:23.340Z"
   },
   {
    "duration": 32,
    "start_time": "2023-02-25T23:15:23.376Z"
   },
   {
    "duration": 33,
    "start_time": "2023-02-25T23:15:23.411Z"
   },
   {
    "duration": 52,
    "start_time": "2023-02-25T23:15:23.446Z"
   },
   {
    "duration": 25,
    "start_time": "2023-02-25T23:15:23.499Z"
   },
   {
    "duration": 29,
    "start_time": "2023-02-25T23:15:23.526Z"
   },
   {
    "duration": 22,
    "start_time": "2023-02-25T23:15:23.558Z"
   },
   {
    "duration": 52,
    "start_time": "2023-02-25T23:15:23.583Z"
   },
   {
    "duration": 41,
    "start_time": "2023-02-25T23:15:23.637Z"
   },
   {
    "duration": 45,
    "start_time": "2023-02-25T23:15:23.684Z"
   },
   {
    "duration": 205,
    "start_time": "2023-02-25T23:15:23.731Z"
   },
   {
    "duration": 0,
    "start_time": "2023-02-25T23:15:23.938Z"
   },
   {
    "duration": 0,
    "start_time": "2023-02-25T23:15:23.939Z"
   },
   {
    "duration": 0,
    "start_time": "2023-02-25T23:15:23.941Z"
   },
   {
    "duration": 0,
    "start_time": "2023-02-25T23:15:23.942Z"
   },
   {
    "duration": 0,
    "start_time": "2023-02-25T23:15:23.943Z"
   },
   {
    "duration": 0,
    "start_time": "2023-02-25T23:15:23.945Z"
   },
   {
    "duration": 0,
    "start_time": "2023-02-25T23:15:23.946Z"
   },
   {
    "duration": 0,
    "start_time": "2023-02-25T23:15:23.947Z"
   },
   {
    "duration": 0,
    "start_time": "2023-02-25T23:15:23.948Z"
   },
   {
    "duration": 0,
    "start_time": "2023-02-25T23:15:23.949Z"
   },
   {
    "duration": 0,
    "start_time": "2023-02-25T23:15:23.950Z"
   },
   {
    "duration": 0,
    "start_time": "2023-02-25T23:15:23.951Z"
   },
   {
    "duration": 0,
    "start_time": "2023-02-25T23:15:23.952Z"
   },
   {
    "duration": 0,
    "start_time": "2023-02-25T23:15:23.953Z"
   },
   {
    "duration": 0,
    "start_time": "2023-02-25T23:15:23.954Z"
   },
   {
    "duration": 0,
    "start_time": "2023-02-25T23:15:23.994Z"
   },
   {
    "duration": 0,
    "start_time": "2023-02-25T23:15:23.995Z"
   },
   {
    "duration": 0,
    "start_time": "2023-02-25T23:15:23.996Z"
   },
   {
    "duration": 0,
    "start_time": "2023-02-25T23:15:23.996Z"
   },
   {
    "duration": 0,
    "start_time": "2023-02-25T23:15:23.997Z"
   },
   {
    "duration": 0,
    "start_time": "2023-02-25T23:15:23.998Z"
   },
   {
    "duration": 0,
    "start_time": "2023-02-25T23:15:23.999Z"
   },
   {
    "duration": 0,
    "start_time": "2023-02-25T23:15:24.004Z"
   },
   {
    "duration": 0,
    "start_time": "2023-02-25T23:15:24.006Z"
   },
   {
    "duration": 0,
    "start_time": "2023-02-25T23:15:24.007Z"
   },
   {
    "duration": 0,
    "start_time": "2023-02-25T23:15:24.008Z"
   },
   {
    "duration": 0,
    "start_time": "2023-02-25T23:15:24.009Z"
   },
   {
    "duration": 0,
    "start_time": "2023-02-25T23:15:24.012Z"
   },
   {
    "duration": 0,
    "start_time": "2023-02-25T23:15:24.013Z"
   },
   {
    "duration": 0,
    "start_time": "2023-02-25T23:15:24.015Z"
   },
   {
    "duration": 0,
    "start_time": "2023-02-25T23:15:24.016Z"
   },
   {
    "duration": 0,
    "start_time": "2023-02-25T23:15:24.018Z"
   },
   {
    "duration": 0,
    "start_time": "2023-02-25T23:15:24.021Z"
   },
   {
    "duration": 0,
    "start_time": "2023-02-25T23:15:24.022Z"
   },
   {
    "duration": 1,
    "start_time": "2023-02-25T23:15:24.023Z"
   },
   {
    "duration": 0,
    "start_time": "2023-02-25T23:15:24.025Z"
   },
   {
    "duration": 0,
    "start_time": "2023-02-25T23:15:24.026Z"
   },
   {
    "duration": 0,
    "start_time": "2023-02-25T23:15:24.027Z"
   },
   {
    "duration": 0,
    "start_time": "2023-02-25T23:15:24.028Z"
   },
   {
    "duration": 0,
    "start_time": "2023-02-25T23:15:24.030Z"
   },
   {
    "duration": 0,
    "start_time": "2023-02-25T23:15:24.031Z"
   },
   {
    "duration": 0,
    "start_time": "2023-02-25T23:15:24.032Z"
   },
   {
    "duration": 0,
    "start_time": "2023-02-25T23:15:24.033Z"
   },
   {
    "duration": 1,
    "start_time": "2023-02-25T23:15:24.034Z"
   },
   {
    "duration": 0,
    "start_time": "2023-02-25T23:15:24.036Z"
   },
   {
    "duration": 0,
    "start_time": "2023-02-25T23:15:24.037Z"
   },
   {
    "duration": 0,
    "start_time": "2023-02-25T23:15:24.087Z"
   },
   {
    "duration": 0,
    "start_time": "2023-02-25T23:15:24.088Z"
   },
   {
    "duration": 0,
    "start_time": "2023-02-25T23:15:24.090Z"
   },
   {
    "duration": 0,
    "start_time": "2023-02-25T23:15:24.091Z"
   },
   {
    "duration": 0,
    "start_time": "2023-02-25T23:15:24.092Z"
   },
   {
    "duration": 0,
    "start_time": "2023-02-25T23:15:24.093Z"
   },
   {
    "duration": 0,
    "start_time": "2023-02-25T23:15:24.094Z"
   },
   {
    "duration": 0,
    "start_time": "2023-02-25T23:15:24.096Z"
   },
   {
    "duration": 0,
    "start_time": "2023-02-25T23:15:24.097Z"
   },
   {
    "duration": 0,
    "start_time": "2023-02-25T23:15:24.099Z"
   },
   {
    "duration": 0,
    "start_time": "2023-02-25T23:15:24.100Z"
   },
   {
    "duration": 0,
    "start_time": "2023-02-25T23:15:24.102Z"
   },
   {
    "duration": 0,
    "start_time": "2023-02-25T23:15:24.103Z"
   },
   {
    "duration": 0,
    "start_time": "2023-02-25T23:15:24.105Z"
   },
   {
    "duration": 0,
    "start_time": "2023-02-25T23:15:24.106Z"
   },
   {
    "duration": 0,
    "start_time": "2023-02-25T23:15:24.108Z"
   },
   {
    "duration": 0,
    "start_time": "2023-02-25T23:15:24.109Z"
   },
   {
    "duration": 0,
    "start_time": "2023-02-25T23:15:24.111Z"
   },
   {
    "duration": 0,
    "start_time": "2023-02-25T23:15:24.112Z"
   },
   {
    "duration": 0,
    "start_time": "2023-02-25T23:15:24.114Z"
   },
   {
    "duration": 0,
    "start_time": "2023-02-25T23:15:24.115Z"
   },
   {
    "duration": 1197,
    "start_time": "2023-02-25T23:18:02.303Z"
   },
   {
    "duration": 6872,
    "start_time": "2023-02-25T23:18:03.502Z"
   },
   {
    "duration": 438,
    "start_time": "2023-02-25T23:18:10.377Z"
   },
   {
    "duration": 61,
    "start_time": "2023-02-25T23:18:10.826Z"
   },
   {
    "duration": 34,
    "start_time": "2023-02-25T23:18:10.892Z"
   },
   {
    "duration": 1784,
    "start_time": "2023-02-25T23:18:10.928Z"
   },
   {
    "duration": 955,
    "start_time": "2023-02-25T23:18:12.723Z"
   },
   {
    "duration": 43,
    "start_time": "2023-02-25T23:18:13.679Z"
   },
   {
    "duration": 33,
    "start_time": "2023-02-25T23:18:13.725Z"
   },
   {
    "duration": 15,
    "start_time": "2023-02-25T23:18:13.761Z"
   },
   {
    "duration": 28,
    "start_time": "2023-02-25T23:18:13.778Z"
   },
   {
    "duration": 35,
    "start_time": "2023-02-25T23:18:13.808Z"
   },
   {
    "duration": 5,
    "start_time": "2023-02-25T23:18:13.845Z"
   },
   {
    "duration": 77,
    "start_time": "2023-02-25T23:18:13.852Z"
   },
   {
    "duration": 9,
    "start_time": "2023-02-25T23:18:13.931Z"
   },
   {
    "duration": 83,
    "start_time": "2023-02-25T23:18:13.942Z"
   },
   {
    "duration": 6,
    "start_time": "2023-02-25T23:18:14.027Z"
   },
   {
    "duration": 7,
    "start_time": "2023-02-25T23:18:14.035Z"
   },
   {
    "duration": 4,
    "start_time": "2023-02-25T23:18:14.044Z"
   },
   {
    "duration": 9,
    "start_time": "2023-02-25T23:18:14.049Z"
   },
   {
    "duration": 37,
    "start_time": "2023-02-25T23:18:14.059Z"
   },
   {
    "duration": 37,
    "start_time": "2023-02-25T23:18:14.098Z"
   },
   {
    "duration": 24,
    "start_time": "2023-02-25T23:18:14.137Z"
   },
   {
    "duration": 11,
    "start_time": "2023-02-25T23:18:14.163Z"
   },
   {
    "duration": 34,
    "start_time": "2023-02-25T23:18:14.176Z"
   },
   {
    "duration": 15,
    "start_time": "2023-02-25T23:18:14.214Z"
   },
   {
    "duration": 22,
    "start_time": "2023-02-25T23:18:14.231Z"
   },
   {
    "duration": 5,
    "start_time": "2023-02-25T23:18:14.258Z"
   },
   {
    "duration": 23,
    "start_time": "2023-02-25T23:18:14.265Z"
   },
   {
    "duration": 49,
    "start_time": "2023-02-25T23:18:14.291Z"
   },
   {
    "duration": 11,
    "start_time": "2023-02-25T23:18:14.342Z"
   },
   {
    "duration": 35,
    "start_time": "2023-02-25T23:18:14.355Z"
   },
   {
    "duration": 20,
    "start_time": "2023-02-25T23:18:14.392Z"
   },
   {
    "duration": 33,
    "start_time": "2023-02-25T23:18:14.413Z"
   },
   {
    "duration": 20,
    "start_time": "2023-02-25T23:18:14.448Z"
   },
   {
    "duration": 4,
    "start_time": "2023-02-25T23:18:14.469Z"
   },
   {
    "duration": 26,
    "start_time": "2023-02-25T23:18:14.475Z"
   },
   {
    "duration": 3,
    "start_time": "2023-02-25T23:18:14.502Z"
   },
   {
    "duration": 31,
    "start_time": "2023-02-25T23:18:14.511Z"
   },
   {
    "duration": 33,
    "start_time": "2023-02-25T23:18:14.544Z"
   },
   {
    "duration": 42,
    "start_time": "2023-02-25T23:18:14.578Z"
   },
   {
    "duration": 124,
    "start_time": "2023-02-25T23:18:14.624Z"
   },
   {
    "duration": 0,
    "start_time": "2023-02-25T23:18:14.750Z"
   },
   {
    "duration": 0,
    "start_time": "2023-02-25T23:18:14.751Z"
   },
   {
    "duration": 0,
    "start_time": "2023-02-25T23:18:14.753Z"
   },
   {
    "duration": 0,
    "start_time": "2023-02-25T23:18:14.754Z"
   },
   {
    "duration": 0,
    "start_time": "2023-02-25T23:18:14.755Z"
   },
   {
    "duration": 0,
    "start_time": "2023-02-25T23:18:14.757Z"
   },
   {
    "duration": 0,
    "start_time": "2023-02-25T23:18:14.758Z"
   },
   {
    "duration": 0,
    "start_time": "2023-02-25T23:18:14.759Z"
   },
   {
    "duration": 0,
    "start_time": "2023-02-25T23:18:14.761Z"
   },
   {
    "duration": 0,
    "start_time": "2023-02-25T23:18:14.762Z"
   },
   {
    "duration": 0,
    "start_time": "2023-02-25T23:18:14.785Z"
   },
   {
    "duration": 0,
    "start_time": "2023-02-25T23:18:14.786Z"
   },
   {
    "duration": 0,
    "start_time": "2023-02-25T23:18:14.788Z"
   },
   {
    "duration": 0,
    "start_time": "2023-02-25T23:18:14.791Z"
   },
   {
    "duration": 0,
    "start_time": "2023-02-25T23:18:14.792Z"
   },
   {
    "duration": 0,
    "start_time": "2023-02-25T23:18:14.793Z"
   },
   {
    "duration": 0,
    "start_time": "2023-02-25T23:18:14.794Z"
   },
   {
    "duration": 0,
    "start_time": "2023-02-25T23:18:14.795Z"
   },
   {
    "duration": 0,
    "start_time": "2023-02-25T23:18:14.796Z"
   },
   {
    "duration": 0,
    "start_time": "2023-02-25T23:18:14.796Z"
   },
   {
    "duration": 0,
    "start_time": "2023-02-25T23:18:14.797Z"
   },
   {
    "duration": 0,
    "start_time": "2023-02-25T23:18:14.798Z"
   },
   {
    "duration": 0,
    "start_time": "2023-02-25T23:18:14.799Z"
   },
   {
    "duration": 0,
    "start_time": "2023-02-25T23:18:14.800Z"
   },
   {
    "duration": 0,
    "start_time": "2023-02-25T23:18:14.801Z"
   },
   {
    "duration": 0,
    "start_time": "2023-02-25T23:18:14.802Z"
   },
   {
    "duration": 0,
    "start_time": "2023-02-25T23:18:14.810Z"
   },
   {
    "duration": 0,
    "start_time": "2023-02-25T23:18:14.813Z"
   },
   {
    "duration": 0,
    "start_time": "2023-02-25T23:18:14.814Z"
   },
   {
    "duration": 0,
    "start_time": "2023-02-25T23:18:14.816Z"
   },
   {
    "duration": 0,
    "start_time": "2023-02-25T23:18:14.817Z"
   },
   {
    "duration": 0,
    "start_time": "2023-02-25T23:18:14.820Z"
   },
   {
    "duration": 0,
    "start_time": "2023-02-25T23:18:14.821Z"
   },
   {
    "duration": 0,
    "start_time": "2023-02-25T23:18:14.824Z"
   },
   {
    "duration": 0,
    "start_time": "2023-02-25T23:18:14.826Z"
   },
   {
    "duration": 0,
    "start_time": "2023-02-25T23:18:14.826Z"
   },
   {
    "duration": 0,
    "start_time": "2023-02-25T23:18:14.829Z"
   },
   {
    "duration": 0,
    "start_time": "2023-02-25T23:18:14.830Z"
   },
   {
    "duration": 0,
    "start_time": "2023-02-25T23:18:14.831Z"
   },
   {
    "duration": 0,
    "start_time": "2023-02-25T23:18:14.834Z"
   },
   {
    "duration": 0,
    "start_time": "2023-02-25T23:18:14.835Z"
   },
   {
    "duration": 0,
    "start_time": "2023-02-25T23:18:14.836Z"
   },
   {
    "duration": 0,
    "start_time": "2023-02-25T23:18:14.836Z"
   },
   {
    "duration": 0,
    "start_time": "2023-02-25T23:18:14.837Z"
   },
   {
    "duration": 0,
    "start_time": "2023-02-25T23:18:14.838Z"
   },
   {
    "duration": 0,
    "start_time": "2023-02-25T23:18:14.840Z"
   },
   {
    "duration": 1,
    "start_time": "2023-02-25T23:18:14.841Z"
   },
   {
    "duration": 0,
    "start_time": "2023-02-25T23:18:14.843Z"
   },
   {
    "duration": 0,
    "start_time": "2023-02-25T23:18:14.886Z"
   },
   {
    "duration": 0,
    "start_time": "2023-02-25T23:18:14.887Z"
   },
   {
    "duration": 0,
    "start_time": "2023-02-25T23:18:14.888Z"
   },
   {
    "duration": 0,
    "start_time": "2023-02-25T23:18:14.889Z"
   },
   {
    "duration": 0,
    "start_time": "2023-02-25T23:18:14.889Z"
   },
   {
    "duration": 0,
    "start_time": "2023-02-25T23:18:14.893Z"
   },
   {
    "duration": 0,
    "start_time": "2023-02-25T23:18:14.894Z"
   },
   {
    "duration": 0,
    "start_time": "2023-02-25T23:18:14.895Z"
   },
   {
    "duration": 0,
    "start_time": "2023-02-25T23:18:14.896Z"
   },
   {
    "duration": 0,
    "start_time": "2023-02-25T23:18:14.897Z"
   },
   {
    "duration": 0,
    "start_time": "2023-02-25T23:18:14.898Z"
   },
   {
    "duration": 0,
    "start_time": "2023-02-25T23:18:14.900Z"
   },
   {
    "duration": 0,
    "start_time": "2023-02-25T23:18:14.901Z"
   },
   {
    "duration": 0,
    "start_time": "2023-02-25T23:18:14.902Z"
   },
   {
    "duration": 0,
    "start_time": "2023-02-25T23:18:14.903Z"
   },
   {
    "duration": 0,
    "start_time": "2023-02-25T23:18:14.904Z"
   },
   {
    "duration": 0,
    "start_time": "2023-02-25T23:18:14.905Z"
   },
   {
    "duration": 0,
    "start_time": "2023-02-25T23:18:14.906Z"
   },
   {
    "duration": 0,
    "start_time": "2023-02-25T23:18:14.907Z"
   },
   {
    "duration": 53,
    "start_time": "2023-02-25T23:19:32.902Z"
   },
   {
    "duration": 33,
    "start_time": "2023-02-25T23:19:44.780Z"
   },
   {
    "duration": 118,
    "start_time": "2023-02-25T23:19:44.815Z"
   },
   {
    "duration": 28,
    "start_time": "2023-02-25T23:19:44.935Z"
   },
   {
    "duration": 28,
    "start_time": "2023-02-25T23:19:44.965Z"
   },
   {
    "duration": 69,
    "start_time": "2023-02-25T23:19:44.994Z"
   },
   {
    "duration": 37,
    "start_time": "2023-02-25T23:19:45.065Z"
   },
   {
    "duration": 32,
    "start_time": "2023-02-25T23:19:45.105Z"
   },
   {
    "duration": 15895,
    "start_time": "2023-02-25T23:19:45.139Z"
   },
   {
    "duration": 10,
    "start_time": "2023-02-25T23:20:01.036Z"
   },
   {
    "duration": 60,
    "start_time": "2023-02-25T23:20:01.049Z"
   },
   {
    "duration": 50,
    "start_time": "2023-02-25T23:20:01.110Z"
   },
   {
    "duration": 68,
    "start_time": "2023-02-25T23:20:01.162Z"
   },
   {
    "duration": 89,
    "start_time": "2023-02-25T23:20:01.233Z"
   },
   {
    "duration": 183,
    "start_time": "2023-02-25T23:20:01.326Z"
   },
   {
    "duration": 55,
    "start_time": "2023-02-25T23:20:01.515Z"
   },
   {
    "duration": 74,
    "start_time": "2023-02-25T23:20:01.572Z"
   },
   {
    "duration": 92,
    "start_time": "2023-02-25T23:20:01.648Z"
   },
   {
    "duration": 29,
    "start_time": "2023-02-25T23:20:01.742Z"
   },
   {
    "duration": 61,
    "start_time": "2023-02-25T23:20:01.773Z"
   },
   {
    "duration": 91,
    "start_time": "2023-02-25T23:20:01.836Z"
   },
   {
    "duration": 23,
    "start_time": "2023-02-25T23:20:01.931Z"
   },
   {
    "duration": 79,
    "start_time": "2023-02-25T23:20:01.956Z"
   },
   {
    "duration": 109,
    "start_time": "2023-02-25T23:20:02.037Z"
   },
   {
    "duration": 116,
    "start_time": "2023-02-25T23:20:02.148Z"
   },
   {
    "duration": 180,
    "start_time": "2023-02-25T23:20:02.266Z"
   },
   {
    "duration": 27,
    "start_time": "2023-02-25T23:20:02.448Z"
   },
   {
    "duration": 63,
    "start_time": "2023-02-25T23:20:02.477Z"
   },
   {
    "duration": 26,
    "start_time": "2023-02-25T23:20:02.546Z"
   },
   {
    "duration": 255,
    "start_time": "2023-02-25T23:20:02.573Z"
   },
   {
    "duration": 30,
    "start_time": "2023-02-25T23:20:02.830Z"
   },
   {
    "duration": 84,
    "start_time": "2023-02-25T23:20:02.862Z"
   },
   {
    "duration": 43,
    "start_time": "2023-02-25T23:20:02.947Z"
   },
   {
    "duration": 48,
    "start_time": "2023-02-25T23:20:03.002Z"
   },
   {
    "duration": 394,
    "start_time": "2023-02-25T23:20:03.051Z"
   },
   {
    "duration": 23,
    "start_time": "2023-02-25T23:20:03.447Z"
   },
   {
    "duration": 40,
    "start_time": "2023-02-25T23:20:03.472Z"
   },
   {
    "duration": 163,
    "start_time": "2023-02-25T23:20:03.515Z"
   },
   {
    "duration": 11942,
    "start_time": "2023-02-25T23:20:03.680Z"
   },
   {
    "duration": 32,
    "start_time": "2023-02-25T23:20:15.624Z"
   },
   {
    "duration": 440,
    "start_time": "2023-02-25T23:20:15.658Z"
   },
   {
    "duration": 1237,
    "start_time": "2023-02-25T23:20:16.101Z"
   },
   {
    "duration": 20,
    "start_time": "2023-02-25T23:20:17.340Z"
   },
   {
    "duration": 111,
    "start_time": "2023-02-25T23:20:17.362Z"
   },
   {
    "duration": 33,
    "start_time": "2023-02-25T23:20:17.474Z"
   },
   {
    "duration": 23,
    "start_time": "2023-02-25T23:20:17.508Z"
   },
   {
    "duration": 27,
    "start_time": "2023-02-25T23:20:17.533Z"
   },
   {
    "duration": 0,
    "start_time": "2023-02-25T23:20:17.562Z"
   },
   {
    "duration": 0,
    "start_time": "2023-02-25T23:20:17.564Z"
   },
   {
    "duration": 0,
    "start_time": "2023-02-25T23:20:17.565Z"
   },
   {
    "duration": 0,
    "start_time": "2023-02-25T23:20:17.567Z"
   },
   {
    "duration": 0,
    "start_time": "2023-02-25T23:20:17.568Z"
   },
   {
    "duration": 0,
    "start_time": "2023-02-25T23:20:17.569Z"
   },
   {
    "duration": 0,
    "start_time": "2023-02-25T23:20:17.570Z"
   },
   {
    "duration": 0,
    "start_time": "2023-02-25T23:20:17.572Z"
   },
   {
    "duration": 0,
    "start_time": "2023-02-25T23:20:17.573Z"
   },
   {
    "duration": 0,
    "start_time": "2023-02-25T23:20:17.589Z"
   },
   {
    "duration": 0,
    "start_time": "2023-02-25T23:20:17.590Z"
   },
   {
    "duration": 0,
    "start_time": "2023-02-25T23:20:17.591Z"
   },
   {
    "duration": 0,
    "start_time": "2023-02-25T23:20:17.592Z"
   },
   {
    "duration": 0,
    "start_time": "2023-02-25T23:20:17.592Z"
   },
   {
    "duration": 0,
    "start_time": "2023-02-25T23:20:17.594Z"
   },
   {
    "duration": 0,
    "start_time": "2023-02-25T23:20:17.595Z"
   },
   {
    "duration": 0,
    "start_time": "2023-02-25T23:20:17.595Z"
   },
   {
    "duration": 0,
    "start_time": "2023-02-25T23:20:17.596Z"
   },
   {
    "duration": 0,
    "start_time": "2023-02-25T23:20:17.597Z"
   },
   {
    "duration": 0,
    "start_time": "2023-02-25T23:20:17.597Z"
   },
   {
    "duration": 0,
    "start_time": "2023-02-25T23:20:17.598Z"
   },
   {
    "duration": 0,
    "start_time": "2023-02-25T23:20:17.598Z"
   },
   {
    "duration": 20,
    "start_time": "2023-02-25T23:21:08.133Z"
   },
   {
    "duration": 148,
    "start_time": "2023-02-25T23:21:08.156Z"
   },
   {
    "duration": 21,
    "start_time": "2023-02-25T23:21:08.306Z"
   },
   {
    "duration": 4,
    "start_time": "2023-02-25T23:21:08.328Z"
   },
   {
    "duration": 22,
    "start_time": "2023-02-25T23:21:08.334Z"
   },
   {
    "duration": 298,
    "start_time": "2023-02-25T23:21:08.358Z"
   },
   {
    "duration": 42,
    "start_time": "2023-02-25T23:21:08.657Z"
   },
   {
    "duration": 9,
    "start_time": "2023-02-25T23:21:08.700Z"
   },
   {
    "duration": 31,
    "start_time": "2023-02-25T23:21:08.711Z"
   },
   {
    "duration": 67,
    "start_time": "2023-02-25T23:21:08.744Z"
   },
   {
    "duration": 415,
    "start_time": "2023-02-25T23:21:08.817Z"
   },
   {
    "duration": 28,
    "start_time": "2023-02-25T23:21:09.234Z"
   },
   {
    "duration": 23,
    "start_time": "2023-02-25T23:21:09.264Z"
   },
   {
    "duration": 193,
    "start_time": "2023-02-25T23:21:09.289Z"
   },
   {
    "duration": 13439,
    "start_time": "2023-02-25T23:21:09.489Z"
   },
   {
    "duration": 63,
    "start_time": "2023-02-25T23:21:22.930Z"
   },
   {
    "duration": 18,
    "start_time": "2023-02-25T23:21:22.996Z"
   },
   {
    "duration": 0,
    "start_time": "2023-02-25T23:21:23.018Z"
   },
   {
    "duration": 0,
    "start_time": "2023-02-25T23:21:23.020Z"
   },
   {
    "duration": 0,
    "start_time": "2023-02-25T23:21:23.021Z"
   },
   {
    "duration": 0,
    "start_time": "2023-02-25T23:21:23.023Z"
   },
   {
    "duration": 0,
    "start_time": "2023-02-25T23:21:23.024Z"
   },
   {
    "duration": 0,
    "start_time": "2023-02-25T23:21:23.026Z"
   },
   {
    "duration": 0,
    "start_time": "2023-02-25T23:21:23.028Z"
   },
   {
    "duration": 0,
    "start_time": "2023-02-25T23:21:23.029Z"
   },
   {
    "duration": 0,
    "start_time": "2023-02-25T23:21:23.031Z"
   },
   {
    "duration": 0,
    "start_time": "2023-02-25T23:21:23.033Z"
   },
   {
    "duration": 0,
    "start_time": "2023-02-25T23:21:23.034Z"
   },
   {
    "duration": 0,
    "start_time": "2023-02-25T23:21:23.036Z"
   },
   {
    "duration": 0,
    "start_time": "2023-02-25T23:21:23.038Z"
   },
   {
    "duration": 0,
    "start_time": "2023-02-25T23:21:23.041Z"
   },
   {
    "duration": 0,
    "start_time": "2023-02-25T23:21:23.042Z"
   },
   {
    "duration": 0,
    "start_time": "2023-02-25T23:21:23.044Z"
   },
   {
    "duration": 0,
    "start_time": "2023-02-25T23:21:23.046Z"
   },
   {
    "duration": 1,
    "start_time": "2023-02-25T23:21:23.047Z"
   },
   {
    "duration": 0,
    "start_time": "2023-02-25T23:21:23.048Z"
   },
   {
    "duration": 0,
    "start_time": "2023-02-25T23:21:23.049Z"
   },
   {
    "duration": 0,
    "start_time": "2023-02-25T23:21:23.050Z"
   },
   {
    "duration": 0,
    "start_time": "2023-02-25T23:21:23.087Z"
   },
   {
    "duration": 0,
    "start_time": "2023-02-25T23:21:23.089Z"
   },
   {
    "duration": 0,
    "start_time": "2023-02-25T23:21:23.093Z"
   },
   {
    "duration": 0,
    "start_time": "2023-02-25T23:21:23.097Z"
   },
   {
    "duration": 0,
    "start_time": "2023-02-25T23:21:23.098Z"
   },
   {
    "duration": 0,
    "start_time": "2023-02-25T23:21:23.099Z"
   },
   {
    "duration": 0,
    "start_time": "2023-02-25T23:21:23.100Z"
   },
   {
    "duration": 39,
    "start_time": "2023-02-25T23:23:19.224Z"
   },
   {
    "duration": 14,
    "start_time": "2023-02-25T23:23:19.265Z"
   },
   {
    "duration": 0,
    "start_time": "2023-02-25T23:23:19.281Z"
   },
   {
    "duration": 0,
    "start_time": "2023-02-25T23:23:19.283Z"
   },
   {
    "duration": 0,
    "start_time": "2023-02-25T23:23:19.284Z"
   },
   {
    "duration": 0,
    "start_time": "2023-02-25T23:23:19.294Z"
   },
   {
    "duration": 0,
    "start_time": "2023-02-25T23:23:19.295Z"
   },
   {
    "duration": 0,
    "start_time": "2023-02-25T23:23:19.296Z"
   },
   {
    "duration": 26,
    "start_time": "2023-02-25T23:23:19.298Z"
   },
   {
    "duration": 32,
    "start_time": "2023-02-25T23:23:19.326Z"
   },
   {
    "duration": 486,
    "start_time": "2023-02-25T23:23:19.361Z"
   },
   {
    "duration": 0,
    "start_time": "2023-02-25T23:23:19.850Z"
   },
   {
    "duration": 0,
    "start_time": "2023-02-25T23:23:19.852Z"
   },
   {
    "duration": 0,
    "start_time": "2023-02-25T23:23:19.853Z"
   },
   {
    "duration": 0,
    "start_time": "2023-02-25T23:23:19.855Z"
   },
   {
    "duration": 0,
    "start_time": "2023-02-25T23:23:19.856Z"
   },
   {
    "duration": 0,
    "start_time": "2023-02-25T23:23:19.857Z"
   },
   {
    "duration": 0,
    "start_time": "2023-02-25T23:23:19.858Z"
   },
   {
    "duration": 0,
    "start_time": "2023-02-25T23:23:19.860Z"
   },
   {
    "duration": 0,
    "start_time": "2023-02-25T23:23:19.862Z"
   },
   {
    "duration": 0,
    "start_time": "2023-02-25T23:23:19.887Z"
   },
   {
    "duration": 0,
    "start_time": "2023-02-25T23:23:19.888Z"
   },
   {
    "duration": 0,
    "start_time": "2023-02-25T23:23:19.889Z"
   },
   {
    "duration": 0,
    "start_time": "2023-02-25T23:23:19.890Z"
   },
   {
    "duration": 0,
    "start_time": "2023-02-25T23:23:19.890Z"
   },
   {
    "duration": 0,
    "start_time": "2023-02-25T23:23:19.891Z"
   },
   {
    "duration": 0,
    "start_time": "2023-02-25T23:23:19.892Z"
   },
   {
    "duration": 0,
    "start_time": "2023-02-25T23:23:19.892Z"
   },
   {
    "duration": 0,
    "start_time": "2023-02-25T23:23:19.897Z"
   },
   {
    "duration": 0,
    "start_time": "2023-02-25T23:23:19.898Z"
   },
   {
    "duration": 1141,
    "start_time": "2023-02-25T23:24:43.882Z"
   },
   {
    "duration": 3,
    "start_time": "2023-02-25T23:24:45.025Z"
   },
   {
    "duration": 362,
    "start_time": "2023-02-25T23:24:45.030Z"
   },
   {
    "duration": 83,
    "start_time": "2023-02-25T23:24:45.394Z"
   },
   {
    "duration": 36,
    "start_time": "2023-02-25T23:24:45.480Z"
   },
   {
    "duration": 2036,
    "start_time": "2023-02-25T23:24:45.518Z"
   },
   {
    "duration": 1380,
    "start_time": "2023-02-25T23:24:47.556Z"
   },
   {
    "duration": 15,
    "start_time": "2023-02-25T23:24:48.938Z"
   },
   {
    "duration": 29,
    "start_time": "2023-02-25T23:24:48.954Z"
   },
   {
    "duration": 16,
    "start_time": "2023-02-25T23:24:48.986Z"
   },
   {
    "duration": 40,
    "start_time": "2023-02-25T23:24:49.006Z"
   },
   {
    "duration": 13,
    "start_time": "2023-02-25T23:24:49.048Z"
   },
   {
    "duration": 7,
    "start_time": "2023-02-25T23:24:49.063Z"
   },
   {
    "duration": 43,
    "start_time": "2023-02-25T23:24:49.073Z"
   },
   {
    "duration": 6,
    "start_time": "2023-02-25T23:24:49.117Z"
   },
   {
    "duration": 25,
    "start_time": "2023-02-25T23:24:49.124Z"
   },
   {
    "duration": 5,
    "start_time": "2023-02-25T23:24:49.150Z"
   },
   {
    "duration": 31,
    "start_time": "2023-02-25T23:24:49.156Z"
   },
   {
    "duration": 7,
    "start_time": "2023-02-25T23:24:49.192Z"
   },
   {
    "duration": 27,
    "start_time": "2023-02-25T23:24:49.200Z"
   },
   {
    "duration": 10,
    "start_time": "2023-02-25T23:24:49.229Z"
   },
   {
    "duration": 6,
    "start_time": "2023-02-25T23:24:49.241Z"
   },
   {
    "duration": 34,
    "start_time": "2023-02-25T23:24:49.248Z"
   },
   {
    "duration": 17,
    "start_time": "2023-02-25T23:24:49.284Z"
   },
   {
    "duration": 26,
    "start_time": "2023-02-25T23:24:49.303Z"
   },
   {
    "duration": 12,
    "start_time": "2023-02-25T23:24:49.331Z"
   },
   {
    "duration": 20,
    "start_time": "2023-02-25T23:24:49.345Z"
   },
   {
    "duration": 5,
    "start_time": "2023-02-25T23:24:49.370Z"
   },
   {
    "duration": 29,
    "start_time": "2023-02-25T23:24:49.377Z"
   },
   {
    "duration": 9,
    "start_time": "2023-02-25T23:24:49.408Z"
   },
   {
    "duration": 8,
    "start_time": "2023-02-25T23:24:49.419Z"
   },
   {
    "duration": 29,
    "start_time": "2023-02-25T23:24:49.429Z"
   },
   {
    "duration": 32,
    "start_time": "2023-02-25T23:24:49.460Z"
   },
   {
    "duration": 39,
    "start_time": "2023-02-25T23:24:49.493Z"
   },
   {
    "duration": 19,
    "start_time": "2023-02-25T23:24:49.533Z"
   },
   {
    "duration": 4,
    "start_time": "2023-02-25T23:24:49.553Z"
   },
   {
    "duration": 22,
    "start_time": "2023-02-25T23:24:49.558Z"
   },
   {
    "duration": 11,
    "start_time": "2023-02-25T23:24:49.587Z"
   },
   {
    "duration": 23,
    "start_time": "2023-02-25T23:24:49.604Z"
   },
   {
    "duration": 32,
    "start_time": "2023-02-25T23:24:49.629Z"
   },
   {
    "duration": 35,
    "start_time": "2023-02-25T23:24:49.663Z"
   },
   {
    "duration": 50,
    "start_time": "2023-02-25T23:24:49.702Z"
   },
   {
    "duration": 21,
    "start_time": "2023-02-25T23:24:49.754Z"
   },
   {
    "duration": 37,
    "start_time": "2023-02-25T23:24:49.776Z"
   },
   {
    "duration": 6,
    "start_time": "2023-02-25T23:24:49.815Z"
   },
   {
    "duration": 126,
    "start_time": "2023-02-25T23:24:49.823Z"
   },
   {
    "duration": 20,
    "start_time": "2023-02-25T23:24:49.951Z"
   },
   {
    "duration": 38,
    "start_time": "2023-02-25T23:24:49.972Z"
   },
   {
    "duration": 14958,
    "start_time": "2023-02-25T23:24:50.012Z"
   },
   {
    "duration": 31,
    "start_time": "2023-02-25T23:25:04.972Z"
   },
   {
    "duration": 47,
    "start_time": "2023-02-25T23:25:05.005Z"
   },
   {
    "duration": 8,
    "start_time": "2023-02-25T23:25:05.054Z"
   },
   {
    "duration": 37,
    "start_time": "2023-02-25T23:25:05.064Z"
   },
   {
    "duration": 58,
    "start_time": "2023-02-25T23:25:05.106Z"
   },
   {
    "duration": 34,
    "start_time": "2023-02-25T23:25:05.166Z"
   },
   {
    "duration": 30,
    "start_time": "2023-02-25T23:25:05.204Z"
   },
   {
    "duration": 31,
    "start_time": "2023-02-25T23:25:05.236Z"
   },
   {
    "duration": 23,
    "start_time": "2023-02-25T23:25:05.269Z"
   },
   {
    "duration": 19,
    "start_time": "2023-02-25T23:25:05.296Z"
   },
   {
    "duration": 21,
    "start_time": "2023-02-25T23:25:05.316Z"
   },
   {
    "duration": 48,
    "start_time": "2023-02-25T23:25:05.339Z"
   },
   {
    "duration": 10,
    "start_time": "2023-02-25T23:25:05.392Z"
   },
   {
    "duration": 22,
    "start_time": "2023-02-25T23:25:05.404Z"
   },
   {
    "duration": 23,
    "start_time": "2023-02-25T23:25:05.428Z"
   },
   {
    "duration": 36,
    "start_time": "2023-02-25T23:25:05.453Z"
   },
   {
    "duration": 180,
    "start_time": "2023-02-25T23:25:05.491Z"
   },
   {
    "duration": 27,
    "start_time": "2023-02-25T23:25:05.673Z"
   },
   {
    "duration": 18,
    "start_time": "2023-02-25T23:25:05.702Z"
   },
   {
    "duration": 26,
    "start_time": "2023-02-25T23:25:05.722Z"
   },
   {
    "duration": 224,
    "start_time": "2023-02-25T23:25:05.750Z"
   },
   {
    "duration": 41,
    "start_time": "2023-02-25T23:25:05.976Z"
   },
   {
    "duration": 9,
    "start_time": "2023-02-25T23:25:06.020Z"
   },
   {
    "duration": 57,
    "start_time": "2023-02-25T23:25:06.031Z"
   },
   {
    "duration": 52,
    "start_time": "2023-02-25T23:25:06.092Z"
   },
   {
    "duration": 359,
    "start_time": "2023-02-25T23:25:06.146Z"
   },
   {
    "duration": 21,
    "start_time": "2023-02-25T23:25:06.507Z"
   },
   {
    "duration": 12,
    "start_time": "2023-02-25T23:25:06.529Z"
   },
   {
    "duration": 130,
    "start_time": "2023-02-25T23:25:06.543Z"
   },
   {
    "duration": 10462,
    "start_time": "2023-02-25T23:25:06.675Z"
   },
   {
    "duration": 25,
    "start_time": "2023-02-25T23:25:28.285Z"
   },
   {
    "duration": 184,
    "start_time": "2023-02-25T23:25:29.878Z"
   },
   {
    "duration": 902,
    "start_time": "2023-02-25T23:25:38.000Z"
   },
   {
    "duration": 3,
    "start_time": "2023-02-25T23:25:46.579Z"
   },
   {
    "duration": 26,
    "start_time": "2023-02-25T23:25:46.586Z"
   },
   {
    "duration": 5,
    "start_time": "2023-02-25T23:25:46.614Z"
   },
   {
    "duration": 67,
    "start_time": "2023-02-25T23:25:46.620Z"
   },
   {
    "duration": 21,
    "start_time": "2023-02-25T23:25:46.701Z"
   },
   {
    "duration": 1995,
    "start_time": "2023-02-25T23:25:46.724Z"
   },
   {
    "duration": 1670,
    "start_time": "2023-02-25T23:25:48.720Z"
   },
   {
    "duration": 19,
    "start_time": "2023-02-25T23:25:50.393Z"
   },
   {
    "duration": 19,
    "start_time": "2023-02-25T23:25:50.414Z"
   },
   {
    "duration": 16,
    "start_time": "2023-02-25T23:25:50.434Z"
   },
   {
    "duration": 34,
    "start_time": "2023-02-25T23:25:50.455Z"
   },
   {
    "duration": 31,
    "start_time": "2023-02-25T23:25:50.491Z"
   },
   {
    "duration": 5,
    "start_time": "2023-02-25T23:25:50.524Z"
   },
   {
    "duration": 22,
    "start_time": "2023-02-25T23:25:50.530Z"
   },
   {
    "duration": 9,
    "start_time": "2023-02-25T23:25:50.554Z"
   },
   {
    "duration": 45,
    "start_time": "2023-02-25T23:25:50.564Z"
   },
   {
    "duration": 7,
    "start_time": "2023-02-25T23:25:50.611Z"
   },
   {
    "duration": 24,
    "start_time": "2023-02-25T23:25:50.620Z"
   },
   {
    "duration": 11,
    "start_time": "2023-02-25T23:25:50.647Z"
   },
   {
    "duration": 37,
    "start_time": "2023-02-25T23:25:50.661Z"
   },
   {
    "duration": 28,
    "start_time": "2023-02-25T23:25:50.700Z"
   },
   {
    "duration": 26,
    "start_time": "2023-02-25T23:25:50.730Z"
   },
   {
    "duration": 23,
    "start_time": "2023-02-25T23:25:50.758Z"
   },
   {
    "duration": 6,
    "start_time": "2023-02-25T23:25:50.782Z"
   },
   {
    "duration": 19,
    "start_time": "2023-02-25T23:25:50.790Z"
   },
   {
    "duration": 15,
    "start_time": "2023-02-25T23:25:50.811Z"
   },
   {
    "duration": 49,
    "start_time": "2023-02-25T23:25:50.828Z"
   },
   {
    "duration": 5,
    "start_time": "2023-02-25T23:25:50.879Z"
   },
   {
    "duration": 31,
    "start_time": "2023-02-25T23:25:50.888Z"
   },
   {
    "duration": 13,
    "start_time": "2023-02-25T23:25:50.920Z"
   },
   {
    "duration": 29,
    "start_time": "2023-02-25T23:25:50.935Z"
   },
   {
    "duration": 42,
    "start_time": "2023-02-25T23:25:50.966Z"
   },
   {
    "duration": 20,
    "start_time": "2023-02-25T23:25:51.010Z"
   },
   {
    "duration": 35,
    "start_time": "2023-02-25T23:25:51.032Z"
   },
   {
    "duration": 28,
    "start_time": "2023-02-25T23:25:51.068Z"
   },
   {
    "duration": 9,
    "start_time": "2023-02-25T23:25:51.098Z"
   },
   {
    "duration": 29,
    "start_time": "2023-02-25T23:25:51.108Z"
   },
   {
    "duration": 31,
    "start_time": "2023-02-25T23:25:51.139Z"
   },
   {
    "duration": 19,
    "start_time": "2023-02-25T23:25:51.172Z"
   },
   {
    "duration": 38,
    "start_time": "2023-02-25T23:25:51.193Z"
   },
   {
    "duration": 23,
    "start_time": "2023-02-25T23:25:51.233Z"
   },
   {
    "duration": 42,
    "start_time": "2023-02-25T23:25:51.258Z"
   },
   {
    "duration": 33,
    "start_time": "2023-02-25T23:25:51.302Z"
   },
   {
    "duration": 22,
    "start_time": "2023-02-25T23:25:51.337Z"
   },
   {
    "duration": 3,
    "start_time": "2023-02-25T23:25:51.361Z"
   },
   {
    "duration": 55,
    "start_time": "2023-02-25T23:25:51.366Z"
   },
   {
    "duration": 29,
    "start_time": "2023-02-25T23:25:51.423Z"
   },
   {
    "duration": 8,
    "start_time": "2023-02-25T23:25:51.453Z"
   },
   {
    "duration": 15505,
    "start_time": "2023-02-25T23:25:51.463Z"
   },
   {
    "duration": 16,
    "start_time": "2023-02-25T23:26:06.970Z"
   },
   {
    "duration": 29,
    "start_time": "2023-02-25T23:26:06.988Z"
   },
   {
    "duration": 10,
    "start_time": "2023-02-25T23:26:07.019Z"
   },
   {
    "duration": 26,
    "start_time": "2023-02-25T23:26:07.030Z"
   },
   {
    "duration": 61,
    "start_time": "2023-02-25T23:26:07.058Z"
   },
   {
    "duration": 31,
    "start_time": "2023-02-25T23:26:07.120Z"
   },
   {
    "duration": 33,
    "start_time": "2023-02-25T23:26:07.153Z"
   },
   {
    "duration": 19,
    "start_time": "2023-02-25T23:26:07.188Z"
   },
   {
    "duration": 28,
    "start_time": "2023-02-25T23:26:07.209Z"
   },
   {
    "duration": 15,
    "start_time": "2023-02-25T23:26:07.239Z"
   },
   {
    "duration": 7,
    "start_time": "2023-02-25T23:26:07.256Z"
   },
   {
    "duration": 62,
    "start_time": "2023-02-25T23:26:07.265Z"
   },
   {
    "duration": 6,
    "start_time": "2023-02-25T23:26:07.329Z"
   },
   {
    "duration": 18,
    "start_time": "2023-02-25T23:26:07.337Z"
   },
   {
    "duration": 40,
    "start_time": "2023-02-25T23:26:07.356Z"
   },
   {
    "duration": 16,
    "start_time": "2023-02-25T23:26:07.398Z"
   },
   {
    "duration": 132,
    "start_time": "2023-02-25T23:26:07.416Z"
   },
   {
    "duration": 37,
    "start_time": "2023-02-25T23:26:07.550Z"
   },
   {
    "duration": 10,
    "start_time": "2023-02-25T23:26:07.588Z"
   },
   {
    "duration": 21,
    "start_time": "2023-02-25T23:26:07.600Z"
   },
   {
    "duration": 230,
    "start_time": "2023-02-25T23:26:07.624Z"
   },
   {
    "duration": 38,
    "start_time": "2023-02-25T23:26:07.858Z"
   },
   {
    "duration": 9,
    "start_time": "2023-02-25T23:26:07.898Z"
   },
   {
    "duration": 34,
    "start_time": "2023-02-25T23:26:07.909Z"
   },
   {
    "duration": 77,
    "start_time": "2023-02-25T23:26:07.946Z"
   },
   {
    "duration": 429,
    "start_time": "2023-02-25T23:26:08.025Z"
   },
   {
    "duration": 36,
    "start_time": "2023-02-25T23:26:08.456Z"
   },
   {
    "duration": 14,
    "start_time": "2023-02-25T23:26:08.494Z"
   },
   {
    "duration": 193,
    "start_time": "2023-02-25T23:26:08.511Z"
   },
   {
    "duration": 12167,
    "start_time": "2023-02-25T23:26:08.707Z"
   },
   {
    "duration": 28,
    "start_time": "2023-02-25T23:26:20.876Z"
   },
   {
    "duration": 409,
    "start_time": "2023-02-25T23:26:20.905Z"
   },
   {
    "duration": 1019,
    "start_time": "2023-02-25T23:26:21.316Z"
   },
   {
    "duration": 22,
    "start_time": "2023-02-25T23:26:46.615Z"
   },
   {
    "duration": 7,
    "start_time": "2023-02-25T23:26:48.875Z"
   },
   {
    "duration": 136,
    "start_time": "2023-02-25T23:26:53.482Z"
   },
   {
    "duration": 4017,
    "start_time": "2023-02-25T23:27:39.092Z"
   },
   {
    "duration": 1412,
    "start_time": "2023-02-25T23:27:57.847Z"
   },
   {
    "duration": 3,
    "start_time": "2023-02-25T23:27:59.261Z"
   },
   {
    "duration": 375,
    "start_time": "2023-02-25T23:27:59.265Z"
   },
   {
    "duration": 59,
    "start_time": "2023-02-25T23:27:59.642Z"
   },
   {
    "duration": 23,
    "start_time": "2023-02-25T23:27:59.703Z"
   },
   {
    "duration": 1408,
    "start_time": "2023-02-25T23:27:59.728Z"
   },
   {
    "duration": 1228,
    "start_time": "2023-02-25T23:28:01.138Z"
   },
   {
    "duration": 15,
    "start_time": "2023-02-25T23:28:02.368Z"
   },
   {
    "duration": 38,
    "start_time": "2023-02-25T23:28:02.385Z"
   },
   {
    "duration": 12,
    "start_time": "2023-02-25T23:28:02.425Z"
   },
   {
    "duration": 32,
    "start_time": "2023-02-25T23:28:02.439Z"
   },
   {
    "duration": 13,
    "start_time": "2023-02-25T23:28:02.473Z"
   },
   {
    "duration": 6,
    "start_time": "2023-02-25T23:28:02.487Z"
   },
   {
    "duration": 51,
    "start_time": "2023-02-25T23:28:02.495Z"
   },
   {
    "duration": 7,
    "start_time": "2023-02-25T23:28:02.548Z"
   },
   {
    "duration": 31,
    "start_time": "2023-02-25T23:28:02.557Z"
   },
   {
    "duration": 6,
    "start_time": "2023-02-25T23:28:02.590Z"
   },
   {
    "duration": 15,
    "start_time": "2023-02-25T23:28:02.597Z"
   },
   {
    "duration": 4,
    "start_time": "2023-02-25T23:28:02.615Z"
   },
   {
    "duration": 11,
    "start_time": "2023-02-25T23:28:02.621Z"
   },
   {
    "duration": 11,
    "start_time": "2023-02-25T23:28:02.633Z"
   },
   {
    "duration": 8,
    "start_time": "2023-02-25T23:28:02.646Z"
   },
   {
    "duration": 46,
    "start_time": "2023-02-25T23:28:02.656Z"
   },
   {
    "duration": 4,
    "start_time": "2023-02-25T23:28:02.704Z"
   },
   {
    "duration": 21,
    "start_time": "2023-02-25T23:28:02.710Z"
   },
   {
    "duration": 4,
    "start_time": "2023-02-25T23:28:02.733Z"
   },
   {
    "duration": 48,
    "start_time": "2023-02-25T23:28:02.738Z"
   },
   {
    "duration": 6,
    "start_time": "2023-02-25T23:28:02.792Z"
   },
   {
    "duration": 24,
    "start_time": "2023-02-25T23:28:02.800Z"
   },
   {
    "duration": 5,
    "start_time": "2023-02-25T23:28:02.826Z"
   },
   {
    "duration": 9,
    "start_time": "2023-02-25T23:28:02.833Z"
   },
   {
    "duration": 66,
    "start_time": "2023-02-25T23:28:02.844Z"
   },
   {
    "duration": 25,
    "start_time": "2023-02-25T23:28:02.912Z"
   },
   {
    "duration": 39,
    "start_time": "2023-02-25T23:28:02.939Z"
   },
   {
    "duration": 31,
    "start_time": "2023-02-25T23:28:02.979Z"
   },
   {
    "duration": 13,
    "start_time": "2023-02-25T23:28:03.013Z"
   },
   {
    "duration": 29,
    "start_time": "2023-02-25T23:28:03.028Z"
   },
   {
    "duration": 8,
    "start_time": "2023-02-25T23:28:03.059Z"
   },
   {
    "duration": 12,
    "start_time": "2023-02-25T23:28:03.070Z"
   },
   {
    "duration": 52,
    "start_time": "2023-02-25T23:28:03.084Z"
   },
   {
    "duration": 35,
    "start_time": "2023-02-25T23:28:03.138Z"
   },
   {
    "duration": 44,
    "start_time": "2023-02-25T23:28:03.185Z"
   },
   {
    "duration": 33,
    "start_time": "2023-02-25T23:28:03.231Z"
   },
   {
    "duration": 29,
    "start_time": "2023-02-25T23:28:03.285Z"
   },
   {
    "duration": 13,
    "start_time": "2023-02-25T23:28:03.316Z"
   },
   {
    "duration": 115,
    "start_time": "2023-02-25T23:28:03.331Z"
   },
   {
    "duration": 24,
    "start_time": "2023-02-25T23:28:03.448Z"
   },
   {
    "duration": 14,
    "start_time": "2023-02-25T23:28:03.475Z"
   },
   {
    "duration": 14522,
    "start_time": "2023-02-25T23:28:03.490Z"
   },
   {
    "duration": 14,
    "start_time": "2023-02-25T23:28:18.014Z"
   },
   {
    "duration": 36,
    "start_time": "2023-02-25T23:28:18.030Z"
   },
   {
    "duration": 19,
    "start_time": "2023-02-25T23:28:18.068Z"
   },
   {
    "duration": 29,
    "start_time": "2023-02-25T23:28:18.089Z"
   },
   {
    "duration": 36,
    "start_time": "2023-02-25T23:28:18.120Z"
   },
   {
    "duration": 40,
    "start_time": "2023-02-25T23:28:18.158Z"
   },
   {
    "duration": 13,
    "start_time": "2023-02-25T23:28:18.200Z"
   },
   {
    "duration": 27,
    "start_time": "2023-02-25T23:28:18.215Z"
   },
   {
    "duration": 24,
    "start_time": "2023-02-25T23:28:18.244Z"
   },
   {
    "duration": 30,
    "start_time": "2023-02-25T23:28:18.270Z"
   },
   {
    "duration": 5,
    "start_time": "2023-02-25T23:28:18.302Z"
   },
   {
    "duration": 52,
    "start_time": "2023-02-25T23:28:18.309Z"
   },
   {
    "duration": 27,
    "start_time": "2023-02-25T23:28:18.363Z"
   },
   {
    "duration": 16,
    "start_time": "2023-02-25T23:28:18.392Z"
   },
   {
    "duration": 20,
    "start_time": "2023-02-25T23:28:18.411Z"
   },
   {
    "duration": 16,
    "start_time": "2023-02-25T23:28:18.433Z"
   },
   {
    "duration": 194,
    "start_time": "2023-02-25T23:28:18.451Z"
   },
   {
    "duration": 24,
    "start_time": "2023-02-25T23:28:18.647Z"
   },
   {
    "duration": 18,
    "start_time": "2023-02-25T23:28:18.673Z"
   },
   {
    "duration": 33,
    "start_time": "2023-02-25T23:28:18.696Z"
   },
   {
    "duration": 217,
    "start_time": "2023-02-25T23:28:18.732Z"
   },
   {
    "duration": 36,
    "start_time": "2023-02-25T23:28:18.951Z"
   },
   {
    "duration": 9,
    "start_time": "2023-02-25T23:28:18.989Z"
   },
   {
    "duration": 34,
    "start_time": "2023-02-25T23:28:19.000Z"
   },
   {
    "duration": 51,
    "start_time": "2023-02-25T23:28:19.036Z"
   },
   {
    "duration": 318,
    "start_time": "2023-02-25T23:28:19.089Z"
   },
   {
    "duration": 21,
    "start_time": "2023-02-25T23:28:19.409Z"
   },
   {
    "duration": 34,
    "start_time": "2023-02-25T23:28:19.432Z"
   },
   {
    "duration": 125,
    "start_time": "2023-02-25T23:28:19.468Z"
   },
   {
    "duration": 11954,
    "start_time": "2023-02-25T23:28:19.594Z"
   },
   {
    "duration": 16,
    "start_time": "2023-02-25T23:28:31.551Z"
   },
   {
    "duration": 437,
    "start_time": "2023-02-25T23:28:31.569Z"
   },
   {
    "duration": 1064,
    "start_time": "2023-02-25T23:28:32.014Z"
   },
   {
    "duration": 20,
    "start_time": "2023-02-25T23:28:33.081Z"
   },
   {
    "duration": 150,
    "start_time": "2023-02-25T23:28:33.103Z"
   },
   {
    "duration": 37,
    "start_time": "2023-02-25T23:28:33.255Z"
   },
   {
    "duration": 7,
    "start_time": "2023-02-25T23:28:33.294Z"
   },
   {
    "duration": 3747,
    "start_time": "2023-02-25T23:28:33.303Z"
   },
   {
    "duration": 0,
    "start_time": "2023-02-25T23:28:37.052Z"
   },
   {
    "duration": 0,
    "start_time": "2023-02-25T23:28:37.053Z"
   },
   {
    "duration": 0,
    "start_time": "2023-02-25T23:28:37.054Z"
   },
   {
    "duration": 0,
    "start_time": "2023-02-25T23:28:37.056Z"
   },
   {
    "duration": 0,
    "start_time": "2023-02-25T23:28:37.058Z"
   },
   {
    "duration": 0,
    "start_time": "2023-02-25T23:28:37.059Z"
   },
   {
    "duration": 0,
    "start_time": "2023-02-25T23:28:37.061Z"
   },
   {
    "duration": 0,
    "start_time": "2023-02-25T23:28:37.062Z"
   },
   {
    "duration": 0,
    "start_time": "2023-02-25T23:28:37.064Z"
   },
   {
    "duration": 0,
    "start_time": "2023-02-25T23:28:37.085Z"
   },
   {
    "duration": 1,
    "start_time": "2023-02-25T23:28:37.086Z"
   },
   {
    "duration": 0,
    "start_time": "2023-02-25T23:28:37.087Z"
   },
   {
    "duration": 0,
    "start_time": "2023-02-25T23:28:37.088Z"
   },
   {
    "duration": 0,
    "start_time": "2023-02-25T23:28:37.090Z"
   },
   {
    "duration": 0,
    "start_time": "2023-02-25T23:28:37.090Z"
   },
   {
    "duration": 0,
    "start_time": "2023-02-25T23:28:37.092Z"
   },
   {
    "duration": 0,
    "start_time": "2023-02-25T23:28:37.094Z"
   },
   {
    "duration": 0,
    "start_time": "2023-02-25T23:28:37.094Z"
   },
   {
    "duration": 0,
    "start_time": "2023-02-25T23:28:37.095Z"
   },
   {
    "duration": 0,
    "start_time": "2023-02-25T23:28:37.096Z"
   },
   {
    "duration": 0,
    "start_time": "2023-02-25T23:28:37.097Z"
   },
   {
    "duration": 0,
    "start_time": "2023-02-25T23:28:37.098Z"
   },
   {
    "duration": 166,
    "start_time": "2023-02-25T23:29:41.206Z"
   },
   {
    "duration": 21,
    "start_time": "2023-02-25T23:29:51.661Z"
   },
   {
    "duration": 32,
    "start_time": "2023-02-25T23:29:59.173Z"
   },
   {
    "duration": 373,
    "start_time": "2023-02-25T23:30:07.486Z"
   },
   {
    "duration": 454,
    "start_time": "2023-02-25T23:30:42.659Z"
   },
   {
    "duration": 557,
    "start_time": "2023-02-25T23:31:06.045Z"
   },
   {
    "duration": 171,
    "start_time": "2023-02-25T23:31:24.205Z"
   },
   {
    "duration": 382,
    "start_time": "2023-02-25T23:32:41.735Z"
   },
   {
    "duration": 532,
    "start_time": "2023-02-25T23:33:06.773Z"
   },
   {
    "duration": 628,
    "start_time": "2023-02-25T23:33:38.104Z"
   },
   {
    "duration": 1539,
    "start_time": "2023-02-25T23:33:48.906Z"
   },
   {
    "duration": 7,
    "start_time": "2023-02-25T23:33:54.601Z"
   },
   {
    "duration": 25,
    "start_time": "2023-02-25T23:33:59.708Z"
   },
   {
    "duration": 23,
    "start_time": "2023-02-25T23:34:05.003Z"
   },
   {
    "duration": 101,
    "start_time": "2023-02-25T23:34:08.651Z"
   },
   {
    "duration": 16,
    "start_time": "2023-02-25T23:34:25.117Z"
   },
   {
    "duration": 29,
    "start_time": "2023-02-25T23:34:27.692Z"
   },
   {
    "duration": 25,
    "start_time": "2023-02-25T23:34:33.008Z"
   },
   {
    "duration": 32,
    "start_time": "2023-02-25T23:34:36.277Z"
   },
   {
    "duration": 24,
    "start_time": "2023-02-25T23:34:41.700Z"
   },
   {
    "duration": 49,
    "start_time": "2023-02-25T23:34:46.417Z"
   },
   {
    "duration": 237,
    "start_time": "2023-02-25T23:34:49.554Z"
   },
   {
    "duration": 294,
    "start_time": "2023-02-25T23:34:52.834Z"
   },
   {
    "duration": 37,
    "start_time": "2023-02-25T23:34:55.959Z"
   },
   {
    "duration": 6,
    "start_time": "2023-02-25T23:34:58.357Z"
   },
   {
    "duration": 20,
    "start_time": "2023-02-25T23:35:00.815Z"
   },
   {
    "duration": 15,
    "start_time": "2023-02-25T23:35:04.083Z"
   },
   {
    "duration": 4,
    "start_time": "2023-02-25T23:35:05.225Z"
   },
   {
    "duration": 15,
    "start_time": "2023-02-25T23:35:07.544Z"
   },
   {
    "duration": 78,
    "start_time": "2023-02-25T23:35:12.464Z"
   },
   {
    "duration": 246,
    "start_time": "2023-02-25T23:35:37.611Z"
   },
   {
    "duration": 183,
    "start_time": "2023-02-25T23:35:49.118Z"
   },
   {
    "duration": 808,
    "start_time": "2023-02-25T23:35:55.664Z"
   },
   {
    "duration": 8368,
    "start_time": "2023-02-25T23:47:49.307Z"
   },
   {
    "duration": 1103,
    "start_time": "2023-02-25T23:47:57.678Z"
   },
   {
    "duration": 320,
    "start_time": "2023-02-25T23:47:58.782Z"
   },
   {
    "duration": 57,
    "start_time": "2023-02-25T23:47:59.104Z"
   },
   {
    "duration": 23,
    "start_time": "2023-02-25T23:47:59.163Z"
   },
   {
    "duration": 1562,
    "start_time": "2023-02-25T23:47:59.188Z"
   },
   {
    "duration": 832,
    "start_time": "2023-02-25T23:48:00.752Z"
   },
   {
    "duration": 16,
    "start_time": "2023-02-25T23:48:01.586Z"
   },
   {
    "duration": 41,
    "start_time": "2023-02-25T23:48:01.604Z"
   },
   {
    "duration": 12,
    "start_time": "2023-02-25T23:48:01.649Z"
   },
   {
    "duration": 47,
    "start_time": "2023-02-25T23:48:01.662Z"
   },
   {
    "duration": 17,
    "start_time": "2023-02-25T23:48:01.711Z"
   },
   {
    "duration": 16,
    "start_time": "2023-02-25T23:48:01.729Z"
   },
   {
    "duration": 50,
    "start_time": "2023-02-25T23:48:01.747Z"
   },
   {
    "duration": 7,
    "start_time": "2023-02-25T23:48:01.799Z"
   },
   {
    "duration": 54,
    "start_time": "2023-02-25T23:48:01.808Z"
   },
   {
    "duration": 13,
    "start_time": "2023-02-25T23:48:01.864Z"
   },
   {
    "duration": 43,
    "start_time": "2023-02-25T23:48:01.879Z"
   },
   {
    "duration": 7,
    "start_time": "2023-02-25T23:48:01.924Z"
   },
   {
    "duration": 13,
    "start_time": "2023-02-25T23:48:01.932Z"
   },
   {
    "duration": 16,
    "start_time": "2023-02-25T23:48:01.946Z"
   },
   {
    "duration": 18,
    "start_time": "2023-02-25T23:48:01.963Z"
   },
   {
    "duration": 29,
    "start_time": "2023-02-25T23:48:01.983Z"
   },
   {
    "duration": 8,
    "start_time": "2023-02-25T23:48:02.014Z"
   },
   {
    "duration": 26,
    "start_time": "2023-02-25T23:48:02.024Z"
   },
   {
    "duration": 35,
    "start_time": "2023-02-25T23:48:02.052Z"
   },
   {
    "duration": 30,
    "start_time": "2023-02-25T23:48:02.089Z"
   },
   {
    "duration": 6,
    "start_time": "2023-02-25T23:48:02.125Z"
   },
   {
    "duration": 38,
    "start_time": "2023-02-25T23:48:02.134Z"
   },
   {
    "duration": 11,
    "start_time": "2023-02-25T23:48:02.174Z"
   },
   {
    "duration": 16,
    "start_time": "2023-02-25T23:48:02.188Z"
   },
   {
    "duration": 39,
    "start_time": "2023-02-25T23:48:02.206Z"
   },
   {
    "duration": 40,
    "start_time": "2023-02-25T23:48:02.247Z"
   },
   {
    "duration": 31,
    "start_time": "2023-02-25T23:48:02.289Z"
   },
   {
    "duration": 27,
    "start_time": "2023-02-25T23:48:02.321Z"
   },
   {
    "duration": 22,
    "start_time": "2023-02-25T23:48:02.350Z"
   },
   {
    "duration": 43,
    "start_time": "2023-02-25T23:48:02.374Z"
   },
   {
    "duration": 28,
    "start_time": "2023-02-25T23:48:02.419Z"
   },
   {
    "duration": 24,
    "start_time": "2023-02-25T23:48:02.449Z"
   },
   {
    "duration": 73,
    "start_time": "2023-02-25T23:48:02.475Z"
   },
   {
    "duration": 34,
    "start_time": "2023-02-25T23:48:02.550Z"
   },
   {
    "duration": 30,
    "start_time": "2023-02-25T23:48:02.586Z"
   },
   {
    "duration": 23,
    "start_time": "2023-02-25T23:48:02.618Z"
   },
   {
    "duration": 49,
    "start_time": "2023-02-25T23:48:02.644Z"
   },
   {
    "duration": 3,
    "start_time": "2023-02-25T23:48:02.695Z"
   },
   {
    "duration": 114,
    "start_time": "2023-02-25T23:48:02.700Z"
   },
   {
    "duration": 20,
    "start_time": "2023-02-25T23:48:02.816Z"
   },
   {
    "duration": 17,
    "start_time": "2023-02-25T23:48:02.838Z"
   },
   {
    "duration": 14279,
    "start_time": "2023-02-25T23:48:02.857Z"
   },
   {
    "duration": 13,
    "start_time": "2023-02-25T23:48:17.138Z"
   },
   {
    "duration": 47,
    "start_time": "2023-02-25T23:48:17.153Z"
   },
   {
    "duration": 17,
    "start_time": "2023-02-25T23:48:17.202Z"
   },
   {
    "duration": 18,
    "start_time": "2023-02-25T23:48:17.221Z"
   },
   {
    "duration": 31,
    "start_time": "2023-02-25T23:48:17.241Z"
   },
   {
    "duration": 30,
    "start_time": "2023-02-25T23:48:17.273Z"
   },
   {
    "duration": 11,
    "start_time": "2023-02-25T23:48:17.305Z"
   },
   {
    "duration": 22,
    "start_time": "2023-02-25T23:48:17.319Z"
   },
   {
    "duration": 17,
    "start_time": "2023-02-25T23:48:17.343Z"
   },
   {
    "duration": 44,
    "start_time": "2023-02-25T23:48:17.362Z"
   },
   {
    "duration": 11,
    "start_time": "2023-02-25T23:48:17.408Z"
   },
   {
    "duration": 32,
    "start_time": "2023-02-25T23:48:17.421Z"
   },
   {
    "duration": 5,
    "start_time": "2023-02-25T23:48:17.455Z"
   },
   {
    "duration": 27,
    "start_time": "2023-02-25T23:48:17.462Z"
   },
   {
    "duration": 19,
    "start_time": "2023-02-25T23:48:17.490Z"
   },
   {
    "duration": 18,
    "start_time": "2023-02-25T23:48:17.511Z"
   },
   {
    "duration": 172,
    "start_time": "2023-02-25T23:48:17.531Z"
   },
   {
    "duration": 24,
    "start_time": "2023-02-25T23:48:17.705Z"
   },
   {
    "duration": 7,
    "start_time": "2023-02-25T23:48:17.731Z"
   },
   {
    "duration": 16,
    "start_time": "2023-02-25T23:48:17.740Z"
   },
   {
    "duration": 250,
    "start_time": "2023-02-25T23:48:17.757Z"
   },
   {
    "duration": 41,
    "start_time": "2023-02-25T23:48:18.009Z"
   },
   {
    "duration": 8,
    "start_time": "2023-02-25T23:48:18.052Z"
   },
   {
    "duration": 68,
    "start_time": "2023-02-25T23:48:18.061Z"
   },
   {
    "duration": 44,
    "start_time": "2023-02-25T23:48:18.131Z"
   },
   {
    "duration": 337,
    "start_time": "2023-02-25T23:48:18.178Z"
   },
   {
    "duration": 21,
    "start_time": "2023-02-25T23:48:18.517Z"
   },
   {
    "duration": 12,
    "start_time": "2023-02-25T23:48:18.540Z"
   },
   {
    "duration": 159,
    "start_time": "2023-02-25T23:48:18.554Z"
   },
   {
    "duration": 10994,
    "start_time": "2023-02-25T23:48:18.715Z"
   },
   {
    "duration": 21,
    "start_time": "2023-02-25T23:48:29.712Z"
   },
   {
    "duration": 478,
    "start_time": "2023-02-25T23:48:29.735Z"
   },
   {
    "duration": 1003,
    "start_time": "2023-02-25T23:48:30.221Z"
   },
   {
    "duration": 14,
    "start_time": "2023-02-25T23:48:31.226Z"
   },
   {
    "duration": 106,
    "start_time": "2023-02-25T23:48:31.242Z"
   },
   {
    "duration": 36,
    "start_time": "2023-02-25T23:48:31.350Z"
   },
   {
    "duration": 32,
    "start_time": "2023-02-25T23:48:31.388Z"
   },
   {
    "duration": 1105,
    "start_time": "2023-02-25T23:48:31.422Z"
   },
   {
    "duration": 22,
    "start_time": "2023-02-25T23:48:32.529Z"
   },
   {
    "duration": 51,
    "start_time": "2023-02-25T23:48:32.553Z"
   },
   {
    "duration": 534,
    "start_time": "2023-02-25T23:48:32.607Z"
   },
   {
    "duration": 561,
    "start_time": "2023-02-25T23:48:33.144Z"
   },
   {
    "duration": 1228,
    "start_time": "2023-02-25T23:48:33.708Z"
   },
   {
    "duration": 9,
    "start_time": "2023-02-25T23:48:34.938Z"
   },
   {
    "duration": 24,
    "start_time": "2023-02-25T23:48:34.949Z"
   },
   {
    "duration": 87,
    "start_time": "2023-02-25T23:48:34.987Z"
   },
   {
    "duration": 37,
    "start_time": "2023-02-25T23:48:35.076Z"
   },
   {
    "duration": 22,
    "start_time": "2023-02-25T23:48:35.114Z"
   },
   {
    "duration": 56,
    "start_time": "2023-02-25T23:48:35.139Z"
   },
   {
    "duration": 42,
    "start_time": "2023-02-25T23:48:35.198Z"
   },
   {
    "duration": 229,
    "start_time": "2023-02-25T23:48:35.241Z"
   },
   {
    "duration": 280,
    "start_time": "2023-02-25T23:48:35.472Z"
   },
   {
    "duration": 46,
    "start_time": "2023-02-25T23:48:35.755Z"
   },
   {
    "duration": 17,
    "start_time": "2023-02-25T23:48:35.805Z"
   },
   {
    "duration": 17,
    "start_time": "2023-02-25T23:48:35.823Z"
   },
   {
    "duration": 9,
    "start_time": "2023-02-25T23:48:35.842Z"
   },
   {
    "duration": 5,
    "start_time": "2023-02-25T23:48:35.852Z"
   },
   {
    "duration": 31,
    "start_time": "2023-02-25T23:48:35.858Z"
   },
   {
    "duration": 215,
    "start_time": "2023-02-25T23:48:35.890Z"
   },
   {
    "duration": 763,
    "start_time": "2023-02-25T23:48:36.107Z"
   },
   {
    "duration": 19596,
    "start_time": "2023-02-26T08:13:38.523Z"
   },
   {
    "duration": 1464,
    "start_time": "2023-02-26T08:13:58.122Z"
   },
   {
    "duration": 371,
    "start_time": "2023-02-26T08:13:59.590Z"
   },
   {
    "duration": 118,
    "start_time": "2023-02-26T08:13:59.962Z"
   },
   {
    "duration": 114,
    "start_time": "2023-02-26T08:14:00.082Z"
   },
   {
    "duration": 2632,
    "start_time": "2023-02-26T08:14:00.198Z"
   },
   {
    "duration": 1240,
    "start_time": "2023-02-26T08:14:02.831Z"
   },
   {
    "duration": 19,
    "start_time": "2023-02-26T08:14:04.073Z"
   },
   {
    "duration": 31,
    "start_time": "2023-02-26T08:14:04.094Z"
   },
   {
    "duration": 17,
    "start_time": "2023-02-26T08:14:04.128Z"
   },
   {
    "duration": 20,
    "start_time": "2023-02-26T08:14:04.147Z"
   },
   {
    "duration": 14,
    "start_time": "2023-02-26T08:14:04.169Z"
   },
   {
    "duration": 16,
    "start_time": "2023-02-26T08:14:04.185Z"
   },
   {
    "duration": 55,
    "start_time": "2023-02-26T08:14:04.205Z"
   },
   {
    "duration": 8,
    "start_time": "2023-02-26T08:14:04.261Z"
   },
   {
    "duration": 25,
    "start_time": "2023-02-26T08:14:04.270Z"
   },
   {
    "duration": 4,
    "start_time": "2023-02-26T08:14:04.297Z"
   },
   {
    "duration": 10,
    "start_time": "2023-02-26T08:14:04.303Z"
   },
   {
    "duration": 25,
    "start_time": "2023-02-26T08:14:04.315Z"
   },
   {
    "duration": 7,
    "start_time": "2023-02-26T08:14:04.342Z"
   },
   {
    "duration": 11,
    "start_time": "2023-02-26T08:14:04.350Z"
   },
   {
    "duration": 7,
    "start_time": "2023-02-26T08:14:04.363Z"
   },
   {
    "duration": 17,
    "start_time": "2023-02-26T08:14:04.372Z"
   },
   {
    "duration": 4,
    "start_time": "2023-02-26T08:14:04.391Z"
   },
   {
    "duration": 17,
    "start_time": "2023-02-26T08:14:04.396Z"
   },
   {
    "duration": 4,
    "start_time": "2023-02-26T08:14:04.441Z"
   },
   {
    "duration": 20,
    "start_time": "2023-02-26T08:14:04.446Z"
   },
   {
    "duration": 5,
    "start_time": "2023-02-26T08:14:04.468Z"
   },
   {
    "duration": 20,
    "start_time": "2023-02-26T08:14:04.474Z"
   },
   {
    "duration": 5,
    "start_time": "2023-02-26T08:14:04.496Z"
   },
   {
    "duration": 42,
    "start_time": "2023-02-26T08:14:04.503Z"
   },
   {
    "duration": 33,
    "start_time": "2023-02-26T08:14:04.547Z"
   },
   {
    "duration": 18,
    "start_time": "2023-02-26T08:14:04.581Z"
   },
   {
    "duration": 43,
    "start_time": "2023-02-26T08:14:04.601Z"
   },
   {
    "duration": 22,
    "start_time": "2023-02-26T08:14:04.646Z"
   },
   {
    "duration": 4,
    "start_time": "2023-02-26T08:14:04.670Z"
   },
   {
    "duration": 24,
    "start_time": "2023-02-26T08:14:04.675Z"
   },
   {
    "duration": 4,
    "start_time": "2023-02-26T08:14:04.701Z"
   },
   {
    "duration": 18,
    "start_time": "2023-02-26T08:14:04.707Z"
   },
   {
    "duration": 34,
    "start_time": "2023-02-26T08:14:04.741Z"
   },
   {
    "duration": 29,
    "start_time": "2023-02-26T08:14:04.781Z"
   },
   {
    "duration": 53,
    "start_time": "2023-02-26T08:14:04.812Z"
   },
   {
    "duration": 22,
    "start_time": "2023-02-26T08:14:04.867Z"
   },
   {
    "duration": 26,
    "start_time": "2023-02-26T08:14:04.891Z"
   },
   {
    "duration": 22,
    "start_time": "2023-02-26T08:14:04.919Z"
   },
   {
    "duration": 123,
    "start_time": "2023-02-26T08:14:04.943Z"
   },
   {
    "duration": 28,
    "start_time": "2023-02-26T08:14:05.068Z"
   },
   {
    "duration": 8,
    "start_time": "2023-02-26T08:14:05.099Z"
   },
   {
    "duration": 15168,
    "start_time": "2023-02-26T08:14:05.110Z"
   },
   {
    "duration": 11,
    "start_time": "2023-02-26T08:14:20.279Z"
   },
   {
    "duration": 52,
    "start_time": "2023-02-26T08:14:20.292Z"
   },
   {
    "duration": 8,
    "start_time": "2023-02-26T08:14:20.346Z"
   },
   {
    "duration": 25,
    "start_time": "2023-02-26T08:14:20.355Z"
   },
   {
    "duration": 38,
    "start_time": "2023-02-26T08:14:20.382Z"
   },
   {
    "duration": 37,
    "start_time": "2023-02-26T08:14:20.422Z"
   },
   {
    "duration": 11,
    "start_time": "2023-02-26T08:14:20.461Z"
   },
   {
    "duration": 23,
    "start_time": "2023-02-26T08:14:20.474Z"
   },
   {
    "duration": 41,
    "start_time": "2023-02-26T08:14:20.499Z"
   },
   {
    "duration": 18,
    "start_time": "2023-02-26T08:14:20.542Z"
   },
   {
    "duration": 37,
    "start_time": "2023-02-26T08:14:20.563Z"
   },
   {
    "duration": 58,
    "start_time": "2023-02-26T08:14:20.602Z"
   },
   {
    "duration": 17,
    "start_time": "2023-02-26T08:14:20.662Z"
   },
   {
    "duration": 22,
    "start_time": "2023-02-26T08:14:20.681Z"
   },
   {
    "duration": 16,
    "start_time": "2023-02-26T08:14:20.705Z"
   },
   {
    "duration": 19,
    "start_time": "2023-02-26T08:14:20.723Z"
   },
   {
    "duration": 150,
    "start_time": "2023-02-26T08:14:20.744Z"
   },
   {
    "duration": 23,
    "start_time": "2023-02-26T08:14:20.896Z"
   },
   {
    "duration": 4,
    "start_time": "2023-02-26T08:14:20.920Z"
   },
   {
    "duration": 16,
    "start_time": "2023-02-26T08:14:20.941Z"
   },
   {
    "duration": 249,
    "start_time": "2023-02-26T08:14:20.959Z"
   },
   {
    "duration": 40,
    "start_time": "2023-02-26T08:14:21.210Z"
   },
   {
    "duration": 9,
    "start_time": "2023-02-26T08:14:21.251Z"
   },
   {
    "duration": 36,
    "start_time": "2023-02-26T08:14:21.262Z"
   },
   {
    "duration": 64,
    "start_time": "2023-02-26T08:14:21.300Z"
   },
   {
    "duration": 339,
    "start_time": "2023-02-26T08:14:21.366Z"
   },
   {
    "duration": 35,
    "start_time": "2023-02-26T08:14:21.707Z"
   },
   {
    "duration": 14,
    "start_time": "2023-02-26T08:14:21.744Z"
   },
   {
    "duration": 148,
    "start_time": "2023-02-26T08:14:21.759Z"
   },
   {
    "duration": 10649,
    "start_time": "2023-02-26T08:14:21.908Z"
   },
   {
    "duration": 16,
    "start_time": "2023-02-26T08:14:32.558Z"
   },
   {
    "duration": 371,
    "start_time": "2023-02-26T08:14:32.575Z"
   },
   {
    "duration": 1022,
    "start_time": "2023-02-26T08:14:32.948Z"
   },
   {
    "duration": 15,
    "start_time": "2023-02-26T08:14:33.972Z"
   },
   {
    "duration": 106,
    "start_time": "2023-02-26T08:14:33.988Z"
   },
   {
    "duration": 17,
    "start_time": "2023-02-26T08:14:34.095Z"
   },
   {
    "duration": 28,
    "start_time": "2023-02-26T08:14:34.113Z"
   },
   {
    "duration": 4872,
    "start_time": "2023-02-26T08:14:34.143Z"
   },
   {
    "duration": 34,
    "start_time": "2023-02-26T08:14:39.017Z"
   },
   {
    "duration": 25,
    "start_time": "2023-02-26T08:14:39.053Z"
   },
   {
    "duration": 576,
    "start_time": "2023-02-26T08:14:39.080Z"
   },
   {
    "duration": 521,
    "start_time": "2023-02-26T08:14:39.658Z"
   },
   {
    "duration": 1314,
    "start_time": "2023-02-26T08:14:40.181Z"
   },
   {
    "duration": 6,
    "start_time": "2023-02-26T08:14:41.497Z"
   },
   {
    "duration": 29,
    "start_time": "2023-02-26T08:14:41.505Z"
   },
   {
    "duration": 86,
    "start_time": "2023-02-26T08:14:41.536Z"
   },
   {
    "duration": 14,
    "start_time": "2023-02-26T08:14:41.640Z"
   },
   {
    "duration": 20,
    "start_time": "2023-02-26T08:14:41.656Z"
   },
   {
    "duration": 23,
    "start_time": "2023-02-26T08:14:41.678Z"
   },
   {
    "duration": 66,
    "start_time": "2023-02-26T08:14:41.703Z"
   },
   {
    "duration": 250,
    "start_time": "2023-02-26T08:14:41.770Z"
   },
   {
    "duration": 494,
    "start_time": "2023-02-26T08:14:42.021Z"
   },
   {
    "duration": 46,
    "start_time": "2023-02-26T08:14:42.517Z"
   },
   {
    "duration": 5,
    "start_time": "2023-02-26T08:14:42.565Z"
   },
   {
    "duration": 47,
    "start_time": "2023-02-26T08:14:42.572Z"
   },
   {
    "duration": 10,
    "start_time": "2023-02-26T08:14:42.621Z"
   },
   {
    "duration": 10,
    "start_time": "2023-02-26T08:14:42.633Z"
   },
   {
    "duration": 18,
    "start_time": "2023-02-26T08:14:42.645Z"
   },
   {
    "duration": 218,
    "start_time": "2023-02-26T08:14:42.665Z"
   },
   {
    "duration": 823,
    "start_time": "2023-02-26T08:14:42.884Z"
   }
  ],
  "kernelspec": {
   "display_name": "Python 3 (ipykernel)",
   "language": "python",
   "name": "python3"
  },
  "language_info": {
   "codemirror_mode": {
    "name": "ipython",
    "version": 3
   },
   "file_extension": ".py",
   "mimetype": "text/x-python",
   "name": "python",
   "nbconvert_exporter": "python",
   "pygments_lexer": "ipython3",
   "version": "3.9.12"
  },
  "toc": {
   "base_numbering": 1,
   "nav_menu": {},
   "number_sections": true,
   "sideBar": true,
   "skip_h1_title": true,
   "title_cell": "Содержание",
   "title_sidebar": "Содержание",
   "toc_cell": false,
   "toc_position": {
    "height": "390.909px",
    "left": "48px",
    "top": "175.051px",
    "width": "193.977px"
   },
   "toc_section_display": true,
   "toc_window_display": true
  }
 },
 "nbformat": 4,
 "nbformat_minor": 5
}
